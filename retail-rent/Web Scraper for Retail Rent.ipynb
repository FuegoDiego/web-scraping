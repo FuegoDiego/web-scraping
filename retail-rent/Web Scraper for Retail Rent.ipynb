{
 "cells": [
  {
   "cell_type": "code",
   "execution_count": 2,
   "metadata": {},
   "outputs": [
    {
     "data": {
      "text/html": [
       "        <script type=\"text/javascript\">\n",
       "        window.PlotlyConfig = {MathJaxConfig: 'local'};\n",
       "        if (window.MathJax) {MathJax.Hub.Config({SVG: {font: \"STIX-Web\"}});}\n",
       "        if (typeof require !== 'undefined') {\n",
       "        require.undef(\"plotly\");\n",
       "        requirejs.config({\n",
       "            paths: {\n",
       "                'plotly': ['https://cdn.plot.ly/plotly-latest.min']\n",
       "            }\n",
       "        });\n",
       "        require(['plotly'], function(Plotly) {\n",
       "            window._Plotly = Plotly;\n",
       "        });\n",
       "        }\n",
       "        </script>\n",
       "        "
      ]
     },
     "metadata": {},
     "output_type": "display_data"
    }
   ],
   "source": [
    "from bs4 import BeautifulSoup\n",
    "from requests import get\n",
    "import numpy as np\n",
    "import pandas as pd\n",
    "import geopandas as gpd\n",
    "import geopy\n",
    "from geopy.geocoders import Nominatim\n",
    "import itertools\n",
    "import json\n",
    "from shapely.geometry import Point\n",
    "import matplotlib.pyplot as plt\n",
    "# Standard plotly imports\n",
    "import chart_studio.plotly as py\n",
    "# Using plotly + cufflinks in offline mode\n",
    "import cufflinks\n",
    "import plotly.express as px\n",
    "cufflinks.go_offline(connected=True)\n",
    "import re\n",
    "import time"
   ]
  },
  {
   "cell_type": "code",
   "execution_count": 3,
   "metadata": {},
   "outputs": [],
   "source": [
    "def GetHtmlSoup(url, headers=()):\n",
    "    try:\n",
    "        response = get(url, headers=headers)\n",
    "    except Exception as e:\n",
    "        raise Exception(e)\n",
    "        \n",
    "    html_soup = BeautifulSoup(response.text, 'html.parser')\n",
    "    \n",
    "    return html_soup"
   ]
  },
  {
   "cell_type": "code",
   "execution_count": 4,
   "metadata": {},
   "outputs": [],
   "source": [
    "def GetRetailContainer(url, name, attrs, **kwargs):\n",
    "    html_soup = GetHtmlSoup(url)\n",
    "    \n",
    "    retail_container = html_soup.find_all(name, attrs, **kwargs)\n",
    "    \n",
    "    return retail_container"
   ]
  },
  {
   "cell_type": "code",
   "execution_count": 5,
   "metadata": {},
   "outputs": [],
   "source": [
    "url = 'https://www.spacelist.ca/listings/b/dpz3q4u51j/dpxxegdyr8/retail-other/for-lease'\n",
    "html_soup = GetHtmlSoup(url)"
   ]
  },
  {
   "cell_type": "code",
   "execution_count": 6,
   "metadata": {},
   "outputs": [],
   "source": [
    "map_container = html_soup.find('div', {'id': 'cluster-map'})['data-data']\n",
    "map_dict_list = json.loads(map_container)['features']\n",
    "coord_dict = {f['properties']['id']: Point(f['geometry']['coordinates']) for f in map_dict_list}"
   ]
  },
  {
   "cell_type": "code",
   "execution_count": 40,
   "metadata": {},
   "outputs": [
    {
     "name": "stdout",
     "output_type": "stream",
     "text": [
      "Number of spaces scraped: 660 \n",
      "\n",
      "Number of spaces ignored: 740\n"
     ]
    }
   ],
   "source": [
    "n_pages = 70\n",
    "n_ignored = 0\n",
    "\n",
    "business_dict = {'Id': [], 'Address': [], 'Area sf': [], 'Rent/mo': [], 'Type': [], 'geometry': []}\n",
    "for page in range(1, n_pages + 1):\n",
    "    url = 'https://www.spacelist.ca/listings/on/toronto/office-retail-industrial-medical-multifamily-other/for-lease/page/' + str(page)\n",
    "    \n",
    "    retail_container = GetRetailContainer(url, 'div', {'class': 'listing-result cell shrink'})\n",
    "    \n",
    "    if retail_container != []:\n",
    "        page_location = 0\n",
    "        for retail in retail_container:\n",
    "            page_location += 1\n",
    "            id_value = retail.find('a', {'class': 'add-to-shortlist'})['data-listing-id']\n",
    "            \n",
    "            try:\n",
    "                address_value = retail.find(\n",
    "                    'div',\n",
    "                    {'class': 'cell auto small-font flat-line-height-taller right-cell-padding'})\n",
    "                address_value = address_value.find('div', {'class': 'dark-font'}).get('title')\n",
    "            except:\n",
    "                n_ignored += 1\n",
    "                continue\n",
    "            \n",
    "            try:\n",
    "                area_value = float(\n",
    "                    re.findall(\n",
    "                        '\\d+(?:,\\d+)?', \n",
    "                        retail.find('div', {'class': 'default-font dark-font flat-line-height'}).text\n",
    "                    )[0].replace(',', '')\n",
    "                )\n",
    "            except:\n",
    "                n_ignored += 1\n",
    "                continue\n",
    "                \n",
    "            rent_text = retail.find('div', {'class': 'rent_per_month'})\n",
    "            \n",
    "            if rent_text is not None:\n",
    "                rent_text = rent_text.text                \n",
    "            else:\n",
    "                sub_url = 'https://www.spacelist.ca/listings/' + id_value + '/on/toronto/for-lease/retail'\n",
    "                \n",
    "                sub_html_soup = GetHtmlSoup(sub_url)\n",
    "                retail_container = sub_html_soup.find_all('div', {'class': 'cell small-12 large-6'})\n",
    "                rent_text = retail_container[0].find('span', {'class': 'bold-font'}).text\n",
    "\n",
    "            try:\n",
    "                rent_value = float(re.search(r'\\$(.*?)\\/', rent_text).group(1).replace(',', ''))\n",
    "            except:\n",
    "                n_ignored += 1\n",
    "                continue\n",
    "                \n",
    "            if 'sf/yr' in rent_text:\n",
    "                rent_value = (rent_value * area_value) / 12\n",
    "\n",
    "            type_value = retail.find('div', {'class': 'cell auto about'}).contents[1].text\n",
    "            \n",
    "            try:\n",
    "                coord_value = coord_dict[int(id_value)]\n",
    "            except:\n",
    "                coord_value = np.nan\n",
    "            \n",
    "            business_dict['Id'].append(id_value)\n",
    "            business_dict['Address'].append(address_value)\n",
    "            business_dict['Area sf'].append(area_value)\n",
    "            business_dict['Rent/mo'].append(rent_value)\n",
    "            business_dict['Type'].append(type_value)\n",
    "            business_dict['geometry'].append(coord_value)\n",
    "    else:\n",
    "        break\n",
    "        \n",
    "print('Number of spaces scraped:', len(business_dict['Id']), '\\n')\n",
    "print('Number of spaces ignored:', n_ignored)"
   ]
  },
  {
   "cell_type": "code",
   "execution_count": 41,
   "metadata": {},
   "outputs": [
    {
     "data": {
      "text/html": [
       "<div>\n",
       "<style scoped>\n",
       "    .dataframe tbody tr th:only-of-type {\n",
       "        vertical-align: middle;\n",
       "    }\n",
       "\n",
       "    .dataframe tbody tr th {\n",
       "        vertical-align: top;\n",
       "    }\n",
       "\n",
       "    .dataframe thead th {\n",
       "        text-align: right;\n",
       "    }\n",
       "</style>\n",
       "<table border=\"1\" class=\"dataframe\">\n",
       "  <thead>\n",
       "    <tr style=\"text-align: right;\">\n",
       "      <th></th>\n",
       "      <th>Id</th>\n",
       "      <th>Address</th>\n",
       "      <th>Area sf</th>\n",
       "      <th>Rent/mo</th>\n",
       "      <th>Type</th>\n",
       "      <th>geometry</th>\n",
       "    </tr>\n",
       "  </thead>\n",
       "  <tbody>\n",
       "    <tr>\n",
       "      <th>0</th>\n",
       "      <td>191578</td>\n",
       "      <td>301 - 32 Britain St</td>\n",
       "      <td>165.0</td>\n",
       "      <td>2900.0</td>\n",
       "      <td>Office</td>\n",
       "      <td>NaN</td>\n",
       "    </tr>\n",
       "    <tr>\n",
       "      <th>1</th>\n",
       "      <td>278433</td>\n",
       "      <td>404 - 32 Britain St</td>\n",
       "      <td>165.0</td>\n",
       "      <td>3500.0</td>\n",
       "      <td>Office</td>\n",
       "      <td>NaN</td>\n",
       "    </tr>\n",
       "    <tr>\n",
       "      <th>2</th>\n",
       "      <td>184289</td>\n",
       "      <td>403 - 32 Britain St</td>\n",
       "      <td>260.0</td>\n",
       "      <td>6000.0</td>\n",
       "      <td>Office</td>\n",
       "      <td>NaN</td>\n",
       "    </tr>\n",
       "    <tr>\n",
       "      <th>3</th>\n",
       "      <td>319350</td>\n",
       "      <td>401 - 32 Britain St</td>\n",
       "      <td>350.0</td>\n",
       "      <td>6600.0</td>\n",
       "      <td>Office</td>\n",
       "      <td>NaN</td>\n",
       "    </tr>\n",
       "    <tr>\n",
       "      <th>4</th>\n",
       "      <td>284426</td>\n",
       "      <td>For Rent  - 26 Duncan St</td>\n",
       "      <td>1200.0</td>\n",
       "      <td>8300.0</td>\n",
       "      <td>Office</td>\n",
       "      <td>NaN</td>\n",
       "    </tr>\n",
       "  </tbody>\n",
       "</table>\n",
       "</div>"
      ],
      "text/plain": [
       "       Id                   Address  Area sf  Rent/mo    Type  geometry\n",
       "0  191578       301 - 32 Britain St    165.0   2900.0  Office       NaN\n",
       "1  278433       404 - 32 Britain St    165.0   3500.0  Office       NaN\n",
       "2  184289       403 - 32 Britain St    260.0   6000.0  Office       NaN\n",
       "3  319350       401 - 32 Britain St    350.0   6600.0  Office       NaN\n",
       "4  284426  For Rent  - 26 Duncan St   1200.0   8300.0  Office       NaN"
      ]
     },
     "execution_count": 41,
     "metadata": {},
     "output_type": "execute_result"
    }
   ],
   "source": [
    "retail_sl_df = pd.DataFrame(business_dict)\n",
    "retail_sl_df.head()"
   ]
  },
  {
   "cell_type": "code",
   "execution_count": 42,
   "metadata": {},
   "outputs": [
    {
     "data": {
      "text/plain": [
       "(660, 6)"
      ]
     },
     "execution_count": 42,
     "metadata": {},
     "output_type": "execute_result"
    }
   ],
   "source": [
    "retail_sl_df.shape"
   ]
  },
  {
   "cell_type": "code",
   "execution_count": 48,
   "metadata": {},
   "outputs": [
    {
     "name": "stdout",
     "output_type": "stream",
     "text": [
      "Number of unknown coordinates: 660\n"
     ]
    }
   ],
   "source": [
    "n_unk_coord = retail_sl_df.loc[retail_sl_df['geometry'].isnull()].shape[0]\n",
    "print('Number of unknown coordinates:', n_unk_coord)"
   ]
  },
  {
   "cell_type": "code",
   "execution_count": 49,
   "metadata": {},
   "outputs": [],
   "source": [
    "retail_sl_df['Address'] = retail_sl_df.loc[:, ('Address')].apply(\n",
    "    lambda s: s.replace(\n",
    "        'For Rent - ', '').replace(\n",
    "        'For Rent  - ', '').replace(\n",
    "        'COWORKING DEDICATED - ', '').replace(\n",
    "        ' COWORKING DEDICATED - ', '').replace(\n",
    "        'COWORKING NOT RESERVED - ', '').replace(\n",
    "        ' COWORKING NOT RESERVED - ', ''))\n",
    "retail_sl_df['Main Address'] = retail_sl_df.loc[:, ('Address')].apply(\n",
    "    lambda s: s.split('-')[-1].lstrip() if ('-' in s and 'HWY' not in s) else ('-'.join(s.split('-')[-2:]).lstrip() if 'HWY' in s else s))"
   ]
  },
  {
   "cell_type": "code",
   "execution_count": 53,
   "metadata": {},
   "outputs": [
    {
     "name": "stdout",
     "output_type": "stream",
     "text": [
      "388 Carlaw Ave, Unit W20 'NoneType' object has no attribute 'longitude'\n"
     ]
    }
   ],
   "source": [
    "na_address = np.unique(retail_sl_df.loc[retail_sl_df['geometry'].isnull()]['Main Address'])\n",
    "\n",
    "coord_dict = {'Main Address': [], 'geometry': []}\n",
    "geolocator = Nominatim(user_agent='web_scraper')\n",
    "for addr in na_address:\n",
    "    try:\n",
    "        location = geolocator.geocode(addr + ' Toronto', timeout=10)\n",
    "    except Exception as e:\n",
    "        print(addr, e)\n",
    "        continue\n",
    "    try:\n",
    "        addr_point = Point(location.longitude, location.latitude)\n",
    "    except Exception as e:\n",
    "        print(addr, e)\n",
    "        continue\n",
    "    coord_dict['geometry'].append(addr_point)\n",
    "    coord_dict['Main Address'].append(addr)"
   ]
  },
  {
   "cell_type": "code",
   "execution_count": 54,
   "metadata": {},
   "outputs": [
    {
     "name": "stdout",
     "output_type": "stream",
     "text": [
      "Number of unknown coordinates: 1\n"
     ]
    }
   ],
   "source": [
    "geo_addr_gdf = gpd.GeoDataFrame(pd.DataFrame.from_dict(coord_dict))\n",
    "\n",
    "retail_sl_df = retail_sl_df.merge(geo_addr_gdf, how='left', on='Main Address')\n",
    "retail_sl_df.loc[retail_sl_df['geometry_x'].isnull(), 'geometry_x'] = retail_sl_df.loc[\n",
    "    ~retail_sl_df['geometry_y'].isnull(), 'geometry_y']\n",
    "retail_sl_df.drop('geometry_y', axis=1, inplace=True)\n",
    "retail_sl_df.rename(columns={'geometry_x': 'geometry'}, inplace=True)\n",
    "\n",
    "n_unk_coord = retail_sl_df.loc[retail_sl_df['geometry'].isnull()].shape[0]\n",
    "print('Number of unknown coordinates:', n_unk_coord)"
   ]
  },
  {
   "cell_type": "code",
   "execution_count": 55,
   "metadata": {},
   "outputs": [
    {
     "name": "stdout",
     "output_type": "stream",
     "text": [
      "Number of spaces scraped: 171 \n",
      "\n",
      "Number of spaces ignored: 136\n"
     ]
    }
   ],
   "source": [
    "n_pages = 15\n",
    "n_ignored = 0\n",
    "\n",
    "business_dict_p2h = {'Id': [], 'Address': [], 'Area sf': [], 'Rent/mo': [], 'Type': [], 'geometry': []}\n",
    "for page in range(1, n_pages + 1):\n",
    "    url = 'https://www.point2homes.com/CA/Commercial-Properties-For-Lease.html?location=Toronto%2C+ON&PriceMin=0&PriceMax=1%2C000%2C000&search_mode=location&geopicker_output=853998%2C854002%2C854003%2C854008%2C854009%2C854010%2C854011%2C855493%2C855558%2C855562%2C855563&geopicker_type=nhood&geopicker_output_full=853998%7CEast+York%7COntario%2C854002%7CUptown+Toronto%7COntario%2C854003%7CYork%7COntario%2C854008%7CWest+End+Toronto%7COntario%2C854009%7CMidtown+Toronto%7COntario%2C854010%7CDowntown+Toronto%7COntario%2C854011%7CEast+End+Toronto%7COntario%2C855493%7CCaribou+Park%7CNorth+York%2C855558%7CGlen+Park%7CNorth+York%2C855562%7CLedbury+Park%7CNorth+York%2C855563%7CLawrence+Manor%7CNorth+York&page={}&SelectedView=listings&LocationGeoId=783094&viewport=-79.46408975087829%2C43.659463577335885%2C-79.35886132680602%2C43.76728718084169&zoom=13&location_changed=&ajax=1'.format(page)\n",
    "    retail_container_p2h = GetRetailContainer(url, 'div', {'class': 'item-cnt clearfix'})\n",
    "\n",
    "    if retail_container_p2h != []:\n",
    "        for retail in retail_container_p2h:\n",
    "            id_value = retail['id']\n",
    "            \n",
    "            # the lot size can be in acres, square feet, or it isn't listed\n",
    "            # if it isn't listed then ignore the retail and continue the loop\n",
    "            if retail.find('li', {'data-label': 'Lot Size'}) is None:\n",
    "                if retail.find('li', {'data-label': 'Sqft'}) is None:\n",
    "                    n_ignored += 1\n",
    "                    continue\n",
    "                else:\n",
    "                    area_value = float(\n",
    "                        re.findall(\n",
    "                            '\\d+(?:,\\d+)?', \n",
    "                            retail.find('li', {'data-label': 'Sqft'}).text\n",
    "                        )[0].replace(',', '')\n",
    "                    )\n",
    "            else:\n",
    "                # convert acre to square feet\n",
    "                area_value = float(\n",
    "                    re.findall(\n",
    "                        '\\d+(?:.\\d+)?',\n",
    "                        retail.find('li', {'data-label': 'Lot Size'}).text\n",
    "                    )[0]\n",
    "                ) * 43560\n",
    "            \n",
    "            # if the rent is not given as a per month value, ignore it and continue the loop\n",
    "            # the reason being that sometimes multiple spaces are listed with different rents in a\n",
    "            # single listing, and the individual area and rent of each space is either not listed\n",
    "            # or it's listed in paragraph form in a description field\n",
    "            try:\n",
    "                rent_value_month = float(\n",
    "                    re.findall(\n",
    "                        '\\d+\\,\\d+', \n",
    "                        retail.find('div', {'class': 'price has-rental-term'})['data-price']\n",
    "                    )[0].replace(',', '')\n",
    "                )\n",
    "            except:\n",
    "                n_ignored += 1\n",
    "                continue\n",
    "            \n",
    "            # it makes no sense that the rent would be $0 so ignore these ones\n",
    "            if rent_value_month == 0:\n",
    "                n_ignored += 1\n",
    "                continue\n",
    "            \n",
    "            type_value = retail.find('li', {'class': 'property-type ic-proptype'}).text\n",
    "            type_value = ''.join(e for e in type_value if e.isalnum())\n",
    "\n",
    "            input_list = retail.find_all('input')\n",
    "            address_value = input_list[0]['value'].split(',')[0]\n",
    "            lat_value = float(input_list[1]['value'])\n",
    "            lng_value = float(input_list[2]['value'])\n",
    "            coord_value = Point(lng_value, lat_value)\n",
    "            \n",
    "            business_dict_p2h['Id'].append(id_value)\n",
    "            business_dict_p2h['Address'].append(address_value)\n",
    "            business_dict_p2h['Area sf'].append(area_value)\n",
    "            business_dict_p2h['Rent/mo'].append(rent_value_month)\n",
    "            business_dict_p2h['Type'].append(type_value)\n",
    "            business_dict_p2h['geometry'].append(coord_value)\n",
    "    else:\n",
    "        break\n",
    "        \n",
    "print('Number of spaces scraped:', len(business_dict_p2h['Id']), '\\n')\n",
    "print('Number of spaces ignored:', n_ignored)"
   ]
  },
  {
   "cell_type": "code",
   "execution_count": 56,
   "metadata": {},
   "outputs": [
    {
     "data": {
      "text/html": [
       "<div>\n",
       "<style scoped>\n",
       "    .dataframe tbody tr th:only-of-type {\n",
       "        vertical-align: middle;\n",
       "    }\n",
       "\n",
       "    .dataframe tbody tr th {\n",
       "        vertical-align: top;\n",
       "    }\n",
       "\n",
       "    .dataframe thead th {\n",
       "        text-align: right;\n",
       "    }\n",
       "</style>\n",
       "<table border=\"1\" class=\"dataframe\">\n",
       "  <thead>\n",
       "    <tr style=\"text-align: right;\">\n",
       "      <th></th>\n",
       "      <th>Id</th>\n",
       "      <th>Address</th>\n",
       "      <th>Area sf</th>\n",
       "      <th>Rent/mo</th>\n",
       "      <th>Type</th>\n",
       "      <th>geometry</th>\n",
       "    </tr>\n",
       "  </thead>\n",
       "  <tbody>\n",
       "    <tr>\n",
       "      <th>0</th>\n",
       "      <td>l_94697677</td>\n",
       "      <td>507 Queen St W</td>\n",
       "      <td>2530.0</td>\n",
       "      <td>8000.0</td>\n",
       "      <td>Commercial</td>\n",
       "      <td>POINT (-79.39868 43.64806)</td>\n",
       "    </tr>\n",
       "    <tr>\n",
       "      <th>1</th>\n",
       "      <td>l_94697684</td>\n",
       "      <td>454 Queen St W</td>\n",
       "      <td>1100.0</td>\n",
       "      <td>8000.0</td>\n",
       "      <td>Commercial</td>\n",
       "      <td>POINT (-79.39945 43.64834)</td>\n",
       "    </tr>\n",
       "    <tr>\n",
       "      <th>2</th>\n",
       "      <td>l_92496157</td>\n",
       "      <td>634 Queen St W</td>\n",
       "      <td>1100.0</td>\n",
       "      <td>5000.0</td>\n",
       "      <td>Commercial</td>\n",
       "      <td>POINT (-79.40593 43.64697)</td>\n",
       "    </tr>\n",
       "    <tr>\n",
       "      <th>3</th>\n",
       "      <td>l_94697679</td>\n",
       "      <td>693 Queen St W</td>\n",
       "      <td>2000.0</td>\n",
       "      <td>10834.0</td>\n",
       "      <td>Commercial</td>\n",
       "      <td>POINT (-79.40527 43.64680)</td>\n",
       "    </tr>\n",
       "    <tr>\n",
       "      <th>4</th>\n",
       "      <td>l_92817532</td>\n",
       "      <td>452 Queen St West</td>\n",
       "      <td>1100.0</td>\n",
       "      <td>8000.0</td>\n",
       "      <td>Commercial</td>\n",
       "      <td>POINT (-79.39940 43.64831)</td>\n",
       "    </tr>\n",
       "  </tbody>\n",
       "</table>\n",
       "</div>"
      ],
      "text/plain": [
       "           Id            Address  Area sf  Rent/mo        Type  \\\n",
       "0  l_94697677     507 Queen St W   2530.0   8000.0  Commercial   \n",
       "1  l_94697684     454 Queen St W   1100.0   8000.0  Commercial   \n",
       "2  l_92496157     634 Queen St W   1100.0   5000.0  Commercial   \n",
       "3  l_94697679     693 Queen St W   2000.0  10834.0  Commercial   \n",
       "4  l_92817532  452 Queen St West   1100.0   8000.0  Commercial   \n",
       "\n",
       "                     geometry  \n",
       "0  POINT (-79.39868 43.64806)  \n",
       "1  POINT (-79.39945 43.64834)  \n",
       "2  POINT (-79.40593 43.64697)  \n",
       "3  POINT (-79.40527 43.64680)  \n",
       "4  POINT (-79.39940 43.64831)  "
      ]
     },
     "execution_count": 56,
     "metadata": {},
     "output_type": "execute_result"
    }
   ],
   "source": [
    "retail_p2h_gdf = gpd.GeoDataFrame(pd.DataFrame(business_dict_p2h))\n",
    "retail_p2h_gdf.head()"
   ]
  },
  {
   "cell_type": "code",
   "execution_count": 57,
   "metadata": {},
   "outputs": [
    {
     "data": {
      "text/plain": [
       "(171, 6)"
      ]
     },
     "execution_count": 57,
     "metadata": {},
     "output_type": "execute_result"
    }
   ],
   "source": [
    "retail_p2h_gdf.shape"
   ]
  },
  {
   "cell_type": "code",
   "execution_count": 58,
   "metadata": {},
   "outputs": [
    {
     "data": {
      "text/html": [
       "<div>\n",
       "<style scoped>\n",
       "    .dataframe tbody tr th:only-of-type {\n",
       "        vertical-align: middle;\n",
       "    }\n",
       "\n",
       "    .dataframe tbody tr th {\n",
       "        vertical-align: top;\n",
       "    }\n",
       "\n",
       "    .dataframe thead th {\n",
       "        text-align: right;\n",
       "    }\n",
       "</style>\n",
       "<table border=\"1\" class=\"dataframe\">\n",
       "  <thead>\n",
       "    <tr style=\"text-align: right;\">\n",
       "      <th></th>\n",
       "      <th>Id</th>\n",
       "      <th>Address</th>\n",
       "      <th>Area sf</th>\n",
       "      <th>Rent/mo</th>\n",
       "      <th>Type</th>\n",
       "      <th>geometry</th>\n",
       "      <th>Main Address</th>\n",
       "    </tr>\n",
       "  </thead>\n",
       "  <tbody>\n",
       "    <tr>\n",
       "      <th>0</th>\n",
       "      <td>191578</td>\n",
       "      <td>301 - 32 Britain St</td>\n",
       "      <td>165.0</td>\n",
       "      <td>2900.0</td>\n",
       "      <td>Office</td>\n",
       "      <td>POINT (-79.37050 43.65389)</td>\n",
       "      <td>32 Britain St</td>\n",
       "    </tr>\n",
       "    <tr>\n",
       "      <th>1</th>\n",
       "      <td>278433</td>\n",
       "      <td>404 - 32 Britain St</td>\n",
       "      <td>165.0</td>\n",
       "      <td>3500.0</td>\n",
       "      <td>Office</td>\n",
       "      <td>POINT (-79.37050 43.65389)</td>\n",
       "      <td>32 Britain St</td>\n",
       "    </tr>\n",
       "    <tr>\n",
       "      <th>2</th>\n",
       "      <td>184289</td>\n",
       "      <td>403 - 32 Britain St</td>\n",
       "      <td>260.0</td>\n",
       "      <td>6000.0</td>\n",
       "      <td>Office</td>\n",
       "      <td>POINT (-79.37050 43.65389)</td>\n",
       "      <td>32 Britain St</td>\n",
       "    </tr>\n",
       "    <tr>\n",
       "      <th>3</th>\n",
       "      <td>319350</td>\n",
       "      <td>401 - 32 Britain St</td>\n",
       "      <td>350.0</td>\n",
       "      <td>6600.0</td>\n",
       "      <td>Office</td>\n",
       "      <td>POINT (-79.37050 43.65389)</td>\n",
       "      <td>32 Britain St</td>\n",
       "    </tr>\n",
       "    <tr>\n",
       "      <th>4</th>\n",
       "      <td>284426</td>\n",
       "      <td>26 Duncan St</td>\n",
       "      <td>1200.0</td>\n",
       "      <td>8300.0</td>\n",
       "      <td>Office</td>\n",
       "      <td>POINT (-79.38911 43.64859)</td>\n",
       "      <td>26 Duncan St</td>\n",
       "    </tr>\n",
       "  </tbody>\n",
       "</table>\n",
       "</div>"
      ],
      "text/plain": [
       "       Id              Address  Area sf  Rent/mo    Type  \\\n",
       "0  191578  301 - 32 Britain St    165.0   2900.0  Office   \n",
       "1  278433  404 - 32 Britain St    165.0   3500.0  Office   \n",
       "2  184289  403 - 32 Britain St    260.0   6000.0  Office   \n",
       "3  319350  401 - 32 Britain St    350.0   6600.0  Office   \n",
       "4  284426         26 Duncan St   1200.0   8300.0  Office   \n",
       "\n",
       "                     geometry   Main Address  \n",
       "0  POINT (-79.37050 43.65389)  32 Britain St  \n",
       "1  POINT (-79.37050 43.65389)  32 Britain St  \n",
       "2  POINT (-79.37050 43.65389)  32 Britain St  \n",
       "3  POINT (-79.37050 43.65389)  32 Britain St  \n",
       "4  POINT (-79.38911 43.64859)   26 Duncan St  "
      ]
     },
     "execution_count": 58,
     "metadata": {},
     "output_type": "execute_result"
    }
   ],
   "source": [
    "retail_gdf = gpd.GeoDataFrame(pd.concat([retail_sl_df, retail_p2h_gdf], ignore_index=True))\n",
    "retail_gdf.head()"
   ]
  },
  {
   "cell_type": "code",
   "execution_count": 60,
   "metadata": {},
   "outputs": [
    {
     "data": {
      "text/plain": [
       "(831, 7)"
      ]
     },
     "execution_count": 60,
     "metadata": {},
     "output_type": "execute_result"
    }
   ],
   "source": [
    "retail_gdf.shape"
   ]
  },
  {
   "cell_type": "code",
   "execution_count": 61,
   "metadata": {},
   "outputs": [],
   "source": [
    "# create columns for unique address IDs regardless of the source and format of the address\n",
    "retail_gdf['Address ID'] = retail_gdf['Address'].apply(lambda s: ''.join(sorted(str.upper(s.replace('-', '').replace(' ', '')))))\n",
    "retail_gdf['ID length'] = retail_gdf['Id'].apply(len)"
   ]
  },
  {
   "cell_type": "code",
   "execution_count": 62,
   "metadata": {},
   "outputs": [
    {
     "name": "stdout",
     "output_type": "stream",
     "text": [
      "(831, 9)\n",
      "(816, 9)\n",
      "(789, 9)\n",
      "(788, 9)\n"
     ]
    }
   ],
   "source": [
    "# deal with duplicates\n",
    "print(retail_gdf.shape)\n",
    "retail_gdf.drop_duplicates(subset=['Address ID', 'Area sf', 'Rent/mo'], inplace=True)\n",
    "print(retail_gdf.shape)\n",
    "retail_gdf.drop_duplicates(subset=['Address ID', 'ID length'], inplace=True)\n",
    "print(retail_gdf.shape)\n",
    "retail_gdf.drop_duplicates(subset=['Address ID'], inplace=True)\n",
    "print(retail_gdf.shape)"
   ]
  },
  {
   "cell_type": "code",
   "execution_count": 63,
   "metadata": {},
   "outputs": [
    {
     "data": {
      "text/html": [
       "<div>\n",
       "<style scoped>\n",
       "    .dataframe tbody tr th:only-of-type {\n",
       "        vertical-align: middle;\n",
       "    }\n",
       "\n",
       "    .dataframe tbody tr th {\n",
       "        vertical-align: top;\n",
       "    }\n",
       "\n",
       "    .dataframe thead th {\n",
       "        text-align: right;\n",
       "    }\n",
       "</style>\n",
       "<table border=\"1\" class=\"dataframe\">\n",
       "  <thead>\n",
       "    <tr style=\"text-align: right;\">\n",
       "      <th></th>\n",
       "      <th>Id</th>\n",
       "      <th>Address</th>\n",
       "      <th>Area sf</th>\n",
       "      <th>Rent/mo</th>\n",
       "      <th>Type</th>\n",
       "      <th>geometry</th>\n",
       "      <th>Main Address</th>\n",
       "    </tr>\n",
       "  </thead>\n",
       "  <tbody>\n",
       "    <tr>\n",
       "      <th>0</th>\n",
       "      <td>191578</td>\n",
       "      <td>301 - 32 Britain St</td>\n",
       "      <td>165.0</td>\n",
       "      <td>2900.0</td>\n",
       "      <td>Office</td>\n",
       "      <td>POINT (-79.37050 43.65389)</td>\n",
       "      <td>32 Britain St</td>\n",
       "    </tr>\n",
       "    <tr>\n",
       "      <th>1</th>\n",
       "      <td>278433</td>\n",
       "      <td>404 - 32 Britain St</td>\n",
       "      <td>165.0</td>\n",
       "      <td>3500.0</td>\n",
       "      <td>Office</td>\n",
       "      <td>POINT (-79.37050 43.65389)</td>\n",
       "      <td>32 Britain St</td>\n",
       "    </tr>\n",
       "    <tr>\n",
       "      <th>2</th>\n",
       "      <td>184289</td>\n",
       "      <td>403 - 32 Britain St</td>\n",
       "      <td>260.0</td>\n",
       "      <td>6000.0</td>\n",
       "      <td>Office</td>\n",
       "      <td>POINT (-79.37050 43.65389)</td>\n",
       "      <td>32 Britain St</td>\n",
       "    </tr>\n",
       "    <tr>\n",
       "      <th>3</th>\n",
       "      <td>319350</td>\n",
       "      <td>401 - 32 Britain St</td>\n",
       "      <td>350.0</td>\n",
       "      <td>6600.0</td>\n",
       "      <td>Office</td>\n",
       "      <td>POINT (-79.37050 43.65389)</td>\n",
       "      <td>32 Britain St</td>\n",
       "    </tr>\n",
       "    <tr>\n",
       "      <th>4</th>\n",
       "      <td>284426</td>\n",
       "      <td>26 Duncan St</td>\n",
       "      <td>1200.0</td>\n",
       "      <td>8300.0</td>\n",
       "      <td>Office</td>\n",
       "      <td>POINT (-79.38911 43.64859)</td>\n",
       "      <td>26 Duncan St</td>\n",
       "    </tr>\n",
       "  </tbody>\n",
       "</table>\n",
       "</div>"
      ],
      "text/plain": [
       "       Id              Address  Area sf  Rent/mo    Type  \\\n",
       "0  191578  301 - 32 Britain St    165.0   2900.0  Office   \n",
       "1  278433  404 - 32 Britain St    165.0   3500.0  Office   \n",
       "2  184289  403 - 32 Britain St    260.0   6000.0  Office   \n",
       "3  319350  401 - 32 Britain St    350.0   6600.0  Office   \n",
       "4  284426         26 Duncan St   1200.0   8300.0  Office   \n",
       "\n",
       "                     geometry   Main Address  \n",
       "0  POINT (-79.37050 43.65389)  32 Britain St  \n",
       "1  POINT (-79.37050 43.65389)  32 Britain St  \n",
       "2  POINT (-79.37050 43.65389)  32 Britain St  \n",
       "3  POINT (-79.37050 43.65389)  32 Britain St  \n",
       "4  POINT (-79.38911 43.64859)   26 Duncan St  "
      ]
     },
     "execution_count": 63,
     "metadata": {},
     "output_type": "execute_result"
    }
   ],
   "source": [
    "retail_gdf.drop(['Address ID', 'ID length'], axis=1, inplace=True)\n",
    "retail_gdf.reset_index(drop=True, inplace=True)\n",
    "retail_gdf.head()"
   ]
  },
  {
   "cell_type": "code",
   "execution_count": 64,
   "metadata": {},
   "outputs": [
    {
     "name": "stdout",
     "output_type": "stream",
     "text": [
      "(788, 7)\n"
     ]
    }
   ],
   "source": [
    "print(retail_gdf.shape)"
   ]
  },
  {
   "cell_type": "code",
   "execution_count": 65,
   "metadata": {},
   "outputs": [],
   "source": [
    "retail_gdf.to_file('rent_toronto.geojson', drive='GeoJSON', encoding='utf-8')"
   ]
  },
  {
   "cell_type": "code",
   "execution_count": null,
   "metadata": {},
   "outputs": [],
   "source": []
  }
 ],
 "metadata": {
  "kernelspec": {
   "display_name": "Python 3",
   "language": "python",
   "name": "python3"
  },
  "language_info": {
   "codemirror_mode": {
    "name": "ipython",
    "version": 3
   },
   "file_extension": ".py",
   "mimetype": "text/x-python",
   "name": "python",
   "nbconvert_exporter": "python",
   "pygments_lexer": "ipython3",
   "version": "3.7.7"
  }
 },
 "nbformat": 4,
 "nbformat_minor": 2
}
