{
 "cells": [
  {
   "cell_type": "code",
   "execution_count": 255,
   "metadata": {},
   "outputs": [
    {
     "data": {
      "text/html": [
       "        <script type=\"text/javascript\">\n",
       "        window.PlotlyConfig = {MathJaxConfig: 'local'};\n",
       "        if (window.MathJax) {MathJax.Hub.Config({SVG: {font: \"STIX-Web\"}});}\n",
       "        if (typeof require !== 'undefined') {\n",
       "        require.undef(\"plotly\");\n",
       "        requirejs.config({\n",
       "            paths: {\n",
       "                'plotly': ['https://cdn.plot.ly/plotly-latest.min']\n",
       "            }\n",
       "        });\n",
       "        require(['plotly'], function(Plotly) {\n",
       "            window._Plotly = Plotly;\n",
       "        });\n",
       "        }\n",
       "        </script>\n",
       "        "
      ]
     },
     "metadata": {},
     "output_type": "display_data"
    }
   ],
   "source": [
    "from bs4 import BeautifulSoup\n",
    "from requests import get\n",
    "import numpy as np\n",
    "import pandas as pd\n",
    "import geopandas as gpd\n",
    "import geopy\n",
    "from geopy.geocoders import Nominatim\n",
    "import itertools\n",
    "import json\n",
    "from shapely.geometry import Point\n",
    "import matplotlib.pyplot as plt\n",
    "import seaborn as sns\n",
    "import plotly.express as px\n",
    "# Standard plotly imports\n",
    "import chart_studio.plotly as py\n",
    "# Using plotly + cufflinks in offline mode\n",
    "import cufflinks\n",
    "import plotly.express as px\n",
    "cufflinks.go_offline(connected=True)\n",
    "import re\n",
    "import time"
   ]
  },
  {
   "cell_type": "code",
   "execution_count": 256,
   "metadata": {},
   "outputs": [],
   "source": [
    "def GetHtmlSoup(url, headers=()):\n",
    "    try:\n",
    "        response = get(url, headers=headers)\n",
    "    except Exception as e:\n",
    "        raise Exception(e)\n",
    "        \n",
    "    html_soup = BeautifulSoup(response.text, 'html.parser')\n",
    "    \n",
    "    return html_soup"
   ]
  },
  {
   "cell_type": "code",
   "execution_count": 257,
   "metadata": {},
   "outputs": [],
   "source": [
    "def GetRetailContainer(url, name, attrs, **kwargs):\n",
    "    html_soup = GetHtmlSoup(url)\n",
    "    \n",
    "    retail_container = html_soup.find_all(name, attrs, **kwargs)\n",
    "    \n",
    "    return retail_container"
   ]
  },
  {
   "cell_type": "code",
   "execution_count": 258,
   "metadata": {},
   "outputs": [],
   "source": [
    "url = 'https://www.spacelist.ca/listings/b/dpz3q4u51j/dpxxegdyr8/retail-other/for-lease'\n",
    "html_soup = GetHtmlSoup(url)"
   ]
  },
  {
   "cell_type": "code",
   "execution_count": 259,
   "metadata": {},
   "outputs": [],
   "source": [
    "map_container = html_soup.find('div', {'id': 'cluster-map'})['data-data']\n",
    "map_dict_list = json.loads(map_container)['features']\n",
    "coord_dict = {f['properties']['id']: Point(f['geometry']['coordinates']) for f in map_dict_list}"
   ]
  },
  {
   "cell_type": "code",
   "execution_count": 260,
   "metadata": {},
   "outputs": [
    {
     "name": "stdout",
     "output_type": "stream",
     "text": [
      "Number of spaces scraped: 642 \n",
      "\n",
      "Number of spaces ignored with an invalid address value: 0 \n",
      "\n",
      "Number of spaces ignored with an invalid area value: 30 \n",
      "\n",
      "Number of spaces ignored with an invalid rent value: 786\n"
     ]
    }
   ],
   "source": [
    "n_pages = 85\n",
    "n_ignored_address = 0\n",
    "n_ignored_area = 0\n",
    "n_ignored_rent = 0\n",
    "\n",
    "business_dict = {'Id': [], 'Address': [], 'Area sf': [], 'Rent/mo': [], 'Type': [], 'geometry': []}\n",
    "for page in range(1, n_pages + 1):\n",
    "    url = 'https://www.spacelist.ca/listings/on/toronto/office-retail-industrial-medical-multifamily-other/for-lease/page/' + str(page)\n",
    "    \n",
    "    retail_container = GetRetailContainer(url, 'div', {'class': 'listing-result cell shrink'})\n",
    "    \n",
    "    if retail_container != []:\n",
    "        page_location = 0\n",
    "        for retail in retail_container:\n",
    "            page_location += 1\n",
    "            id_value = retail.find('a', {'class': 'add-to-shortlist'})['data-listing-id']\n",
    "            \n",
    "            rent_text = retail.find('div', {'class': 'rent_per_month'})\n",
    "            \n",
    "            if rent_text is not None:\n",
    "                rent_text = rent_text.text                \n",
    "            else:\n",
    "                sub_url = 'https://www.spacelist.ca/listings/' + id_value + '/on/toronto/for-lease/retail'\n",
    "                \n",
    "                sub_html_soup = GetHtmlSoup(sub_url)\n",
    "                retail_container = sub_html_soup.find_all('div', {'class': 'cell small-12 large-6'})\n",
    "                rent_text = retail_container[0].find('span', {'class': 'bold-font'}).text\n",
    "\n",
    "            try:\n",
    "                rent_value = float(re.search(r'\\$(.*?)\\/', rent_text).group(1).replace(',', ''))\n",
    "            except:\n",
    "\n",
    "                n_ignored_rent += 1\n",
    "                continue\n",
    "                \n",
    "            if 'sf/yr' in rent_text:\n",
    "                rent_value = (rent_value * area_value) / 12\n",
    "            \n",
    "            try:\n",
    "                address_value = retail.find(\n",
    "                    'div',\n",
    "                    {'class': 'cell auto small-font flat-line-height-taller right-cell-padding'})\n",
    "                address_value = address_value.find('div', {'class': 'dark-font'}).get('title')\n",
    "            except:\n",
    "                n_ignored_address += 1\n",
    "                continue\n",
    "            \n",
    "            try:\n",
    "                area_text = retail.find('div', {'class': 'default-font dark-font flat-line-height'}).text\n",
    "\n",
    "                if 'ft²' not in area_text or '-' in area_text:\n",
    "                    n_ignored_area += 1\n",
    "                    continue\n",
    "\n",
    "                area_value = float(\n",
    "                    re.findall(\n",
    "                        '\\d+(?:,\\d+)?', \n",
    "                        area_text\n",
    "                    )[0].replace(',', '')\n",
    "                )\n",
    "            except:\n",
    "                n_ignored_area += 1\n",
    "                continue\n",
    "\n",
    "            type_value = retail.find('div', {'class': 'cell auto about'}).contents[1].text\n",
    "            \n",
    "            try:\n",
    "                coord_value = coord_dict[int(id_value)]\n",
    "            except:\n",
    "                coord_value = np.nan\n",
    "            \n",
    "            business_dict['Id'].append(id_value)\n",
    "            business_dict['Address'].append(address_value)\n",
    "            business_dict['Area sf'].append(area_value)\n",
    "            business_dict['Rent/mo'].append(rent_value)\n",
    "            business_dict['Type'].append(type_value)\n",
    "            business_dict['geometry'].append(coord_value)\n",
    "    else:\n",
    "        break\n",
    "        \n",
    "print('Number of spaces scraped:', len(business_dict['Id']), '\\n')\n",
    "print('Number of spaces ignored with an invalid address value:', n_ignored_address, '\\n')\n",
    "print('Number of spaces ignored with an invalid area value:', n_ignored_area, '\\n')\n",
    "print('Number of spaces ignored with an invalid rent value:', n_ignored_rent)"
   ]
  },
  {
   "cell_type": "code",
   "execution_count": 261,
   "metadata": {},
   "outputs": [
    {
     "data": {
      "text/html": [
       "<div>\n",
       "<style scoped>\n",
       "    .dataframe tbody tr th:only-of-type {\n",
       "        vertical-align: middle;\n",
       "    }\n",
       "\n",
       "    .dataframe tbody tr th {\n",
       "        vertical-align: top;\n",
       "    }\n",
       "\n",
       "    .dataframe thead th {\n",
       "        text-align: right;\n",
       "    }\n",
       "</style>\n",
       "<table border=\"1\" class=\"dataframe\">\n",
       "  <thead>\n",
       "    <tr style=\"text-align: right;\">\n",
       "      <th></th>\n",
       "      <th>Id</th>\n",
       "      <th>Address</th>\n",
       "      <th>Area sf</th>\n",
       "      <th>Rent/mo</th>\n",
       "      <th>Type</th>\n",
       "      <th>geometry</th>\n",
       "    </tr>\n",
       "  </thead>\n",
       "  <tbody>\n",
       "    <tr>\n",
       "      <th>0</th>\n",
       "      <td>191578</td>\n",
       "      <td>301 - 32 Britain St</td>\n",
       "      <td>165.0</td>\n",
       "      <td>2900.0</td>\n",
       "      <td>Office</td>\n",
       "      <td>NaN</td>\n",
       "    </tr>\n",
       "    <tr>\n",
       "      <th>1</th>\n",
       "      <td>278433</td>\n",
       "      <td>404 - 32 Britain St</td>\n",
       "      <td>165.0</td>\n",
       "      <td>3500.0</td>\n",
       "      <td>Office</td>\n",
       "      <td>NaN</td>\n",
       "    </tr>\n",
       "    <tr>\n",
       "      <th>2</th>\n",
       "      <td>184289</td>\n",
       "      <td>403 - 32 Britain St</td>\n",
       "      <td>260.0</td>\n",
       "      <td>6000.0</td>\n",
       "      <td>Office</td>\n",
       "      <td>NaN</td>\n",
       "    </tr>\n",
       "    <tr>\n",
       "      <th>3</th>\n",
       "      <td>319350</td>\n",
       "      <td>401 - 32 Britain St</td>\n",
       "      <td>350.0</td>\n",
       "      <td>6600.0</td>\n",
       "      <td>Office</td>\n",
       "      <td>NaN</td>\n",
       "    </tr>\n",
       "    <tr>\n",
       "      <th>4</th>\n",
       "      <td>284426</td>\n",
       "      <td>For Rent  - 26 Duncan St</td>\n",
       "      <td>1200.0</td>\n",
       "      <td>8300.0</td>\n",
       "      <td>Office</td>\n",
       "      <td>NaN</td>\n",
       "    </tr>\n",
       "  </tbody>\n",
       "</table>\n",
       "</div>"
      ],
      "text/plain": [
       "       Id                   Address  Area sf  Rent/mo    Type geometry\n",
       "0  191578       301 - 32 Britain St    165.0   2900.0  Office      NaN\n",
       "1  278433       404 - 32 Britain St    165.0   3500.0  Office      NaN\n",
       "2  184289       403 - 32 Britain St    260.0   6000.0  Office      NaN\n",
       "3  319350       401 - 32 Britain St    350.0   6600.0  Office      NaN\n",
       "4  284426  For Rent  - 26 Duncan St   1200.0   8300.0  Office      NaN"
      ]
     },
     "execution_count": 261,
     "metadata": {},
     "output_type": "execute_result"
    }
   ],
   "source": [
    "retail_sl_df = pd.DataFrame(business_dict)\n",
    "retail_sl_df.head()"
   ]
  },
  {
   "cell_type": "code",
   "execution_count": 262,
   "metadata": {},
   "outputs": [
    {
     "name": "stdout",
     "output_type": "stream",
     "text": [
      "Number of unknown coordinates: 566\n"
     ]
    }
   ],
   "source": [
    "n_unk_coord = retail_sl_df.loc[retail_sl_df['geometry'].isnull()].shape[0]\n",
    "print('Number of unknown coordinates:', n_unk_coord)"
   ]
  },
  {
   "cell_type": "code",
   "execution_count": 263,
   "metadata": {},
   "outputs": [],
   "source": [
    "retail_sl_df['Address'] = retail_sl_df.loc[:, ('Address')].apply(\n",
    "    lambda s: s.replace(\n",
    "        'For Rent - ', '').replace(\n",
    "        'For Rent  - ', '').replace(\n",
    "        'COWORKING DEDICATED - ', '').replace(\n",
    "        ' COWORKING DEDICATED - ', '').replace(\n",
    "        'COWORKING NOT RESERVED - ', '').replace(\n",
    "        ' COWORKING NOT RESERVED - ', ''))\n",
    "retail_sl_df['Main Address'] = retail_sl_df.loc[:, ('Address')].apply(\n",
    "    lambda s: s.split('-')[-1].lstrip() if ('-' in s and 'HWY' not in s) else ('-'.join(s.split('-')[-2:]).lstrip() if 'HWY' in s else s))"
   ]
  },
  {
   "cell_type": "code",
   "execution_count": 264,
   "metadata": {},
   "outputs": [],
   "source": [
    "na_address = np.unique(retail_sl_df.loc[retail_sl_df['geometry'].isnull()]['Main Address'])\n",
    "\n",
    "coord_dict = {'Main Address': [], 'geometry': []}\n",
    "geolocator = Nominatim(user_agent='web_scraper')\n",
    "for addr in na_address:\n",
    "    try:\n",
    "        location = geolocator.geocode(addr + ' Toronto', timeout=10)\n",
    "    except Exception as e:\n",
    "        print(addr, e)\n",
    "        continue\n",
    "    try:\n",
    "        addr_point = Point(location.longitude, location.latitude)\n",
    "    except Exception as e:\n",
    "        print(addr, e)\n",
    "        continue\n",
    "    coord_dict['geometry'].append(addr_point)\n",
    "    coord_dict['Main Address'].append(addr)"
   ]
  },
  {
   "cell_type": "code",
   "execution_count": 265,
   "metadata": {},
   "outputs": [
    {
     "name": "stdout",
     "output_type": "stream",
     "text": [
      "Number of unknown coordinates: 0\n"
     ]
    }
   ],
   "source": [
    "geo_addr_gdf = gpd.GeoDataFrame(pd.DataFrame.from_dict(coord_dict))\n",
    "\n",
    "retail_sl_df = retail_sl_df.merge(geo_addr_gdf, how='left', on='Main Address')\n",
    "retail_sl_df.loc[retail_sl_df['geometry_x'].isnull(), 'geometry_x'] = retail_sl_df.loc[\n",
    "    ~retail_sl_df['geometry_y'].isnull(), 'geometry_y']\n",
    "retail_sl_df.drop('geometry_y', axis=1, inplace=True)\n",
    "retail_sl_df.rename(columns={'geometry_x': 'geometry'}, inplace=True)\n",
    "\n",
    "n_unk_coord = retail_sl_df.loc[retail_sl_df['geometry'].isnull()].shape[0]\n",
    "print('Number of unknown coordinates:', n_unk_coord)"
   ]
  },
  {
   "cell_type": "code",
   "execution_count": 266,
   "metadata": {},
   "outputs": [
    {
     "name": "stdout",
     "output_type": "stream",
     "text": [
      "Number of spaces scraped: 171 \n",
      "\n",
      "Number of spaces ignored: 135\n"
     ]
    }
   ],
   "source": [
    "n_pages = 15\n",
    "n_ignored = 0\n",
    "\n",
    "business_dict_p2h = {'Id': [], 'Address': [], 'Area sf': [], 'Rent/mo': [], 'Type': [], 'geometry': []}\n",
    "for page in range(1, n_pages + 1):\n",
    "    url = 'https://www.point2homes.com/CA/Commercial-Properties-For-Lease.html?location=Toronto%2C+ON&PriceMin=0&PriceMax=1%2C000%2C000&search_mode=location&geopicker_output=853998%2C854002%2C854003%2C854008%2C854009%2C854010%2C854011%2C855493%2C855558%2C855562%2C855563&geopicker_type=nhood&geopicker_output_full=853998%7CEast+York%7COntario%2C854002%7CUptown+Toronto%7COntario%2C854003%7CYork%7COntario%2C854008%7CWest+End+Toronto%7COntario%2C854009%7CMidtown+Toronto%7COntario%2C854010%7CDowntown+Toronto%7COntario%2C854011%7CEast+End+Toronto%7COntario%2C855493%7CCaribou+Park%7CNorth+York%2C855558%7CGlen+Park%7CNorth+York%2C855562%7CLedbury+Park%7CNorth+York%2C855563%7CLawrence+Manor%7CNorth+York&page={}&SelectedView=listings&LocationGeoId=783094&viewport=-79.46408975087829%2C43.659463577335885%2C-79.35886132680602%2C43.76728718084169&zoom=13&location_changed=&ajax=1'.format(page)\n",
    "    retail_container_p2h = GetRetailContainer(url, 'div', {'class': 'item-cnt clearfix'})\n",
    "\n",
    "    if retail_container_p2h != []:\n",
    "        for retail in retail_container_p2h:\n",
    "            id_value = retail['id']\n",
    "            \n",
    "            # the lot size can be in acres, square feet, or it isn't listed\n",
    "            # if it isn't listed then ignore the retail and continue the loop\n",
    "            if retail.find('li', {'data-label': 'Lot Size'}) is None:\n",
    "                if retail.find('li', {'data-label': 'Sqft'}) is None:\n",
    "                    n_ignored += 1\n",
    "                    continue\n",
    "                else:\n",
    "                    area_value = float(\n",
    "                        re.findall(\n",
    "                            '\\d+(?:,\\d+)?', \n",
    "                            retail.find('li', {'data-label': 'Sqft'}).text\n",
    "                        )[0].replace(',', '')\n",
    "                    )\n",
    "            else:\n",
    "                # convert acre to square feet\n",
    "\n",
    "                area_value = float(\n",
    "                    re.findall(\n",
    "                        '\\d+(?:.\\d+)?',\n",
    "                        retail.find('li', {'data-label': 'Lot Size'}).text\n",
    "                    )[0]\n",
    "                ) * 43560\n",
    "            \n",
    "            # if the rent is not given as a per month value, ignore it and continue the loop\n",
    "            # the reason being that sometimes multiple spaces are listed with different rents in a\n",
    "            # single listing, and the individual area and rent of each space is either not listed\n",
    "            # or it's listed in paragraph form in a description field\n",
    "            try:\n",
    "                rent_value_month = float(\n",
    "                    re.findall(\n",
    "                        '\\d+\\,\\d+', \n",
    "                        retail.find('div', {'class': 'price has-rental-term'})['data-price']\n",
    "                    )[0].replace(',', '')\n",
    "                )\n",
    "            except:\n",
    "                n_ignored += 1\n",
    "                continue\n",
    "            \n",
    "            # it makes no sense that the rent would be $0 so ignore these ones\n",
    "            if rent_value_month == 0:\n",
    "                n_ignored += 1\n",
    "                continue\n",
    "            \n",
    "            type_value = retail.find('li', {'class': 'property-type ic-proptype'}).text\n",
    "            type_value = ''.join(e for e in type_value if e.isalnum())\n",
    "\n",
    "            input_list = retail.find_all('input')\n",
    "            address_value = input_list[0]['value'].split(',')[0]\n",
    "            lat_value = float(input_list[1]['value'])\n",
    "            lng_value = float(input_list[2]['value'])\n",
    "            coord_value = Point(lng_value, lat_value)\n",
    "            \n",
    "            business_dict_p2h['Id'].append(id_value)\n",
    "            business_dict_p2h['Address'].append(address_value)\n",
    "            business_dict_p2h['Area sf'].append(area_value)\n",
    "            business_dict_p2h['Rent/mo'].append(rent_value_month)\n",
    "            business_dict_p2h['Type'].append(type_value)\n",
    "            business_dict_p2h['geometry'].append(coord_value)\n",
    "    else:\n",
    "        break\n",
    "        \n",
    "print('Number of spaces scraped:', len(business_dict_p2h['Id']), '\\n')\n",
    "print('Number of spaces ignored:', n_ignored)"
   ]
  },
  {
   "cell_type": "code",
   "execution_count": 267,
   "metadata": {},
   "outputs": [
    {
     "data": {
      "text/html": [
       "<div>\n",
       "<style scoped>\n",
       "    .dataframe tbody tr th:only-of-type {\n",
       "        vertical-align: middle;\n",
       "    }\n",
       "\n",
       "    .dataframe tbody tr th {\n",
       "        vertical-align: top;\n",
       "    }\n",
       "\n",
       "    .dataframe thead th {\n",
       "        text-align: right;\n",
       "    }\n",
       "</style>\n",
       "<table border=\"1\" class=\"dataframe\">\n",
       "  <thead>\n",
       "    <tr style=\"text-align: right;\">\n",
       "      <th></th>\n",
       "      <th>Id</th>\n",
       "      <th>Address</th>\n",
       "      <th>Area sf</th>\n",
       "      <th>Rent/mo</th>\n",
       "      <th>Type</th>\n",
       "      <th>geometry</th>\n",
       "    </tr>\n",
       "  </thead>\n",
       "  <tbody>\n",
       "    <tr>\n",
       "      <th>0</th>\n",
       "      <td>l_96666810</td>\n",
       "      <td>360 COLLEGE  ST 301</td>\n",
       "      <td>832.0</td>\n",
       "      <td>2250.0</td>\n",
       "      <td>Office</td>\n",
       "      <td>POINT (-79.40447 43.65734)</td>\n",
       "    </tr>\n",
       "    <tr>\n",
       "      <th>1</th>\n",
       "      <td>l_96666845</td>\n",
       "      <td>957 BROADVIEW AVE</td>\n",
       "      <td>1500.0</td>\n",
       "      <td>10500.0</td>\n",
       "      <td>Retail</td>\n",
       "      <td>POINT (-79.35709 43.68257)</td>\n",
       "    </tr>\n",
       "    <tr>\n",
       "      <th>2</th>\n",
       "      <td>l_91973185</td>\n",
       "      <td>75 Nassau St</td>\n",
       "      <td>1262.0</td>\n",
       "      <td>6000.0</td>\n",
       "      <td>Commercial</td>\n",
       "      <td>POINT (-79.40289 43.65495)</td>\n",
       "    </tr>\n",
       "    <tr>\n",
       "      <th>3</th>\n",
       "      <td>l_92817532</td>\n",
       "      <td>452 Queen St West</td>\n",
       "      <td>1100.0</td>\n",
       "      <td>8000.0</td>\n",
       "      <td>Commercial</td>\n",
       "      <td>POINT (-79.39940 43.64831)</td>\n",
       "    </tr>\n",
       "    <tr>\n",
       "      <th>4</th>\n",
       "      <td>l_92496157</td>\n",
       "      <td>634 Queen St W</td>\n",
       "      <td>1100.0</td>\n",
       "      <td>5000.0</td>\n",
       "      <td>Commercial</td>\n",
       "      <td>POINT (-79.40593 43.64697)</td>\n",
       "    </tr>\n",
       "  </tbody>\n",
       "</table>\n",
       "</div>"
      ],
      "text/plain": [
       "           Id              Address  Area sf  Rent/mo        Type  \\\n",
       "0  l_96666810  360 COLLEGE  ST 301    832.0   2250.0      Office   \n",
       "1  l_96666845    957 BROADVIEW AVE   1500.0  10500.0      Retail   \n",
       "2  l_91973185         75 Nassau St   1262.0   6000.0  Commercial   \n",
       "3  l_92817532    452 Queen St West   1100.0   8000.0  Commercial   \n",
       "4  l_92496157       634 Queen St W   1100.0   5000.0  Commercial   \n",
       "\n",
       "                     geometry  \n",
       "0  POINT (-79.40447 43.65734)  \n",
       "1  POINT (-79.35709 43.68257)  \n",
       "2  POINT (-79.40289 43.65495)  \n",
       "3  POINT (-79.39940 43.64831)  \n",
       "4  POINT (-79.40593 43.64697)  "
      ]
     },
     "execution_count": 267,
     "metadata": {},
     "output_type": "execute_result"
    }
   ],
   "source": [
    "retail_p2h_gdf = gpd.GeoDataFrame(pd.DataFrame(business_dict_p2h))\n",
    "retail_p2h_gdf.head()"
   ]
  },
  {
   "cell_type": "code",
   "execution_count": 268,
   "metadata": {},
   "outputs": [
    {
     "data": {
      "text/html": [
       "<div>\n",
       "<style scoped>\n",
       "    .dataframe tbody tr th:only-of-type {\n",
       "        vertical-align: middle;\n",
       "    }\n",
       "\n",
       "    .dataframe tbody tr th {\n",
       "        vertical-align: top;\n",
       "    }\n",
       "\n",
       "    .dataframe thead th {\n",
       "        text-align: right;\n",
       "    }\n",
       "</style>\n",
       "<table border=\"1\" class=\"dataframe\">\n",
       "  <thead>\n",
       "    <tr style=\"text-align: right;\">\n",
       "      <th></th>\n",
       "      <th>Id</th>\n",
       "      <th>Address</th>\n",
       "      <th>Area sf</th>\n",
       "      <th>Rent/mo</th>\n",
       "      <th>Type</th>\n",
       "      <th>geometry</th>\n",
       "      <th>Main Address</th>\n",
       "    </tr>\n",
       "  </thead>\n",
       "  <tbody>\n",
       "    <tr>\n",
       "      <th>0</th>\n",
       "      <td>191578</td>\n",
       "      <td>301 - 32 Britain St</td>\n",
       "      <td>165.0</td>\n",
       "      <td>2900.0</td>\n",
       "      <td>Office</td>\n",
       "      <td>POINT (-79.37050 43.65389)</td>\n",
       "      <td>32 Britain St</td>\n",
       "    </tr>\n",
       "    <tr>\n",
       "      <th>1</th>\n",
       "      <td>278433</td>\n",
       "      <td>404 - 32 Britain St</td>\n",
       "      <td>165.0</td>\n",
       "      <td>3500.0</td>\n",
       "      <td>Office</td>\n",
       "      <td>POINT (-79.37050 43.65389)</td>\n",
       "      <td>32 Britain St</td>\n",
       "    </tr>\n",
       "    <tr>\n",
       "      <th>2</th>\n",
       "      <td>184289</td>\n",
       "      <td>403 - 32 Britain St</td>\n",
       "      <td>260.0</td>\n",
       "      <td>6000.0</td>\n",
       "      <td>Office</td>\n",
       "      <td>POINT (-79.37050 43.65389)</td>\n",
       "      <td>32 Britain St</td>\n",
       "    </tr>\n",
       "    <tr>\n",
       "      <th>3</th>\n",
       "      <td>319350</td>\n",
       "      <td>401 - 32 Britain St</td>\n",
       "      <td>350.0</td>\n",
       "      <td>6600.0</td>\n",
       "      <td>Office</td>\n",
       "      <td>POINT (-79.37050 43.65389)</td>\n",
       "      <td>32 Britain St</td>\n",
       "    </tr>\n",
       "    <tr>\n",
       "      <th>4</th>\n",
       "      <td>284426</td>\n",
       "      <td>26 Duncan St</td>\n",
       "      <td>1200.0</td>\n",
       "      <td>8300.0</td>\n",
       "      <td>Office</td>\n",
       "      <td>POINT (-79.38911 43.64859)</td>\n",
       "      <td>26 Duncan St</td>\n",
       "    </tr>\n",
       "  </tbody>\n",
       "</table>\n",
       "</div>"
      ],
      "text/plain": [
       "       Id              Address  Area sf  Rent/mo    Type  \\\n",
       "0  191578  301 - 32 Britain St    165.0   2900.0  Office   \n",
       "1  278433  404 - 32 Britain St    165.0   3500.0  Office   \n",
       "2  184289  403 - 32 Britain St    260.0   6000.0  Office   \n",
       "3  319350  401 - 32 Britain St    350.0   6600.0  Office   \n",
       "4  284426         26 Duncan St   1200.0   8300.0  Office   \n",
       "\n",
       "                     geometry   Main Address  \n",
       "0  POINT (-79.37050 43.65389)  32 Britain St  \n",
       "1  POINT (-79.37050 43.65389)  32 Britain St  \n",
       "2  POINT (-79.37050 43.65389)  32 Britain St  \n",
       "3  POINT (-79.37050 43.65389)  32 Britain St  \n",
       "4  POINT (-79.38911 43.64859)   26 Duncan St  "
      ]
     },
     "execution_count": 268,
     "metadata": {},
     "output_type": "execute_result"
    }
   ],
   "source": [
    "retail_gdf = gpd.GeoDataFrame(pd.concat([retail_sl_df, retail_p2h_gdf], ignore_index=True))\n",
    "retail_gdf.head()"
   ]
  },
  {
   "cell_type": "code",
   "execution_count": 269,
   "metadata": {},
   "outputs": [
    {
     "data": {
      "text/plain": [
       "(813, 7)"
      ]
     },
     "execution_count": 269,
     "metadata": {},
     "output_type": "execute_result"
    }
   ],
   "source": [
    "retail_gdf.shape"
   ]
  },
  {
   "cell_type": "code",
   "execution_count": 270,
   "metadata": {},
   "outputs": [],
   "source": [
    "# create columns for unique address IDs regardless of the source and format of the address\n",
    "retail_gdf['Address ID'] = retail_gdf['Address'].apply(lambda s: ''.join(sorted(str.upper(s.replace('-', '').replace(' ', '')))))\n",
    "retail_gdf['ID length'] = retail_gdf['Id'].apply(len)"
   ]
  },
  {
   "cell_type": "code",
   "execution_count": 271,
   "metadata": {},
   "outputs": [
    {
     "name": "stdout",
     "output_type": "stream",
     "text": [
      "(813, 9)\n",
      "(796, 9)\n",
      "(769, 9)\n",
      "(768, 9)\n"
     ]
    }
   ],
   "source": [
    "# deal with duplicates\n",
    "print(retail_gdf.shape)\n",
    "retail_gdf.drop_duplicates(subset=['Address ID', 'Area sf', 'Rent/mo'], inplace=True)\n",
    "print(retail_gdf.shape)\n",
    "retail_gdf.drop_duplicates(subset=['Address ID', 'ID length'], inplace=True)\n",
    "print(retail_gdf.shape)\n",
    "retail_gdf.drop_duplicates(subset=['Address ID'], inplace=True)\n",
    "print(retail_gdf.shape)"
   ]
  },
  {
   "cell_type": "code",
   "execution_count": 272,
   "metadata": {},
   "outputs": [
    {
     "data": {
      "text/html": [
       "<div>\n",
       "<style scoped>\n",
       "    .dataframe tbody tr th:only-of-type {\n",
       "        vertical-align: middle;\n",
       "    }\n",
       "\n",
       "    .dataframe tbody tr th {\n",
       "        vertical-align: top;\n",
       "    }\n",
       "\n",
       "    .dataframe thead th {\n",
       "        text-align: right;\n",
       "    }\n",
       "</style>\n",
       "<table border=\"1\" class=\"dataframe\">\n",
       "  <thead>\n",
       "    <tr style=\"text-align: right;\">\n",
       "      <th></th>\n",
       "      <th>Id</th>\n",
       "      <th>Address</th>\n",
       "      <th>Area sf</th>\n",
       "      <th>Rent/mo</th>\n",
       "      <th>Type</th>\n",
       "      <th>geometry</th>\n",
       "      <th>Main Address</th>\n",
       "    </tr>\n",
       "  </thead>\n",
       "  <tbody>\n",
       "    <tr>\n",
       "      <th>0</th>\n",
       "      <td>191578</td>\n",
       "      <td>301 - 32 Britain St</td>\n",
       "      <td>165.0</td>\n",
       "      <td>2900.0</td>\n",
       "      <td>Office</td>\n",
       "      <td>POINT (-79.37050 43.65389)</td>\n",
       "      <td>32 Britain St</td>\n",
       "    </tr>\n",
       "    <tr>\n",
       "      <th>1</th>\n",
       "      <td>278433</td>\n",
       "      <td>404 - 32 Britain St</td>\n",
       "      <td>165.0</td>\n",
       "      <td>3500.0</td>\n",
       "      <td>Office</td>\n",
       "      <td>POINT (-79.37050 43.65389)</td>\n",
       "      <td>32 Britain St</td>\n",
       "    </tr>\n",
       "    <tr>\n",
       "      <th>2</th>\n",
       "      <td>184289</td>\n",
       "      <td>403 - 32 Britain St</td>\n",
       "      <td>260.0</td>\n",
       "      <td>6000.0</td>\n",
       "      <td>Office</td>\n",
       "      <td>POINT (-79.37050 43.65389)</td>\n",
       "      <td>32 Britain St</td>\n",
       "    </tr>\n",
       "    <tr>\n",
       "      <th>3</th>\n",
       "      <td>319350</td>\n",
       "      <td>401 - 32 Britain St</td>\n",
       "      <td>350.0</td>\n",
       "      <td>6600.0</td>\n",
       "      <td>Office</td>\n",
       "      <td>POINT (-79.37050 43.65389)</td>\n",
       "      <td>32 Britain St</td>\n",
       "    </tr>\n",
       "    <tr>\n",
       "      <th>4</th>\n",
       "      <td>284426</td>\n",
       "      <td>26 Duncan St</td>\n",
       "      <td>1200.0</td>\n",
       "      <td>8300.0</td>\n",
       "      <td>Office</td>\n",
       "      <td>POINT (-79.38911 43.64859)</td>\n",
       "      <td>26 Duncan St</td>\n",
       "    </tr>\n",
       "  </tbody>\n",
       "</table>\n",
       "</div>"
      ],
      "text/plain": [
       "       Id              Address  Area sf  Rent/mo    Type  \\\n",
       "0  191578  301 - 32 Britain St    165.0   2900.0  Office   \n",
       "1  278433  404 - 32 Britain St    165.0   3500.0  Office   \n",
       "2  184289  403 - 32 Britain St    260.0   6000.0  Office   \n",
       "3  319350  401 - 32 Britain St    350.0   6600.0  Office   \n",
       "4  284426         26 Duncan St   1200.0   8300.0  Office   \n",
       "\n",
       "                     geometry   Main Address  \n",
       "0  POINT (-79.37050 43.65389)  32 Britain St  \n",
       "1  POINT (-79.37050 43.65389)  32 Britain St  \n",
       "2  POINT (-79.37050 43.65389)  32 Britain St  \n",
       "3  POINT (-79.37050 43.65389)  32 Britain St  \n",
       "4  POINT (-79.38911 43.64859)   26 Duncan St  "
      ]
     },
     "execution_count": 272,
     "metadata": {},
     "output_type": "execute_result"
    }
   ],
   "source": [
    "retail_gdf.drop(['Address ID', 'ID length'], axis=1, inplace=True)\n",
    "retail_gdf.reset_index(drop=True, inplace=True)\n",
    "retail_gdf.head()"
   ]
  },
  {
   "cell_type": "code",
   "execution_count": 273,
   "metadata": {},
   "outputs": [],
   "source": [
    "retail_gdf.to_file('rent_toronto.geojson', drive='GeoJSON', encoding='utf-8')"
   ]
  },
  {
   "cell_type": "markdown",
   "metadata": {},
   "source": [
    "Now that we have merged the data from both sites, let's see if there are any missing values."
   ]
  },
  {
   "cell_type": "code",
   "execution_count": 274,
   "metadata": {},
   "outputs": [
    {
     "data": {
      "text/plain": [
       "Index(['Main Address'], dtype='object')"
      ]
     },
     "execution_count": 274,
     "metadata": {},
     "output_type": "execute_result"
    }
   ],
   "source": [
    "retail_gdf.loc[:, retail_gdf.isnull().any()].columns"
   ]
  },
  {
   "cell_type": "markdown",
   "metadata": {},
   "source": [
    "We see that there are missing values in the 'Main Address' column. If an entry has a missing value for 'Main Address' but has a value for 'geometry', we'll keep it. The reason being that for our analysis, we only need the coordinates of each space."
   ]
  },
  {
   "cell_type": "code",
   "execution_count": 275,
   "metadata": {},
   "outputs": [
    {
     "name": "stdout",
     "output_type": "stream",
     "text": [
      "Are all 'geometry' values present when the 'Main Address' is missing? True\n"
     ]
    }
   ],
   "source": [
    "print(\"Are all 'geometry' values present when the 'Main Address' is missing?\", \n",
    "      not retail_gdf[retail_gdf['Main Address'].isnull()]['geometry'].isnull().any())"
   ]
  },
  {
   "cell_type": "markdown",
   "metadata": {},
   "source": [
    "Since the value for 'geometry' was present in every case where 'Main Address' is missing, we don't have to remove any of the entries. Now that we have dealt with missing values, let's look at the counts of the unique space types to see if we need to merge some of them."
   ]
  },
  {
   "cell_type": "code",
   "execution_count": 278,
   "metadata": {},
   "outputs": [
    {
     "data": {
      "text/plain": [
       "Office                          518\n",
       "Retail                           93\n",
       "Commercial                       80\n",
       "Industrial                       18\n",
       "Office / Retail / Industrial      9\n",
       "Office / Retail                   9\n",
       "Office / Retail / Medical         9\n",
       "Office / Other                    6\n",
       "Medical                           6\n",
       "Office / Medical                  5\n",
       "Office / Industrial               3\n",
       "Retail / Industrial               2\n",
       "Office / Retail / Other           2\n",
       "Office / Medical / Other          2\n",
       "Retail / Medical                  1\n",
       "Office / Retail / Land            1\n",
       "Industrial / Other                1\n",
       "Office / Industrial / Other       1\n",
       "Business                          1\n",
       "Other                             1\n",
       "Name: Type, dtype: int64"
      ]
     },
     "execution_count": 278,
     "metadata": {},
     "output_type": "execute_result"
    }
   ],
   "source": [
    "retail_gdf['Type'].value_counts()"
   ]
  },
  {
   "cell_type": "markdown",
   "metadata": {},
   "source": [
    "Some types don't have many occurrences in the table.To fix this, any type that includes 'Medical', 'Industrial', or 'Retail' will be assigned to the 'Medical', 'Industrial', and 'Retail' types, respectively. The remaining types, except for 'Office' and 'Commercial', will be removed."
   ]
  },
  {
   "cell_type": "code",
   "execution_count": 279,
   "metadata": {},
   "outputs": [],
   "source": [
    "retail_gdf.loc[retail_gdf['Type'].str.contains('Medical'), 'Type'] = 'Medical'\n",
    "retail_gdf.loc[retail_gdf['Type'].str.contains('Industrial'), 'Type'] = 'Industrial'\n",
    "retail_gdf.loc[retail_gdf['Type'].str.contains('Retail'), 'Type'] = 'Retail'"
   ]
  },
  {
   "cell_type": "code",
   "execution_count": 280,
   "metadata": {},
   "outputs": [
    {
     "name": "stdout",
     "output_type": "stream",
     "text": [
      "Number of rows removed:  8 \n",
      "\n"
     ]
    }
   ],
   "source": [
    "n_rows = retail_gdf.shape[0]\n",
    "\n",
    "types_to_keep = ['Office', 'Medical', 'Industrial', 'Retail', 'Commercial']\n",
    "retail_gdf = retail_gdf.loc[retail_gdf['Type'].isin(types_to_keep)]\n",
    "\n",
    "print('Number of rows removed: ', n_rows - retail_gdf.shape[0], '\\n')"
   ]
  },
  {
   "cell_type": "code",
   "execution_count": 281,
   "metadata": {},
   "outputs": [
    {
     "data": {
      "text/plain": [
       "Office        518\n",
       "Retail        105\n",
       "Commercial     80\n",
       "Industrial     34\n",
       "Medical        23\n",
       "Name: Type, dtype: int64"
      ]
     },
     "execution_count": 281,
     "metadata": {},
     "output_type": "execute_result"
    }
   ],
   "source": [
    "retail_gdf['Type'].value_counts()"
   ]
  },
  {
   "cell_type": "markdown",
   "metadata": {},
   "source": [
    "The 'Medical' type doesn't have too many entries and was mostly paired with the 'Office' type, so we'll merge them."
   ]
  },
  {
   "cell_type": "code",
   "execution_count": 282,
   "metadata": {},
   "outputs": [
    {
     "data": {
      "text/plain": [
       "Office        541\n",
       "Retail        105\n",
       "Commercial     80\n",
       "Industrial     34\n",
       "Name: Type, dtype: int64"
      ]
     },
     "execution_count": 282,
     "metadata": {},
     "output_type": "execute_result"
    }
   ],
   "source": [
    "retail_gdf.loc[retail_gdf['Type'] == 'Medical', 'Type'] = 'Office'\n",
    "retail_gdf['Type'].value_counts()"
   ]
  },
  {
   "cell_type": "markdown",
   "metadata": {},
   "source": [
    "Now we only have the types we want to use moving forward. Let's add the latitude and longitude values for each space, as well as the rent per month per squarefoot."
   ]
  },
  {
   "cell_type": "code",
   "execution_count": 284,
   "metadata": {},
   "outputs": [],
   "source": [
    "retail_gdf.set_index('Id', inplace=True)\n",
    "retail_gdf.loc[:, 'latitude'] = retail_gdf.geometry.y\n",
    "retail_gdf.loc[:, 'longitude'] = retail_gdf.geometry.x\n",
    "retail_gdf['Rent/mo/sf'] = retail_gdf.loc[:, ('Rent/mo')] / retail_gdf.loc[:, ('Area sf')]"
   ]
  },
  {
   "cell_type": "markdown",
   "metadata": {},
   "source": [
    "Let's see the descriptive statistics of the data, and determine if there is more cleaning to do."
   ]
  },
  {
   "cell_type": "code",
   "execution_count": 285,
   "metadata": {
    "scrolled": true
   },
   "outputs": [
    {
     "data": {
      "text/html": [
       "<div>\n",
       "<style scoped>\n",
       "    .dataframe tbody tr th:only-of-type {\n",
       "        vertical-align: middle;\n",
       "    }\n",
       "\n",
       "    .dataframe tbody tr th {\n",
       "        vertical-align: top;\n",
       "    }\n",
       "\n",
       "    .dataframe thead th {\n",
       "        text-align: right;\n",
       "    }\n",
       "</style>\n",
       "<table border=\"1\" class=\"dataframe\">\n",
       "  <thead>\n",
       "    <tr style=\"text-align: right;\">\n",
       "      <th></th>\n",
       "      <th>Area sf</th>\n",
       "      <th>Rent/mo</th>\n",
       "      <th>latitude</th>\n",
       "      <th>longitude</th>\n",
       "      <th>Rent/mo/sf</th>\n",
       "    </tr>\n",
       "  </thead>\n",
       "  <tbody>\n",
       "    <tr>\n",
       "      <th>count</th>\n",
       "      <td>760.000000</td>\n",
       "      <td>760.000000</td>\n",
       "      <td>760.000000</td>\n",
       "      <td>760.000000</td>\n",
       "      <td>760.000000</td>\n",
       "    </tr>\n",
       "    <tr>\n",
       "      <th>mean</th>\n",
       "      <td>1656.563105</td>\n",
       "      <td>5088.057895</td>\n",
       "      <td>43.667567</td>\n",
       "      <td>-79.446216</td>\n",
       "      <td>6.019734</td>\n",
       "    </tr>\n",
       "    <tr>\n",
       "      <th>std</th>\n",
       "      <td>3701.757647</td>\n",
       "      <td>9116.439958</td>\n",
       "      <td>0.369678</td>\n",
       "      <td>1.391943</td>\n",
       "      <td>6.063971</td>\n",
       "    </tr>\n",
       "    <tr>\n",
       "      <th>min</th>\n",
       "      <td>25.000000</td>\n",
       "      <td>100.000000</td>\n",
       "      <td>33.573128</td>\n",
       "      <td>-117.735531</td>\n",
       "      <td>0.003267</td>\n",
       "    </tr>\n",
       "    <tr>\n",
       "      <th>25%</th>\n",
       "      <td>218.750000</td>\n",
       "      <td>1560.000000</td>\n",
       "      <td>43.648401</td>\n",
       "      <td>-79.423307</td>\n",
       "      <td>2.583248</td>\n",
       "    </tr>\n",
       "    <tr>\n",
       "      <th>50%</th>\n",
       "      <td>914.760000</td>\n",
       "      <td>3351.500000</td>\n",
       "      <td>43.662657</td>\n",
       "      <td>-79.392356</td>\n",
       "      <td>4.000000</td>\n",
       "    </tr>\n",
       "    <tr>\n",
       "      <th>75%</th>\n",
       "      <td>1800.000000</td>\n",
       "      <td>5684.000000</td>\n",
       "      <td>43.705623</td>\n",
       "      <td>-79.375807</td>\n",
       "      <td>8.080000</td>\n",
       "    </tr>\n",
       "    <tr>\n",
       "      <th>max</th>\n",
       "      <td>71705.000000</td>\n",
       "      <td>194891.000000</td>\n",
       "      <td>43.878457</td>\n",
       "      <td>-79.197990</td>\n",
       "      <td>83.600000</td>\n",
       "    </tr>\n",
       "  </tbody>\n",
       "</table>\n",
       "</div>"
      ],
      "text/plain": [
       "            Area sf        Rent/mo    latitude   longitude  Rent/mo/sf\n",
       "count    760.000000     760.000000  760.000000  760.000000  760.000000\n",
       "mean    1656.563105    5088.057895   43.667567  -79.446216    6.019734\n",
       "std     3701.757647    9116.439958    0.369678    1.391943    6.063971\n",
       "min       25.000000     100.000000   33.573128 -117.735531    0.003267\n",
       "25%      218.750000    1560.000000   43.648401  -79.423307    2.583248\n",
       "50%      914.760000    3351.500000   43.662657  -79.392356    4.000000\n",
       "75%     1800.000000    5684.000000   43.705623  -79.375807    8.080000\n",
       "max    71705.000000  194891.000000   43.878457  -79.197990   83.600000"
      ]
     },
     "execution_count": 285,
     "metadata": {},
     "output_type": "execute_result"
    }
   ],
   "source": [
    "retail_gdf.describe()"
   ]
  },
  {
   "cell_type": "markdown",
   "metadata": {},
   "source": [
    "The minimum latitude and longitude values don't make sense for a place located in Toronto. This is probably due to the geolocator choosing the wrong coordinates for the given address. Let's take a look."
   ]
  },
  {
   "cell_type": "code",
   "execution_count": 286,
   "metadata": {},
   "outputs": [
    {
     "data": {
      "text/html": [
       "<div>\n",
       "<style scoped>\n",
       "    .dataframe tbody tr th:only-of-type {\n",
       "        vertical-align: middle;\n",
       "    }\n",
       "\n",
       "    .dataframe tbody tr th {\n",
       "        vertical-align: top;\n",
       "    }\n",
       "\n",
       "    .dataframe thead th {\n",
       "        text-align: right;\n",
       "    }\n",
       "</style>\n",
       "<table border=\"1\" class=\"dataframe\">\n",
       "  <thead>\n",
       "    <tr style=\"text-align: right;\">\n",
       "      <th></th>\n",
       "      <th>Address</th>\n",
       "      <th>Area sf</th>\n",
       "      <th>Rent/mo</th>\n",
       "      <th>Type</th>\n",
       "      <th>geometry</th>\n",
       "      <th>Main Address</th>\n",
       "      <th>latitude</th>\n",
       "      <th>longitude</th>\n",
       "      <th>Rent/mo/sf</th>\n",
       "    </tr>\n",
       "    <tr>\n",
       "      <th>Id</th>\n",
       "      <th></th>\n",
       "      <th></th>\n",
       "      <th></th>\n",
       "      <th></th>\n",
       "      <th></th>\n",
       "      <th></th>\n",
       "      <th></th>\n",
       "      <th></th>\n",
       "      <th></th>\n",
       "    </tr>\n",
       "  </thead>\n",
       "  <tbody>\n",
       "    <tr>\n",
       "      <th>339908</th>\n",
       "      <td>2 - 240 Logan Avenue, Side door - unit 2</td>\n",
       "      <td>2200.0</td>\n",
       "      <td>3500.0</td>\n",
       "      <td>Office</td>\n",
       "      <td>POINT (-117.73553 33.57313)</td>\n",
       "      <td>unit 2</td>\n",
       "      <td>33.573128</td>\n",
       "      <td>-117.735531</td>\n",
       "      <td>1.590909</td>\n",
       "    </tr>\n",
       "    <tr>\n",
       "      <th>315199</th>\n",
       "      <td>204 - 146 Thirtieth St</td>\n",
       "      <td>850.0</td>\n",
       "      <td>850.0</td>\n",
       "      <td>Office</td>\n",
       "      <td>POINT (-79.53258 43.60100)</td>\n",
       "      <td>146 Thirtieth St</td>\n",
       "      <td>43.601001</td>\n",
       "      <td>-79.532582</td>\n",
       "      <td>1.000000</td>\n",
       "    </tr>\n",
       "    <tr>\n",
       "      <th>336756</th>\n",
       "      <td>157 Thirtieth Street</td>\n",
       "      <td>500.0</td>\n",
       "      <td>1799.0</td>\n",
       "      <td>Retail</td>\n",
       "      <td>POINT (-79.53222 43.60165)</td>\n",
       "      <td>157 Thirtieth Street</td>\n",
       "      <td>43.601653</td>\n",
       "      <td>-79.532220</td>\n",
       "      <td>3.598000</td>\n",
       "    </tr>\n",
       "    <tr>\n",
       "      <th>340531</th>\n",
       "      <td>433 Horner Avenue</td>\n",
       "      <td>3000.0</td>\n",
       "      <td>3500.0</td>\n",
       "      <td>Industrial</td>\n",
       "      <td>POINT (-79.53831 43.60311)</td>\n",
       "      <td>433 Horner Avenue</td>\n",
       "      <td>43.603107</td>\n",
       "      <td>-79.538309</td>\n",
       "      <td>1.166667</td>\n",
       "    </tr>\n",
       "    <tr>\n",
       "      <th>340532</th>\n",
       "      <td>236 Birmingham Street</td>\n",
       "      <td>3000.0</td>\n",
       "      <td>5500.0</td>\n",
       "      <td>Industrial</td>\n",
       "      <td>POINT (-79.50034 43.60458)</td>\n",
       "      <td>236 Birmingham Street</td>\n",
       "      <td>43.604578</td>\n",
       "      <td>-79.500345</td>\n",
       "      <td>1.833333</td>\n",
       "    </tr>\n",
       "  </tbody>\n",
       "</table>\n",
       "</div>"
      ],
      "text/plain": [
       "                                         Address  Area sf  Rent/mo  \\\n",
       "Id                                                                   \n",
       "339908  2 - 240 Logan Avenue, Side door - unit 2   2200.0   3500.0   \n",
       "315199                    204 - 146 Thirtieth St    850.0    850.0   \n",
       "336756                      157 Thirtieth Street    500.0   1799.0   \n",
       "340531                         433 Horner Avenue   3000.0   3500.0   \n",
       "340532                     236 Birmingham Street   3000.0   5500.0   \n",
       "\n",
       "              Type                     geometry           Main Address  \\\n",
       "Id                                                                       \n",
       "339908      Office  POINT (-117.73553 33.57313)                 unit 2   \n",
       "315199      Office   POINT (-79.53258 43.60100)       146 Thirtieth St   \n",
       "336756      Retail   POINT (-79.53222 43.60165)   157 Thirtieth Street   \n",
       "340531  Industrial   POINT (-79.53831 43.60311)      433 Horner Avenue   \n",
       "340532  Industrial   POINT (-79.50034 43.60458)  236 Birmingham Street   \n",
       "\n",
       "         latitude   longitude  Rent/mo/sf  \n",
       "Id                                         \n",
       "339908  33.573128 -117.735531    1.590909  \n",
       "315199  43.601001  -79.532582    1.000000  \n",
       "336756  43.601653  -79.532220    3.598000  \n",
       "340531  43.603107  -79.538309    1.166667  \n",
       "340532  43.604578  -79.500345    1.833333  "
      ]
     },
     "execution_count": 286,
     "metadata": {},
     "output_type": "execute_result"
    }
   ],
   "source": [
    "retail_gdf.sort_values(by='latitude').head()"
   ]
  },
  {
   "cell_type": "markdown",
   "metadata": {},
   "source": [
    "The coordinates of the first entry need to be fixed so I will do that manually by looking up the address and updating the coordinates."
   ]
  },
  {
   "cell_type": "code",
   "execution_count": 287,
   "metadata": {},
   "outputs": [
    {
     "data": {
      "text/plain": [
       "Address         2 - 240 Logan Avenue, Side door - unit 2\n",
       "Area sf                                             2200\n",
       "Rent/mo                                             3500\n",
       "Type                                              Office\n",
       "geometry                 POINT (-117.7355315 33.5731279)\n",
       "Main Address                                      unit 2\n",
       "latitude                                         43.6599\n",
       "longitude                                       -79.3448\n",
       "Rent/mo/sf                                       1.59091\n",
       "Name: 339908, dtype: object"
      ]
     },
     "execution_count": 287,
     "metadata": {},
     "output_type": "execute_result"
    }
   ],
   "source": [
    "retail_gdf.loc['339908', 'latitude'] = 43.6598691\n",
    "retail_gdf.loc['339908', 'longitude'] = -79.3447748\n",
    "retail_gdf.loc['339908']"
   ]
  },
  {
   "cell_type": "markdown",
   "metadata": {},
   "source": [
    "From the table of descriptive statistics, we also see a minimum rent value of \\\\$100 per month. This seems quite small so we'll investigate."
   ]
  },
  {
   "cell_type": "code",
   "execution_count": 288,
   "metadata": {},
   "outputs": [
    {
     "data": {
      "text/html": [
       "<div>\n",
       "<style scoped>\n",
       "    .dataframe tbody tr th:only-of-type {\n",
       "        vertical-align: middle;\n",
       "    }\n",
       "\n",
       "    .dataframe tbody tr th {\n",
       "        vertical-align: top;\n",
       "    }\n",
       "\n",
       "    .dataframe thead th {\n",
       "        text-align: right;\n",
       "    }\n",
       "</style>\n",
       "<table border=\"1\" class=\"dataframe\">\n",
       "  <thead>\n",
       "    <tr style=\"text-align: right;\">\n",
       "      <th></th>\n",
       "      <th>Address</th>\n",
       "      <th>Area sf</th>\n",
       "      <th>Rent/mo</th>\n",
       "      <th>Type</th>\n",
       "      <th>geometry</th>\n",
       "      <th>Main Address</th>\n",
       "      <th>latitude</th>\n",
       "      <th>longitude</th>\n",
       "      <th>Rent/mo/sf</th>\n",
       "    </tr>\n",
       "    <tr>\n",
       "      <th>Id</th>\n",
       "      <th></th>\n",
       "      <th></th>\n",
       "      <th></th>\n",
       "      <th></th>\n",
       "      <th></th>\n",
       "      <th></th>\n",
       "      <th></th>\n",
       "      <th></th>\n",
       "      <th></th>\n",
       "    </tr>\n",
       "  </thead>\n",
       "  <tbody>\n",
       "    <tr>\n",
       "      <th>291389</th>\n",
       "      <td>VO - 100 King St W</td>\n",
       "      <td>30605.0</td>\n",
       "      <td>100.0</td>\n",
       "      <td>Office</td>\n",
       "      <td>POINT (-79.38169 43.64877)</td>\n",
       "      <td>100 King St W</td>\n",
       "      <td>43.648768</td>\n",
       "      <td>-79.381692</td>\n",
       "      <td>0.003267</td>\n",
       "    </tr>\n",
       "    <tr>\n",
       "      <th>291555</th>\n",
       "      <td>Suite 2500 VO - 88 Queens Quay W</td>\n",
       "      <td>27270.0</td>\n",
       "      <td>100.0</td>\n",
       "      <td>Office</td>\n",
       "      <td>POINT (-79.37817 43.64095)</td>\n",
       "      <td>88 Queens Quay W</td>\n",
       "      <td>43.640948</td>\n",
       "      <td>-79.378169</td>\n",
       "      <td>0.003667</td>\n",
       "    </tr>\n",
       "    <tr>\n",
       "      <th>181119</th>\n",
       "      <td>300 - 2206 Eglinton Avenue East</td>\n",
       "      <td>24332.0</td>\n",
       "      <td>58456.0</td>\n",
       "      <td>Office</td>\n",
       "      <td>POINT (-79.27813 43.73013)</td>\n",
       "      <td>2206 Eglinton Avenue East</td>\n",
       "      <td>43.730128</td>\n",
       "      <td>-79.278129</td>\n",
       "      <td>2.402433</td>\n",
       "    </tr>\n",
       "    <tr>\n",
       "      <th>290020</th>\n",
       "      <td>VO - 41 Lesmill Rd</td>\n",
       "      <td>23387.0</td>\n",
       "      <td>194891.0</td>\n",
       "      <td>Office</td>\n",
       "      <td>POINT (-79.35414 43.75807)</td>\n",
       "      <td>41 Lesmill Rd</td>\n",
       "      <td>43.758070</td>\n",
       "      <td>-79.354141</td>\n",
       "      <td>8.333305</td>\n",
       "    </tr>\n",
       "  </tbody>\n",
       "</table>\n",
       "</div>"
      ],
      "text/plain": [
       "                                 Address  Area sf   Rent/mo    Type  \\\n",
       "Id                                                                    \n",
       "291389                VO - 100 King St W  30605.0     100.0  Office   \n",
       "291555  Suite 2500 VO - 88 Queens Quay W  27270.0     100.0  Office   \n",
       "181119   300 - 2206 Eglinton Avenue East  24332.0   58456.0  Office   \n",
       "290020                VO - 41 Lesmill Rd  23387.0  194891.0  Office   \n",
       "\n",
       "                          geometry               Main Address   latitude  \\\n",
       "Id                                                                         \n",
       "291389  POINT (-79.38169 43.64877)              100 King St W  43.648768   \n",
       "291555  POINT (-79.37817 43.64095)           88 Queens Quay W  43.640948   \n",
       "181119  POINT (-79.27813 43.73013)  2206 Eglinton Avenue East  43.730128   \n",
       "290020  POINT (-79.35414 43.75807)              41 Lesmill Rd  43.758070   \n",
       "\n",
       "        longitude  Rent/mo/sf  \n",
       "Id                             \n",
       "291389 -79.381692    0.003267  \n",
       "291555 -79.378169    0.003667  \n",
       "181119 -79.278129    2.402433  \n",
       "290020 -79.354141    8.333305  "
      ]
     },
     "execution_count": 288,
     "metadata": {},
     "output_type": "execute_result"
    }
   ],
   "source": [
    "retail_gdf.loc[(retail_gdf['Type'] == 'Office')].sort_values(by='Area sf', ascending=False).head(4)"
   ]
  },
  {
   "cell_type": "markdown",
   "metadata": {},
   "source": [
    "We see that two of the listings have a rent per month value of only \\\\$100. This value is unrealistic given the area of the spaces. Checking the listings on the website, they are actually listed as \\$100/month but this is only so people see those listings first when filtering by rent price. We will remove these entries to make sure they don't affect the analysis. The remaining ones check out fine when comparing them to their listings on the website, so we will keep them."
   ]
  },
  {
   "cell_type": "code",
   "execution_count": 289,
   "metadata": {},
   "outputs": [],
   "source": [
    "retail_gdf = retail_gdf.loc[~retail_gdf.index.isin(['291389', '291555'])]"
   ]
  },
  {
   "cell_type": "markdown",
   "metadata": {},
   "source": [
    "It is possible that there are other values with incorrect information. The rent per square foot should give us an idea of the entries with incorrect or misleading information. The average [asking rent price in Toronto](https://rentals.ca/national-rent-report) is around \\\\$3.5 per square foot. Let's look at the statistics of the spaces with a rent per square foot no greater than \\\\$3.5."
   ]
  },
  {
   "cell_type": "code",
   "execution_count": 290,
   "metadata": {
    "scrolled": true
   },
   "outputs": [
    {
     "data": {
      "text/plain": [
       "count    309.000000\n",
       "mean       2.328071\n",
       "std        0.754231\n",
       "min        0.023213\n",
       "10%        1.173983\n",
       "25%        1.859375\n",
       "50%        2.416335\n",
       "max        3.500000\n",
       "Name: Rent/mo/sf, dtype: float64"
      ]
     },
     "execution_count": 290,
     "metadata": {},
     "output_type": "execute_result"
    }
   ],
   "source": [
    "retail_gdf.loc[retail_gdf['Rent/mo/sf'] <= 3.5]['Rent/mo/sf'].describe(percentiles=[0.1, 0.25, 0.5])"
   ]
  },
  {
   "cell_type": "markdown",
   "metadata": {},
   "source": [
    "We see that the 10th percentile value is about \\\\$1.2 per square foot. It is possible for rent prices to be below the city average but not by too much. Therefore, we'll remove all entries with a rent approximately lower than the 10th percentile, in this case those with a rent lower than \\\\$1.2 per square foot."
   ]
  },
  {
   "cell_type": "code",
   "execution_count": 291,
   "metadata": {},
   "outputs": [
    {
     "name": "stdout",
     "output_type": "stream",
     "text": [
      "Number of rows removed: 34 \n",
      "\n"
     ]
    }
   ],
   "source": [
    "n_rows = retail_gdf.shape[0]\n",
    "\n",
    "retail_gdf = retail_gdf.loc[retail_gdf['Rent/mo/sf'] >= 1.2]\n",
    "\n",
    "print('Number of rows removed:', n_rows - retail_gdf.shape[0], '\\n')"
   ]
  },
  {
   "cell_type": "markdown",
   "metadata": {},
   "source": [
    "Now that we have dealt with misleading rent prices, let's make boxplots of the area and rent values to see if we find any other outliers."
   ]
  },
  {
   "cell_type": "code",
   "execution_count": 315,
   "metadata": {},
   "outputs": [
    {
     "data": {
      "image/png": "[encoded data removed]",
      "text/plain": [
       "<Figure size 842.4x595.44 with 2 Axes>"
      ]
     },
     "metadata": {},
     "output_type": "display_data"
    }
   ],
   "source": [
    "fig, ax = plt.subplots(1,2)\n",
    "\n",
    "sns.boxplot(data=retail_gdf, y='Area sf', ax=ax[0]);\n",
    "sns.boxplot(data=retail_gdf, y='Rent/mo/sf', ax=ax[1]);"
   ]
  },
  {
   "cell_type": "markdown",
   "metadata": {},
   "source": [
    "We can see that there are multiple outliers for each metric. We will have to look at all these outliers to see if they are a consequence of an error in the data collection or if they indeed are valid data and we should keep them. For the area, we'll look at the outliers with the lowest values (closest to the 10th percentile value seen before) of rent per square foot since they are the most likely to have incorrect data. We will investigate these manually to confirm if they need to be removed or not."
   ]
  },
  {
   "cell_type": "code",
   "execution_count": 319,
   "metadata": {},
   "outputs": [
    {
     "data": {
      "text/html": [
       "<div>\n",
       "<style scoped>\n",
       "    .dataframe tbody tr th:only-of-type {\n",
       "        vertical-align: middle;\n",
       "    }\n",
       "\n",
       "    .dataframe tbody tr th {\n",
       "        vertical-align: top;\n",
       "    }\n",
       "\n",
       "    .dataframe thead th {\n",
       "        text-align: right;\n",
       "    }\n",
       "</style>\n",
       "<table border=\"1\" class=\"dataframe\">\n",
       "  <thead>\n",
       "    <tr style=\"text-align: right;\">\n",
       "      <th></th>\n",
       "      <th>Address</th>\n",
       "      <th>Area sf</th>\n",
       "      <th>Rent/mo</th>\n",
       "      <th>Type</th>\n",
       "      <th>geometry</th>\n",
       "      <th>Main Address</th>\n",
       "      <th>latitude</th>\n",
       "      <th>longitude</th>\n",
       "      <th>Rent/mo/sf</th>\n",
       "    </tr>\n",
       "    <tr>\n",
       "      <th>Id</th>\n",
       "      <th></th>\n",
       "      <th></th>\n",
       "      <th></th>\n",
       "      <th></th>\n",
       "      <th></th>\n",
       "      <th></th>\n",
       "      <th></th>\n",
       "      <th></th>\n",
       "      <th></th>\n",
       "    </tr>\n",
       "  </thead>\n",
       "  <tbody>\n",
       "    <tr>\n",
       "      <th>318246</th>\n",
       "      <td>212 King St W</td>\n",
       "      <td>4500.00</td>\n",
       "      <td>7100.0</td>\n",
       "      <td>Office</td>\n",
       "      <td>POINT (-79.38633 43.64750)</td>\n",
       "      <td>212 King St W</td>\n",
       "      <td>43.647500</td>\n",
       "      <td>-79.386329</td>\n",
       "      <td>1.577778</td>\n",
       "    </tr>\n",
       "    <tr>\n",
       "      <th>302519</th>\n",
       "      <td>119 - 100 Sunrise Ave</td>\n",
       "      <td>5131.00</td>\n",
       "      <td>7696.0</td>\n",
       "      <td>Industrial</td>\n",
       "      <td>POINT (-79.30895 43.71861)</td>\n",
       "      <td>100 Sunrise Ave</td>\n",
       "      <td>43.718610</td>\n",
       "      <td>-79.308950</td>\n",
       "      <td>1.499903</td>\n",
       "    </tr>\n",
       "    <tr>\n",
       "      <th>336541</th>\n",
       "      <td>2 &amp; 3 - 445 Milner Avenue</td>\n",
       "      <td>6577.00</td>\n",
       "      <td>9042.0</td>\n",
       "      <td>Industrial</td>\n",
       "      <td>POINT (-79.22882 43.79041)</td>\n",
       "      <td>445 Milner Avenue</td>\n",
       "      <td>43.790413</td>\n",
       "      <td>-79.228822</td>\n",
       "      <td>1.374791</td>\n",
       "    </tr>\n",
       "    <tr>\n",
       "      <th>181106</th>\n",
       "      <td>201 - 55 Horner Avenue</td>\n",
       "      <td>10070.00</td>\n",
       "      <td>15902.0</td>\n",
       "      <td>Office</td>\n",
       "      <td>POINT (-79.51715 43.61431)</td>\n",
       "      <td>55 Horner Avenue</td>\n",
       "      <td>43.614305</td>\n",
       "      <td>-79.517148</td>\n",
       "      <td>1.579146</td>\n",
       "    </tr>\n",
       "    <tr>\n",
       "      <th>335304</th>\n",
       "      <td>1 &amp; 6 - 73 Samor Rd</td>\n",
       "      <td>11232.00</td>\n",
       "      <td>13572.0</td>\n",
       "      <td>Industrial</td>\n",
       "      <td>POINT (-79.46179 43.71704)</td>\n",
       "      <td>73 Samor Rd</td>\n",
       "      <td>43.717041</td>\n",
       "      <td>-79.461795</td>\n",
       "      <td>1.208333</td>\n",
       "    </tr>\n",
       "    <tr>\n",
       "      <th>340633</th>\n",
       "      <td>17 Dora Ave</td>\n",
       "      <td>11000.00</td>\n",
       "      <td>20166.0</td>\n",
       "      <td>Industrial</td>\n",
       "      <td>POINT (-79.44376 43.65533)</td>\n",
       "      <td>17 Dora Ave</td>\n",
       "      <td>43.655335</td>\n",
       "      <td>-79.443763</td>\n",
       "      <td>1.833273</td>\n",
       "    </tr>\n",
       "    <tr>\n",
       "      <th>l_95375186</th>\n",
       "      <td>365 King St W Flr 46</td>\n",
       "      <td>5488.56</td>\n",
       "      <td>9500.0</td>\n",
       "      <td>Commercial</td>\n",
       "      <td>POINT (-79.39260 43.64568)</td>\n",
       "      <td>NaN</td>\n",
       "      <td>43.645675</td>\n",
       "      <td>-79.392605</td>\n",
       "      <td>1.730873</td>\n",
       "    </tr>\n",
       "  </tbody>\n",
       "</table>\n",
       "</div>"
      ],
      "text/plain": [
       "                              Address   Area sf  Rent/mo        Type  \\\n",
       "Id                                                                     \n",
       "318246                  212 King St W   4500.00   7100.0      Office   \n",
       "302519          119 - 100 Sunrise Ave   5131.00   7696.0  Industrial   \n",
       "336541      2 & 3 - 445 Milner Avenue   6577.00   9042.0  Industrial   \n",
       "181106         201 - 55 Horner Avenue  10070.00  15902.0      Office   \n",
       "335304            1 & 6 - 73 Samor Rd  11232.00  13572.0  Industrial   \n",
       "340633                    17 Dora Ave  11000.00  20166.0  Industrial   \n",
       "l_95375186       365 King St W Flr 46   5488.56   9500.0  Commercial   \n",
       "\n",
       "                              geometry       Main Address   latitude  \\\n",
       "Id                                                                     \n",
       "318246      POINT (-79.38633 43.64750)      212 King St W  43.647500   \n",
       "302519      POINT (-79.30895 43.71861)    100 Sunrise Ave  43.718610   \n",
       "336541      POINT (-79.22882 43.79041)  445 Milner Avenue  43.790413   \n",
       "181106      POINT (-79.51715 43.61431)   55 Horner Avenue  43.614305   \n",
       "335304      POINT (-79.46179 43.71704)        73 Samor Rd  43.717041   \n",
       "340633      POINT (-79.44376 43.65533)        17 Dora Ave  43.655335   \n",
       "l_95375186  POINT (-79.39260 43.64568)                NaN  43.645675   \n",
       "\n",
       "            longitude  Rent/mo/sf  \n",
       "Id                                 \n",
       "318246     -79.386329    1.577778  \n",
       "302519     -79.308950    1.499903  \n",
       "336541     -79.228822    1.374791  \n",
       "181106     -79.517148    1.579146  \n",
       "335304     -79.461795    1.208333  \n",
       "340633     -79.443763    1.833273  \n",
       "l_95375186 -79.392605    1.730873  "
      ]
     },
     "execution_count": 319,
     "metadata": {},
     "output_type": "execute_result"
    }
   ],
   "source": [
    "from scipy import stats\n",
    "\n",
    "q1 = retail_gdf['Area sf'].quantile(0.25)\n",
    "q3 = retail_gdf['Area sf'].quantile(0.75)\n",
    "iqr = q3 - q1\n",
    "\n",
    "retail_gdf[(retail_gdf['Area sf'] > q3 + 1.5*iqr) & (retail_gdf['Rent/mo/sf'] < 2)]"
   ]
  },
  {
   "cell_type": "markdown",
   "metadata": {},
   "source": [
    "Checking the listings on the websites, the values check out. This indicates that the real state market is variable and depends on a lot of factors such as location, lease duration, owner, etc. Now let's see the outliers based on the rent prices."
   ]
  },
  {
   "cell_type": "code",
   "execution_count": 322,
   "metadata": {},
   "outputs": [
    {
     "data": {
      "text/html": [
       "<div>\n",
       "<style scoped>\n",
       "    .dataframe tbody tr th:only-of-type {\n",
       "        vertical-align: middle;\n",
       "    }\n",
       "\n",
       "    .dataframe tbody tr th {\n",
       "        vertical-align: top;\n",
       "    }\n",
       "\n",
       "    .dataframe thead th {\n",
       "        text-align: right;\n",
       "    }\n",
       "</style>\n",
       "<table border=\"1\" class=\"dataframe\">\n",
       "  <thead>\n",
       "    <tr style=\"text-align: right;\">\n",
       "      <th></th>\n",
       "      <th>Address</th>\n",
       "      <th>Area sf</th>\n",
       "      <th>Rent/mo</th>\n",
       "      <th>Type</th>\n",
       "      <th>geometry</th>\n",
       "      <th>Main Address</th>\n",
       "      <th>latitude</th>\n",
       "      <th>longitude</th>\n",
       "      <th>Rent/mo/sf</th>\n",
       "    </tr>\n",
       "    <tr>\n",
       "      <th>Id</th>\n",
       "      <th></th>\n",
       "      <th></th>\n",
       "      <th></th>\n",
       "      <th></th>\n",
       "      <th></th>\n",
       "      <th></th>\n",
       "      <th></th>\n",
       "      <th></th>\n",
       "      <th></th>\n",
       "    </tr>\n",
       "  </thead>\n",
       "  <tbody>\n",
       "    <tr>\n",
       "      <th>288553</th>\n",
       "      <td>WeWork Office - 176 Yonge St</td>\n",
       "      <td>25.0</td>\n",
       "      <td>2090.0</td>\n",
       "      <td>Office</td>\n",
       "      <td>POINT (-79.37959 43.65211)</td>\n",
       "      <td>176 Yonge St</td>\n",
       "      <td>43.652113</td>\n",
       "      <td>-79.379587</td>\n",
       "      <td>83.600000</td>\n",
       "    </tr>\n",
       "    <tr>\n",
       "      <th>288542</th>\n",
       "      <td>WeWork Office - 1050 King St W</td>\n",
       "      <td>25.0</td>\n",
       "      <td>1920.0</td>\n",
       "      <td>Office</td>\n",
       "      <td>POINT (-79.42159 43.64029)</td>\n",
       "      <td>1050 King St W</td>\n",
       "      <td>43.640287</td>\n",
       "      <td>-79.421592</td>\n",
       "      <td>76.800000</td>\n",
       "    </tr>\n",
       "    <tr>\n",
       "      <th>337693</th>\n",
       "      <td>207 - 410 Adelaide St W</td>\n",
       "      <td>125.0</td>\n",
       "      <td>3500.0</td>\n",
       "      <td>Office</td>\n",
       "      <td>POINT (-79.39658 43.64667)</td>\n",
       "      <td>410 Adelaide St W</td>\n",
       "      <td>43.646673</td>\n",
       "      <td>-79.396577</td>\n",
       "      <td>28.000000</td>\n",
       "    </tr>\n",
       "    <tr>\n",
       "      <th>313302</th>\n",
       "      <td>203 - 410 Adelaide St W</td>\n",
       "      <td>180.0</td>\n",
       "      <td>4500.0</td>\n",
       "      <td>Office</td>\n",
       "      <td>POINT (-79.39658 43.64667)</td>\n",
       "      <td>410 Adelaide St W</td>\n",
       "      <td>43.646673</td>\n",
       "      <td>-79.396577</td>\n",
       "      <td>25.000000</td>\n",
       "    </tr>\n",
       "    <tr>\n",
       "      <th>294114</th>\n",
       "      <td>Office D - 1073 Yonge St</td>\n",
       "      <td>70.0</td>\n",
       "      <td>1700.0</td>\n",
       "      <td>Office</td>\n",
       "      <td>POINT (-79.39014 43.67893)</td>\n",
       "      <td>1073 Yonge St</td>\n",
       "      <td>43.678929</td>\n",
       "      <td>-79.390136</td>\n",
       "      <td>24.285714</td>\n",
       "    </tr>\n",
       "    <tr>\n",
       "      <th>337686</th>\n",
       "      <td>205 - 410 Adelaide St W</td>\n",
       "      <td>150.0</td>\n",
       "      <td>3500.0</td>\n",
       "      <td>Office</td>\n",
       "      <td>POINT (-79.39658 43.64667)</td>\n",
       "      <td>410 Adelaide St W</td>\n",
       "      <td>43.646673</td>\n",
       "      <td>-79.396577</td>\n",
       "      <td>23.333333</td>\n",
       "    </tr>\n",
       "    <tr>\n",
       "      <th>337678</th>\n",
       "      <td>201 - 410 Adelaide St W</td>\n",
       "      <td>280.0</td>\n",
       "      <td>6500.0</td>\n",
       "      <td>Office</td>\n",
       "      <td>POINT (-79.39658 43.64667)</td>\n",
       "      <td>410 Adelaide St W</td>\n",
       "      <td>43.646673</td>\n",
       "      <td>-79.396577</td>\n",
       "      <td>23.214286</td>\n",
       "    </tr>\n",
       "    <tr>\n",
       "      <th>184289</th>\n",
       "      <td>403 - 32 Britain St</td>\n",
       "      <td>260.0</td>\n",
       "      <td>6000.0</td>\n",
       "      <td>Office</td>\n",
       "      <td>POINT (-79.37050 43.65389)</td>\n",
       "      <td>32 Britain St</td>\n",
       "      <td>43.653893</td>\n",
       "      <td>-79.370504</td>\n",
       "      <td>23.076923</td>\n",
       "    </tr>\n",
       "    <tr>\n",
       "      <th>337692</th>\n",
       "      <td>206 - 410 Adelaide St W</td>\n",
       "      <td>155.0</td>\n",
       "      <td>3500.0</td>\n",
       "      <td>Office</td>\n",
       "      <td>POINT (-79.39658 43.64667)</td>\n",
       "      <td>410 Adelaide St W</td>\n",
       "      <td>43.646673</td>\n",
       "      <td>-79.396577</td>\n",
       "      <td>22.580645</td>\n",
       "    </tr>\n",
       "    <tr>\n",
       "      <th>331721</th>\n",
       "      <td>102 - 375 University Ave</td>\n",
       "      <td>84.0</td>\n",
       "      <td>1799.0</td>\n",
       "      <td>Office</td>\n",
       "      <td>POINT (-79.38703 43.65357)</td>\n",
       "      <td>375 University Ave</td>\n",
       "      <td>43.653569</td>\n",
       "      <td>-79.387029</td>\n",
       "      <td>21.416667</td>\n",
       "    </tr>\n",
       "    <tr>\n",
       "      <th>278433</th>\n",
       "      <td>404 - 32 Britain St</td>\n",
       "      <td>165.0</td>\n",
       "      <td>3500.0</td>\n",
       "      <td>Office</td>\n",
       "      <td>POINT (-79.37050 43.65389)</td>\n",
       "      <td>32 Britain St</td>\n",
       "      <td>43.653893</td>\n",
       "      <td>-79.370504</td>\n",
       "      <td>21.212121</td>\n",
       "    </tr>\n",
       "    <tr>\n",
       "      <th>204819</th>\n",
       "      <td>102 - 32 Britain St</td>\n",
       "      <td>200.0</td>\n",
       "      <td>4200.0</td>\n",
       "      <td>Office</td>\n",
       "      <td>POINT (-79.37050 43.65389)</td>\n",
       "      <td>32 Britain St</td>\n",
       "      <td>43.653893</td>\n",
       "      <td>-79.370504</td>\n",
       "      <td>21.000000</td>\n",
       "    </tr>\n",
       "    <tr>\n",
       "      <th>281116</th>\n",
       "      <td>27th Floor OP - 161 Bay St</td>\n",
       "      <td>450.0</td>\n",
       "      <td>8990.0</td>\n",
       "      <td>Office</td>\n",
       "      <td>POINT (-79.37866 43.64692)</td>\n",
       "      <td>161 Bay St</td>\n",
       "      <td>43.646924</td>\n",
       "      <td>-79.378658</td>\n",
       "      <td>19.977778</td>\n",
       "    </tr>\n",
       "    <tr>\n",
       "      <th>280186</th>\n",
       "      <td>37TH FLOOR OP - 100 King St W</td>\n",
       "      <td>450.0</td>\n",
       "      <td>8990.0</td>\n",
       "      <td>Office</td>\n",
       "      <td>POINT (-79.38169 43.64877)</td>\n",
       "      <td>100 King St W</td>\n",
       "      <td>43.648768</td>\n",
       "      <td>-79.381692</td>\n",
       "      <td>19.977778</td>\n",
       "    </tr>\n",
       "    <tr>\n",
       "      <th>283955</th>\n",
       "      <td>Suite 2500 OP - 88 Queens Quay W</td>\n",
       "      <td>450.0</td>\n",
       "      <td>8990.0</td>\n",
       "      <td>Office</td>\n",
       "      <td>POINT (-79.37817 43.64095)</td>\n",
       "      <td>88 Queens Quay W</td>\n",
       "      <td>43.640948</td>\n",
       "      <td>-79.378169</td>\n",
       "      <td>19.977778</td>\n",
       "    </tr>\n",
       "    <tr>\n",
       "      <th>279509</th>\n",
       "      <td>4th Floor 3WS - 80 Atlantic Ave</td>\n",
       "      <td>150.0</td>\n",
       "      <td>2979.0</td>\n",
       "      <td>Office</td>\n",
       "      <td>POINT (-79.42122 43.64009)</td>\n",
       "      <td>80 Atlantic Ave</td>\n",
       "      <td>43.640092</td>\n",
       "      <td>-79.421224</td>\n",
       "      <td>19.860000</td>\n",
       "    </tr>\n",
       "    <tr>\n",
       "      <th>279357</th>\n",
       "      <td>4th Floor 5WS - 80 Atlantic Ave</td>\n",
       "      <td>250.0</td>\n",
       "      <td>4959.0</td>\n",
       "      <td>Office</td>\n",
       "      <td>POINT (-79.42122 43.64009)</td>\n",
       "      <td>80 Atlantic Ave</td>\n",
       "      <td>43.640092</td>\n",
       "      <td>-79.421224</td>\n",
       "      <td>19.836000</td>\n",
       "    </tr>\n",
       "    <tr>\n",
       "      <th>319350</th>\n",
       "      <td>401 - 32 Britain St</td>\n",
       "      <td>350.0</td>\n",
       "      <td>6600.0</td>\n",
       "      <td>Office</td>\n",
       "      <td>POINT (-79.37050 43.65389)</td>\n",
       "      <td>32 Britain St</td>\n",
       "      <td>43.653893</td>\n",
       "      <td>-79.370504</td>\n",
       "      <td>18.857143</td>\n",
       "    </tr>\n",
       "    <tr>\n",
       "      <th>279656</th>\n",
       "      <td>Suite 200 1WS - 99 Yorkville Ave</td>\n",
       "      <td>80.0</td>\n",
       "      <td>1501.0</td>\n",
       "      <td>Office</td>\n",
       "      <td>POINT (-79.38852 43.67157)</td>\n",
       "      <td>99 Yorkville Ave</td>\n",
       "      <td>43.671567</td>\n",
       "      <td>-79.388521</td>\n",
       "      <td>18.762500</td>\n",
       "    </tr>\n",
       "    <tr>\n",
       "      <th>337704</th>\n",
       "      <td>204 - 410 Adelaide St W</td>\n",
       "      <td>140.0</td>\n",
       "      <td>2600.0</td>\n",
       "      <td>Office</td>\n",
       "      <td>POINT (-79.39658 43.64667)</td>\n",
       "      <td>410 Adelaide St W</td>\n",
       "      <td>43.646673</td>\n",
       "      <td>-79.396577</td>\n",
       "      <td>18.571429</td>\n",
       "    </tr>\n",
       "    <tr>\n",
       "      <th>279650</th>\n",
       "      <td>12th Floor 1WS - 200 Bay St</td>\n",
       "      <td>80.0</td>\n",
       "      <td>1416.0</td>\n",
       "      <td>Office</td>\n",
       "      <td>POINT (-79.37953 43.64618)</td>\n",
       "      <td>200 Bay St</td>\n",
       "      <td>43.646184</td>\n",
       "      <td>-79.379529</td>\n",
       "      <td>17.700000</td>\n",
       "    </tr>\n",
       "    <tr>\n",
       "      <th>280740</th>\n",
       "      <td>5th and 7th floors OP - 1235 Bay St</td>\n",
       "      <td>450.0</td>\n",
       "      <td>7951.0</td>\n",
       "      <td>Office</td>\n",
       "      <td>POINT (-79.38980 43.67097)</td>\n",
       "      <td>1235 Bay St</td>\n",
       "      <td>43.670972</td>\n",
       "      <td>-79.389803</td>\n",
       "      <td>17.668889</td>\n",
       "    </tr>\n",
       "    <tr>\n",
       "      <th>280521</th>\n",
       "      <td>4th Floor OP - 111 Queen St E</td>\n",
       "      <td>450.0</td>\n",
       "      <td>7951.0</td>\n",
       "      <td>Office</td>\n",
       "      <td>POINT (-79.37434 43.65336)</td>\n",
       "      <td>111 Queen St E</td>\n",
       "      <td>43.653361</td>\n",
       "      <td>-79.374338</td>\n",
       "      <td>17.668889</td>\n",
       "    </tr>\n",
       "    <tr>\n",
       "      <th>282829</th>\n",
       "      <td>Suite 1000 OP - 4711 Yonge St</td>\n",
       "      <td>450.0</td>\n",
       "      <td>7951.0</td>\n",
       "      <td>Office</td>\n",
       "      <td>POINT (-79.41001 43.75949)</td>\n",
       "      <td>4711 Yonge St</td>\n",
       "      <td>43.759494</td>\n",
       "      <td>-79.410010</td>\n",
       "      <td>17.668889</td>\n",
       "    </tr>\n",
       "    <tr>\n",
       "      <th>191578</th>\n",
       "      <td>301 - 32 Britain St</td>\n",
       "      <td>165.0</td>\n",
       "      <td>2900.0</td>\n",
       "      <td>Office</td>\n",
       "      <td>POINT (-79.37050 43.65389)</td>\n",
       "      <td>32 Britain St</td>\n",
       "      <td>43.653893</td>\n",
       "      <td>-79.370504</td>\n",
       "      <td>17.575758</td>\n",
       "    </tr>\n",
       "  </tbody>\n",
       "</table>\n",
       "</div>"
      ],
      "text/plain": [
       "                                    Address  Area sf  Rent/mo    Type  \\\n",
       "Id                                                                      \n",
       "288553         WeWork Office - 176 Yonge St     25.0   2090.0  Office   \n",
       "288542       WeWork Office - 1050 King St W     25.0   1920.0  Office   \n",
       "337693              207 - 410 Adelaide St W    125.0   3500.0  Office   \n",
       "313302              203 - 410 Adelaide St W    180.0   4500.0  Office   \n",
       "294114             Office D - 1073 Yonge St     70.0   1700.0  Office   \n",
       "337686              205 - 410 Adelaide St W    150.0   3500.0  Office   \n",
       "337678              201 - 410 Adelaide St W    280.0   6500.0  Office   \n",
       "184289                  403 - 32 Britain St    260.0   6000.0  Office   \n",
       "337692              206 - 410 Adelaide St W    155.0   3500.0  Office   \n",
       "331721             102 - 375 University Ave     84.0   1799.0  Office   \n",
       "278433                  404 - 32 Britain St    165.0   3500.0  Office   \n",
       "204819                  102 - 32 Britain St    200.0   4200.0  Office   \n",
       "281116           27th Floor OP - 161 Bay St    450.0   8990.0  Office   \n",
       "280186        37TH FLOOR OP - 100 King St W    450.0   8990.0  Office   \n",
       "283955     Suite 2500 OP - 88 Queens Quay W    450.0   8990.0  Office   \n",
       "279509      4th Floor 3WS - 80 Atlantic Ave    150.0   2979.0  Office   \n",
       "279357      4th Floor 5WS - 80 Atlantic Ave    250.0   4959.0  Office   \n",
       "319350                  401 - 32 Britain St    350.0   6600.0  Office   \n",
       "279656     Suite 200 1WS - 99 Yorkville Ave     80.0   1501.0  Office   \n",
       "337704              204 - 410 Adelaide St W    140.0   2600.0  Office   \n",
       "279650          12th Floor 1WS - 200 Bay St     80.0   1416.0  Office   \n",
       "280740  5th and 7th floors OP - 1235 Bay St    450.0   7951.0  Office   \n",
       "280521        4th Floor OP - 111 Queen St E    450.0   7951.0  Office   \n",
       "282829        Suite 1000 OP - 4711 Yonge St    450.0   7951.0  Office   \n",
       "191578                  301 - 32 Britain St    165.0   2900.0  Office   \n",
       "\n",
       "                          geometry        Main Address   latitude  longitude  \\\n",
       "Id                                                                             \n",
       "288553  POINT (-79.37959 43.65211)        176 Yonge St  43.652113 -79.379587   \n",
       "288542  POINT (-79.42159 43.64029)      1050 King St W  43.640287 -79.421592   \n",
       "337693  POINT (-79.39658 43.64667)   410 Adelaide St W  43.646673 -79.396577   \n",
       "313302  POINT (-79.39658 43.64667)   410 Adelaide St W  43.646673 -79.396577   \n",
       "294114  POINT (-79.39014 43.67893)       1073 Yonge St  43.678929 -79.390136   \n",
       "337686  POINT (-79.39658 43.64667)   410 Adelaide St W  43.646673 -79.396577   \n",
       "337678  POINT (-79.39658 43.64667)   410 Adelaide St W  43.646673 -79.396577   \n",
       "184289  POINT (-79.37050 43.65389)       32 Britain St  43.653893 -79.370504   \n",
       "337692  POINT (-79.39658 43.64667)   410 Adelaide St W  43.646673 -79.396577   \n",
       "331721  POINT (-79.38703 43.65357)  375 University Ave  43.653569 -79.387029   \n",
       "278433  POINT (-79.37050 43.65389)       32 Britain St  43.653893 -79.370504   \n",
       "204819  POINT (-79.37050 43.65389)       32 Britain St  43.653893 -79.370504   \n",
       "281116  POINT (-79.37866 43.64692)          161 Bay St  43.646924 -79.378658   \n",
       "280186  POINT (-79.38169 43.64877)       100 King St W  43.648768 -79.381692   \n",
       "283955  POINT (-79.37817 43.64095)    88 Queens Quay W  43.640948 -79.378169   \n",
       "279509  POINT (-79.42122 43.64009)     80 Atlantic Ave  43.640092 -79.421224   \n",
       "279357  POINT (-79.42122 43.64009)     80 Atlantic Ave  43.640092 -79.421224   \n",
       "319350  POINT (-79.37050 43.65389)       32 Britain St  43.653893 -79.370504   \n",
       "279656  POINT (-79.38852 43.67157)    99 Yorkville Ave  43.671567 -79.388521   \n",
       "337704  POINT (-79.39658 43.64667)   410 Adelaide St W  43.646673 -79.396577   \n",
       "279650  POINT (-79.37953 43.64618)          200 Bay St  43.646184 -79.379529   \n",
       "280740  POINT (-79.38980 43.67097)         1235 Bay St  43.670972 -79.389803   \n",
       "280521  POINT (-79.37434 43.65336)      111 Queen St E  43.653361 -79.374338   \n",
       "282829  POINT (-79.41001 43.75949)       4711 Yonge St  43.759494 -79.410010   \n",
       "191578  POINT (-79.37050 43.65389)       32 Britain St  43.653893 -79.370504   \n",
       "\n",
       "        Rent/mo/sf  \n",
       "Id                  \n",
       "288553   83.600000  \n",
       "288542   76.800000  \n",
       "337693   28.000000  \n",
       "313302   25.000000  \n",
       "294114   24.285714  \n",
       "337686   23.333333  \n",
       "337678   23.214286  \n",
       "184289   23.076923  \n",
       "337692   22.580645  \n",
       "331721   21.416667  \n",
       "278433   21.212121  \n",
       "204819   21.000000  \n",
       "281116   19.977778  \n",
       "280186   19.977778  \n",
       "283955   19.977778  \n",
       "279509   19.860000  \n",
       "279357   19.836000  \n",
       "319350   18.857143  \n",
       "279656   18.762500  \n",
       "337704   18.571429  \n",
       "279650   17.700000  \n",
       "280740   17.668889  \n",
       "280521   17.668889  \n",
       "282829   17.668889  \n",
       "191578   17.575758  "
      ]
     },
     "execution_count": 322,
     "metadata": {},
     "output_type": "execute_result"
    }
   ],
   "source": [
    "q1 = retail_gdf['Rent/mo/sf'].quantile(0.25)\n",
    "q3 = retail_gdf['Rent/mo/sf'].quantile(0.75)\n",
    "iqr = q3 - q1\n",
    "\n",
    "data = retail_gdf[(retail_gdf['Rent/mo/sf'] > q3 + 1.5*iqr)].sort_values(by='Rent/mo/sf', ascending=False)\n",
    "data"
   ]
  },
  {
   "cell_type": "markdown",
   "metadata": {},
   "source": [
    "We see that all the outliers have the type 'Office'. The [average rent per square foot] of office spaces in Downtown Toronto is \\\\$38.79 per square foot. The first two entries in the table above have a rent per square foot value much larger than the average. Let's see where all these outliers are on a map using the __folium__ library. If they all are in Downtown Toronto, we'll investigate the first two. Otherwise, we'll also investigate those outside of the downtown area."
   ]
  },
  {
   "cell_type": "code",
   "execution_count": 357,
   "metadata": {},
   "outputs": [
    {
     "data": {
      "text/html": [
       "<div style=\"width:100%;\"><div style=\"position:relative;width:100%;height:0;padding-bottom:60%;\"><span style=\"color:#565656\">Make this Notebook Trusted to load map: File -> Trust Notebook</span><iframe src=\"about:blank\" style=\"position:absolute;width:100%;height:100%;left:0;top:0;border:none !important;\" data-html=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 onload=\"this.contentDocument.open();this.contentDocument.write(atob(this.getAttribute('data-html')));this.contentDocument.close();\" allowfullscreen webkitallowfullscreen mozallowfullscreen></iframe></div></div>"
      ],
      "text/plain": [
       "<folium.folium.Map at 0x1f310716848>"
      ]
     },
     "execution_count": 357,
     "metadata": {},
     "output_type": "execute_result"
    }
   ],
   "source": [
    "import folium\n",
    "\n",
    "m = folium.Map(\n",
    "    location=[43.65, -79.38],\n",
    "    zoom_start=13,\n",
    "    tiles='cartodbpositron',\n",
    "    scrollWheelZoom=False\n",
    ")\n",
    "\n",
    "for lat, lng, rent in zip(data['latitude'], data['longitude'], data['Rent/mo/sf']):\n",
    "\n",
    "    if 43.634256 < lat < 43.665202 and -79.347295 > lng > -79.411251:\n",
    "        color = 'darkblue'\n",
    "    else:\n",
    "        color = 'red'\n",
    "    \n",
    "    folium.Circle(\n",
    "        [lat, lng],\n",
    "        popup=[lat, lng],\n",
    "        radius=7,\n",
    "        color=color,\n",
    "        weight=7\n",
    "    ).add_to(m)\n",
    "\n",
    "m"
   ]
  },
  {
   "cell_type": "markdown",
   "metadata": {},
   "source": [
    "On the map above, the blue points are inside the downtown area will the red ones aren't. We'll have to look at each group and determine whether there are invalid points. First let's look at the ones in the downtown area."
   ]
  },
  {
   "cell_type": "code",
   "execution_count": 359,
   "metadata": {},
   "outputs": [
    {
     "data": {
      "text/html": [
       "<div>\n",
       "<style scoped>\n",
       "    .dataframe tbody tr th:only-of-type {\n",
       "        vertical-align: middle;\n",
       "    }\n",
       "\n",
       "    .dataframe tbody tr th {\n",
       "        vertical-align: top;\n",
       "    }\n",
       "\n",
       "    .dataframe thead th {\n",
       "        text-align: right;\n",
       "    }\n",
       "</style>\n",
       "<table border=\"1\" class=\"dataframe\">\n",
       "  <thead>\n",
       "    <tr style=\"text-align: right;\">\n",
       "      <th></th>\n",
       "      <th>Address</th>\n",
       "      <th>Area sf</th>\n",
       "      <th>Rent/mo</th>\n",
       "      <th>Type</th>\n",
       "      <th>geometry</th>\n",
       "      <th>Main Address</th>\n",
       "      <th>latitude</th>\n",
       "      <th>longitude</th>\n",
       "      <th>Rent/mo/sf</th>\n",
       "    </tr>\n",
       "    <tr>\n",
       "      <th>Id</th>\n",
       "      <th></th>\n",
       "      <th></th>\n",
       "      <th></th>\n",
       "      <th></th>\n",
       "      <th></th>\n",
       "      <th></th>\n",
       "      <th></th>\n",
       "      <th></th>\n",
       "      <th></th>\n",
       "    </tr>\n",
       "  </thead>\n",
       "  <tbody>\n",
       "    <tr>\n",
       "      <th>288553</th>\n",
       "      <td>WeWork Office - 176 Yonge St</td>\n",
       "      <td>25.0</td>\n",
       "      <td>2090.0</td>\n",
       "      <td>Office</td>\n",
       "      <td>POINT (-79.37959 43.65211)</td>\n",
       "      <td>176 Yonge St</td>\n",
       "      <td>43.652113</td>\n",
       "      <td>-79.379587</td>\n",
       "      <td>83.600000</td>\n",
       "    </tr>\n",
       "    <tr>\n",
       "      <th>337693</th>\n",
       "      <td>207 - 410 Adelaide St W</td>\n",
       "      <td>125.0</td>\n",
       "      <td>3500.0</td>\n",
       "      <td>Office</td>\n",
       "      <td>POINT (-79.39658 43.64667)</td>\n",
       "      <td>410 Adelaide St W</td>\n",
       "      <td>43.646673</td>\n",
       "      <td>-79.396577</td>\n",
       "      <td>28.000000</td>\n",
       "    </tr>\n",
       "    <tr>\n",
       "      <th>313302</th>\n",
       "      <td>203 - 410 Adelaide St W</td>\n",
       "      <td>180.0</td>\n",
       "      <td>4500.0</td>\n",
       "      <td>Office</td>\n",
       "      <td>POINT (-79.39658 43.64667)</td>\n",
       "      <td>410 Adelaide St W</td>\n",
       "      <td>43.646673</td>\n",
       "      <td>-79.396577</td>\n",
       "      <td>25.000000</td>\n",
       "    </tr>\n",
       "    <tr>\n",
       "      <th>337686</th>\n",
       "      <td>205 - 410 Adelaide St W</td>\n",
       "      <td>150.0</td>\n",
       "      <td>3500.0</td>\n",
       "      <td>Office</td>\n",
       "      <td>POINT (-79.39658 43.64667)</td>\n",
       "      <td>410 Adelaide St W</td>\n",
       "      <td>43.646673</td>\n",
       "      <td>-79.396577</td>\n",
       "      <td>23.333333</td>\n",
       "    </tr>\n",
       "    <tr>\n",
       "      <th>337678</th>\n",
       "      <td>201 - 410 Adelaide St W</td>\n",
       "      <td>280.0</td>\n",
       "      <td>6500.0</td>\n",
       "      <td>Office</td>\n",
       "      <td>POINT (-79.39658 43.64667)</td>\n",
       "      <td>410 Adelaide St W</td>\n",
       "      <td>43.646673</td>\n",
       "      <td>-79.396577</td>\n",
       "      <td>23.214286</td>\n",
       "    </tr>\n",
       "    <tr>\n",
       "      <th>184289</th>\n",
       "      <td>403 - 32 Britain St</td>\n",
       "      <td>260.0</td>\n",
       "      <td>6000.0</td>\n",
       "      <td>Office</td>\n",
       "      <td>POINT (-79.37050 43.65389)</td>\n",
       "      <td>32 Britain St</td>\n",
       "      <td>43.653893</td>\n",
       "      <td>-79.370504</td>\n",
       "      <td>23.076923</td>\n",
       "    </tr>\n",
       "    <tr>\n",
       "      <th>337692</th>\n",
       "      <td>206 - 410 Adelaide St W</td>\n",
       "      <td>155.0</td>\n",
       "      <td>3500.0</td>\n",
       "      <td>Office</td>\n",
       "      <td>POINT (-79.39658 43.64667)</td>\n",
       "      <td>410 Adelaide St W</td>\n",
       "      <td>43.646673</td>\n",
       "      <td>-79.396577</td>\n",
       "      <td>22.580645</td>\n",
       "    </tr>\n",
       "    <tr>\n",
       "      <th>331721</th>\n",
       "      <td>102 - 375 University Ave</td>\n",
       "      <td>84.0</td>\n",
       "      <td>1799.0</td>\n",
       "      <td>Office</td>\n",
       "      <td>POINT (-79.38703 43.65357)</td>\n",
       "      <td>375 University Ave</td>\n",
       "      <td>43.653569</td>\n",
       "      <td>-79.387029</td>\n",
       "      <td>21.416667</td>\n",
       "    </tr>\n",
       "    <tr>\n",
       "      <th>278433</th>\n",
       "      <td>404 - 32 Britain St</td>\n",
       "      <td>165.0</td>\n",
       "      <td>3500.0</td>\n",
       "      <td>Office</td>\n",
       "      <td>POINT (-79.37050 43.65389)</td>\n",
       "      <td>32 Britain St</td>\n",
       "      <td>43.653893</td>\n",
       "      <td>-79.370504</td>\n",
       "      <td>21.212121</td>\n",
       "    </tr>\n",
       "    <tr>\n",
       "      <th>204819</th>\n",
       "      <td>102 - 32 Britain St</td>\n",
       "      <td>200.0</td>\n",
       "      <td>4200.0</td>\n",
       "      <td>Office</td>\n",
       "      <td>POINT (-79.37050 43.65389)</td>\n",
       "      <td>32 Britain St</td>\n",
       "      <td>43.653893</td>\n",
       "      <td>-79.370504</td>\n",
       "      <td>21.000000</td>\n",
       "    </tr>\n",
       "    <tr>\n",
       "      <th>281116</th>\n",
       "      <td>27th Floor OP - 161 Bay St</td>\n",
       "      <td>450.0</td>\n",
       "      <td>8990.0</td>\n",
       "      <td>Office</td>\n",
       "      <td>POINT (-79.37866 43.64692)</td>\n",
       "      <td>161 Bay St</td>\n",
       "      <td>43.646924</td>\n",
       "      <td>-79.378658</td>\n",
       "      <td>19.977778</td>\n",
       "    </tr>\n",
       "    <tr>\n",
       "      <th>280186</th>\n",
       "      <td>37TH FLOOR OP - 100 King St W</td>\n",
       "      <td>450.0</td>\n",
       "      <td>8990.0</td>\n",
       "      <td>Office</td>\n",
       "      <td>POINT (-79.38169 43.64877)</td>\n",
       "      <td>100 King St W</td>\n",
       "      <td>43.648768</td>\n",
       "      <td>-79.381692</td>\n",
       "      <td>19.977778</td>\n",
       "    </tr>\n",
       "    <tr>\n",
       "      <th>283955</th>\n",
       "      <td>Suite 2500 OP - 88 Queens Quay W</td>\n",
       "      <td>450.0</td>\n",
       "      <td>8990.0</td>\n",
       "      <td>Office</td>\n",
       "      <td>POINT (-79.37817 43.64095)</td>\n",
       "      <td>88 Queens Quay W</td>\n",
       "      <td>43.640948</td>\n",
       "      <td>-79.378169</td>\n",
       "      <td>19.977778</td>\n",
       "    </tr>\n",
       "    <tr>\n",
       "      <th>319350</th>\n",
       "      <td>401 - 32 Britain St</td>\n",
       "      <td>350.0</td>\n",
       "      <td>6600.0</td>\n",
       "      <td>Office</td>\n",
       "      <td>POINT (-79.37050 43.65389)</td>\n",
       "      <td>32 Britain St</td>\n",
       "      <td>43.653893</td>\n",
       "      <td>-79.370504</td>\n",
       "      <td>18.857143</td>\n",
       "    </tr>\n",
       "    <tr>\n",
       "      <th>337704</th>\n",
       "      <td>204 - 410 Adelaide St W</td>\n",
       "      <td>140.0</td>\n",
       "      <td>2600.0</td>\n",
       "      <td>Office</td>\n",
       "      <td>POINT (-79.39658 43.64667)</td>\n",
       "      <td>410 Adelaide St W</td>\n",
       "      <td>43.646673</td>\n",
       "      <td>-79.396577</td>\n",
       "      <td>18.571429</td>\n",
       "    </tr>\n",
       "    <tr>\n",
       "      <th>279650</th>\n",
       "      <td>12th Floor 1WS - 200 Bay St</td>\n",
       "      <td>80.0</td>\n",
       "      <td>1416.0</td>\n",
       "      <td>Office</td>\n",
       "      <td>POINT (-79.37953 43.64618)</td>\n",
       "      <td>200 Bay St</td>\n",
       "      <td>43.646184</td>\n",
       "      <td>-79.379529</td>\n",
       "      <td>17.700000</td>\n",
       "    </tr>\n",
       "    <tr>\n",
       "      <th>280521</th>\n",
       "      <td>4th Floor OP - 111 Queen St E</td>\n",
       "      <td>450.0</td>\n",
       "      <td>7951.0</td>\n",
       "      <td>Office</td>\n",
       "      <td>POINT (-79.37434 43.65336)</td>\n",
       "      <td>111 Queen St E</td>\n",
       "      <td>43.653361</td>\n",
       "      <td>-79.374338</td>\n",
       "      <td>17.668889</td>\n",
       "    </tr>\n",
       "    <tr>\n",
       "      <th>191578</th>\n",
       "      <td>301 - 32 Britain St</td>\n",
       "      <td>165.0</td>\n",
       "      <td>2900.0</td>\n",
       "      <td>Office</td>\n",
       "      <td>POINT (-79.37050 43.65389)</td>\n",
       "      <td>32 Britain St</td>\n",
       "      <td>43.653893</td>\n",
       "      <td>-79.370504</td>\n",
       "      <td>17.575758</td>\n",
       "    </tr>\n",
       "  </tbody>\n",
       "</table>\n",
       "</div>"
      ],
      "text/plain": [
       "                                 Address  Area sf  Rent/mo    Type  \\\n",
       "Id                                                                   \n",
       "288553      WeWork Office - 176 Yonge St     25.0   2090.0  Office   \n",
       "337693           207 - 410 Adelaide St W    125.0   3500.0  Office   \n",
       "313302           203 - 410 Adelaide St W    180.0   4500.0  Office   \n",
       "337686           205 - 410 Adelaide St W    150.0   3500.0  Office   \n",
       "337678           201 - 410 Adelaide St W    280.0   6500.0  Office   \n",
       "184289               403 - 32 Britain St    260.0   6000.0  Office   \n",
       "337692           206 - 410 Adelaide St W    155.0   3500.0  Office   \n",
       "331721          102 - 375 University Ave     84.0   1799.0  Office   \n",
       "278433               404 - 32 Britain St    165.0   3500.0  Office   \n",
       "204819               102 - 32 Britain St    200.0   4200.0  Office   \n",
       "281116        27th Floor OP - 161 Bay St    450.0   8990.0  Office   \n",
       "280186     37TH FLOOR OP - 100 King St W    450.0   8990.0  Office   \n",
       "283955  Suite 2500 OP - 88 Queens Quay W    450.0   8990.0  Office   \n",
       "319350               401 - 32 Britain St    350.0   6600.0  Office   \n",
       "337704           204 - 410 Adelaide St W    140.0   2600.0  Office   \n",
       "279650       12th Floor 1WS - 200 Bay St     80.0   1416.0  Office   \n",
       "280521     4th Floor OP - 111 Queen St E    450.0   7951.0  Office   \n",
       "191578               301 - 32 Britain St    165.0   2900.0  Office   \n",
       "\n",
       "                          geometry        Main Address   latitude  longitude  \\\n",
       "Id                                                                             \n",
       "288553  POINT (-79.37959 43.65211)        176 Yonge St  43.652113 -79.379587   \n",
       "337693  POINT (-79.39658 43.64667)   410 Adelaide St W  43.646673 -79.396577   \n",
       "313302  POINT (-79.39658 43.64667)   410 Adelaide St W  43.646673 -79.396577   \n",
       "337686  POINT (-79.39658 43.64667)   410 Adelaide St W  43.646673 -79.396577   \n",
       "337678  POINT (-79.39658 43.64667)   410 Adelaide St W  43.646673 -79.396577   \n",
       "184289  POINT (-79.37050 43.65389)       32 Britain St  43.653893 -79.370504   \n",
       "337692  POINT (-79.39658 43.64667)   410 Adelaide St W  43.646673 -79.396577   \n",
       "331721  POINT (-79.38703 43.65357)  375 University Ave  43.653569 -79.387029   \n",
       "278433  POINT (-79.37050 43.65389)       32 Britain St  43.653893 -79.370504   \n",
       "204819  POINT (-79.37050 43.65389)       32 Britain St  43.653893 -79.370504   \n",
       "281116  POINT (-79.37866 43.64692)          161 Bay St  43.646924 -79.378658   \n",
       "280186  POINT (-79.38169 43.64877)       100 King St W  43.648768 -79.381692   \n",
       "283955  POINT (-79.37817 43.64095)    88 Queens Quay W  43.640948 -79.378169   \n",
       "319350  POINT (-79.37050 43.65389)       32 Britain St  43.653893 -79.370504   \n",
       "337704  POINT (-79.39658 43.64667)   410 Adelaide St W  43.646673 -79.396577   \n",
       "279650  POINT (-79.37953 43.64618)          200 Bay St  43.646184 -79.379529   \n",
       "280521  POINT (-79.37434 43.65336)      111 Queen St E  43.653361 -79.374338   \n",
       "191578  POINT (-79.37050 43.65389)       32 Britain St  43.653893 -79.370504   \n",
       "\n",
       "        Rent/mo/sf  \n",
       "Id                  \n",
       "288553   83.600000  \n",
       "337693   28.000000  \n",
       "313302   25.000000  \n",
       "337686   23.333333  \n",
       "337678   23.214286  \n",
       "184289   23.076923  \n",
       "337692   22.580645  \n",
       "331721   21.416667  \n",
       "278433   21.212121  \n",
       "204819   21.000000  \n",
       "281116   19.977778  \n",
       "280186   19.977778  \n",
       "283955   19.977778  \n",
       "319350   18.857143  \n",
       "337704   18.571429  \n",
       "279650   17.700000  \n",
       "280521   17.668889  \n",
       "191578   17.575758  "
      ]
     },
     "execution_count": 359,
     "metadata": {},
     "output_type": "execute_result"
    }
   ],
   "source": [
    "data.loc[\n",
    "    (data['latitude'].between(43.634256, 43.665202)) & \n",
    "    (data['longitude'].between(-79.411251, -79.347295))].sort_values(by='Rent/mo/sf', ascending=False)"
   ]
  },
  {
   "cell_type": "markdown",
   "metadata": {},
   "source": [
    "We see that every entry except for the first one is below the average rent per square foot in Downtown Toronto, so we won't remove those. The listing for the first entry explicitly states \"Please contact for pricing and availability\", which means that the price on the site is not reliable. Furthermore, there is another listing for the same location renting desks for \\\\$550/month which makes more sense since no one would \\\\$2090/month for 25 square feet! We will remove this entry."
   ]
  },
  {
   "cell_type": "code",
   "execution_count": 360,
   "metadata": {},
   "outputs": [],
   "source": [
    "retail_gdf = retail_gdf.loc[retail_gdf.index != '288553']"
   ]
  },
  {
   "cell_type": "markdown",
   "metadata": {},
   "source": [
    "For the listings outside the downtown area, the only one above the average for downtown (highest price in the city) is the one below."
   ]
  },
  {
   "cell_type": "code",
   "execution_count": 361,
   "metadata": {},
   "outputs": [
    {
     "data": {
      "text/html": [
       "<div>\n",
       "<style scoped>\n",
       "    .dataframe tbody tr th:only-of-type {\n",
       "        vertical-align: middle;\n",
       "    }\n",
       "\n",
       "    .dataframe tbody tr th {\n",
       "        vertical-align: top;\n",
       "    }\n",
       "\n",
       "    .dataframe thead th {\n",
       "        text-align: right;\n",
       "    }\n",
       "</style>\n",
       "<table border=\"1\" class=\"dataframe\">\n",
       "  <thead>\n",
       "    <tr style=\"text-align: right;\">\n",
       "      <th></th>\n",
       "      <th>Address</th>\n",
       "      <th>Area sf</th>\n",
       "      <th>Rent/mo</th>\n",
       "      <th>Type</th>\n",
       "      <th>geometry</th>\n",
       "      <th>Main Address</th>\n",
       "      <th>latitude</th>\n",
       "      <th>longitude</th>\n",
       "      <th>Rent/mo/sf</th>\n",
       "    </tr>\n",
       "    <tr>\n",
       "      <th>Id</th>\n",
       "      <th></th>\n",
       "      <th></th>\n",
       "      <th></th>\n",
       "      <th></th>\n",
       "      <th></th>\n",
       "      <th></th>\n",
       "      <th></th>\n",
       "      <th></th>\n",
       "      <th></th>\n",
       "    </tr>\n",
       "  </thead>\n",
       "  <tbody>\n",
       "    <tr>\n",
       "      <th>288542</th>\n",
       "      <td>WeWork Office - 1050 King St W</td>\n",
       "      <td>25.0</td>\n",
       "      <td>1920.0</td>\n",
       "      <td>Office</td>\n",
       "      <td>POINT (-79.42159 43.64029)</td>\n",
       "      <td>1050 King St W</td>\n",
       "      <td>43.640287</td>\n",
       "      <td>-79.421592</td>\n",
       "      <td>76.8</td>\n",
       "    </tr>\n",
       "  </tbody>\n",
       "</table>\n",
       "</div>"
      ],
      "text/plain": [
       "                               Address  Area sf  Rent/mo    Type  \\\n",
       "Id                                                                 \n",
       "288542  WeWork Office - 1050 King St W     25.0   1920.0  Office   \n",
       "\n",
       "                          geometry    Main Address   latitude  longitude  \\\n",
       "Id                                                                         \n",
       "288542  POINT (-79.42159 43.64029)  1050 King St W  43.640287 -79.421592   \n",
       "\n",
       "        Rent/mo/sf  \n",
       "Id                  \n",
       "288542        76.8  "
      ]
     },
     "execution_count": 361,
     "metadata": {},
     "output_type": "execute_result"
    }
   ],
   "source": [
    "retail_gdf.loc[retail_gdf.index == '288542']"
   ]
  },
  {
   "cell_type": "markdown",
   "metadata": {},
   "source": [
    "Similar to the other listing (listed by WeWork, the same company as the one above), the price is not reliable so we will remove this one too."
   ]
  },
  {
   "cell_type": "code",
   "execution_count": 362,
   "metadata": {},
   "outputs": [],
   "source": [
    "retail_gdf = retail_gdf.loc[retail_gdf.index != '288542']"
   ]
  },
  {
   "cell_type": "code",
   "execution_count": 201,
   "metadata": {},
   "outputs": [
    {
     "data": {
      "image/png": "[encoded data removed]",
      "text/plain": [
       "<Figure size 842.4x595.44 with 1 Axes>"
      ]
     },
     "metadata": {},
     "output_type": "display_data"
    }
   ],
   "source": [
    "retail_gdf.hist(grid=False)"
   ]
  },
  {
   "cell_type": "code",
   "execution_count": 197,
   "metadata": {},
   "outputs": [
    {
     "data": {
      "image/png": "[encoded data removed]",
      "text/plain": [
       "<Figure size 842.4x595.44 with 2 Axes>"
      ]
     },
     "metadata": {},
     "output_type": "display_data"
    }
   ],
   "source": [
    "fig, ax = plt.subplots(1,2)\n",
    "\n",
    "sns.boxplot(data=retail_gdf, x='Type', y='Area sf', ax=ax[0]);\n",
    "sns.boxplot(data=retail_gdf, x='Type', y='Rent/mo/sf', ax=ax[1]);"
   ]
  },
  {
   "cell_type": "markdown",
   "metadata": {},
   "source": [
    "Below is a distribution of the rent per month per squarefoot by type of space. Please note that the scale is log10."
   ]
  },
  {
   "cell_type": "code",
   "execution_count": 363,
   "metadata": {},
   "outputs": [
    {
     "data": {
      "image/png": "[encoded data removed]",
      "text/plain": [
       "<Figure size 842.4x595.44 with 1 Axes>"
      ]
     },
     "metadata": {},
     "output_type": "display_data"
    }
   ],
   "source": [
    "sns.histplot(retail_gdf, x='Rent/mo/sf', hue='Type', multiple='stack', log_scale=True);"
   ]
  },
  {
   "cell_type": "markdown",
   "metadata": {},
   "source": [
    "We can see that the distributions for each type of space are centred near the same area. This indicates that the rent prices are consistent across the different types of spaces. That is, regardless of what type of space you are going to rent, the rent per squarefoot is similar to other types of spaces.\n",
    "<br><br>\n",
    "One interesting thing that we see from this plot is that for the 'Office' type, the distribution looks bimodal. In this context, it means that there are certain office spaces that charge more for rent compared to other types. Let's look at a scatterplot of the geographical coordinates of the spaces. The goal is to try to find where these more expensive office spaces are located. Below is the scatterplot coloured by the type of space. You can use your mouse to move the plot around and zoom in/out of areas."
   ]
  },
  {
   "cell_type": "code",
   "execution_count": 59,
   "metadata": {},
   "outputs": [
    {
     "data": {
      "application/vnd.plotly.v1+json": {
       "config": {
        "plotlyServerURL": "https://plot.ly"
       },
       "data": [
        {
         "customdata": [
          [
           17.575757575757574
          ],
          [
           21.21212121212121
          ],
          [
           23.076923076923077
          ],
          [
           18.857142857142858
          ],
          [
           6.916666666666667
          ],
          [
           5.54114595614242
          ],
          [
           4.7272727272727275
          ],
          [
           5.9
          ],
          [
           5.72289156626506
          ],
          [
           4.266666666666667
          ],
          [
           5.65
          ],
          [
           6.093649775497114
          ],
          [
           16.74418604651163
          ],
          [
           5.353535353535354
          ],
          [
           11.75
          ],
          [
           3.5414473684210526
          ],
          [
           11.428571428571429
          ],
          [
           5.3
          ],
          [
           3.076923076923077
          ],
          [
           2.4
          ],
          [
           1.5777777777777777
          ],
          [
           21
          ],
          [
           6.153846153846154
          ],
          [
           5.56
          ],
          [
           10
          ],
          [
           4.94
          ],
          [
           10.56
          ],
          [
           7.2
          ],
          [
           8.66
          ],
          [
           6.6
          ],
          [
           3.749809692971327
          ],
          [
           3.5047528517110265
          ],
          [
           3.5013850415512464
          ],
          [
           6.9
          ],
          [
           5
          ],
          [
           3.67
          ],
          [
           2.7977142857142856
          ],
          [
           19.836
          ],
          [
           10.46
          ],
          [
           10.46
          ],
          [
           15.484
          ],
          [
           17.66888888888889
          ],
          [
           10.008
          ],
          [
           10.006666666666666
          ],
          [
           8.725
          ],
          [
           10.006666666666666
          ],
          [
           8.0125
          ],
          [
           9.246666666666666
          ],
          [
           8.32
          ],
          [
           4
          ],
          [
           12.9
          ],
          [
           17.448
          ],
          [
           8.393333333333333
          ],
          [
           10.886666666666667
          ],
          [
           15.04
          ],
          [
           19.86
          ],
          [
           13.824
          ],
          [
           12.728
          ],
          [
           10.008
          ],
          [
           6.651111111111111
          ],
          [
           16.75
          ],
          [
           13.026666666666667
          ],
          [
           11.706666666666667
          ],
          [
           15.1
          ],
          [
           13.8625
          ],
          [
           11.4375
          ],
          [
           6.6
          ],
          [
           6.984
          ],
          [
           12.253333333333334
          ],
          [
           9.212
          ],
          [
           14.0375
          ],
          [
           11.266666666666667
          ],
          [
           8.725
          ],
          [
           14.644444444444444
          ],
          [
           3.310344827586207
          ],
          [
           23.214285714285715
          ],
          [
           22.580645161290324
          ],
          [
           28
          ],
          [
           14
          ],
          [
           11.0875
          ],
          [
           8.873333333333333
          ],
          [
           8.08
          ],
          [
           8.873333333333333
          ],
          [
           11.184444444444445
          ],
          [
           6.8375
          ],
          [
           7.1066666666666665
          ],
          [
           8.46
          ],
          [
           7.886666666666667
          ],
          [
           9.63111111111111
          ],
          [
           12.5
          ],
          [
           13.068
          ],
          [
           13.304444444444444
          ],
          [
           7.406666666666666
          ],
          [
           9.1
          ],
          [
           9.7875
          ],
          [
           11.266666666666667
          ],
          [
           17.66888888888889
          ],
          [
           11.893333333333333
          ],
          [
           14.8625
          ],
          [
           11.477777777777778
          ],
          [
           10.006666666666666
          ],
          [
           10.008
          ],
          [
           12.025
          ],
          [
           13.78
          ],
          [
           13.784
          ],
          [
           19.977777777777778
          ],
          [
           17.66888888888889
          ],
          [
           14.16
          ],
          [
           15.77111111111111
          ],
          [
           8.18
          ],
          [
           12.025
          ],
          [
           13.78
          ],
          [
           25
          ],
          [
           23.333333333333332
          ],
          [
           15.555555555555555
          ],
          [
           18.571428571428573
          ],
          [
           11.266666666666667
          ],
          [
           15.484
          ],
          [
           17.032
          ],
          [
           13.784
          ],
          [
           19.977777777777778
          ],
          [
           19.977777777777778
          ],
          [
           14.625
          ],
          [
           11.893333333333333
          ],
          [
           13.988888888888889
          ],
          [
           12.253333333333334
          ],
          [
           9.246666666666666
          ],
          [
           11.5625
          ],
          [
           9.212
          ],
          [
           15.484
          ],
          [
           8.725
          ],
          [
           8.917777777777777
          ],
          [
           12.253333333333334
          ],
          [
           9.7875
          ],
          [
           9.856
          ],
          [
           16.68
          ],
          [
           4.825
          ],
          [
           8.113333333333333
          ],
          [
           2.3333333333333335
          ],
          [
           6.22
          ],
          [
           4.24
          ],
          [
           9.246666666666666
          ],
          [
           24.285714285714285
          ],
          [
           9.4
          ],
          [
           4.94
          ],
          [
           13.78
          ],
          [
           0.9344450833812536
          ],
          [
           2.5832517140058764
          ],
          [
           2.9578571428571427
          ],
          [
           12.5
          ],
          [
           12
          ],
          [
           13.026666666666667
          ],
          [
           10.006666666666666
          ],
          [
           15.636
          ],
          [
           8.333304827468252
          ],
          [
           10
          ],
          [
           4.62962962962963
          ],
          [
           17.7
          ],
          [
           13.6875
          ],
          [
           8.725
          ],
          [
           10.008
          ],
          [
           1.75
          ],
          [
           13.784
          ],
          [
           11.4375
          ],
          [
           9.212
          ],
          [
           12.253333333333334
          ],
          [
           9.7875
          ],
          [
           11.4375
          ],
          [
           13.026666666666667
          ],
          [
           17.66888888888889
          ],
          [
           1.698
          ],
          [
           2.66
          ],
          [
           1.912
          ],
          [
           0.8333333333333334
          ],
          [
           14.0375
          ],
          [
           2.0828796128251663
          ],
          [
           4.15
          ],
          [
           6.4935064935064934
          ],
          [
           3.416192706590833
          ],
          [
           5.612903225806452
          ],
          [
           7.933333333333334
          ],
          [
           12.5
          ],
          [
           5.843373493975903
          ],
          [
           5.454545454545454
          ],
          [
           16.976744186046513
          ],
          [
           10.964912280701755
          ],
          [
           3.4466666666666668
          ],
          [
           4.903314917127072
          ],
          [
           4.615384615384615
          ],
          [
           6.75
          ],
          [
           2.082474226804124
          ],
          [
           7.625
          ],
          [
           4.4
          ],
          [
           8.6
          ],
          [
           5.7
          ],
          [
           12
          ],
          [
           9.125
          ],
          [
           6.200555911909343
          ],
          [
           13.166666666666666
          ],
          [
           13.166666666666666
          ],
          [
           9.4
          ],
          [
           3.2
          ],
          [
           5.6
          ],
          [
           13.235294117647058
          ],
          [
           3.4705882352941178
          ],
          [
           6.6
          ],
          [
           2.6315789473684212
          ],
          [
           3.5833333333333335
          ],
          [
           3.210526315789474
          ],
          [
           5.3
          ],
          [
           6.25
          ],
          [
           9.285714285714286
          ],
          [
           3.7142857142857144
          ],
          [
           3.2211538461538463
          ],
          [
           4
          ],
          [
           2.6666666666666665
          ],
          [
           1.4545454545454546
          ],
          [
           3.3793103448275863
          ],
          [
           10.46
          ],
          [
           2.4
          ],
          [
           2.4166666666666665
          ],
          [
           8.181818181818182
          ],
          [
           21.416666666666668
          ],
          [
           3.09
          ],
          [
           9.090909090909092
          ],
          [
           3.75
          ],
          [
           3.25
          ],
          [
           3.5
          ],
          [
           15.6
          ],
          [
           16.438356164383563
          ],
          [
           5.090909090909091
          ],
          [
           2.348717948717949
          ],
          [
           4.367816091954023
          ],
          [
           4
          ],
          [
           4
          ],
          [
           4
          ],
          [
           4
          ],
          [
           0.003667033370003667
          ],
          [
           4
          ],
          [
           4
          ],
          [
           4.81
          ],
          [
           4.24
          ],
          [
           5.28
          ],
          [
           5.21
          ],
          [
           6.666666666666667
          ],
          [
           4.81
          ],
          [
           4.33
          ],
          [
           4.24
          ],
          [
           3.77
          ],
          [
           4.24
          ],
          [
           4.33
          ],
          [
           3.77
          ],
          [
           2.64
          ],
          [
           2.63
          ],
          [
           5.28
          ],
          [
           3
          ],
          [
           4.625
          ],
          [
           4.33
          ],
          [
           4
          ],
          [
           4
          ],
          [
           4
          ],
          [
           4
          ],
          [
           4
          ],
          [
           4
          ],
          [
           4
          ],
          [
           4
          ],
          [
           4
          ],
          [
           4
          ],
          [
           3.3
          ],
          [
           3.77
          ],
          [
           6.51
          ],
          [
           12.916
          ],
          [
           6.51
          ],
          [
           4
          ],
          [
           3.86
          ],
          [
           4.24
          ],
          [
           14.953271028037383
          ],
          [
           83.6
          ],
          [
           14.545454545454545
          ],
          [
           14.184444444444445
          ],
          [
           3.058321479374111
          ],
          [
           8.88888888888889
          ],
          [
           4
          ],
          [
           9.212
          ],
          [
           12.253333333333334
          ],
          [
           11.5625
          ],
          [
           9.246666666666666
          ],
          [
           4.316464015773907
          ],
          [
           2.39482940555751
          ],
          [
           2.3949234541719133
          ],
          [
           2.394843568945539
          ],
          [
           2.394891368173811
          ],
          [
           2.3115828092243187
          ],
          [
           3.6789473684210527
          ],
          [
           2.3949390567037625
          ],
          [
           2.3943808532778355
          ],
          [
           2.394750254841998
          ],
          [
           2.3940092165898617
          ],
          [
           2.394529195160442
          ],
          [
           2.3479152426520846
          ],
          [
           4.24
          ],
          [
           4
          ],
          [
           15.192307692307692
          ],
          [
           6.600660066006601
          ],
          [
           4
          ],
          [
           0.02321262766945218
          ],
          [
           4
          ],
          [
           4
          ],
          [
           4.2885906040268456
          ],
          [
           4.288897576231431
          ],
          [
           4
          ],
          [
           0.0032674399607907204
          ],
          [
           4.33
          ],
          [
           4.81
          ],
          [
           6.51
          ],
          [
           3.6411730879815987
          ],
          [
           4.205686521504409
          ],
          [
           3.6324786324786325
          ],
          [
           3.651439920556107
          ],
          [
           4.385964912280702
          ],
          [
           9.25925925925926
          ],
          [
           3.3
          ],
          [
           4
          ],
          [
           4.81
          ],
          [
           4.205263157894737
          ],
          [
           2.4796983758700697
          ],
          [
           2.4799484388427384
          ],
          [
           5.83288117200217
          ],
          [
           5.4163288940359005
          ],
          [
           2.479949874686717
          ],
          [
           2.4795152914021927
          ],
          [
           1.9578947368421054
          ],
          [
           3.260869565217391
          ],
          [
           4.734088867389953
          ],
          [
           17
          ],
          [
           3.241509433962264
          ],
          [
           4.734123242179493
          ],
          [
           4.301425269645609
          ],
          [
           2.5820379965457687
          ],
          [
           4.039
          ],
          [
           4.470588235294118
          ],
          [
           3.037272727272727
          ],
          [
           15.357142857142858
          ],
          [
           15.357142857142858
          ],
          [
           9.67741935483871
          ],
          [
           7.95
          ],
          [
           5.37
          ],
          [
           2.6730925875644855
          ],
          [
           2
          ],
          [
           15.357142857142858
          ],
          [
           76.8
          ],
          [
           0.19632907243526712
          ],
          [
           6.705882352941177
          ],
          [
           2.402358962946478
          ],
          [
           2.6729383506805444
          ],
          [
           2
          ],
          [
           5.625
          ],
          [
           11.785714285714286
          ],
          [
           4.2972689075630255
          ],
          [
           2.3479212253829322
          ],
          [
           2.5829764453961457
          ],
          [
           0.915068493150685
          ],
          [
           2.124871794871795
          ],
          [
           0.914572864321608
          ],
          [
           7.5
          ],
          [
           2.124773960216998
          ],
          [
           8
          ],
          [
           2.4997087944088525
          ],
          [
           7.5
          ],
          [
           4.550561797752809
          ],
          [
           3.196
          ],
          [
           10
          ],
          [
           5.41650390625
          ],
          [
           2.5
          ],
          [
           2.4018492176386914
          ],
          [
           2.6726768377253816
          ],
          [
           2.5
          ],
          [
           3.473913043478261
          ],
          [
           7.222222222222222
          ],
          [
           2.5816733067729083
          ],
          [
           2.5827232796486093
          ],
          [
           1.4975369458128078
          ],
          [
           56.25
          ],
          [
           3.070666666666667
          ],
          [
           3.3332
          ],
          [
           1.5791459781529296
          ],
          [
           1.181578947368421
          ],
          [
           2.4997684113015284
          ],
          [
           3.3330638641875505
          ],
          [
           2.9162210338680925
          ],
          [
           1.5909090909090908
          ],
          [
           2.4794816414686824
          ],
          [
           4.542586750788644
          ],
          [
           2.498820754716981
          ],
          [
           2.4994736842105265
          ],
          [
           2.083268933539413
          ],
          [
           3.8078108941418294
          ],
          [
           3.625
          ],
          [
           2.1343873517786562
          ],
          [
           1.838
          ],
          [
           2.5
          ],
          [
           3.070666666666667
          ],
          [
           12.666666666666666
          ],
          [
           2.0833333333333335
          ],
          [
           2.901023890784983
          ],
          [
           1.9077927376580988
          ],
          [
           2.134911580148317
          ],
          [
           0.9165120593692022
          ],
          [
           0.9162491052254832
          ],
          [
           0.916256157635468
          ],
          [
           1.1662887377173092
          ],
          [
           3.3333333333333335
          ],
          [
           5.735294117647059
          ],
          [
           3
          ],
          [
           0.9162946428571429
          ],
          [
           3.4996923076923077
          ],
          [
           4.416158536585366
          ],
          [
           3.85
          ],
          [
           2.333282904689864
          ],
          [
           5.598052851182198
          ],
          [
           3.499585749792875
          ],
          [
           2.5925925925925926
          ],
          [
           7.222222222222222
          ],
          [
           11.768292682926829
          ],
          [
           10
          ],
          [
           1.6663636363636363
          ],
          [
           3
          ],
          [
           3
          ],
          [
           4.334650856389987
          ],
          [
           4.68384074941452
          ],
          [
           4.166159464394401
          ],
          [
           3.7657593123209168
          ],
          [
           3.766248574686431
          ],
          [
           3.3327272727272725
          ],
          [
           2.5719769673704413
          ],
          [
           1.4976030680728667
          ],
          [
           3.641352063213345
          ],
          [
           3.765957446808511
          ],
          [
           1.8461538461538463
          ],
          [
           14.285714285714286
          ],
          [
           2.5
          ],
          [
           4.850451656072265
          ],
          [
           3.3512544802867383
          ],
          [
           1.8580046403712296
          ],
          [
           2
          ],
          [
           2.256637168141593
          ],
          [
           2.918118466898955
          ],
          [
           3.25
          ],
          [
           12.195121951219512
          ],
          [
           4.178072625698324
          ],
          [
           4.095759233926128
          ],
          [
           3.5583136327817178
          ],
          [
           4.041072447233314
          ],
          [
           5.409450502458841
          ],
          [
           2.01
          ],
          [
           2.706474820143885
          ],
          [
           2.7074592074592077
          ],
          [
           4.989907255864702
          ],
          [
           5
          ],
          [
           4.141013384321224
          ],
          [
           3.06044376434583
          ],
          [
           2.2014205986808726
          ],
          [
           1.1756842105263159
          ],
          [
           2.7263339070567985
          ],
          [
           2.728
          ],
          [
           2.7289719626168223
          ],
          [
           2.0331703910614527
          ],
          [
           3
          ],
          [
           1.859375
          ],
          [
           2.281211115719618
          ],
          [
           3.256159728122345
          ],
          [
           3.8115038115038113
          ],
          [
           2.7274633123689727
          ],
          [
           3.3327495621716285
          ],
          [
           2
          ],
          [
           3.2934782608695654
          ],
          [
           3.3333333333333335
          ],
          [
           4.117647058823529
          ],
          [
           3.5185185185185186
          ],
          [
           2.3255813953488373
          ],
          [
           2.6228571428571428
          ],
          [
           2.9914529914529915
          ],
          [
           2.316790352504638
          ],
          [
           2.9
          ],
          [
           2.2222222222222223
          ],
          [
           4.074074074074074
          ],
          [
           0.52
          ],
          [
           4.666666666666667
          ],
          [
           0.7
          ],
          [
           2.65625
          ],
          [
           2.3182492581602374
          ],
          [
           3.611111111111111
          ],
          [
           2.022342064714946
          ],
          [
           3.888888888888889
          ],
          [
           3.5625
          ],
          [
           1.75
          ],
          [
           4.227212681638045
          ],
          [
           3.1724137931034484
          ],
          [
           4.222222222222222
          ],
          [
           1.7222222222222223
          ],
          [
           2.5
          ],
          [
           2.909090909090909
          ],
          [
           1.68
          ],
          [
           0.15625
          ],
          [
           1.7391304347826086
          ],
          [
           4.220456802383317
          ],
          [
           1.9081818181818182
          ],
          [
           3.3185840707964602
          ],
          [
           11
          ]
         ],
         "hovertemplate": "Type=Office<br>longitude=%{x}<br>latitude=%{y}<br>Rent/mo/sf=%{customdata[0]}<extra></extra>",
         "legendgroup": "Office",
         "marker": {
          "color": "#636efa",
          "symbol": "circle"
         },
         "mode": "markers",
         "name": "Office",
         "orientation": "v",
         "showlegend": true,
         "type": "scatter",
         "x": [
          -79.37050385639598,
          -79.37050385639598,
          -79.37050385639598,
          -79.37050385639598,
          -79.3891118,
          -79.3963529,
          -79.392018,
          -79.3747795,
          -79.3942306,
          -79.4093183,
          -79.3913917,
          -79.369318,
          -79.3905108,
          -79.4250631,
          -79.377825,
          -79.3752557,
          -79.37050385639598,
          -79.4164324,
          -79.4240857512323,
          -79.48685361058698,
          -79.3863286,
          -79.37050385639598,
          -79.4444839,
          -79.4138222,
          -79.3885207,
          -79.3980274,
          -79.3916295,
          -79.4561324,
          -79.3950933,
          -79.3885207,
          -79.40109375,
          -79.3960808,
          -79.3960808,
          -79.4212243,
          -79.4212243,
          -79.3980274,
          -79.54824763168511,
          -79.4212243,
          -79.3980274,
          -79.42844651954552,
          -79.4100101,
          -79.4100101,
          -79.3967283,
          -79.3967283,
          -79.3765266,
          -79.3765266,
          -79.4161676,
          -79.4161676,
          -79.4161676,
          -79.56178981003755,
          -79.2402104,
          -79.2402104,
          -79.2402104,
          -79.4561324,
          -79.3885207,
          -79.4212243,
          -79.3885207,
          -79.3950933,
          -79.3765266,
          -79.3765266,
          -79.2402104,
          -79.42844651954552,
          -79.3950933,
          -79.3916295,
          -79.4212243,
          -79.3980274,
          -79.56178981003755,
          -79.56178981003755,
          -79.4161676,
          -79.4161676,
          -79.4100101,
          -79.4100101,
          -79.3967283,
          -79.3967283,
          -79.3973987,
          -79.396577,
          -79.396577,
          -79.396577,
          -79.396577,
          -79.3877234,
          -79.3877234,
          -79.3877234,
          -79.3876326,
          -79.3798072,
          -79.330512,
          -79.330512,
          -79.330512,
          -79.5213041,
          -79.5213041,
          -79.3766921,
          -79.3766921,
          -79.3766921,
          -79.2921838242297,
          -79.2921838242297,
          -79.389803,
          -79.389803,
          -79.389803,
          -79.38324245283977,
          -79.38324245283977,
          -79.38324245283977,
          -79.378626,
          -79.378626,
          -79.3786575,
          -79.3786575,
          -79.3786575,
          -79.3786575,
          -79.38725203134258,
          -79.3950933,
          -79.3950933,
          -79.2358013,
          -79.3781691,
          -79.3781691,
          -79.396577,
          -79.396577,
          -79.396577,
          -79.396577,
          -79.38725203134258,
          -79.38725203134258,
          -79.3950933,
          -79.3781691,
          -79.3781691,
          -79.38169179283025,
          -79.3798072,
          -79.3798072,
          -79.3798072,
          -79.330512,
          -79.402611,
          -79.402611,
          -79.402611,
          -79.389803,
          -79.378626,
          -79.378626,
          -79.402611,
          -79.5213041,
          -79.5213041,
          -79.3766921,
          -79.2921838242297,
          -79.2921838242297,
          -79.3577602,
          -79.3795289,
          -79.42844651954552,
          -79.397184,
          -79.39013598,
          -79.3795289,
          -79.42844651954552,
          -79.38169179283025,
          -79.356049,
          -79.3577602,
          -79.3534005,
          -79.39013598,
          -79.39013598,
          -79.3795289,
          -79.3816193,
          -79.3795289,
          -79.3541413,
          -79.3810525,
          -79.3767837,
          -79.3795289,
          -79.42844651954552,
          -79.3816193,
          -79.3816193,
          -79.396577,
          -79.38169179283025,
          -79.397184,
          -79.397184,
          -79.397184,
          -79.38725203134258,
          -79.3950933,
          -79.3743382,
          -79.3743382,
          -79.4519725,
          -79.383445,
          -79.4795675,
          -79.383445,
          -79.3743382,
          -79.4889872,
          -79.3534005,
          -79.4025207080566,
          -79.3864328,
          -79.3884206,
          -79.3468855,
          -79.3877234,
          -79.3938392,
          -79.4260299,
          -79.39043240000001,
          -79.4200552,
          -79.46465242966357,
          -79.4180586,
          -79.4466674,
          -79.41661331866659,
          -79.4675724,
          -79.4444839,
          -79.3986497,
          -79.3854319,
          -79.4221135,
          -79.37786750000001,
          -79.3742887,
          -79.3863286,
          -79.3865252,
          -79.3838622,
          -79.3750025,
          -79.3913917,
          -79.3891118,
          -79.5271882,
          -79.4015641,
          -79.32950751636001,
          -79.46399308,
          -79.35474025925926,
          -79.59091414999999,
          -79.4120602,
          -79.4860692,
          -79.4239989,
          -79.3151687,
          -79.42402658538717,
          -79.3764484,
          -79.4350722,
          -79.35702280387228,
          -79.3972251,
          -79.4211262,
          -79.4322128,
          -79.4322128,
          -79.4242409,
          -79.3870293649536,
          -79.56178981003755,
          -79.4242409,
          -79.485507,
          -79.485507,
          -79.485507,
          -79.34666275000001,
          -79.32327372644123,
          -79.4242409,
          -79.331129,
          -79.42397058563493,
          -79.38725203134258,
          -79.2358013,
          -79.3950933,
          -79.378626,
          -79.3781691,
          -79.2921838242297,
          -79.2402104,
          -79.4100101,
          -79.3765266,
          -79.3798072,
          -79.3950933,
          -79.34666275000001,
          -79.38725203134258,
          -79.402611,
          -79.378626,
          -79.2402104,
          -79.3766921,
          -79.33958996491228,
          -79.3876326,
          -79.5213041,
          -79.2921838242297,
          -79.38324245283977,
          -79.390599,
          -79.485507,
          -79.4161676,
          -79.3786575,
          -79.4211262,
          -79.3877234,
          -79.3876326,
          -79.389803,
          -79.330512,
          -79.5213041,
          -79.4100101,
          -79.33958996491228,
          -79.3766921,
          -79.330512,
          -79.3877234,
          -79.3781691,
          -79.38324245283977,
          -79.3786575,
          -79.3967283,
          -79.2358013,
          -79.3967283,
          -79.34666275000001,
          -79.379587,
          -79.34666275000001,
          -79.4211262,
          -79.42399755815934,
          -79.41078255281711,
          -79.3765266,
          -79.33958996491228,
          -79.33958996491228,
          -79.33958996491228,
          -79.33958996491228,
          -79.3839416,
          -79.3469191,
          -79.3469191,
          -79.3469191,
          -79.3469191,
          -79.3469191,
          -79.39457985,
          -79.3469191,
          -79.3469191,
          -79.3469191,
          -79.3469191,
          -79.3469191,
          -79.331129,
          -79.3816193,
          -79.3816193,
          -79.4230186,
          -79.506753612,
          -79.3798072,
          -79.3885207,
          -79.402611,
          -79.38324245283977,
          -79.389429,
          -79.389429,
          -79.3743382,
          -79.38169179283025,
          -79.397184,
          -79.389803,
          -79.38169179283025,
          -79.4260542,
          -79.389429,
          -79.46330883076922,
          -79.41399444198885,
          -79.4117685,
          -79.5273628,
          -79.39457985,
          -79.397184,
          -79.3743382,
          -79.389429,
          -79.343013,
          -79.343013,
          -79.374674,
          -79.374674,
          -79.343013,
          -79.343013,
          -79.3538619,
          -79.39457985,
          -79.3849782,
          -79.37955671553408,
          -79.39457985,
          -79.3849782,
          -79.3895821,
          -79.3794711,
          -79.3820288,
          -79.4242409,
          -79.4394142,
          -79.3774803,
          -79.3774803,
          -79.3774803,
          -79.5314958,
          -79.4128946,
          -79.33524396266623,
          -79.54151525555555,
          -79.3774803,
          -79.4215921,
          -79.4102926,
          -79.55749924470383,
          -79.2781286,
          -79.33524396266623,
          -79.3416135,
          -79.3774803,
          -79.3774803,
          -79.376365,
          -79.331129,
          -79.3794711,
          -79.47612068506155,
          -79.28651998976278,
          -79.4758,
          -79.3907408,
          -79.28651998976278,
          -79.4498388,
          -79.389728,
          -79.385443,
          -79.5669264,
          -79.39457985,
          -79.4030555,
          -79.385443,
          -79.389728,
          -79.2781286,
          -79.33524396266623,
          -79.52398915567795,
          -79.39457985,
          -79.4081989,
          -79.3794711,
          -79.3794711,
          -79.26069925959646,
          -79.34666275000001,
          -79.3706721126347,
          -79.3761432,
          -79.5171479,
          -79.27423373183593,
          -79.52398915567795,
          -79.5213041,
          -79.4233654,
          -79.3447748,
          -79.343013,
          -79.5669264,
          -79.52398915567795,
          -79.52398915567795,
          -79.3843684,
          -79.4260542,
          -79.3928943,
          -79.39938168016465,
          -79.2732214,
          -79.4042453,
          -79.3706721126347,
          -79.366839,
          -79.4369312,
          -79.38536016666666,
          -79.33572699999999,
          -79.39938168016465,
          -79.4328411,
          -79.4328411,
          -79.4328411,
          -79.4749974,
          -79.4417625,
          -79.4170762,
          -79.4242409,
          -79.4328411,
          -79.400068,
          -79.440001,
          -79.379657,
          -79.3754841,
          -79.38376361570594,
          -79.4478554,
          -79.41342870000001,
          -79.4081989,
          -79.4109103,
          -79.4483844,
          -79.3875905,
          -79.4453433,
          -79.3416135,
          -79.4109406,
          -79.3885991,
          -79.4015608,
          -79.4260542,
          -79.4260542,
          -79.4417625,
          -79.37561766153847,
          -79.26069925959646,
          -79.4260542,
          -79.4260542,
          -79.44246444000001,
          -79.4479594,
          -79.3308005,
          -79.3885991,
          -79.3586856,
          -79.376634,
          -79.396175,
          -79.4423076,
          -79.41984306549521,
          -79.40262090909091,
          -79.3966531,
          -79.4180586,
          -79.3994407,
          -79.4260542,
          -79.3913459,
          -79.3866475,
          -79.40475846666666,
          -79.3751537,
          -79.3751537,
          -79.3761064,
          -79.3886431,
          -79.400218025,
          -79.3921074,
          -79.3984006,
          -79.2732214,
          -79.3958172,
          -79.3958172,
          -79.3958172,
          -79.35704940000001,
          -79.38652,
          -79.4108911,
          -79.4643526,
          -79.40835510588235,
          -79.3406728,
          -79.3958172,
          -79.395204,
          -79.503525,
          -79.4109406,
          -79.395204,
          -79.4030618,
          -79.3767948,
          -79.3890561,
          -79.4027717,
          -79.4585445,
          -79.3820688,
          -79.3577541,
          -79.3516571,
          -79.3768696,
          -79.3652776,
          -79.374824,
          -79.3652776,
          -79.424894,
          -79.3981582,
          -79.3768696,
          -79.42901,
          -79.3788023,
          -79.35405,
          -79.3485668,
          -79.4031705,
          -79.3755151,
          -79.4240806,
          -79.3375322,
          -79.3855095,
          -79.4242349,
          -79.3883502,
          -79.3831522,
          -79.3548757,
          -79.4217797,
          -79.3701351,
          -79.3880643,
          -79.3842376
         ],
         "xaxis": "x",
         "y": [
          43.6538929143555,
          43.6538929143555,
          43.6538929143555,
          43.6538929143555,
          43.648593250000005,
          43.6487529,
          43.647388,
          43.648661,
          43.6878836,
          43.6452519,
          43.6477046,
          43.651117,
          43.6684544,
          43.639276699999996,
          43.649248,
          43.6526051,
          43.6538929143555,
          43.6388738,
          43.637214208597136,
          43.647726659825885,
          43.6474997,
          43.6538929143555,
          43.6535496,
          43.7704154,
          43.6715668,
          43.6416255,
          43.6507625,
          43.6646587,
          43.6881101,
          43.6715668,
          43.64433208333333,
          43.6968937,
          43.6968937,
          43.6400917,
          43.6400917,
          43.6416255,
          43.61938655,
          43.6400917,
          43.6416255,
          43.64375125,
          43.7594944,
          43.7594944,
          43.6452989,
          43.6452989,
          43.6497214,
          43.6497214,
          43.7808689,
          43.7808689,
          43.7808689,
          43.64727035,
          43.8784572,
          43.8784572,
          43.8784572,
          43.6646587,
          43.6715668,
          43.6400917,
          43.6715668,
          43.6881101,
          43.6497214,
          43.6497214,
          43.8784572,
          43.64375125,
          43.6881101,
          43.6507625,
          43.6400917,
          43.6416255,
          43.64727035,
          43.64727035,
          43.7808689,
          43.7808689,
          43.7594944,
          43.7594944,
          43.6452989,
          43.6452989,
          43.6521389,
          43.6466733,
          43.6466733,
          43.6466733,
          43.6466733,
          43.6657302,
          43.6657302,
          43.6657302,
          43.6544421,
          43.654215,
          43.7701163,
          43.7701163,
          43.7701163,
          43.6453826,
          43.6453826,
          43.6506875,
          43.6506875,
          43.6506875,
          43.813418999999996,
          43.813418999999996,
          43.670972,
          43.670972,
          43.670972,
          43.648417949999995,
          43.648417949999995,
          43.648417949999995,
          43.651582,
          43.651582,
          43.6469242,
          43.6469242,
          43.6469242,
          43.6469242,
          43.6704731,
          43.6881101,
          43.6881101,
          43.7886794,
          43.6409478,
          43.6409478,
          43.6466733,
          43.6466733,
          43.6466733,
          43.6466733,
          43.6704731,
          43.6704731,
          43.6881101,
          43.6409478,
          43.6409478,
          43.6487681,
          43.654215,
          43.654215,
          43.654215,
          43.7701163,
          43.7252902,
          43.7252902,
          43.7252902,
          43.670972,
          43.651582,
          43.651582,
          43.7252902,
          43.6453826,
          43.6453826,
          43.6506875,
          43.813418999999996,
          43.813418999999996,
          43.7612175,
          43.6461841,
          43.64375125,
          43.698483,
          43.67892919,
          43.6461841,
          43.64375125,
          43.6487681,
          43.6569573,
          43.7612175,
          43.6468281,
          43.67892919,
          43.67892919,
          43.6461841,
          43.6558436,
          43.6461841,
          43.7580704,
          43.650256,
          43.6717587,
          43.6461841,
          43.64375125,
          43.6558436,
          43.6558436,
          43.6466733,
          43.6487681,
          43.698483,
          43.698483,
          43.698483,
          43.6704731,
          43.6881101,
          43.6533611,
          43.6533611,
          43.7008854,
          43.74152545,
          43.7697442,
          43.74152545,
          43.6533611,
          43.7645938,
          43.6468281,
          43.73846405501011,
          43.6557636,
          43.6546799,
          43.6565395,
          43.6657302,
          43.6879606,
          43.6392151,
          43.6682592,
          43.6383965,
          43.67116869902863,
          43.6385977,
          43.6558102,
          43.63847439831822,
          43.7698015,
          43.6535496,
          43.6474703,
          43.6468458,
          43.64340075,
          43.6492395,
          43.6469537,
          43.6474997,
          43.6473946,
          43.655706,
          43.6489563,
          43.6477046,
          43.648593250000005,
          43.6341374,
          43.6529415,
          43.728687,
          43.66962304,
          43.67686551851852,
          43.69847393333333,
          43.6512073,
          43.6478843,
          43.6376126,
          43.6851729,
          43.63707908099523,
          43.6508556,
          43.7370017,
          43.65711225,
          43.6517892,
          43.6383192,
          43.776345,
          43.776345,
          43.6374371,
          43.6535693,
          43.64727035,
          43.6374371,
          43.619553,
          43.619553,
          43.619553,
          43.65658725,
          43.73723355604501,
          43.6374371,
          43.772829,
          43.636942638821004,
          43.6704731,
          43.7886794,
          43.6881101,
          43.651582,
          43.6409478,
          43.813418999999996,
          43.8784572,
          43.7594944,
          43.6497214,
          43.654215,
          43.6881101,
          43.65658725,
          43.6704731,
          43.7252902,
          43.651582,
          43.8784572,
          43.6506875,
          43.727185,
          43.6544421,
          43.6453826,
          43.813418999999996,
          43.648417949999995,
          43.648354,
          43.619553,
          43.7808689,
          43.6469242,
          43.6383192,
          43.6657302,
          43.6544421,
          43.670972,
          43.7701163,
          43.6453826,
          43.7594944,
          43.727185,
          43.6506875,
          43.7701163,
          43.6657302,
          43.6409478,
          43.648417949999995,
          43.6469242,
          43.6452989,
          43.7886794,
          43.6452989,
          43.65658725,
          43.6521132,
          43.65658725,
          43.6383192,
          43.63701128646797,
          43.66317345,
          43.6497214,
          43.727185,
          43.727185,
          43.727185,
          43.727185,
          43.6610083,
          43.7536499,
          43.7536499,
          43.7536499,
          43.7536499,
          43.7536499,
          43.648401050000004,
          43.7536499,
          43.7536499,
          43.7536499,
          43.7536499,
          43.7536499,
          43.772829,
          43.6558436,
          43.6558436,
          43.6624471,
          43.708172588000004,
          43.654215,
          43.6715668,
          43.7252902,
          43.648417949999995,
          43.670135,
          43.670135,
          43.6533611,
          43.6487681,
          43.698483,
          43.670972,
          43.6487681,
          43.6363749,
          43.670135,
          43.73155786923077,
          43.768424350000004,
          43.6422106,
          43.6341017,
          43.648401050000004,
          43.698483,
          43.6533611,
          43.670135,
          43.7072831,
          43.7072831,
          43.64973,
          43.64973,
          43.7072831,
          43.7072831,
          43.6416527,
          43.648401050000004,
          43.6597907,
          43.6494883,
          43.648401050000004,
          43.6597907,
          43.6694974,
          43.7107838,
          43.6497867,
          43.6374371,
          43.6589335,
          43.6416563,
          43.6416563,
          43.6416563,
          43.646025,
          43.7682873,
          43.77137996107716,
          43.62619517777778,
          43.6416563,
          43.6402867,
          43.7610863,
          43.637233300000005,
          43.7301282,
          43.77137996107716,
          43.660609,
          43.6416563,
          43.6416563,
          43.651654,
          43.772829,
          43.7107838,
          43.780316886758,
          43.780933000000005,
          43.7795651,
          43.6701577,
          43.780933000000005,
          43.6947219,
          43.707974,
          43.658056,
          43.6455145,
          43.648401050000004,
          43.6437172,
          43.658056,
          43.707974,
          43.7301282,
          43.77137996107716,
          43.633455,
          43.648401050000004,
          43.7617521,
          43.7107838,
          43.7107838,
          43.79452960202151,
          43.65658725,
          43.653668833006854,
          43.7076261,
          43.6143052,
          43.77551338876773,
          43.633455,
          43.6453826,
          43.6363231,
          43.6598691,
          43.7072831,
          43.6455145,
          43.633455,
          43.633455,
          43.7094078,
          43.6363749,
          43.6478378,
          43.70735415,
          43.7730832,
          43.6573206,
          43.653668833006854,
          43.653802,
          43.636642,
          43.66708722222222,
          43.7242665,
          43.70735415,
          43.7186581,
          43.7186581,
          43.7186581,
          43.7671757,
          43.6367274,
          43.679599333333336,
          43.6374371,
          43.7186581,
          43.645926,
          43.6732025,
          43.6536794,
          43.6529846,
          43.64967865,
          43.653817,
          43.70342342,
          43.7617521,
          43.6650534,
          43.7535829,
          43.6659781,
          43.6595252,
          43.660609,
          43.7601989,
          43.6503103,
          43.67706473333333,
          43.6363749,
          43.6363749,
          43.6367274,
          43.707343253846155,
          43.79452960202151,
          43.6363749,
          43.6363749,
          43.6782131,
          43.6542704,
          43.7718045,
          43.6503103,
          43.6567396,
          43.649501,
          43.707044,
          43.6689773,
          43.79785498594249,
          43.64877690909091,
          43.6693709,
          43.6385977,
          43.7066748,
          43.6363749,
          43.6801895,
          43.6473875,
          43.647846099999995,
          43.7051919,
          43.7051919,
          43.6477934,
          43.6546209,
          43.675262075,
          43.6839017,
          43.7082166,
          43.7730832,
          43.7645158,
          43.7645158,
          43.7645158,
          43.65738922857143,
          43.6495814,
          43.6424341,
          43.6655327,
          43.64493714117647,
          43.6607682,
          43.7645158,
          43.6488305,
          43.6493982,
          43.7601989,
          43.6488305,
          43.6686294,
          43.6717966,
          43.6501747,
          43.7282363,
          43.6676844,
          43.7102643,
          43.6798388,
          43.6777577,
          43.6716822,
          43.6548992,
          43.6488987,
          43.6548992,
          43.6492593,
          43.6473564,
          43.6716822,
          43.7004693,
          43.6600471,
          43.6773576,
          43.6780317,
          43.6688341,
          43.7075911,
          43.6370759,
          43.6557668,
          43.6665313,
          43.6371291,
          43.6747212,
          43.6574583,
          43.6767138,
          43.6393628,
          43.6640145,
          43.7086078,
          43.6631625
         ],
         "yaxis": "y"
        },
        {
         "customdata": [
          [
           2.26
          ],
          [
           2.4163346613545817
          ],
          [
           0.9100642398286938
          ],
          [
           7.3328
          ],
          [
           5.25
          ],
          [
           2.32
          ],
          [
           2.5833333333333335
          ],
          [
           2.825
          ],
          [
           2.75
          ],
          [
           3.598
          ],
          [
           1.9165625
          ],
          [
           4.4158986175115205
          ],
          [
           3.037272727272727
          ],
          [
           3.2288724501232906
          ],
          [
           3.1666666666666665
          ],
          [
           10.60049019607843
          ],
          [
           10.600397614314115
          ],
          [
           2.090909090909091
          ],
          [
           5
          ],
          [
           3.8761651131824233
          ],
          [
           11.082307692307692
          ],
          [
           3.7496774193548386
          ],
          [
           4.582978723404255
          ],
          [
           10.6
          ],
          [
           0.8332901554404145
          ],
          [
           4.403111739745403
          ],
          [
           3.5
          ],
          [
           4.2105263157894735
          ],
          [
           2.4996446339729923
          ],
          [
           4.083216783216783
          ],
          [
           0.915
          ],
          [
           2.6666105404950327
          ],
          [
           2.4994640943194
          ],
          [
           3.7498412698412698
          ],
          [
           2.083209509658247
          ],
          [
           4.166666666666667
          ],
          [
           5
          ],
          [
           4.333333333333333
          ],
          [
           2.3743475018642806
          ],
          [
           11.25
          ],
          [
           2.537071362372567
          ],
          [
           3.749972964204607
          ],
          [
           2.915129151291513
          ],
          [
           2.9166666666666665
          ],
          [
           3.3330882352941176
          ],
          [
           3.75
          ],
          [
           4.164648910411622
          ],
          [
           2.7777777777777777
          ],
          [
           6
          ],
          [
           0.9915384615384616
          ],
          [
           3.178231292517007
          ],
          [
           4.582976445396145
          ],
          [
           2.4164383561643836
          ],
          [
           4.583333333333333
          ],
          [
           1.669195751138088
          ],
          [
           3.5
          ],
          [
           2.0833333333333335
          ],
          [
           1.408450704225352
          ],
          [
           1.8
          ],
          [
           5.714285714285714
          ],
          [
           1.8666666666666667
          ],
          [
           4.333333333333333
          ],
          [
           2.36
          ],
          [
           2.25
          ],
          [
           2
          ],
          [
           5.400778210116732
          ],
          [
           0.8333333333333334
          ],
          [
           4.875
          ],
          [
           4.2
          ],
          [
           1.425
          ],
          [
           2.491408934707904
          ],
          [
           8.571428571428571
          ],
          [
           4.5528455284552845
          ],
          [
           4.0476190476190474
          ],
          [
           5.355303810504634
          ],
          [
           1.730937773882559
          ],
          [
           3.07
          ],
          [
           3.1372549019607843
          ],
          [
           2.2519083969465647
          ],
          [
           5.75
          ],
          [
           2.499
          ],
          [
           1.1666666666666667
          ],
          [
           4.545454545454546
          ],
          [
           5.866666666666666
          ],
          [
           2.5832376578645238
          ],
          [
           3.0384615384615383
          ],
          [
           4.540909090909091
          ],
          [
           2.276867030965392
          ],
          [
           2.3
          ],
          [
           2.6984126984126986
          ],
          [
           4.9504950495049505
          ],
          [
           3.4583333333333335
          ],
          [
           4.833333333333333
          ],
          [
           2.1032504780114722
          ],
          [
           4.109589041095891
          ],
          [
           4
          ],
          [
           2.5384615384615383
          ],
          [
           3.5643564356435644
          ],
          [
           1.2916666666666667
          ],
          [
           5
          ],
          [
           2.230769230769231
          ],
          [
           4.117647058823529
          ],
          [
           3.3333333333333335
          ],
          [
           3.6363636363636362
          ],
          [
           4.769230769230769
          ],
          [
           3
          ],
          [
           1.1671763506625892
          ],
          [
           2.5
          ]
         ],
         "hovertemplate": "Type=Retail<br>longitude=%{x}<br>latitude=%{y}<br>Rent/mo/sf=%{customdata[0]}<extra></extra>",
         "legendgroup": "Retail",
         "marker": {
          "color": "#EF553B",
          "symbol": "circle"
         },
         "mode": "markers",
         "name": "Retail",
         "orientation": "v",
         "showlegend": true,
         "type": "scatter",
         "x": [
          -79.343926,
          -79.3412042,
          -79.4175653,
          -79.3935092,
          -79.373412,
          -79.3904944,
          -79.3411388,
          -79.4662298,
          -79.469202,
          -79.5322205,
          -79.516971,
          -79.2867726,
          -79.4393922,
          -79.4920948,
          -79.4628541,
          -79.3909152,
          -79.3909152,
          -79.4794554,
          -79.4568963,
          -79.22366618042452,
          -79.3916697,
          -79.4060226,
          -79.3712348,
          -79.3908687,
          -79.5111304,
          -79.3310956,
          -79.4628541,
          -79.4007937,
          -79.4305877,
          -79.3997415,
          -79.4324833,
          -79.4324833,
          -79.3937052,
          -79.3932884,
          -79.3841996,
          -79.4034703,
          -79.3997085,
          -79.388878,
          -79.2273126,
          -79.4098204,
          -79.4323021,
          -79.4277081,
          -79.5348447,
          -79.36692,
          -79.3937052,
          -79.4277081,
          -79.3670659,
          -79.47927,
          -79.4008849,
          -79.2744781,
          -79.36429,
          -79.3418471,
          -79.3755279,
          -79.3661842,
          -79.496511,
          -79.4232882,
          -79.4411203,
          -79.3826697,
          -79.3680313,
          -79.3909453,
          -79.4915448,
          -79.3534963,
          -79.424894,
          -79.3891031,
          -79.4749711,
          -79.3826697,
          -79.3517206,
          -79.3693313,
          -79.4799021,
          -79.473815,
          -79.3233489,
          -79.4038137,
          -79.3906811,
          -79.402228,
          -79.3930564,
          -79.3992068,
          -79.4334012,
          -79.3611809,
          -79.2893253,
          -79.373412,
          -79.3701351,
          -79.3652776,
          -79.4088666,
          -79.4839285,
          -79.4040031,
          -79.402676,
          -79.4011049,
          -79.4033401,
          -79.3305061,
          -79.4462269,
          -79.3903124,
          -79.4025697,
          -79.4025697,
          -79.4224791,
          -79.4297082,
          -79.3643432,
          -79.3693313,
          -79.3838754,
          -79.3130263,
          -79.3760312,
          -79.4281608,
          -79.4464584,
          -79.4414131,
          -79.3102405,
          -79.3758706,
          -79.424894,
          -79.4585335,
          -79.4309392
         ],
         "xaxis": "x",
         "y": [
          43.6672444,
          43.6630744,
          43.6634142,
          43.6869966,
          43.6480813,
          43.6786921,
          43.6632965,
          43.6820246,
          43.6651715,
          43.6016534,
          43.7004816,
          43.6806934,
          43.6589431,
          43.7738289,
          43.6655892,
          43.6714599,
          43.6714599,
          43.6656793,
          43.7215267,
          43.742862,
          43.6711804,
          43.6469223,
          43.6503754,
          43.6715929,
          43.7188575,
          43.8180948,
          43.6655892,
          43.6542832,
          43.7001131,
          43.6393466,
          43.7188771,
          43.7188771,
          43.6875829,
          43.6700832,
          43.6636891,
          43.7288337,
          43.7144274,
          43.7668804,
          43.7596382,
          43.7041938,
          43.6524525,
          43.642699,
          43.5945119,
          43.71335,
          43.6875829,
          43.642699,
          43.6525764,
          43.66581,
          43.6576212,
          43.776618,
          43.65241,
          43.6602424,
          43.7055823,
          43.6538637,
          43.6897651,
          43.6754021,
          43.6683813,
          43.6596017,
          43.6652462,
          43.6542451,
          43.6875044,
          43.677034,
          43.6492593,
          43.6501596,
          43.6456634,
          43.6596017,
          43.6657521,
          43.6642046,
          43.6506483,
          43.6903115,
          43.6718605,
          43.7297767,
          43.6451952,
          43.6543794,
          43.6749762,
          43.6458252,
          43.6990639,
          43.6540571,
          43.680453,
          43.6480813,
          43.6640145,
          43.6548992,
          43.6615734,
          43.6496137,
          43.7310425,
          43.6469092,
          43.6530873,
          43.6626034,
          43.6820226,
          43.6967642,
          43.6750351,
          43.7277243,
          43.7277243,
          43.6546128,
          43.7181257,
          43.655765,
          43.6642046,
          43.6619821,
          43.6867838,
          43.7084909,
          43.7137532,
          43.6400138,
          43.6398312,
          43.7086641,
          43.7081211,
          43.6492593,
          43.6747534,
          43.6803474
         ],
         "yaxis": "y"
        },
        {
         "customdata": [
          [
           3.504576659038902
          ],
          [
           2.8166533226581265
          ],
          [
           3.5026833631484795
          ],
          [
           3.5045662100456623
          ],
          [
           3.504291845493562
          ],
          [
           2.644628099173554
          ],
          [
           3.5047961630695443
          ],
          [
           3
          ],
          [
           2.91625
          ],
          [
           1.3412816691505216
          ],
          [
           6.363636363636363
          ],
          [
           3.75
          ],
          [
           1
          ],
          [
           2.7497630331753555
          ],
          [
           0.8538461538461538
          ],
          [
           2.6472534745201854
          ],
          [
           6.019076923076923
          ],
          [
           4.998571428571428
          ],
          [
           4.479166666666667
          ],
          [
           4.166089965397924
          ],
          [
           0.9
          ],
          [
           1.7142857142857142
          ],
          [
           3.7495750708215296
          ],
          [
           2
          ]
         ],
         "hovertemplate": "Type=Medical<br>longitude=%{x}<br>latitude=%{y}<br>Rent/mo/sf=%{customdata[0]}<extra></extra>",
         "legendgroup": "Medical",
         "marker": {
          "color": "#00cc96",
          "symbol": "circle"
         },
         "mode": "markers",
         "name": "Medical",
         "orientation": "v",
         "showlegend": true,
         "type": "scatter",
         "x": [
          -79.3960808,
          -79.21961103804153,
          -79.3960808,
          -79.3960808,
          -79.3960808,
          -79.5486063,
          -79.3960808,
          -79.4533778,
          -79.3684892,
          -79.286387,
          -79.4239857,
          -79.26114422500001,
          -79.5325824,
          -79.3794711,
          -79.26112383125,
          -79.41159,
          -79.3964022,
          -79.4873507,
          -79.4483844,
          -79.4804592,
          -79.2181352267276,
          -79.4040031,
          -79.4833203,
          -79.1979901
         ],
         "xaxis": "x",
         "y": [
          43.6968937,
          43.8084865,
          43.6968937,
          43.6968937,
          43.6968937,
          43.6196133,
          43.6968937,
          43.6611415,
          43.6648746,
          43.8035374,
          43.6369354,
          43.742243725,
          43.6010011,
          43.7107838,
          43.74219378125,
          43.6423,
          43.6749677,
          43.6570375,
          43.7535829,
          43.6237566,
          43.73816388044169,
          43.7310425,
          43.6210637,
          43.7657886
         ],
         "yaxis": "y"
        },
        {
         "customdata": [
          [
           1.4998659157951193
          ],
          [
           1.499902553108556
          ],
          [
           2.499913239632136
          ],
          [
           1.5831305758313057
          ],
          [
           1.75
          ],
          [
           2.5830931796349663
          ],
          [
           1.625
          ],
          [
           2.4210526315789473
          ],
          [
           1.1666666666666667
          ],
          [
           2.6
          ],
          [
           1.8333333333333333
          ],
          [
           2.26
          ],
          [
           4.745254745254745
          ],
          [
           0.35
          ],
          [
           0.6428571428571429
          ],
          [
           6.076923076923077
          ],
          [
           1.3747163695299838
          ],
          [
           1.3747909381176828
          ],
          [
           1.374856815578465
          ],
          [
           1.7722202231018351
          ],
          [
           1.7723919915700737
          ],
          [
           0.6249912837319573
          ],
          [
           1.2083333333333333
          ],
          [
           2.522935779816514
          ],
          [
           2.0832111436950145
          ],
          [
           1.7721123829344434
          ],
          [
           0.7078925956061839
          ],
          [
           1.2245475113122173
          ],
          [
           2.6512576478585994
          ],
          [
           2.888888888888889
          ],
          [
           2.5357142857142856
          ],
          [
           1.6666666666666667
          ],
          [
           4.333333333333333
          ],
          [
           1.8332727272727272
          ]
         ],
         "hovertemplate": "Type=Industrial<br>longitude=%{x}<br>latitude=%{y}<br>Rent/mo/sf=%{customdata[0]}<extra></extra>",
         "legendgroup": "Industrial",
         "marker": {
          "color": "#ab63fa",
          "symbol": "circle"
         },
         "mode": "markers",
         "name": "Industrial",
         "orientation": "v",
         "showlegend": true,
         "type": "scatter",
         "x": [
          -79.30895,
          -79.30895,
          -79.3366819,
          -79.3093746846705,
          -79.464553,
          -79.34323,
          -79.4649102,
          -79.46387966,
          -79.53830935833332,
          -79.44146945844928,
          -79.5003448,
          -79.34408781764706,
          -79.37499078332627,
          -79.48049332608696,
          -79.4566123,
          -79.3713487,
          -79.22882216303064,
          -79.22882216303064,
          -79.22882216303064,
          -79.3581979,
          -79.3581979,
          -79.2798534,
          -79.46179473294933,
          -79.434843,
          -79.30755350000001,
          -79.3581979,
          -79.58597309875167,
          -79.60279498888589,
          -79.434539,
          -79.359272,
          -79.4760116,
          -79.4569403,
          -79.4198816,
          -79.4437629
         ],
         "xaxis": "x",
         "y": [
          43.71861,
          43.71861,
          43.653195,
          43.7187805,
          43.6705631,
          43.66439,
          43.6712337,
          43.669352079999996,
          43.603107325,
          43.66835650968488,
          43.6045777,
          43.66719438235294,
          43.705746630133675,
          43.75605649130435,
          43.7049545,
          43.6616587,
          43.7904135,
          43.7904135,
          43.7904135,
          43.7564778,
          43.7564778,
          43.7352225,
          43.71704149946848,
          43.6705007,
          43.712841999999995,
          43.7564778,
          43.68000538075465,
          43.73832569478915,
          43.670611,
          43.7084091,
          43.6811012,
          43.7031993,
          43.6372962,
          43.6553345
         ],
         "yaxis": "y"
        },
        {
         "customdata": [
          [
           4.754358161648177
          ],
          [
           3.1620553359683794
          ],
          [
           4.545454545454546
          ],
          [
           7.2727272727272725
          ],
          [
           5.417
          ],
          [
           7.2727272727272725
          ],
          [
           2.648866285229922
          ],
          [
           3.115571297389479
          ],
          [
           2.792048246593701
          ],
          [
           2.1043771043771047
          ],
          [
           2.903365202830443
          ],
          [
           2.541650268922996
          ],
          [
           3.7205914948861656
          ],
          [
           2.6782981328435875
          ],
          [
           6.041273983857716
          ],
          [
           6.395120031483668
          ],
          [
           2.6949335249730506
          ],
          [
           4.919323101141282
          ],
          [
           2.965258647076829
          ],
          [
           2.295684113865932
          ],
          [
           2.086985558059938
          ],
          [
           6.395120031483668
          ],
          [
           3.904676751566704
          ],
          [
           3.6394992049094044
          ],
          [
           6.887052341597796
          ],
          [
           4.171884130561817
          ],
          [
           1.942348385036132
          ],
          [
           4.081216202428324
          ],
          [
           3.2139577594123048
          ],
          [
           2.6782981328435875
          ],
          [
           2.686438856651623
          ],
          [
           3.4435261707988976
          ],
          [
           11.95668809305173
          ],
          [
           1.080321935936909
          ],
          [
           5.489679402722881
          ],
          [
           1.730872942994155
          ],
          [
           6.395120031483668
          ],
          [
           4.038703533653029
          ],
          [
           3.0609121518212428
          ],
          [
           3.441230486685032
          ],
          [
           3.7496173859810225
          ],
          [
           3.2777267625752478
          ],
          [
           1.0533138875384864
          ],
          [
           2.5826446280991733
          ],
          [
           4.919323101141282
          ],
          [
           2.504382669671926
          ],
          [
           4.154095063185972
          ],
          [
           2.086985558059938
          ],
          [
           3.243901465245339
          ],
          [
           1.746716173593644
          ],
          [
           3.443526170798898
          ],
          [
           1.8764722322034575
          ],
          [
           3.889909192939496
          ],
          [
           5.05050505050505
          ],
          [
           5.217463895149846
          ],
          [
           3.347872666054484
          ],
          [
           2.595121172196271
          ],
          [
           1.6988062442607896
          ],
          [
           3.792869405517627
          ],
          [
           3.2795487340941887
          ],
          [
           3.622808168262713
          ],
          [
           3.792869405517627
          ],
          [
           2.984389348025712
          ],
          [
           4.038703533653029
          ],
          [
           2.6782981328435875
          ],
          [
           3.355230627957901
          ],
          [
           6.395120031483668
          ],
          [
           2.2068189223614447
          ],
          [
           2.4487297214569943
          ],
          [
           3.013085399449036
          ],
          [
           3.376006049802841
          ],
          [
           2.5143206961388778
          ],
          [
           1.2409103318194228
          ],
          [
           4.695717505634861
          ],
          [
           2.595121172196271
          ],
          [
           2.4953088194194915
          ],
          [
           1.1977482333213558
          ],
          [
           2.245777937477542
          ],
          [
           6.260956674179815
          ]
         ],
         "hovertemplate": "Type=Commercial<br>longitude=%{x}<br>latitude=%{y}<br>Rent/mo/sf=%{customdata[0]}<extra></extra>",
         "legendgroup": "Commercial",
         "marker": {
          "color": "#FFA15A",
          "symbol": "circle"
         },
         "mode": "markers",
         "name": "Commercial",
         "orientation": "v",
         "showlegend": true,
         "type": "scatter",
         "x": [
          -79.402894,
          -79.39868,
          -79.405934,
          -79.399398,
          -79.405268,
          -79.399452,
          -79.358986,
          -79.3004478,
          -79.358458,
          -79.3554839,
          -79.4179249,
          -79.3654315,
          -79.3886972,
          -79.4301918,
          -79.3998674,
          -79.481484,
          -79.3235166,
          -79.4305995,
          -79.4585445,
          -79.4834475,
          -79.4348519,
          -79.481484,
          -79.4244197,
          -79.4197674,
          -79.4353781,
          -79.3032816,
          -79.2970378,
          -79.3899125,
          -79.4378473,
          -79.4112052,
          -79.4637422,
          -79.4949005,
          -79.4157701,
          -79.4538656,
          -79.4105019,
          -79.3926047,
          -79.481484,
          -79.3926047,
          -79.2985413,
          -79.3033725,
          -79.4133879,
          -79.3764055,
          -79.4534786,
          -79.4076793,
          -79.4562256,
          -79.3235166,
          -79.4420683,
          -79.4040031,
          -79.4229374,
          -79.3968759,
          -79.382903,
          -79.4538656,
          -79.3764055,
          -79.4058103,
          -79.398205,
          -79.4106549,
          -79.4492831,
          -79.4588302,
          -79.3970697,
          -79.4197674,
          -79.3653392,
          -79.382903,
          -79.3462334,
          -79.3926047,
          -79.4301918,
          -79.4310162,
          -79.481484,
          -79.4550284,
          -79.4301918,
          -79.4585445,
          -79.439325,
          -79.3235166,
          -79.3931798,
          -79.3990598,
          -79.471597,
          -79.304902,
          -79.3180791,
          -79.3937013,
          -79.4597384
         ],
         "xaxis": "x",
         "y": [
          43.654947,
          43.648057,
          43.646975,
          43.648307,
          43.646797,
          43.648338,
          43.6772126,
          43.6838956,
          43.6760886,
          43.6871233,
          43.6638646,
          43.7137264,
          43.7038265,
          43.7224657,
          43.6552093,
          43.6502388,
          43.6837703,
          43.6607439,
          43.6676844,
          43.6498216,
          43.641158,
          43.6502388,
          43.6428519,
          43.6374931,
          43.6486709,
          43.669547,
          43.688997,
          43.6750916,
          43.6793325,
          43.6560081,
          43.6656659,
          43.66556,
          43.6396604,
          43.7087057,
          43.646065,
          43.6456752,
          43.6502388,
          43.6456752,
          43.6786611,
          43.6695324,
          43.6648929,
          43.6626574,
          43.7080041,
          43.6773991,
          43.6552233,
          43.6837703,
          43.697646,
          43.7310425,
          43.6541378,
          43.7008725,
          43.6592381,
          43.7087057,
          43.6626574,
          43.6466625,
          43.65103,
          43.6630905,
          43.6767109,
          43.6940771,
          43.6533813,
          43.6374931,
          43.6553145,
          43.6592381,
          43.6830699,
          43.6456752,
          43.7224657,
          43.6662437,
          43.6502388,
          43.6948536,
          43.7224657,
          43.6676844,
          43.6880296,
          43.6837703,
          43.708027,
          43.711673,
          43.6656718,
          43.6876601,
          43.6661744,
          43.6557848,
          43.6545708
         ],
         "yaxis": "y"
        }
       ],
       "layout": {
        "autosize": false,
        "height": 500,
        "legend": {
         "title": {
          "text": "Type"
         },
         "tracegroupgap": 0
        },
        "margin": {
         "t": 60
        },
        "paper_bgcolor": "LightSteelBlue",
        "template": {
         "data": {
          "bar": [
           {
            "error_x": {
             "color": "#2a3f5f"
            },
            "error_y": {
             "color": "#2a3f5f"
            },
            "marker": {
             "line": {
              "color": "#E5ECF6",
              "width": 0.5
             }
            },
            "type": "bar"
           }
          ],
          "barpolar": [
           {
            "marker": {
             "line": {
              "color": "#E5ECF6",
              "width": 0.5
             }
            },
            "type": "barpolar"
           }
          ],
          "carpet": [
           {
            "aaxis": {
             "endlinecolor": "#2a3f5f",
             "gridcolor": "white",
             "linecolor": "white",
             "minorgridcolor": "white",
             "startlinecolor": "#2a3f5f"
            },
            "baxis": {
             "endlinecolor": "#2a3f5f",
             "gridcolor": "white",
             "linecolor": "white",
             "minorgridcolor": "white",
             "startlinecolor": "#2a3f5f"
            },
            "type": "carpet"
           }
          ],
          "choropleth": [
           {
            "colorbar": {
             "outlinewidth": 0,
             "ticks": ""
            },
            "type": "choropleth"
           }
          ],
          "contour": [
           {
            "colorbar": {
             "outlinewidth": 0,
             "ticks": ""
            },
            "colorscale": [
             [
              0,
              "#0d0887"
             ],
             [
              0.1111111111111111,
              "#46039f"
             ],
             [
              0.2222222222222222,
              "#7201a8"
             ],
             [
              0.3333333333333333,
              "#9c179e"
             ],
             [
              0.4444444444444444,
              "#bd3786"
             ],
             [
              0.5555555555555556,
              "#d8576b"
             ],
             [
              0.6666666666666666,
              "#ed7953"
             ],
             [
              0.7777777777777778,
              "#fb9f3a"
             ],
             [
              0.8888888888888888,
              "#fdca26"
             ],
             [
              1,
              "#f0f921"
             ]
            ],
            "type": "contour"
           }
          ],
          "contourcarpet": [
           {
            "colorbar": {
             "outlinewidth": 0,
             "ticks": ""
            },
            "type": "contourcarpet"
           }
          ],
          "heatmap": [
           {
            "colorbar": {
             "outlinewidth": 0,
             "ticks": ""
            },
            "colorscale": [
             [
              0,
              "#0d0887"
             ],
             [
              0.1111111111111111,
              "#46039f"
             ],
             [
              0.2222222222222222,
              "#7201a8"
             ],
             [
              0.3333333333333333,
              "#9c179e"
             ],
             [
              0.4444444444444444,
              "#bd3786"
             ],
             [
              0.5555555555555556,
              "#d8576b"
             ],
             [
              0.6666666666666666,
              "#ed7953"
             ],
             [
              0.7777777777777778,
              "#fb9f3a"
             ],
             [
              0.8888888888888888,
              "#fdca26"
             ],
             [
              1,
              "#f0f921"
             ]
            ],
            "type": "heatmap"
           }
          ],
          "heatmapgl": [
           {
            "colorbar": {
             "outlinewidth": 0,
             "ticks": ""
            },
            "colorscale": [
             [
              0,
              "#0d0887"
             ],
             [
              0.1111111111111111,
              "#46039f"
             ],
             [
              0.2222222222222222,
              "#7201a8"
             ],
             [
              0.3333333333333333,
              "#9c179e"
             ],
             [
              0.4444444444444444,
              "#bd3786"
             ],
             [
              0.5555555555555556,
              "#d8576b"
             ],
             [
              0.6666666666666666,
              "#ed7953"
             ],
             [
              0.7777777777777778,
              "#fb9f3a"
             ],
             [
              0.8888888888888888,
              "#fdca26"
             ],
             [
              1,
              "#f0f921"
             ]
            ],
            "type": "heatmapgl"
           }
          ],
          "histogram": [
           {
            "marker": {
             "colorbar": {
              "outlinewidth": 0,
              "ticks": ""
             }
            },
            "type": "histogram"
           }
          ],
          "histogram2d": [
           {
            "colorbar": {
             "outlinewidth": 0,
             "ticks": ""
            },
            "colorscale": [
             [
              0,
              "#0d0887"
             ],
             [
              0.1111111111111111,
              "#46039f"
             ],
             [
              0.2222222222222222,
              "#7201a8"
             ],
             [
              0.3333333333333333,
              "#9c179e"
             ],
             [
              0.4444444444444444,
              "#bd3786"
             ],
             [
              0.5555555555555556,
              "#d8576b"
             ],
             [
              0.6666666666666666,
              "#ed7953"
             ],
             [
              0.7777777777777778,
              "#fb9f3a"
             ],
             [
              0.8888888888888888,
              "#fdca26"
             ],
             [
              1,
              "#f0f921"
             ]
            ],
            "type": "histogram2d"
           }
          ],
          "histogram2dcontour": [
           {
            "colorbar": {
             "outlinewidth": 0,
             "ticks": ""
            },
            "colorscale": [
             [
              0,
              "#0d0887"
             ],
             [
              0.1111111111111111,
              "#46039f"
             ],
             [
              0.2222222222222222,
              "#7201a8"
             ],
             [
              0.3333333333333333,
              "#9c179e"
             ],
             [
              0.4444444444444444,
              "#bd3786"
             ],
             [
              0.5555555555555556,
              "#d8576b"
             ],
             [
              0.6666666666666666,
              "#ed7953"
             ],
             [
              0.7777777777777778,
              "#fb9f3a"
             ],
             [
              0.8888888888888888,
              "#fdca26"
             ],
             [
              1,
              "#f0f921"
             ]
            ],
            "type": "histogram2dcontour"
           }
          ],
          "mesh3d": [
           {
            "colorbar": {
             "outlinewidth": 0,
             "ticks": ""
            },
            "type": "mesh3d"
           }
          ],
          "parcoords": [
           {
            "line": {
             "colorbar": {
              "outlinewidth": 0,
              "ticks": ""
             }
            },
            "type": "parcoords"
           }
          ],
          "pie": [
           {
            "automargin": true,
            "type": "pie"
           }
          ],
          "scatter": [
           {
            "marker": {
             "colorbar": {
              "outlinewidth": 0,
              "ticks": ""
             }
            },
            "type": "scatter"
           }
          ],
          "scatter3d": [
           {
            "line": {
             "colorbar": {
              "outlinewidth": 0,
              "ticks": ""
             }
            },
            "marker": {
             "colorbar": {
              "outlinewidth": 0,
              "ticks": ""
             }
            },
            "type": "scatter3d"
           }
          ],
          "scattercarpet": [
           {
            "marker": {
             "colorbar": {
              "outlinewidth": 0,
              "ticks": ""
             }
            },
            "type": "scattercarpet"
           }
          ],
          "scattergeo": [
           {
            "marker": {
             "colorbar": {
              "outlinewidth": 0,
              "ticks": ""
             }
            },
            "type": "scattergeo"
           }
          ],
          "scattergl": [
           {
            "marker": {
             "colorbar": {
              "outlinewidth": 0,
              "ticks": ""
             }
            },
            "type": "scattergl"
           }
          ],
          "scattermapbox": [
           {
            "marker": {
             "colorbar": {
              "outlinewidth": 0,
              "ticks": ""
             }
            },
            "type": "scattermapbox"
           }
          ],
          "scatterpolar": [
           {
            "marker": {
             "colorbar": {
              "outlinewidth": 0,
              "ticks": ""
             }
            },
            "type": "scatterpolar"
           }
          ],
          "scatterpolargl": [
           {
            "marker": {
             "colorbar": {
              "outlinewidth": 0,
              "ticks": ""
             }
            },
            "type": "scatterpolargl"
           }
          ],
          "scatterternary": [
           {
            "marker": {
             "colorbar": {
              "outlinewidth": 0,
              "ticks": ""
             }
            },
            "type": "scatterternary"
           }
          ],
          "surface": [
           {
            "colorbar": {
             "outlinewidth": 0,
             "ticks": ""
            },
            "colorscale": [
             [
              0,
              "#0d0887"
             ],
             [
              0.1111111111111111,
              "#46039f"
             ],
             [
              0.2222222222222222,
              "#7201a8"
             ],
             [
              0.3333333333333333,
              "#9c179e"
             ],
             [
              0.4444444444444444,
              "#bd3786"
             ],
             [
              0.5555555555555556,
              "#d8576b"
             ],
             [
              0.6666666666666666,
              "#ed7953"
             ],
             [
              0.7777777777777778,
              "#fb9f3a"
             ],
             [
              0.8888888888888888,
              "#fdca26"
             ],
             [
              1,
              "#f0f921"
             ]
            ],
            "type": "surface"
           }
          ],
          "table": [
           {
            "cells": {
             "fill": {
              "color": "#EBF0F8"
             },
             "line": {
              "color": "white"
             }
            },
            "header": {
             "fill": {
              "color": "#C8D4E3"
             },
             "line": {
              "color": "white"
             }
            },
            "type": "table"
           }
          ]
         },
         "layout": {
          "annotationdefaults": {
           "arrowcolor": "#2a3f5f",
           "arrowhead": 0,
           "arrowwidth": 1
          },
          "coloraxis": {
           "colorbar": {
            "outlinewidth": 0,
            "ticks": ""
           }
          },
          "colorscale": {
           "diverging": [
            [
             0,
             "#8e0152"
            ],
            [
             0.1,
             "#c51b7d"
            ],
            [
             0.2,
             "#de77ae"
            ],
            [
             0.3,
             "#f1b6da"
            ],
            [
             0.4,
             "#fde0ef"
            ],
            [
             0.5,
             "#f7f7f7"
            ],
            [
             0.6,
             "#e6f5d0"
            ],
            [
             0.7,
             "#b8e186"
            ],
            [
             0.8,
             "#7fbc41"
            ],
            [
             0.9,
             "#4d9221"
            ],
            [
             1,
             "#276419"
            ]
           ],
           "sequential": [
            [
             0,
             "#0d0887"
            ],
            [
             0.1111111111111111,
             "#46039f"
            ],
            [
             0.2222222222222222,
             "#7201a8"
            ],
            [
             0.3333333333333333,
             "#9c179e"
            ],
            [
             0.4444444444444444,
             "#bd3786"
            ],
            [
             0.5555555555555556,
             "#d8576b"
            ],
            [
             0.6666666666666666,
             "#ed7953"
            ],
            [
             0.7777777777777778,
             "#fb9f3a"
            ],
            [
             0.8888888888888888,
             "#fdca26"
            ],
            [
             1,
             "#f0f921"
            ]
           ],
           "sequentialminus": [
            [
             0,
             "#0d0887"
            ],
            [
             0.1111111111111111,
             "#46039f"
            ],
            [
             0.2222222222222222,
             "#7201a8"
            ],
            [
             0.3333333333333333,
             "#9c179e"
            ],
            [
             0.4444444444444444,
             "#bd3786"
            ],
            [
             0.5555555555555556,
             "#d8576b"
            ],
            [
             0.6666666666666666,
             "#ed7953"
            ],
            [
             0.7777777777777778,
             "#fb9f3a"
            ],
            [
             0.8888888888888888,
             "#fdca26"
            ],
            [
             1,
             "#f0f921"
            ]
           ]
          },
          "colorway": [
           "#636efa",
           "#EF553B",
           "#00cc96",
           "#ab63fa",
           "#FFA15A",
           "#19d3f3",
           "#FF6692",
           "#B6E880",
           "#FF97FF",
           "#FECB52"
          ],
          "font": {
           "color": "#2a3f5f"
          },
          "geo": {
           "bgcolor": "white",
           "lakecolor": "white",
           "landcolor": "#E5ECF6",
           "showlakes": true,
           "showland": true,
           "subunitcolor": "white"
          },
          "hoverlabel": {
           "align": "left"
          },
          "hovermode": "closest",
          "mapbox": {
           "style": "light"
          },
          "paper_bgcolor": "white",
          "plot_bgcolor": "#E5ECF6",
          "polar": {
           "angularaxis": {
            "gridcolor": "white",
            "linecolor": "white",
            "ticks": ""
           },
           "bgcolor": "#E5ECF6",
           "radialaxis": {
            "gridcolor": "white",
            "linecolor": "white",
            "ticks": ""
           }
          },
          "scene": {
           "xaxis": {
            "backgroundcolor": "#E5ECF6",
            "gridcolor": "white",
            "gridwidth": 2,
            "linecolor": "white",
            "showbackground": true,
            "ticks": "",
            "zerolinecolor": "white"
           },
           "yaxis": {
            "backgroundcolor": "#E5ECF6",
            "gridcolor": "white",
            "gridwidth": 2,
            "linecolor": "white",
            "showbackground": true,
            "ticks": "",
            "zerolinecolor": "white"
           },
           "zaxis": {
            "backgroundcolor": "#E5ECF6",
            "gridcolor": "white",
            "gridwidth": 2,
            "linecolor": "white",
            "showbackground": true,
            "ticks": "",
            "zerolinecolor": "white"
           }
          },
          "shapedefaults": {
           "line": {
            "color": "#2a3f5f"
           }
          },
          "ternary": {
           "aaxis": {
            "gridcolor": "white",
            "linecolor": "white",
            "ticks": ""
           },
           "baxis": {
            "gridcolor": "white",
            "linecolor": "white",
            "ticks": ""
           },
           "bgcolor": "#E5ECF6",
           "caxis": {
            "gridcolor": "white",
            "linecolor": "white",
            "ticks": ""
           }
          },
          "title": {
           "x": 0.05
          },
          "xaxis": {
           "automargin": true,
           "gridcolor": "white",
           "linecolor": "white",
           "ticks": "",
           "title": {
            "standoff": 15
           },
           "zerolinecolor": "white",
           "zerolinewidth": 2
          },
          "yaxis": {
           "automargin": true,
           "gridcolor": "white",
           "linecolor": "white",
           "ticks": "",
           "title": {
            "standoff": 15
           },
           "zerolinecolor": "white",
           "zerolinewidth": 2
          }
         }
        },
        "width": 900,
        "xaxis": {
         "anchor": "y",
         "domain": [
          0,
          1
         ],
         "title": {
          "text": "longitude"
         }
        },
        "yaxis": {
         "anchor": "x",
         "domain": [
          0,
          1
         ],
         "title": {
          "text": "latitude"
         }
        }
       }
      },
      "text/html": [
       "<div>\n",
       "        \n",
       "        \n",
       "            <div id=\"f19a8b2c-58ce-4d1a-9563-50e1cccb2177\" class=\"plotly-graph-div\" style=\"height:500px; width:900px;\"></div>\n",
       "            <script type=\"text/javascript\">\n",
       "                require([\"plotly\"], function(Plotly) {\n",
       "                    window.PLOTLYENV=window.PLOTLYENV || {};\n",
       "                    \n",
       "                if (document.getElementById(\"f19a8b2c-58ce-4d1a-9563-50e1cccb2177\")) {\n",
       "                    Plotly.newPlot(\n",
       "                        'f19a8b2c-58ce-4d1a-9563-50e1cccb2177',\n",
       "                        [{\"customdata\": [[17.575757575757574], [21.21212121212121], [23.076923076923077], [18.857142857142858], [6.916666666666667], [5.54114595614242], [4.7272727272727275], [5.9], [5.72289156626506], [4.266666666666667], [5.65], [6.093649775497114], [16.74418604651163], [5.353535353535354], [11.75], [3.5414473684210526], [11.428571428571429], [5.3], [3.076923076923077], [2.4], [1.5777777777777777], [21.0], [6.153846153846154], [5.56], [10.0], [4.94], [10.56], [7.2], [8.66], [6.6], [3.749809692971327], [3.5047528517110265], [3.5013850415512464], [6.9], [5.0], [3.67], [2.7977142857142856], [19.836], [10.46], [10.46], [15.484], [17.66888888888889], [10.008], [10.006666666666666], [8.725], [10.006666666666666], [8.0125], [9.246666666666666], [8.32], [4.0], [12.9], [17.448], [8.393333333333333], [10.886666666666667], [15.04], [19.86], [13.824], [12.728], [10.008], [6.651111111111111], [16.75], [13.026666666666667], [11.706666666666667], [15.1], [13.8625], [11.4375], [6.6], [6.984], [12.253333333333334], [9.212], [14.0375], [11.266666666666667], [8.725], [14.644444444444444], [3.310344827586207], [23.214285714285715], [22.580645161290324], [28.0], [14.0], [11.0875], [8.873333333333333], [8.08], [8.873333333333333], [11.184444444444445], [6.8375], [7.1066666666666665], [8.46], [7.886666666666667], [9.63111111111111], [12.5], [13.068], [13.304444444444444], [7.406666666666666], [9.1], [9.7875], [11.266666666666667], [17.66888888888889], [11.893333333333333], [14.8625], [11.477777777777778], [10.006666666666666], [10.008], [12.025], [13.78], [13.784], [19.977777777777778], [17.66888888888889], [14.16], [15.77111111111111], [8.18], [12.025], [13.78], [25.0], [23.333333333333332], [15.555555555555555], [18.571428571428573], [11.266666666666667], [15.484], [17.032], [13.784], [19.977777777777778], [19.977777777777778], [14.625], [11.893333333333333], [13.988888888888889], [12.253333333333334], [9.246666666666666], [11.5625], [9.212], [15.484], [8.725], [8.917777777777777], [12.253333333333334], [9.7875], [9.856], [16.68], [4.825], [8.113333333333333], [2.3333333333333335], [6.22], [4.24], [9.246666666666666], [24.285714285714285], [9.4], [4.94], [13.78], [0.9344450833812536], [2.5832517140058764], [2.9578571428571427], [12.5], [12.0], [13.026666666666667], [10.006666666666666], [15.636], [8.333304827468252], [10.0], [4.62962962962963], [17.7], [13.6875], [8.725], [10.008], [1.75], [13.784], [11.4375], [9.212], [12.253333333333334], [9.7875], [11.4375], [13.026666666666667], [17.66888888888889], [1.698], [2.66], [1.912], [0.8333333333333334], [14.0375], [2.0828796128251663], [4.15], [6.4935064935064934], [3.416192706590833], [5.612903225806452], [7.933333333333334], [12.5], [5.843373493975903], [5.454545454545454], [16.976744186046513], [10.964912280701755], [3.4466666666666668], [4.903314917127072], [4.615384615384615], [6.75], [2.082474226804124], [7.625], [4.4], [8.6], [5.7], [12.0], [9.125], [6.200555911909343], [13.166666666666666], [13.166666666666666], [9.4], [3.2], [5.6], [13.235294117647058], [3.4705882352941178], [6.6], [2.6315789473684212], [3.5833333333333335], [3.210526315789474], [5.3], [6.25], [9.285714285714286], [3.7142857142857144], [3.2211538461538463], [4.0], [2.6666666666666665], [1.4545454545454546], [3.3793103448275863], [10.46], [2.4], [2.4166666666666665], [8.181818181818182], [21.416666666666668], [3.09], [9.090909090909092], [3.75], [3.25], [3.5], [15.6], [16.438356164383563], [5.090909090909091], [2.348717948717949], [4.367816091954023], [4.0], [4.0], [4.0], [4.0], [0.003667033370003667], [4.0], [4.0], [4.81], [4.24], [5.28], [5.21], [6.666666666666667], [4.81], [4.33], [4.24], [3.77], [4.24], [4.33], [3.77], [2.64], [2.63], [5.28], [3.0], [4.625], [4.33], [4.0], [4.0], [4.0], [4.0], [4.0], [4.0], [4.0], [4.0], [4.0], [4.0], [3.3], [3.77], [6.51], [12.916], [6.51], [4.0], [3.86], [4.24], [14.953271028037383], [83.6], [14.545454545454545], [14.184444444444445], [3.058321479374111], [8.88888888888889], [4.0], [9.212], [12.253333333333334], [11.5625], [9.246666666666666], [4.316464015773907], [2.39482940555751], [2.3949234541719133], [2.394843568945539], [2.394891368173811], [2.3115828092243187], [3.6789473684210527], [2.3949390567037625], [2.3943808532778355], [2.394750254841998], [2.3940092165898617], [2.394529195160442], [2.3479152426520846], [4.24], [4.0], [15.192307692307692], [6.600660066006601], [4.0], [0.02321262766945218], [4.0], [4.0], [4.2885906040268456], [4.288897576231431], [4.0], [0.0032674399607907204], [4.33], [4.81], [6.51], [3.6411730879815987], [4.205686521504409], [3.6324786324786325], [3.651439920556107], [4.385964912280702], [9.25925925925926], [3.3], [4.0], [4.81], [4.205263157894737], [2.4796983758700697], [2.4799484388427384], [5.83288117200217], [5.4163288940359005], [2.479949874686717], [2.4795152914021927], [1.9578947368421054], [3.260869565217391], [4.734088867389953], [17.0], [3.241509433962264], [4.734123242179493], [4.301425269645609], [2.5820379965457687], [4.039], [4.470588235294118], [3.037272727272727], [15.357142857142858], [15.357142857142858], [9.67741935483871], [7.95], [5.37], [2.6730925875644855], [2.0], [15.357142857142858], [76.8], [0.19632907243526712], [6.705882352941177], [2.402358962946478], [2.6729383506805444], [2.0], [5.625], [11.785714285714286], [4.2972689075630255], [2.3479212253829322], [2.5829764453961457], [0.915068493150685], [2.124871794871795], [0.914572864321608], [7.5], [2.124773960216998], [8.0], [2.4997087944088525], [7.5], [4.550561797752809], [3.196], [10.0], [5.41650390625], [2.5], [2.4018492176386914], [2.6726768377253816], [2.5], [3.473913043478261], [7.222222222222222], [2.5816733067729083], [2.5827232796486093], [1.4975369458128078], [56.25], [3.070666666666667], [3.3332], [1.5791459781529296], [1.181578947368421], [2.4997684113015284], [3.3330638641875505], [2.9162210338680925], [1.5909090909090908], [2.4794816414686824], [4.542586750788644], [2.498820754716981], [2.4994736842105265], [2.083268933539413], [3.8078108941418294], [3.625], [2.1343873517786562], [1.838], [2.5], [3.070666666666667], [12.666666666666666], [2.0833333333333335], [2.901023890784983], [1.9077927376580988], [2.134911580148317], [0.9165120593692022], [0.9162491052254832], [0.916256157635468], [1.1662887377173092], [3.3333333333333335], [5.735294117647059], [3.0], [0.9162946428571429], [3.4996923076923077], [4.416158536585366], [3.85], [2.333282904689864], [5.598052851182198], [3.499585749792875], [2.5925925925925926], [7.222222222222222], [11.768292682926829], [10.0], [1.6663636363636363], [3.0], [3.0], [4.334650856389987], [4.68384074941452], [4.166159464394401], [3.7657593123209168], [3.766248574686431], [3.3327272727272725], [2.5719769673704413], [1.4976030680728667], [3.641352063213345], [3.765957446808511], [1.8461538461538463], [14.285714285714286], [2.5], [4.850451656072265], [3.3512544802867383], [1.8580046403712296], [2.0], [2.256637168141593], [2.918118466898955], [3.25], [12.195121951219512], [4.178072625698324], [4.095759233926128], [3.5583136327817178], [4.041072447233314], [5.409450502458841], [2.01], [2.706474820143885], [2.7074592074592077], [4.989907255864702], [5.0], [4.141013384321224], [3.06044376434583], [2.2014205986808726], [1.1756842105263159], [2.7263339070567985], [2.728], [2.7289719626168223], [2.0331703910614527], [3.0], [1.859375], [2.281211115719618], [3.256159728122345], [3.8115038115038113], [2.7274633123689727], [3.3327495621716285], [2.0], [3.2934782608695654], [3.3333333333333335], [4.117647058823529], [3.5185185185185186], [2.3255813953488373], [2.6228571428571428], [2.9914529914529915], [2.316790352504638], [2.9], [2.2222222222222223], [4.074074074074074], [0.52], [4.666666666666667], [0.7], [2.65625], [2.3182492581602374], [3.611111111111111], [2.022342064714946], [3.888888888888889], [3.5625], [1.75], [4.227212681638045], [3.1724137931034484], [4.222222222222222], [1.7222222222222223], [2.5], [2.909090909090909], [1.68], [0.15625], [1.7391304347826086], [4.220456802383317], [1.9081818181818182], [3.3185840707964602], [11.0]], \"hovertemplate\": \"Type=Office<br>longitude=%{x}<br>latitude=%{y}<br>Rent/mo/sf=%{customdata[0]}<extra></extra>\", \"legendgroup\": \"Office\", \"marker\": {\"color\": \"#636efa\", \"symbol\": \"circle\"}, \"mode\": \"markers\", \"name\": \"Office\", \"orientation\": \"v\", \"showlegend\": true, \"type\": \"scatter\", \"x\": [-79.37050385639598, -79.37050385639598, -79.37050385639598, -79.37050385639598, -79.3891118, -79.3963529, -79.392018, -79.3747795, -79.3942306, -79.4093183, -79.3913917, -79.369318, -79.3905108, -79.4250631, -79.377825, -79.3752557, -79.37050385639598, -79.4164324, -79.4240857512323, -79.48685361058698, -79.3863286, -79.37050385639598, -79.4444839, -79.4138222, -79.3885207, -79.3980274, -79.3916295, -79.4561324, -79.3950933, -79.3885207, -79.40109375, -79.3960808, -79.3960808, -79.4212243, -79.4212243, -79.3980274, -79.54824763168511, -79.4212243, -79.3980274, -79.42844651954552, -79.4100101, -79.4100101, -79.3967283, -79.3967283, -79.3765266, -79.3765266, -79.4161676, -79.4161676, -79.4161676, -79.56178981003755, -79.2402104, -79.2402104, -79.2402104, -79.4561324, -79.3885207, -79.4212243, -79.3885207, -79.3950933, -79.3765266, -79.3765266, -79.2402104, -79.42844651954552, -79.3950933, -79.3916295, -79.4212243, -79.3980274, -79.56178981003755, -79.56178981003755, -79.4161676, -79.4161676, -79.4100101, -79.4100101, -79.3967283, -79.3967283, -79.3973987, -79.396577, -79.396577, -79.396577, -79.396577, -79.3877234, -79.3877234, -79.3877234, -79.3876326, -79.3798072, -79.330512, -79.330512, -79.330512, -79.5213041, -79.5213041, -79.3766921, -79.3766921, -79.3766921, -79.2921838242297, -79.2921838242297, -79.389803, -79.389803, -79.389803, -79.38324245283977, -79.38324245283977, -79.38324245283977, -79.378626, -79.378626, -79.3786575, -79.3786575, -79.3786575, -79.3786575, -79.38725203134258, -79.3950933, -79.3950933, -79.2358013, -79.3781691, -79.3781691, -79.396577, -79.396577, -79.396577, -79.396577, -79.38725203134258, -79.38725203134258, -79.3950933, -79.3781691, -79.3781691, -79.38169179283025, -79.3798072, -79.3798072, -79.3798072, -79.330512, -79.402611, -79.402611, -79.402611, -79.389803, -79.378626, -79.378626, -79.402611, -79.5213041, -79.5213041, -79.3766921, -79.2921838242297, -79.2921838242297, -79.3577602, -79.3795289, -79.42844651954552, -79.397184, -79.39013598, -79.3795289, -79.42844651954552, -79.38169179283025, -79.356049, -79.3577602, -79.3534005, -79.39013598, -79.39013598, -79.3795289, -79.3816193, -79.3795289, -79.3541413, -79.3810525, -79.3767837, -79.3795289, -79.42844651954552, -79.3816193, -79.3816193, -79.396577, -79.38169179283025, -79.397184, -79.397184, -79.397184, -79.38725203134258, -79.3950933, -79.3743382, -79.3743382, -79.4519725, -79.383445, -79.4795675, -79.383445, -79.3743382, -79.4889872, -79.3534005, -79.4025207080566, -79.3864328, -79.3884206, -79.3468855, -79.3877234, -79.3938392, -79.4260299, -79.39043240000001, -79.4200552, -79.46465242966357, -79.4180586, -79.4466674, -79.41661331866659, -79.4675724, -79.4444839, -79.3986497, -79.3854319, -79.4221135, -79.37786750000001, -79.3742887, -79.3863286, -79.3865252, -79.3838622, -79.3750025, -79.3913917, -79.3891118, -79.5271882, -79.4015641, -79.32950751636001, -79.46399308, -79.35474025925926, -79.59091414999999, -79.4120602, -79.4860692, -79.4239989, -79.3151687, -79.42402658538717, -79.3764484, -79.4350722, -79.35702280387228, -79.3972251, -79.4211262, -79.4322128, -79.4322128, -79.4242409, -79.3870293649536, -79.56178981003755, -79.4242409, -79.485507, -79.485507, -79.485507, -79.34666275000001, -79.32327372644123, -79.4242409, -79.331129, -79.42397058563493, -79.38725203134258, -79.2358013, -79.3950933, -79.378626, -79.3781691, -79.2921838242297, -79.2402104, -79.4100101, -79.3765266, -79.3798072, -79.3950933, -79.34666275000001, -79.38725203134258, -79.402611, -79.378626, -79.2402104, -79.3766921, -79.33958996491228, -79.3876326, -79.5213041, -79.2921838242297, -79.38324245283977, -79.390599, -79.485507, -79.4161676, -79.3786575, -79.4211262, -79.3877234, -79.3876326, -79.389803, -79.330512, -79.5213041, -79.4100101, -79.33958996491228, -79.3766921, -79.330512, -79.3877234, -79.3781691, -79.38324245283977, -79.3786575, -79.3967283, -79.2358013, -79.3967283, -79.34666275000001, -79.379587, -79.34666275000001, -79.4211262, -79.42399755815934, -79.41078255281711, -79.3765266, -79.33958996491228, -79.33958996491228, -79.33958996491228, -79.33958996491228, -79.3839416, -79.3469191, -79.3469191, -79.3469191, -79.3469191, -79.3469191, -79.39457985, -79.3469191, -79.3469191, -79.3469191, -79.3469191, -79.3469191, -79.331129, -79.3816193, -79.3816193, -79.4230186, -79.506753612, -79.3798072, -79.3885207, -79.402611, -79.38324245283977, -79.389429, -79.389429, -79.3743382, -79.38169179283025, -79.397184, -79.389803, -79.38169179283025, -79.4260542, -79.389429, -79.46330883076922, -79.41399444198885, -79.4117685, -79.5273628, -79.39457985, -79.397184, -79.3743382, -79.389429, -79.343013, -79.343013, -79.374674, -79.374674, -79.343013, -79.343013, -79.3538619, -79.39457985, -79.3849782, -79.37955671553408, -79.39457985, -79.3849782, -79.3895821, -79.3794711, -79.3820288, -79.4242409, -79.4394142, -79.3774803, -79.3774803, -79.3774803, -79.5314958, -79.4128946, -79.33524396266623, -79.54151525555555, -79.3774803, -79.4215921, -79.4102926, -79.55749924470383, -79.2781286, -79.33524396266623, -79.3416135, -79.3774803, -79.3774803, -79.376365, -79.331129, -79.3794711, -79.47612068506155, -79.28651998976278, -79.4758, -79.3907408, -79.28651998976278, -79.4498388, -79.389728, -79.385443, -79.5669264, -79.39457985, -79.4030555, -79.385443, -79.389728, -79.2781286, -79.33524396266623, -79.52398915567795, -79.39457985, -79.4081989, -79.3794711, -79.3794711, -79.26069925959646, -79.34666275000001, -79.3706721126347, -79.3761432, -79.5171479, -79.27423373183593, -79.52398915567795, -79.5213041, -79.4233654, -79.3447748, -79.343013, -79.5669264, -79.52398915567795, -79.52398915567795, -79.3843684, -79.4260542, -79.3928943, -79.39938168016465, -79.2732214, -79.4042453, -79.3706721126347, -79.366839, -79.4369312, -79.38536016666666, -79.33572699999999, -79.39938168016465, -79.4328411, -79.4328411, -79.4328411, -79.4749974, -79.4417625, -79.4170762, -79.4242409, -79.4328411, -79.400068, -79.440001, -79.379657, -79.3754841, -79.38376361570594, -79.4478554, -79.41342870000001, -79.4081989, -79.4109103, -79.4483844, -79.3875905, -79.4453433, -79.3416135, -79.4109406, -79.3885991, -79.4015608, -79.4260542, -79.4260542, -79.4417625, -79.37561766153847, -79.26069925959646, -79.4260542, -79.4260542, -79.44246444000001, -79.4479594, -79.3308005, -79.3885991, -79.3586856, -79.376634, -79.396175, -79.4423076, -79.41984306549521, -79.40262090909091, -79.3966531, -79.4180586, -79.3994407, -79.4260542, -79.3913459, -79.3866475, -79.40475846666666, -79.3751537, -79.3751537, -79.3761064, -79.3886431, -79.400218025, -79.3921074, -79.3984006, -79.2732214, -79.3958172, -79.3958172, -79.3958172, -79.35704940000001, -79.38652, -79.4108911, -79.4643526, -79.40835510588235, -79.3406728, -79.3958172, -79.395204, -79.503525, -79.4109406, -79.395204, -79.4030618, -79.3767948, -79.3890561, -79.4027717, -79.4585445, -79.3820688, -79.3577541, -79.3516571, -79.3768696, -79.3652776, -79.374824, -79.3652776, -79.424894, -79.3981582, -79.3768696, -79.42901, -79.3788023, -79.35405, -79.3485668, -79.4031705, -79.3755151, -79.4240806, -79.3375322, -79.3855095, -79.4242349, -79.3883502, -79.3831522, -79.3548757, -79.4217797, -79.3701351, -79.3880643, -79.3842376], \"xaxis\": \"x\", \"y\": [43.6538929143555, 43.6538929143555, 43.6538929143555, 43.6538929143555, 43.648593250000005, 43.6487529, 43.647388, 43.648661, 43.6878836, 43.6452519, 43.6477046, 43.651117, 43.6684544, 43.639276699999996, 43.649248, 43.6526051, 43.6538929143555, 43.6388738, 43.637214208597136, 43.647726659825885, 43.6474997, 43.6538929143555, 43.6535496, 43.7704154, 43.6715668, 43.6416255, 43.6507625, 43.6646587, 43.6881101, 43.6715668, 43.64433208333333, 43.6968937, 43.6968937, 43.6400917, 43.6400917, 43.6416255, 43.61938655, 43.6400917, 43.6416255, 43.64375125, 43.7594944, 43.7594944, 43.6452989, 43.6452989, 43.6497214, 43.6497214, 43.7808689, 43.7808689, 43.7808689, 43.64727035, 43.8784572, 43.8784572, 43.8784572, 43.6646587, 43.6715668, 43.6400917, 43.6715668, 43.6881101, 43.6497214, 43.6497214, 43.8784572, 43.64375125, 43.6881101, 43.6507625, 43.6400917, 43.6416255, 43.64727035, 43.64727035, 43.7808689, 43.7808689, 43.7594944, 43.7594944, 43.6452989, 43.6452989, 43.6521389, 43.6466733, 43.6466733, 43.6466733, 43.6466733, 43.6657302, 43.6657302, 43.6657302, 43.6544421, 43.654215, 43.7701163, 43.7701163, 43.7701163, 43.6453826, 43.6453826, 43.6506875, 43.6506875, 43.6506875, 43.813418999999996, 43.813418999999996, 43.670972, 43.670972, 43.670972, 43.648417949999995, 43.648417949999995, 43.648417949999995, 43.651582, 43.651582, 43.6469242, 43.6469242, 43.6469242, 43.6469242, 43.6704731, 43.6881101, 43.6881101, 43.7886794, 43.6409478, 43.6409478, 43.6466733, 43.6466733, 43.6466733, 43.6466733, 43.6704731, 43.6704731, 43.6881101, 43.6409478, 43.6409478, 43.6487681, 43.654215, 43.654215, 43.654215, 43.7701163, 43.7252902, 43.7252902, 43.7252902, 43.670972, 43.651582, 43.651582, 43.7252902, 43.6453826, 43.6453826, 43.6506875, 43.813418999999996, 43.813418999999996, 43.7612175, 43.6461841, 43.64375125, 43.698483, 43.67892919, 43.6461841, 43.64375125, 43.6487681, 43.6569573, 43.7612175, 43.6468281, 43.67892919, 43.67892919, 43.6461841, 43.6558436, 43.6461841, 43.7580704, 43.650256, 43.6717587, 43.6461841, 43.64375125, 43.6558436, 43.6558436, 43.6466733, 43.6487681, 43.698483, 43.698483, 43.698483, 43.6704731, 43.6881101, 43.6533611, 43.6533611, 43.7008854, 43.74152545, 43.7697442, 43.74152545, 43.6533611, 43.7645938, 43.6468281, 43.73846405501011, 43.6557636, 43.6546799, 43.6565395, 43.6657302, 43.6879606, 43.6392151, 43.6682592, 43.6383965, 43.67116869902863, 43.6385977, 43.6558102, 43.63847439831822, 43.7698015, 43.6535496, 43.6474703, 43.6468458, 43.64340075, 43.6492395, 43.6469537, 43.6474997, 43.6473946, 43.655706, 43.6489563, 43.6477046, 43.648593250000005, 43.6341374, 43.6529415, 43.728687, 43.66962304, 43.67686551851852, 43.69847393333333, 43.6512073, 43.6478843, 43.6376126, 43.6851729, 43.63707908099523, 43.6508556, 43.7370017, 43.65711225, 43.6517892, 43.6383192, 43.776345, 43.776345, 43.6374371, 43.6535693, 43.64727035, 43.6374371, 43.619553, 43.619553, 43.619553, 43.65658725, 43.73723355604501, 43.6374371, 43.772829, 43.636942638821004, 43.6704731, 43.7886794, 43.6881101, 43.651582, 43.6409478, 43.813418999999996, 43.8784572, 43.7594944, 43.6497214, 43.654215, 43.6881101, 43.65658725, 43.6704731, 43.7252902, 43.651582, 43.8784572, 43.6506875, 43.727185, 43.6544421, 43.6453826, 43.813418999999996, 43.648417949999995, 43.648354, 43.619553, 43.7808689, 43.6469242, 43.6383192, 43.6657302, 43.6544421, 43.670972, 43.7701163, 43.6453826, 43.7594944, 43.727185, 43.6506875, 43.7701163, 43.6657302, 43.6409478, 43.648417949999995, 43.6469242, 43.6452989, 43.7886794, 43.6452989, 43.65658725, 43.6521132, 43.65658725, 43.6383192, 43.63701128646797, 43.66317345, 43.6497214, 43.727185, 43.727185, 43.727185, 43.727185, 43.6610083, 43.7536499, 43.7536499, 43.7536499, 43.7536499, 43.7536499, 43.648401050000004, 43.7536499, 43.7536499, 43.7536499, 43.7536499, 43.7536499, 43.772829, 43.6558436, 43.6558436, 43.6624471, 43.708172588000004, 43.654215, 43.6715668, 43.7252902, 43.648417949999995, 43.670135, 43.670135, 43.6533611, 43.6487681, 43.698483, 43.670972, 43.6487681, 43.6363749, 43.670135, 43.73155786923077, 43.768424350000004, 43.6422106, 43.6341017, 43.648401050000004, 43.698483, 43.6533611, 43.670135, 43.7072831, 43.7072831, 43.64973, 43.64973, 43.7072831, 43.7072831, 43.6416527, 43.648401050000004, 43.6597907, 43.6494883, 43.648401050000004, 43.6597907, 43.6694974, 43.7107838, 43.6497867, 43.6374371, 43.6589335, 43.6416563, 43.6416563, 43.6416563, 43.646025, 43.7682873, 43.77137996107716, 43.62619517777778, 43.6416563, 43.6402867, 43.7610863, 43.637233300000005, 43.7301282, 43.77137996107716, 43.660609, 43.6416563, 43.6416563, 43.651654, 43.772829, 43.7107838, 43.780316886758, 43.780933000000005, 43.7795651, 43.6701577, 43.780933000000005, 43.6947219, 43.707974, 43.658056, 43.6455145, 43.648401050000004, 43.6437172, 43.658056, 43.707974, 43.7301282, 43.77137996107716, 43.633455, 43.648401050000004, 43.7617521, 43.7107838, 43.7107838, 43.79452960202151, 43.65658725, 43.653668833006854, 43.7076261, 43.6143052, 43.77551338876773, 43.633455, 43.6453826, 43.6363231, 43.6598691, 43.7072831, 43.6455145, 43.633455, 43.633455, 43.7094078, 43.6363749, 43.6478378, 43.70735415, 43.7730832, 43.6573206, 43.653668833006854, 43.653802, 43.636642, 43.66708722222222, 43.7242665, 43.70735415, 43.7186581, 43.7186581, 43.7186581, 43.7671757, 43.6367274, 43.679599333333336, 43.6374371, 43.7186581, 43.645926, 43.6732025, 43.6536794, 43.6529846, 43.64967865, 43.653817, 43.70342342, 43.7617521, 43.6650534, 43.7535829, 43.6659781, 43.6595252, 43.660609, 43.7601989, 43.6503103, 43.67706473333333, 43.6363749, 43.6363749, 43.6367274, 43.707343253846155, 43.79452960202151, 43.6363749, 43.6363749, 43.6782131, 43.6542704, 43.7718045, 43.6503103, 43.6567396, 43.649501, 43.707044, 43.6689773, 43.79785498594249, 43.64877690909091, 43.6693709, 43.6385977, 43.7066748, 43.6363749, 43.6801895, 43.6473875, 43.647846099999995, 43.7051919, 43.7051919, 43.6477934, 43.6546209, 43.675262075, 43.6839017, 43.7082166, 43.7730832, 43.7645158, 43.7645158, 43.7645158, 43.65738922857143, 43.6495814, 43.6424341, 43.6655327, 43.64493714117647, 43.6607682, 43.7645158, 43.6488305, 43.6493982, 43.7601989, 43.6488305, 43.6686294, 43.6717966, 43.6501747, 43.7282363, 43.6676844, 43.7102643, 43.6798388, 43.6777577, 43.6716822, 43.6548992, 43.6488987, 43.6548992, 43.6492593, 43.6473564, 43.6716822, 43.7004693, 43.6600471, 43.6773576, 43.6780317, 43.6688341, 43.7075911, 43.6370759, 43.6557668, 43.6665313, 43.6371291, 43.6747212, 43.6574583, 43.6767138, 43.6393628, 43.6640145, 43.7086078, 43.6631625], \"yaxis\": \"y\"}, {\"customdata\": [[2.26], [2.4163346613545817], [0.9100642398286938], [7.3328], [5.25], [2.32], [2.5833333333333335], [2.825], [2.75], [3.598], [1.9165625], [4.4158986175115205], [3.037272727272727], [3.2288724501232906], [3.1666666666666665], [10.60049019607843], [10.600397614314115], [2.090909090909091], [5.0], [3.8761651131824233], [11.082307692307692], [3.7496774193548386], [4.582978723404255], [10.6], [0.8332901554404145], [4.403111739745403], [3.5], [4.2105263157894735], [2.4996446339729923], [4.083216783216783], [0.915], [2.6666105404950327], [2.4994640943194], [3.7498412698412698], [2.083209509658247], [4.166666666666667], [5.0], [4.333333333333333], [2.3743475018642806], [11.25], [2.537071362372567], [3.749972964204607], [2.915129151291513], [2.9166666666666665], [3.3330882352941176], [3.75], [4.164648910411622], [2.7777777777777777], [6.0], [0.9915384615384616], [3.178231292517007], [4.582976445396145], [2.4164383561643836], [4.583333333333333], [1.669195751138088], [3.5], [2.0833333333333335], [1.408450704225352], [1.8], [5.714285714285714], [1.8666666666666667], [4.333333333333333], [2.36], [2.25], [2.0], [5.400778210116732], [0.8333333333333334], [4.875], [4.2], [1.425], [2.491408934707904], [8.571428571428571], [4.5528455284552845], [4.0476190476190474], [5.355303810504634], [1.730937773882559], [3.07], [3.1372549019607843], [2.2519083969465647], [5.75], [2.499], [1.1666666666666667], [4.545454545454546], [5.866666666666666], [2.5832376578645238], [3.0384615384615383], [4.540909090909091], [2.276867030965392], [2.3], [2.6984126984126986], [4.9504950495049505], [3.4583333333333335], [4.833333333333333], [2.1032504780114722], [4.109589041095891], [4.0], [2.5384615384615383], [3.5643564356435644], [1.2916666666666667], [5.0], [2.230769230769231], [4.117647058823529], [3.3333333333333335], [3.6363636363636362], [4.769230769230769], [3.0], [1.1671763506625892], [2.5]], \"hovertemplate\": \"Type=Retail<br>longitude=%{x}<br>latitude=%{y}<br>Rent/mo/sf=%{customdata[0]}<extra></extra>\", \"legendgroup\": \"Retail\", \"marker\": {\"color\": \"#EF553B\", \"symbol\": \"circle\"}, \"mode\": \"markers\", \"name\": \"Retail\", \"orientation\": \"v\", \"showlegend\": true, \"type\": \"scatter\", \"x\": [-79.343926, -79.3412042, -79.4175653, -79.3935092, -79.373412, -79.3904944, -79.3411388, -79.4662298, -79.469202, -79.5322205, -79.516971, -79.2867726, -79.4393922, -79.4920948, -79.4628541, -79.3909152, -79.3909152, -79.4794554, -79.4568963, -79.22366618042452, -79.3916697, -79.4060226, -79.3712348, -79.3908687, -79.5111304, -79.3310956, -79.4628541, -79.4007937, -79.4305877, -79.3997415, -79.4324833, -79.4324833, -79.3937052, -79.3932884, -79.3841996, -79.4034703, -79.3997085, -79.388878, -79.2273126, -79.4098204, -79.4323021, -79.4277081, -79.5348447, -79.36692, -79.3937052, -79.4277081, -79.3670659, -79.47927, -79.4008849, -79.2744781, -79.36429, -79.3418471, -79.3755279, -79.3661842, -79.496511, -79.4232882, -79.4411203, -79.3826697, -79.3680313, -79.3909453, -79.4915448, -79.3534963, -79.424894, -79.3891031, -79.4749711, -79.3826697, -79.3517206, -79.3693313, -79.4799021, -79.473815, -79.3233489, -79.4038137, -79.3906811, -79.402228, -79.3930564, -79.3992068, -79.4334012, -79.3611809, -79.2893253, -79.373412, -79.3701351, -79.3652776, -79.4088666, -79.4839285, -79.4040031, -79.402676, -79.4011049, -79.4033401, -79.3305061, -79.4462269, -79.3903124, -79.4025697, -79.4025697, -79.4224791, -79.4297082, -79.3643432, -79.3693313, -79.3838754, -79.3130263, -79.3760312, -79.4281608, -79.4464584, -79.4414131, -79.3102405, -79.3758706, -79.424894, -79.4585335, -79.4309392], \"xaxis\": \"x\", \"y\": [43.6672444, 43.6630744, 43.6634142, 43.6869966, 43.6480813, 43.6786921, 43.6632965, 43.6820246, 43.6651715, 43.6016534, 43.7004816, 43.6806934, 43.6589431, 43.7738289, 43.6655892, 43.6714599, 43.6714599, 43.6656793, 43.7215267, 43.742862, 43.6711804, 43.6469223, 43.6503754, 43.6715929, 43.7188575, 43.8180948, 43.6655892, 43.6542832, 43.7001131, 43.6393466, 43.7188771, 43.7188771, 43.6875829, 43.6700832, 43.6636891, 43.7288337, 43.7144274, 43.7668804, 43.7596382, 43.7041938, 43.6524525, 43.642699, 43.5945119, 43.71335, 43.6875829, 43.642699, 43.6525764, 43.66581, 43.6576212, 43.776618, 43.65241, 43.6602424, 43.7055823, 43.6538637, 43.6897651, 43.6754021, 43.6683813, 43.6596017, 43.6652462, 43.6542451, 43.6875044, 43.677034, 43.6492593, 43.6501596, 43.6456634, 43.6596017, 43.6657521, 43.6642046, 43.6506483, 43.6903115, 43.6718605, 43.7297767, 43.6451952, 43.6543794, 43.6749762, 43.6458252, 43.6990639, 43.6540571, 43.680453, 43.6480813, 43.6640145, 43.6548992, 43.6615734, 43.6496137, 43.7310425, 43.6469092, 43.6530873, 43.6626034, 43.6820226, 43.6967642, 43.6750351, 43.7277243, 43.7277243, 43.6546128, 43.7181257, 43.655765, 43.6642046, 43.6619821, 43.6867838, 43.7084909, 43.7137532, 43.6400138, 43.6398312, 43.7086641, 43.7081211, 43.6492593, 43.6747534, 43.6803474], \"yaxis\": \"y\"}, {\"customdata\": [[3.504576659038902], [2.8166533226581265], [3.5026833631484795], [3.5045662100456623], [3.504291845493562], [2.644628099173554], [3.5047961630695443], [3.0], [2.91625], [1.3412816691505216], [6.363636363636363], [3.75], [1.0], [2.7497630331753555], [0.8538461538461538], [2.6472534745201854], [6.019076923076923], [4.998571428571428], [4.479166666666667], [4.166089965397924], [0.9], [1.7142857142857142], [3.7495750708215296], [2.0]], \"hovertemplate\": \"Type=Medical<br>longitude=%{x}<br>latitude=%{y}<br>Rent/mo/sf=%{customdata[0]}<extra></extra>\", \"legendgroup\": \"Medical\", \"marker\": {\"color\": \"#00cc96\", \"symbol\": \"circle\"}, \"mode\": \"markers\", \"name\": \"Medical\", \"orientation\": \"v\", \"showlegend\": true, \"type\": \"scatter\", \"x\": [-79.3960808, -79.21961103804153, -79.3960808, -79.3960808, -79.3960808, -79.5486063, -79.3960808, -79.4533778, -79.3684892, -79.286387, -79.4239857, -79.26114422500001, -79.5325824, -79.3794711, -79.26112383125, -79.41159, -79.3964022, -79.4873507, -79.4483844, -79.4804592, -79.2181352267276, -79.4040031, -79.4833203, -79.1979901], \"xaxis\": \"x\", \"y\": [43.6968937, 43.8084865, 43.6968937, 43.6968937, 43.6968937, 43.6196133, 43.6968937, 43.6611415, 43.6648746, 43.8035374, 43.6369354, 43.742243725, 43.6010011, 43.7107838, 43.74219378125, 43.6423, 43.6749677, 43.6570375, 43.7535829, 43.6237566, 43.73816388044169, 43.7310425, 43.6210637, 43.7657886], \"yaxis\": \"y\"}, {\"customdata\": [[1.4998659157951193], [1.499902553108556], [2.499913239632136], [1.5831305758313057], [1.75], [2.5830931796349663], [1.625], [2.4210526315789473], [1.1666666666666667], [2.6], [1.8333333333333333], [2.26], [4.745254745254745], [0.35], [0.6428571428571429], [6.076923076923077], [1.3747163695299838], [1.3747909381176828], [1.374856815578465], [1.7722202231018351], [1.7723919915700737], [0.6249912837319573], [1.2083333333333333], [2.522935779816514], [2.0832111436950145], [1.7721123829344434], [0.7078925956061839], [1.2245475113122173], [2.6512576478585994], [2.888888888888889], [2.5357142857142856], [1.6666666666666667], [4.333333333333333], [1.8332727272727272]], \"hovertemplate\": \"Type=Industrial<br>longitude=%{x}<br>latitude=%{y}<br>Rent/mo/sf=%{customdata[0]}<extra></extra>\", \"legendgroup\": \"Industrial\", \"marker\": {\"color\": \"#ab63fa\", \"symbol\": \"circle\"}, \"mode\": \"markers\", \"name\": \"Industrial\", \"orientation\": \"v\", \"showlegend\": true, \"type\": \"scatter\", \"x\": [-79.30895, -79.30895, -79.3366819, -79.3093746846705, -79.464553, -79.34323, -79.4649102, -79.46387966, -79.53830935833332, -79.44146945844928, -79.5003448, -79.34408781764706, -79.37499078332627, -79.48049332608696, -79.4566123, -79.3713487, -79.22882216303064, -79.22882216303064, -79.22882216303064, -79.3581979, -79.3581979, -79.2798534, -79.46179473294933, -79.434843, -79.30755350000001, -79.3581979, -79.58597309875167, -79.60279498888589, -79.434539, -79.359272, -79.4760116, -79.4569403, -79.4198816, -79.4437629], \"xaxis\": \"x\", \"y\": [43.71861, 43.71861, 43.653195, 43.7187805, 43.6705631, 43.66439, 43.6712337, 43.669352079999996, 43.603107325, 43.66835650968488, 43.6045777, 43.66719438235294, 43.705746630133675, 43.75605649130435, 43.7049545, 43.6616587, 43.7904135, 43.7904135, 43.7904135, 43.7564778, 43.7564778, 43.7352225, 43.71704149946848, 43.6705007, 43.712841999999995, 43.7564778, 43.68000538075465, 43.73832569478915, 43.670611, 43.7084091, 43.6811012, 43.7031993, 43.6372962, 43.6553345], \"yaxis\": \"y\"}, {\"customdata\": [[4.754358161648177], [3.1620553359683794], [4.545454545454546], [7.2727272727272725], [5.417], [7.2727272727272725], [2.648866285229922], [3.115571297389479], [2.792048246593701], [2.1043771043771047], [2.903365202830443], [2.541650268922996], [3.7205914948861656], [2.6782981328435875], [6.041273983857716], [6.395120031483668], [2.6949335249730506], [4.919323101141282], [2.965258647076829], [2.295684113865932], [2.086985558059938], [6.395120031483668], [3.904676751566704], [3.6394992049094044], [6.887052341597796], [4.171884130561817], [1.942348385036132], [4.081216202428324], [3.2139577594123048], [2.6782981328435875], [2.686438856651623], [3.4435261707988976], [11.95668809305173], [1.080321935936909], [5.489679402722881], [1.730872942994155], [6.395120031483668], [4.038703533653029], [3.0609121518212428], [3.441230486685032], [3.7496173859810225], [3.2777267625752478], [1.0533138875384864], [2.5826446280991733], [4.919323101141282], [2.504382669671926], [4.154095063185972], [2.086985558059938], [3.243901465245339], [1.746716173593644], [3.443526170798898], [1.8764722322034575], [3.889909192939496], [5.05050505050505], [5.217463895149846], [3.347872666054484], [2.595121172196271], [1.6988062442607896], [3.792869405517627], [3.2795487340941887], [3.622808168262713], [3.792869405517627], [2.984389348025712], [4.038703533653029], [2.6782981328435875], [3.355230627957901], [6.395120031483668], [2.2068189223614447], [2.4487297214569943], [3.013085399449036], [3.376006049802841], [2.5143206961388778], [1.2409103318194228], [4.695717505634861], [2.595121172196271], [2.4953088194194915], [1.1977482333213558], [2.245777937477542], [6.260956674179815]], \"hovertemplate\": \"Type=Commercial<br>longitude=%{x}<br>latitude=%{y}<br>Rent/mo/sf=%{customdata[0]}<extra></extra>\", \"legendgroup\": \"Commercial\", \"marker\": {\"color\": \"#FFA15A\", \"symbol\": \"circle\"}, \"mode\": \"markers\", \"name\": \"Commercial\", \"orientation\": \"v\", \"showlegend\": true, \"type\": \"scatter\", \"x\": [-79.402894, -79.39868, -79.405934, -79.399398, -79.405268, -79.399452, -79.358986, -79.3004478, -79.358458, -79.3554839, -79.4179249, -79.3654315, -79.3886972, -79.4301918, -79.3998674, -79.481484, -79.3235166, -79.4305995, -79.4585445, -79.4834475, -79.4348519, -79.481484, -79.4244197, -79.4197674, -79.4353781, -79.3032816, -79.2970378, -79.3899125, -79.4378473, -79.4112052, -79.4637422, -79.4949005, -79.4157701, -79.4538656, -79.4105019, -79.3926047, -79.481484, -79.3926047, -79.2985413, -79.3033725, -79.4133879, -79.3764055, -79.4534786, -79.4076793, -79.4562256, -79.3235166, -79.4420683, -79.4040031, -79.4229374, -79.3968759, -79.382903, -79.4538656, -79.3764055, -79.4058103, -79.398205, -79.4106549, -79.4492831, -79.4588302, -79.3970697, -79.4197674, -79.3653392, -79.382903, -79.3462334, -79.3926047, -79.4301918, -79.4310162, -79.481484, -79.4550284, -79.4301918, -79.4585445, -79.439325, -79.3235166, -79.3931798, -79.3990598, -79.471597, -79.304902, -79.3180791, -79.3937013, -79.4597384], \"xaxis\": \"x\", \"y\": [43.654947, 43.648057, 43.646975, 43.648307, 43.646797, 43.648338, 43.6772126, 43.6838956, 43.6760886, 43.6871233, 43.6638646, 43.7137264, 43.7038265, 43.7224657, 43.6552093, 43.6502388, 43.6837703, 43.6607439, 43.6676844, 43.6498216, 43.641158, 43.6502388, 43.6428519, 43.6374931, 43.6486709, 43.669547, 43.688997, 43.6750916, 43.6793325, 43.6560081, 43.6656659, 43.66556, 43.6396604, 43.7087057, 43.646065, 43.6456752, 43.6502388, 43.6456752, 43.6786611, 43.6695324, 43.6648929, 43.6626574, 43.7080041, 43.6773991, 43.6552233, 43.6837703, 43.697646, 43.7310425, 43.6541378, 43.7008725, 43.6592381, 43.7087057, 43.6626574, 43.6466625, 43.65103, 43.6630905, 43.6767109, 43.6940771, 43.6533813, 43.6374931, 43.6553145, 43.6592381, 43.6830699, 43.6456752, 43.7224657, 43.6662437, 43.6502388, 43.6948536, 43.7224657, 43.6676844, 43.6880296, 43.6837703, 43.708027, 43.711673, 43.6656718, 43.6876601, 43.6661744, 43.6557848, 43.6545708], \"yaxis\": \"y\"}],\n",
       "                        {\"autosize\": false, \"height\": 500, \"legend\": {\"title\": {\"text\": \"Type\"}, \"tracegroupgap\": 0}, \"margin\": {\"t\": 60}, \"paper_bgcolor\": \"LightSteelBlue\", \"template\": {\"data\": {\"bar\": [{\"error_x\": {\"color\": \"#2a3f5f\"}, \"error_y\": {\"color\": \"#2a3f5f\"}, \"marker\": {\"line\": {\"color\": \"#E5ECF6\", \"width\": 0.5}}, \"type\": \"bar\"}], \"barpolar\": [{\"marker\": {\"line\": {\"color\": \"#E5ECF6\", \"width\": 0.5}}, \"type\": \"barpolar\"}], \"carpet\": [{\"aaxis\": {\"endlinecolor\": \"#2a3f5f\", \"gridcolor\": \"white\", \"linecolor\": \"white\", \"minorgridcolor\": \"white\", \"startlinecolor\": \"#2a3f5f\"}, \"baxis\": {\"endlinecolor\": \"#2a3f5f\", \"gridcolor\": \"white\", \"linecolor\": \"white\", \"minorgridcolor\": \"white\", \"startlinecolor\": \"#2a3f5f\"}, \"type\": \"carpet\"}], \"choropleth\": [{\"colorbar\": {\"outlinewidth\": 0, \"ticks\": \"\"}, \"type\": \"choropleth\"}], \"contour\": [{\"colorbar\": {\"outlinewidth\": 0, \"ticks\": \"\"}, \"colorscale\": [[0.0, \"#0d0887\"], [0.1111111111111111, \"#46039f\"], [0.2222222222222222, \"#7201a8\"], [0.3333333333333333, \"#9c179e\"], [0.4444444444444444, \"#bd3786\"], [0.5555555555555556, \"#d8576b\"], [0.6666666666666666, \"#ed7953\"], [0.7777777777777778, \"#fb9f3a\"], [0.8888888888888888, \"#fdca26\"], [1.0, \"#f0f921\"]], \"type\": \"contour\"}], \"contourcarpet\": [{\"colorbar\": {\"outlinewidth\": 0, \"ticks\": \"\"}, \"type\": \"contourcarpet\"}], \"heatmap\": [{\"colorbar\": {\"outlinewidth\": 0, \"ticks\": \"\"}, \"colorscale\": [[0.0, \"#0d0887\"], [0.1111111111111111, \"#46039f\"], [0.2222222222222222, \"#7201a8\"], [0.3333333333333333, \"#9c179e\"], [0.4444444444444444, \"#bd3786\"], [0.5555555555555556, \"#d8576b\"], [0.6666666666666666, \"#ed7953\"], [0.7777777777777778, \"#fb9f3a\"], [0.8888888888888888, \"#fdca26\"], [1.0, \"#f0f921\"]], \"type\": \"heatmap\"}], \"heatmapgl\": [{\"colorbar\": {\"outlinewidth\": 0, \"ticks\": \"\"}, \"colorscale\": [[0.0, \"#0d0887\"], [0.1111111111111111, \"#46039f\"], [0.2222222222222222, \"#7201a8\"], [0.3333333333333333, \"#9c179e\"], [0.4444444444444444, \"#bd3786\"], [0.5555555555555556, \"#d8576b\"], [0.6666666666666666, \"#ed7953\"], [0.7777777777777778, \"#fb9f3a\"], [0.8888888888888888, \"#fdca26\"], [1.0, \"#f0f921\"]], \"type\": \"heatmapgl\"}], \"histogram\": [{\"marker\": {\"colorbar\": {\"outlinewidth\": 0, \"ticks\": \"\"}}, \"type\": \"histogram\"}], \"histogram2d\": [{\"colorbar\": {\"outlinewidth\": 0, \"ticks\": \"\"}, \"colorscale\": [[0.0, \"#0d0887\"], [0.1111111111111111, \"#46039f\"], [0.2222222222222222, \"#7201a8\"], [0.3333333333333333, \"#9c179e\"], [0.4444444444444444, \"#bd3786\"], [0.5555555555555556, \"#d8576b\"], [0.6666666666666666, \"#ed7953\"], [0.7777777777777778, \"#fb9f3a\"], [0.8888888888888888, \"#fdca26\"], [1.0, \"#f0f921\"]], \"type\": \"histogram2d\"}], \"histogram2dcontour\": [{\"colorbar\": {\"outlinewidth\": 0, \"ticks\": \"\"}, \"colorscale\": [[0.0, \"#0d0887\"], [0.1111111111111111, \"#46039f\"], [0.2222222222222222, \"#7201a8\"], [0.3333333333333333, \"#9c179e\"], [0.4444444444444444, \"#bd3786\"], [0.5555555555555556, \"#d8576b\"], [0.6666666666666666, \"#ed7953\"], [0.7777777777777778, \"#fb9f3a\"], [0.8888888888888888, \"#fdca26\"], [1.0, \"#f0f921\"]], \"type\": \"histogram2dcontour\"}], \"mesh3d\": [{\"colorbar\": {\"outlinewidth\": 0, \"ticks\": \"\"}, \"type\": \"mesh3d\"}], \"parcoords\": [{\"line\": {\"colorbar\": {\"outlinewidth\": 0, \"ticks\": \"\"}}, \"type\": \"parcoords\"}], \"pie\": [{\"automargin\": true, \"type\": \"pie\"}], \"scatter\": [{\"marker\": {\"colorbar\": {\"outlinewidth\": 0, \"ticks\": \"\"}}, \"type\": \"scatter\"}], \"scatter3d\": [{\"line\": {\"colorbar\": {\"outlinewidth\": 0, \"ticks\": \"\"}}, \"marker\": {\"colorbar\": {\"outlinewidth\": 0, \"ticks\": \"\"}}, \"type\": \"scatter3d\"}], \"scattercarpet\": [{\"marker\": {\"colorbar\": {\"outlinewidth\": 0, \"ticks\": \"\"}}, \"type\": \"scattercarpet\"}], \"scattergeo\": [{\"marker\": {\"colorbar\": {\"outlinewidth\": 0, \"ticks\": \"\"}}, \"type\": \"scattergeo\"}], \"scattergl\": [{\"marker\": {\"colorbar\": {\"outlinewidth\": 0, \"ticks\": \"\"}}, \"type\": \"scattergl\"}], \"scattermapbox\": [{\"marker\": {\"colorbar\": {\"outlinewidth\": 0, \"ticks\": \"\"}}, \"type\": \"scattermapbox\"}], \"scatterpolar\": [{\"marker\": {\"colorbar\": {\"outlinewidth\": 0, \"ticks\": \"\"}}, \"type\": \"scatterpolar\"}], \"scatterpolargl\": [{\"marker\": {\"colorbar\": {\"outlinewidth\": 0, \"ticks\": \"\"}}, \"type\": \"scatterpolargl\"}], \"scatterternary\": [{\"marker\": {\"colorbar\": {\"outlinewidth\": 0, \"ticks\": \"\"}}, \"type\": \"scatterternary\"}], \"surface\": [{\"colorbar\": {\"outlinewidth\": 0, \"ticks\": \"\"}, \"colorscale\": [[0.0, \"#0d0887\"], [0.1111111111111111, \"#46039f\"], [0.2222222222222222, \"#7201a8\"], [0.3333333333333333, \"#9c179e\"], [0.4444444444444444, \"#bd3786\"], [0.5555555555555556, \"#d8576b\"], [0.6666666666666666, \"#ed7953\"], [0.7777777777777778, \"#fb9f3a\"], [0.8888888888888888, \"#fdca26\"], [1.0, \"#f0f921\"]], \"type\": \"surface\"}], \"table\": [{\"cells\": {\"fill\": {\"color\": \"#EBF0F8\"}, \"line\": {\"color\": \"white\"}}, \"header\": {\"fill\": {\"color\": \"#C8D4E3\"}, \"line\": {\"color\": \"white\"}}, \"type\": \"table\"}]}, \"layout\": {\"annotationdefaults\": {\"arrowcolor\": \"#2a3f5f\", \"arrowhead\": 0, \"arrowwidth\": 1}, \"coloraxis\": {\"colorbar\": {\"outlinewidth\": 0, \"ticks\": \"\"}}, \"colorscale\": {\"diverging\": [[0, \"#8e0152\"], [0.1, \"#c51b7d\"], [0.2, \"#de77ae\"], [0.3, \"#f1b6da\"], [0.4, \"#fde0ef\"], [0.5, \"#f7f7f7\"], [0.6, \"#e6f5d0\"], [0.7, \"#b8e186\"], [0.8, \"#7fbc41\"], [0.9, \"#4d9221\"], [1, \"#276419\"]], \"sequential\": [[0.0, \"#0d0887\"], [0.1111111111111111, \"#46039f\"], [0.2222222222222222, \"#7201a8\"], [0.3333333333333333, \"#9c179e\"], [0.4444444444444444, \"#bd3786\"], [0.5555555555555556, \"#d8576b\"], [0.6666666666666666, \"#ed7953\"], [0.7777777777777778, \"#fb9f3a\"], [0.8888888888888888, \"#fdca26\"], [1.0, \"#f0f921\"]], \"sequentialminus\": [[0.0, \"#0d0887\"], [0.1111111111111111, \"#46039f\"], [0.2222222222222222, \"#7201a8\"], [0.3333333333333333, \"#9c179e\"], [0.4444444444444444, \"#bd3786\"], [0.5555555555555556, \"#d8576b\"], [0.6666666666666666, \"#ed7953\"], [0.7777777777777778, \"#fb9f3a\"], [0.8888888888888888, \"#fdca26\"], [1.0, \"#f0f921\"]]}, \"colorway\": [\"#636efa\", \"#EF553B\", \"#00cc96\", \"#ab63fa\", \"#FFA15A\", \"#19d3f3\", \"#FF6692\", \"#B6E880\", \"#FF97FF\", \"#FECB52\"], \"font\": {\"color\": \"#2a3f5f\"}, \"geo\": {\"bgcolor\": \"white\", \"lakecolor\": \"white\", \"landcolor\": \"#E5ECF6\", \"showlakes\": true, \"showland\": true, \"subunitcolor\": \"white\"}, \"hoverlabel\": {\"align\": \"left\"}, \"hovermode\": \"closest\", \"mapbox\": {\"style\": \"light\"}, \"paper_bgcolor\": \"white\", \"plot_bgcolor\": \"#E5ECF6\", \"polar\": {\"angularaxis\": {\"gridcolor\": \"white\", \"linecolor\": \"white\", \"ticks\": \"\"}, \"bgcolor\": \"#E5ECF6\", \"radialaxis\": {\"gridcolor\": \"white\", \"linecolor\": \"white\", \"ticks\": \"\"}}, \"scene\": {\"xaxis\": {\"backgroundcolor\": \"#E5ECF6\", \"gridcolor\": \"white\", \"gridwidth\": 2, \"linecolor\": \"white\", \"showbackground\": true, \"ticks\": \"\", \"zerolinecolor\": \"white\"}, \"yaxis\": {\"backgroundcolor\": \"#E5ECF6\", \"gridcolor\": \"white\", \"gridwidth\": 2, \"linecolor\": \"white\", \"showbackground\": true, \"ticks\": \"\", \"zerolinecolor\": \"white\"}, \"zaxis\": {\"backgroundcolor\": \"#E5ECF6\", \"gridcolor\": \"white\", \"gridwidth\": 2, \"linecolor\": \"white\", \"showbackground\": true, \"ticks\": \"\", \"zerolinecolor\": \"white\"}}, \"shapedefaults\": {\"line\": {\"color\": \"#2a3f5f\"}}, \"ternary\": {\"aaxis\": {\"gridcolor\": \"white\", \"linecolor\": \"white\", \"ticks\": \"\"}, \"baxis\": {\"gridcolor\": \"white\", \"linecolor\": \"white\", \"ticks\": \"\"}, \"bgcolor\": \"#E5ECF6\", \"caxis\": {\"gridcolor\": \"white\", \"linecolor\": \"white\", \"ticks\": \"\"}}, \"title\": {\"x\": 0.05}, \"xaxis\": {\"automargin\": true, \"gridcolor\": \"white\", \"linecolor\": \"white\", \"ticks\": \"\", \"title\": {\"standoff\": 15}, \"zerolinecolor\": \"white\", \"zerolinewidth\": 2}, \"yaxis\": {\"automargin\": true, \"gridcolor\": \"white\", \"linecolor\": \"white\", \"ticks\": \"\", \"title\": {\"standoff\": 15}, \"zerolinecolor\": \"white\", \"zerolinewidth\": 2}}}, \"width\": 900, \"xaxis\": {\"anchor\": \"y\", \"domain\": [0.0, 1.0], \"title\": {\"text\": \"longitude\"}}, \"yaxis\": {\"anchor\": \"x\", \"domain\": [0.0, 1.0], \"title\": {\"text\": \"latitude\"}}},\n",
       "                        {\"responsive\": true}\n",
       "                    ).then(function(){\n",
       "                            \n",
       "var gd = document.getElementById('f19a8b2c-58ce-4d1a-9563-50e1cccb2177');\n",
       "var x = new MutationObserver(function (mutations, observer) {{\n",
       "        var display = window.getComputedStyle(gd).display;\n",
       "        if (!display || display === 'none') {{\n",
       "            console.log([gd, 'removed!']);\n",
       "            Plotly.purge(gd);\n",
       "            observer.disconnect();\n",
       "        }}\n",
       "}});\n",
       "\n",
       "// Listen for the removal of the full notebook cells\n",
       "var notebookContainer = gd.closest('#notebook-container');\n",
       "if (notebookContainer) {{\n",
       "    x.observe(notebookContainer, {childList: true});\n",
       "}}\n",
       "\n",
       "// Listen for the clearing of the current output cell\n",
       "var outputEl = gd.closest('.output');\n",
       "if (outputEl) {{\n",
       "    x.observe(outputEl, {childList: true});\n",
       "}}\n",
       "\n",
       "                        })\n",
       "                };\n",
       "                });\n",
       "            </script>\n",
       "        </div>"
      ]
     },
     "metadata": {},
     "output_type": "display_data"
    }
   ],
   "source": [
    "fig = px.scatter(retail_gdf, x='longitude', y='latitude', color='Type', hover_data=['Rent/mo/sf'])\n",
    "\n",
    "fig.update_layout(\n",
    "    autosize=False,\n",
    "    width=900,\n",
    "    height=500,\n",
    "    paper_bgcolor=\"LightSteelBlue\",\n",
    ")\n",
    "\n",
    "fig.show()"
   ]
  },
  {
   "cell_type": "markdown",
   "metadata": {},
   "source": [
    "The downtown area is located around latitude and longitude values of (43.65, -79.38). Looking at the plot, we see that most of the spaces in the centre of downtown are office spaces. Are the most expensive rents in this area? You would think so since it is the financial district of the city. To confirm this hypothesis, let's look at the office spaces only and colour them by their rent per month per square foot."
   ]
  },
  {
   "cell_type": "code",
   "execution_count": 129,
   "metadata": {},
   "outputs": [
    {
     "data": {
      "application/vnd.plotly.v1+json": {
       "config": {
        "plotlyServerURL": "https://plot.ly"
       },
       "data": [
        {
         "customdata": [
          [
           2.26
          ],
          [
           2.4163346613545817
          ],
          [
           0.9100642398286938
          ],
          [
           7.3328
          ],
          [
           5.25
          ],
          [
           2.32
          ],
          [
           2.5833333333333335
          ],
          [
           2.825
          ],
          [
           2.75
          ],
          [
           3.598
          ],
          [
           1.9165625
          ],
          [
           4.4158986175115205
          ],
          [
           3.037272727272727
          ],
          [
           3.2288724501232906
          ],
          [
           3.1666666666666665
          ],
          [
           10.60049019607843
          ],
          [
           10.600397614314115
          ],
          [
           2.090909090909091
          ],
          [
           5
          ],
          [
           3.8761651131824233
          ],
          [
           11.082307692307692
          ],
          [
           3.7496774193548386
          ],
          [
           4.582978723404255
          ],
          [
           10.6
          ],
          [
           0.8332901554404145
          ],
          [
           4.403111739745403
          ],
          [
           3.5
          ],
          [
           4.2105263157894735
          ],
          [
           2.4996446339729923
          ],
          [
           4.083216783216783
          ],
          [
           0.915
          ],
          [
           2.6666105404950327
          ],
          [
           2.4994640943194
          ],
          [
           3.7498412698412698
          ],
          [
           2.083209509658247
          ],
          [
           4.166666666666667
          ],
          [
           5
          ],
          [
           4.333333333333333
          ],
          [
           2.3743475018642806
          ],
          [
           11.25
          ],
          [
           2.537071362372567
          ],
          [
           3.749972964204607
          ],
          [
           2.915129151291513
          ],
          [
           2.9166666666666665
          ],
          [
           3.3330882352941176
          ],
          [
           3.75
          ],
          [
           4.164648910411622
          ],
          [
           2.7777777777777777
          ],
          [
           6
          ],
          [
           0.9915384615384616
          ],
          [
           3.178231292517007
          ],
          [
           4.582976445396145
          ],
          [
           2.4164383561643836
          ],
          [
           4.583333333333333
          ],
          [
           1.669195751138088
          ],
          [
           3.5
          ],
          [
           2.0833333333333335
          ],
          [
           1.408450704225352
          ],
          [
           1.8
          ],
          [
           5.714285714285714
          ],
          [
           1.8666666666666667
          ],
          [
           4.333333333333333
          ],
          [
           2.36
          ],
          [
           2.25
          ],
          [
           2
          ],
          [
           5.400778210116732
          ],
          [
           0.8333333333333334
          ],
          [
           4.875
          ],
          [
           4.2
          ],
          [
           1.425
          ],
          [
           2.491408934707904
          ],
          [
           8.571428571428571
          ],
          [
           4.5528455284552845
          ],
          [
           4.0476190476190474
          ],
          [
           5.355303810504634
          ],
          [
           1.730937773882559
          ],
          [
           3.07
          ],
          [
           3.1372549019607843
          ],
          [
           2.2519083969465647
          ],
          [
           5.75
          ],
          [
           2.499
          ],
          [
           1.1666666666666667
          ],
          [
           4.545454545454546
          ],
          [
           5.866666666666666
          ],
          [
           2.5832376578645238
          ],
          [
           3.0384615384615383
          ],
          [
           4.540909090909091
          ],
          [
           2.276867030965392
          ],
          [
           2.3
          ],
          [
           2.6984126984126986
          ],
          [
           4.9504950495049505
          ],
          [
           3.4583333333333335
          ],
          [
           4.833333333333333
          ],
          [
           2.1032504780114722
          ],
          [
           4.109589041095891
          ],
          [
           4
          ],
          [
           2.5384615384615383
          ],
          [
           3.5643564356435644
          ],
          [
           1.2916666666666667
          ],
          [
           5
          ],
          [
           2.230769230769231
          ],
          [
           4.117647058823529
          ],
          [
           3.3333333333333335
          ],
          [
           3.6363636363636362
          ],
          [
           4.769230769230769
          ],
          [
           3
          ],
          [
           1.1671763506625892
          ],
          [
           2.5
          ]
         ],
         "hovertemplate": "longitude=%{x}<br>latitude=%{y}<br>Rent/mo/sf=%{marker.color}<extra></extra>",
         "legendgroup": "",
         "marker": {
          "color": [
           2.26,
           2.4163346613545817,
           0.9100642398286938,
           7.3328,
           5.25,
           2.32,
           2.5833333333333335,
           2.825,
           2.75,
           3.598,
           1.9165625,
           4.4158986175115205,
           3.037272727272727,
           3.2288724501232906,
           3.1666666666666665,
           10.60049019607843,
           10.600397614314115,
           2.090909090909091,
           5,
           3.8761651131824233,
           11.082307692307692,
           3.7496774193548386,
           4.582978723404255,
           10.6,
           0.8332901554404145,
           4.403111739745403,
           3.5,
           4.2105263157894735,
           2.4996446339729923,
           4.083216783216783,
           0.915,
           2.6666105404950327,
           2.4994640943194,
           3.7498412698412698,
           2.083209509658247,
           4.166666666666667,
           5,
           4.333333333333333,
           2.3743475018642806,
           11.25,
           2.537071362372567,
           3.749972964204607,
           2.915129151291513,
           2.9166666666666665,
           3.3330882352941176,
           3.75,
           4.164648910411622,
           2.7777777777777777,
           6,
           0.9915384615384616,
           3.178231292517007,
           4.582976445396145,
           2.4164383561643836,
           4.583333333333333,
           1.669195751138088,
           3.5,
           2.0833333333333335,
           1.408450704225352,
           1.8,
           5.714285714285714,
           1.8666666666666667,
           4.333333333333333,
           2.36,
           2.25,
           2,
           5.400778210116732,
           0.8333333333333334,
           4.875,
           4.2,
           1.425,
           2.491408934707904,
           8.571428571428571,
           4.5528455284552845,
           4.0476190476190474,
           5.355303810504634,
           1.730937773882559,
           3.07,
           3.1372549019607843,
           2.2519083969465647,
           5.75,
           2.499,
           1.1666666666666667,
           4.545454545454546,
           5.866666666666666,
           2.5832376578645238,
           3.0384615384615383,
           4.540909090909091,
           2.276867030965392,
           2.3,
           2.6984126984126986,
           4.9504950495049505,
           3.4583333333333335,
           4.833333333333333,
           2.1032504780114722,
           4.109589041095891,
           4,
           2.5384615384615383,
           3.5643564356435644,
           1.2916666666666667,
           5,
           2.230769230769231,
           4.117647058823529,
           3.3333333333333335,
           3.6363636363636362,
           4.769230769230769,
           3,
           1.1671763506625892,
           2.5
          ],
          "coloraxis": "coloraxis",
          "symbol": "circle"
         },
         "mode": "markers",
         "name": "",
         "orientation": "v",
         "showlegend": false,
         "type": "scatter",
         "x": [
          -79.343926,
          -79.3412042,
          -79.4175653,
          -79.3935092,
          -79.373412,
          -79.3904944,
          -79.3411388,
          -79.4662298,
          -79.469202,
          -79.5322205,
          -79.516971,
          -79.2867726,
          -79.4393922,
          -79.4920948,
          -79.4628541,
          -79.3909152,
          -79.3909152,
          -79.4794554,
          -79.4568963,
          -79.22366618042452,
          -79.3916697,
          -79.4060226,
          -79.3712348,
          -79.3908687,
          -79.5111304,
          -79.3310956,
          -79.4628541,
          -79.4007937,
          -79.4305877,
          -79.3997415,
          -79.4324833,
          -79.4324833,
          -79.3937052,
          -79.3932884,
          -79.3841996,
          -79.4034703,
          -79.3997085,
          -79.388878,
          -79.2273126,
          -79.4098204,
          -79.4323021,
          -79.4277081,
          -79.5348447,
          -79.36692,
          -79.3937052,
          -79.4277081,
          -79.3670659,
          -79.47927,
          -79.4008849,
          -79.2744781,
          -79.36429,
          -79.3418471,
          -79.3755279,
          -79.3661842,
          -79.496511,
          -79.4232882,
          -79.4411203,
          -79.3826697,
          -79.3680313,
          -79.3909453,
          -79.4915448,
          -79.3534963,
          -79.424894,
          -79.3891031,
          -79.4749711,
          -79.3826697,
          -79.3517206,
          -79.3693313,
          -79.4799021,
          -79.473815,
          -79.3233489,
          -79.4038137,
          -79.3906811,
          -79.402228,
          -79.3930564,
          -79.3992068,
          -79.4334012,
          -79.3611809,
          -79.2893253,
          -79.373412,
          -79.3701351,
          -79.3652776,
          -79.4088666,
          -79.4839285,
          -79.4040031,
          -79.402676,
          -79.4011049,
          -79.4033401,
          -79.3305061,
          -79.4462269,
          -79.3903124,
          -79.4025697,
          -79.4025697,
          -79.4224791,
          -79.4297082,
          -79.3643432,
          -79.3693313,
          -79.3838754,
          -79.3130263,
          -79.3760312,
          -79.4281608,
          -79.4464584,
          -79.4414131,
          -79.3102405,
          -79.3758706,
          -79.424894,
          -79.4585335,
          -79.4309392
         ],
         "xaxis": "x",
         "y": [
          43.6672444,
          43.6630744,
          43.6634142,
          43.6869966,
          43.6480813,
          43.6786921,
          43.6632965,
          43.6820246,
          43.6651715,
          43.6016534,
          43.7004816,
          43.6806934,
          43.6589431,
          43.7738289,
          43.6655892,
          43.6714599,
          43.6714599,
          43.6656793,
          43.7215267,
          43.742862,
          43.6711804,
          43.6469223,
          43.6503754,
          43.6715929,
          43.7188575,
          43.8180948,
          43.6655892,
          43.6542832,
          43.7001131,
          43.6393466,
          43.7188771,
          43.7188771,
          43.6875829,
          43.6700832,
          43.6636891,
          43.7288337,
          43.7144274,
          43.7668804,
          43.7596382,
          43.7041938,
          43.6524525,
          43.642699,
          43.5945119,
          43.71335,
          43.6875829,
          43.642699,
          43.6525764,
          43.66581,
          43.6576212,
          43.776618,
          43.65241,
          43.6602424,
          43.7055823,
          43.6538637,
          43.6897651,
          43.6754021,
          43.6683813,
          43.6596017,
          43.6652462,
          43.6542451,
          43.6875044,
          43.677034,
          43.6492593,
          43.6501596,
          43.6456634,
          43.6596017,
          43.6657521,
          43.6642046,
          43.6506483,
          43.6903115,
          43.6718605,
          43.7297767,
          43.6451952,
          43.6543794,
          43.6749762,
          43.6458252,
          43.6990639,
          43.6540571,
          43.680453,
          43.6480813,
          43.6640145,
          43.6548992,
          43.6615734,
          43.6496137,
          43.7310425,
          43.6469092,
          43.6530873,
          43.6626034,
          43.6820226,
          43.6967642,
          43.6750351,
          43.7277243,
          43.7277243,
          43.6546128,
          43.7181257,
          43.655765,
          43.6642046,
          43.6619821,
          43.6867838,
          43.7084909,
          43.7137532,
          43.6400138,
          43.6398312,
          43.7086641,
          43.7081211,
          43.6492593,
          43.6747534,
          43.6803474
         ],
         "yaxis": "y"
        }
       ],
       "layout": {
        "autosize": false,
        "coloraxis": {
         "colorbar": {
          "title": {
           "text": "Rent/mo/sf"
          }
         },
         "colorscale": [
          [
           0,
           "#0d0887"
          ],
          [
           0.1111111111111111,
           "#46039f"
          ],
          [
           0.2222222222222222,
           "#7201a8"
          ],
          [
           0.3333333333333333,
           "#9c179e"
          ],
          [
           0.4444444444444444,
           "#bd3786"
          ],
          [
           0.5555555555555556,
           "#d8576b"
          ],
          [
           0.6666666666666666,
           "#ed7953"
          ],
          [
           0.7777777777777778,
           "#fb9f3a"
          ],
          [
           0.8888888888888888,
           "#fdca26"
          ],
          [
           1,
           "#f0f921"
          ]
         ]
        },
        "height": 500,
        "legend": {
         "tracegroupgap": 0
        },
        "margin": {
         "t": 60
        },
        "paper_bgcolor": "LightSteelBlue",
        "template": {
         "data": {
          "bar": [
           {
            "error_x": {
             "color": "#2a3f5f"
            },
            "error_y": {
             "color": "#2a3f5f"
            },
            "marker": {
             "line": {
              "color": "#E5ECF6",
              "width": 0.5
             }
            },
            "type": "bar"
           }
          ],
          "barpolar": [
           {
            "marker": {
             "line": {
              "color": "#E5ECF6",
              "width": 0.5
             }
            },
            "type": "barpolar"
           }
          ],
          "carpet": [
           {
            "aaxis": {
             "endlinecolor": "#2a3f5f",
             "gridcolor": "white",
             "linecolor": "white",
             "minorgridcolor": "white",
             "startlinecolor": "#2a3f5f"
            },
            "baxis": {
             "endlinecolor": "#2a3f5f",
             "gridcolor": "white",
             "linecolor": "white",
             "minorgridcolor": "white",
             "startlinecolor": "#2a3f5f"
            },
            "type": "carpet"
           }
          ],
          "choropleth": [
           {
            "colorbar": {
             "outlinewidth": 0,
             "ticks": ""
            },
            "type": "choropleth"
           }
          ],
          "contour": [
           {
            "colorbar": {
             "outlinewidth": 0,
             "ticks": ""
            },
            "colorscale": [
             [
              0,
              "#0d0887"
             ],
             [
              0.1111111111111111,
              "#46039f"
             ],
             [
              0.2222222222222222,
              "#7201a8"
             ],
             [
              0.3333333333333333,
              "#9c179e"
             ],
             [
              0.4444444444444444,
              "#bd3786"
             ],
             [
              0.5555555555555556,
              "#d8576b"
             ],
             [
              0.6666666666666666,
              "#ed7953"
             ],
             [
              0.7777777777777778,
              "#fb9f3a"
             ],
             [
              0.8888888888888888,
              "#fdca26"
             ],
             [
              1,
              "#f0f921"
             ]
            ],
            "type": "contour"
           }
          ],
          "contourcarpet": [
           {
            "colorbar": {
             "outlinewidth": 0,
             "ticks": ""
            },
            "type": "contourcarpet"
           }
          ],
          "heatmap": [
           {
            "colorbar": {
             "outlinewidth": 0,
             "ticks": ""
            },
            "colorscale": [
             [
              0,
              "#0d0887"
             ],
             [
              0.1111111111111111,
              "#46039f"
             ],
             [
              0.2222222222222222,
              "#7201a8"
             ],
             [
              0.3333333333333333,
              "#9c179e"
             ],
             [
              0.4444444444444444,
              "#bd3786"
             ],
             [
              0.5555555555555556,
              "#d8576b"
             ],
             [
              0.6666666666666666,
              "#ed7953"
             ],
             [
              0.7777777777777778,
              "#fb9f3a"
             ],
             [
              0.8888888888888888,
              "#fdca26"
             ],
             [
              1,
              "#f0f921"
             ]
            ],
            "type": "heatmap"
           }
          ],
          "heatmapgl": [
           {
            "colorbar": {
             "outlinewidth": 0,
             "ticks": ""
            },
            "colorscale": [
             [
              0,
              "#0d0887"
             ],
             [
              0.1111111111111111,
              "#46039f"
             ],
             [
              0.2222222222222222,
              "#7201a8"
             ],
             [
              0.3333333333333333,
              "#9c179e"
             ],
             [
              0.4444444444444444,
              "#bd3786"
             ],
             [
              0.5555555555555556,
              "#d8576b"
             ],
             [
              0.6666666666666666,
              "#ed7953"
             ],
             [
              0.7777777777777778,
              "#fb9f3a"
             ],
             [
              0.8888888888888888,
              "#fdca26"
             ],
             [
              1,
              "#f0f921"
             ]
            ],
            "type": "heatmapgl"
           }
          ],
          "histogram": [
           {
            "marker": {
             "colorbar": {
              "outlinewidth": 0,
              "ticks": ""
             }
            },
            "type": "histogram"
           }
          ],
          "histogram2d": [
           {
            "colorbar": {
             "outlinewidth": 0,
             "ticks": ""
            },
            "colorscale": [
             [
              0,
              "#0d0887"
             ],
             [
              0.1111111111111111,
              "#46039f"
             ],
             [
              0.2222222222222222,
              "#7201a8"
             ],
             [
              0.3333333333333333,
              "#9c179e"
             ],
             [
              0.4444444444444444,
              "#bd3786"
             ],
             [
              0.5555555555555556,
              "#d8576b"
             ],
             [
              0.6666666666666666,
              "#ed7953"
             ],
             [
              0.7777777777777778,
              "#fb9f3a"
             ],
             [
              0.8888888888888888,
              "#fdca26"
             ],
             [
              1,
              "#f0f921"
             ]
            ],
            "type": "histogram2d"
           }
          ],
          "histogram2dcontour": [
           {
            "colorbar": {
             "outlinewidth": 0,
             "ticks": ""
            },
            "colorscale": [
             [
              0,
              "#0d0887"
             ],
             [
              0.1111111111111111,
              "#46039f"
             ],
             [
              0.2222222222222222,
              "#7201a8"
             ],
             [
              0.3333333333333333,
              "#9c179e"
             ],
             [
              0.4444444444444444,
              "#bd3786"
             ],
             [
              0.5555555555555556,
              "#d8576b"
             ],
             [
              0.6666666666666666,
              "#ed7953"
             ],
             [
              0.7777777777777778,
              "#fb9f3a"
             ],
             [
              0.8888888888888888,
              "#fdca26"
             ],
             [
              1,
              "#f0f921"
             ]
            ],
            "type": "histogram2dcontour"
           }
          ],
          "mesh3d": [
           {
            "colorbar": {
             "outlinewidth": 0,
             "ticks": ""
            },
            "type": "mesh3d"
           }
          ],
          "parcoords": [
           {
            "line": {
             "colorbar": {
              "outlinewidth": 0,
              "ticks": ""
             }
            },
            "type": "parcoords"
           }
          ],
          "pie": [
           {
            "automargin": true,
            "type": "pie"
           }
          ],
          "scatter": [
           {
            "marker": {
             "colorbar": {
              "outlinewidth": 0,
              "ticks": ""
             }
            },
            "type": "scatter"
           }
          ],
          "scatter3d": [
           {
            "line": {
             "colorbar": {
              "outlinewidth": 0,
              "ticks": ""
             }
            },
            "marker": {
             "colorbar": {
              "outlinewidth": 0,
              "ticks": ""
             }
            },
            "type": "scatter3d"
           }
          ],
          "scattercarpet": [
           {
            "marker": {
             "colorbar": {
              "outlinewidth": 0,
              "ticks": ""
             }
            },
            "type": "scattercarpet"
           }
          ],
          "scattergeo": [
           {
            "marker": {
             "colorbar": {
              "outlinewidth": 0,
              "ticks": ""
             }
            },
            "type": "scattergeo"
           }
          ],
          "scattergl": [
           {
            "marker": {
             "colorbar": {
              "outlinewidth": 0,
              "ticks": ""
             }
            },
            "type": "scattergl"
           }
          ],
          "scattermapbox": [
           {
            "marker": {
             "colorbar": {
              "outlinewidth": 0,
              "ticks": ""
             }
            },
            "type": "scattermapbox"
           }
          ],
          "scatterpolar": [
           {
            "marker": {
             "colorbar": {
              "outlinewidth": 0,
              "ticks": ""
             }
            },
            "type": "scatterpolar"
           }
          ],
          "scatterpolargl": [
           {
            "marker": {
             "colorbar": {
              "outlinewidth": 0,
              "ticks": ""
             }
            },
            "type": "scatterpolargl"
           }
          ],
          "scatterternary": [
           {
            "marker": {
             "colorbar": {
              "outlinewidth": 0,
              "ticks": ""
             }
            },
            "type": "scatterternary"
           }
          ],
          "surface": [
           {
            "colorbar": {
             "outlinewidth": 0,
             "ticks": ""
            },
            "colorscale": [
             [
              0,
              "#0d0887"
             ],
             [
              0.1111111111111111,
              "#46039f"
             ],
             [
              0.2222222222222222,
              "#7201a8"
             ],
             [
              0.3333333333333333,
              "#9c179e"
             ],
             [
              0.4444444444444444,
              "#bd3786"
             ],
             [
              0.5555555555555556,
              "#d8576b"
             ],
             [
              0.6666666666666666,
              "#ed7953"
             ],
             [
              0.7777777777777778,
              "#fb9f3a"
             ],
             [
              0.8888888888888888,
              "#fdca26"
             ],
             [
              1,
              "#f0f921"
             ]
            ],
            "type": "surface"
           }
          ],
          "table": [
           {
            "cells": {
             "fill": {
              "color": "#EBF0F8"
             },
             "line": {
              "color": "white"
             }
            },
            "header": {
             "fill": {
              "color": "#C8D4E3"
             },
             "line": {
              "color": "white"
             }
            },
            "type": "table"
           }
          ]
         },
         "layout": {
          "annotationdefaults": {
           "arrowcolor": "#2a3f5f",
           "arrowhead": 0,
           "arrowwidth": 1
          },
          "coloraxis": {
           "colorbar": {
            "outlinewidth": 0,
            "ticks": ""
           }
          },
          "colorscale": {
           "diverging": [
            [
             0,
             "#8e0152"
            ],
            [
             0.1,
             "#c51b7d"
            ],
            [
             0.2,
             "#de77ae"
            ],
            [
             0.3,
             "#f1b6da"
            ],
            [
             0.4,
             "#fde0ef"
            ],
            [
             0.5,
             "#f7f7f7"
            ],
            [
             0.6,
             "#e6f5d0"
            ],
            [
             0.7,
             "#b8e186"
            ],
            [
             0.8,
             "#7fbc41"
            ],
            [
             0.9,
             "#4d9221"
            ],
            [
             1,
             "#276419"
            ]
           ],
           "sequential": [
            [
             0,
             "#0d0887"
            ],
            [
             0.1111111111111111,
             "#46039f"
            ],
            [
             0.2222222222222222,
             "#7201a8"
            ],
            [
             0.3333333333333333,
             "#9c179e"
            ],
            [
             0.4444444444444444,
             "#bd3786"
            ],
            [
             0.5555555555555556,
             "#d8576b"
            ],
            [
             0.6666666666666666,
             "#ed7953"
            ],
            [
             0.7777777777777778,
             "#fb9f3a"
            ],
            [
             0.8888888888888888,
             "#fdca26"
            ],
            [
             1,
             "#f0f921"
            ]
           ],
           "sequentialminus": [
            [
             0,
             "#0d0887"
            ],
            [
             0.1111111111111111,
             "#46039f"
            ],
            [
             0.2222222222222222,
             "#7201a8"
            ],
            [
             0.3333333333333333,
             "#9c179e"
            ],
            [
             0.4444444444444444,
             "#bd3786"
            ],
            [
             0.5555555555555556,
             "#d8576b"
            ],
            [
             0.6666666666666666,
             "#ed7953"
            ],
            [
             0.7777777777777778,
             "#fb9f3a"
            ],
            [
             0.8888888888888888,
             "#fdca26"
            ],
            [
             1,
             "#f0f921"
            ]
           ]
          },
          "colorway": [
           "#636efa",
           "#EF553B",
           "#00cc96",
           "#ab63fa",
           "#FFA15A",
           "#19d3f3",
           "#FF6692",
           "#B6E880",
           "#FF97FF",
           "#FECB52"
          ],
          "font": {
           "color": "#2a3f5f"
          },
          "geo": {
           "bgcolor": "white",
           "lakecolor": "white",
           "landcolor": "#E5ECF6",
           "showlakes": true,
           "showland": true,
           "subunitcolor": "white"
          },
          "hoverlabel": {
           "align": "left"
          },
          "hovermode": "closest",
          "mapbox": {
           "style": "light"
          },
          "paper_bgcolor": "white",
          "plot_bgcolor": "#E5ECF6",
          "polar": {
           "angularaxis": {
            "gridcolor": "white",
            "linecolor": "white",
            "ticks": ""
           },
           "bgcolor": "#E5ECF6",
           "radialaxis": {
            "gridcolor": "white",
            "linecolor": "white",
            "ticks": ""
           }
          },
          "scene": {
           "xaxis": {
            "backgroundcolor": "#E5ECF6",
            "gridcolor": "white",
            "gridwidth": 2,
            "linecolor": "white",
            "showbackground": true,
            "ticks": "",
            "zerolinecolor": "white"
           },
           "yaxis": {
            "backgroundcolor": "#E5ECF6",
            "gridcolor": "white",
            "gridwidth": 2,
            "linecolor": "white",
            "showbackground": true,
            "ticks": "",
            "zerolinecolor": "white"
           },
           "zaxis": {
            "backgroundcolor": "#E5ECF6",
            "gridcolor": "white",
            "gridwidth": 2,
            "linecolor": "white",
            "showbackground": true,
            "ticks": "",
            "zerolinecolor": "white"
           }
          },
          "shapedefaults": {
           "line": {
            "color": "#2a3f5f"
           }
          },
          "ternary": {
           "aaxis": {
            "gridcolor": "white",
            "linecolor": "white",
            "ticks": ""
           },
           "baxis": {
            "gridcolor": "white",
            "linecolor": "white",
            "ticks": ""
           },
           "bgcolor": "#E5ECF6",
           "caxis": {
            "gridcolor": "white",
            "linecolor": "white",
            "ticks": ""
           }
          },
          "title": {
           "x": 0.05
          },
          "xaxis": {
           "automargin": true,
           "gridcolor": "white",
           "linecolor": "white",
           "ticks": "",
           "title": {
            "standoff": 15
           },
           "zerolinecolor": "white",
           "zerolinewidth": 2
          },
          "yaxis": {
           "automargin": true,
           "gridcolor": "white",
           "linecolor": "white",
           "ticks": "",
           "title": {
            "standoff": 15
           },
           "zerolinecolor": "white",
           "zerolinewidth": 2
          }
         }
        },
        "width": 900,
        "xaxis": {
         "anchor": "y",
         "domain": [
          0,
          1
         ],
         "title": {
          "text": "longitude"
         }
        },
        "yaxis": {
         "anchor": "x",
         "domain": [
          0,
          1
         ],
         "title": {
          "text": "latitude"
         }
        }
       }
      },
      "text/html": [
       "<div>\n",
       "        \n",
       "        \n",
       "            <div id=\"6e974a85-c235-42b7-ab67-f53ec06f0722\" class=\"plotly-graph-div\" style=\"height:500px; width:900px;\"></div>\n",
       "            <script type=\"text/javascript\">\n",
       "                require([\"plotly\"], function(Plotly) {\n",
       "                    window.PLOTLYENV=window.PLOTLYENV || {};\n",
       "                    \n",
       "                if (document.getElementById(\"6e974a85-c235-42b7-ab67-f53ec06f0722\")) {\n",
       "                    Plotly.newPlot(\n",
       "                        '6e974a85-c235-42b7-ab67-f53ec06f0722',\n",
       "                        [{\"customdata\": [[2.26], [2.4163346613545817], [0.9100642398286938], [7.3328], [5.25], [2.32], [2.5833333333333335], [2.825], [2.75], [3.598], [1.9165625], [4.4158986175115205], [3.037272727272727], [3.2288724501232906], [3.1666666666666665], [10.60049019607843], [10.600397614314115], [2.090909090909091], [5.0], [3.8761651131824233], [11.082307692307692], [3.7496774193548386], [4.582978723404255], [10.6], [0.8332901554404145], [4.403111739745403], [3.5], [4.2105263157894735], [2.4996446339729923], [4.083216783216783], [0.915], [2.6666105404950327], [2.4994640943194], [3.7498412698412698], [2.083209509658247], [4.166666666666667], [5.0], [4.333333333333333], [2.3743475018642806], [11.25], [2.537071362372567], [3.749972964204607], [2.915129151291513], [2.9166666666666665], [3.3330882352941176], [3.75], [4.164648910411622], [2.7777777777777777], [6.0], [0.9915384615384616], [3.178231292517007], [4.582976445396145], [2.4164383561643836], [4.583333333333333], [1.669195751138088], [3.5], [2.0833333333333335], [1.408450704225352], [1.8], [5.714285714285714], [1.8666666666666667], [4.333333333333333], [2.36], [2.25], [2.0], [5.400778210116732], [0.8333333333333334], [4.875], [4.2], [1.425], [2.491408934707904], [8.571428571428571], [4.5528455284552845], [4.0476190476190474], [5.355303810504634], [1.730937773882559], [3.07], [3.1372549019607843], [2.2519083969465647], [5.75], [2.499], [1.1666666666666667], [4.545454545454546], [5.866666666666666], [2.5832376578645238], [3.0384615384615383], [4.540909090909091], [2.276867030965392], [2.3], [2.6984126984126986], [4.9504950495049505], [3.4583333333333335], [4.833333333333333], [2.1032504780114722], [4.109589041095891], [4.0], [2.5384615384615383], [3.5643564356435644], [1.2916666666666667], [5.0], [2.230769230769231], [4.117647058823529], [3.3333333333333335], [3.6363636363636362], [4.769230769230769], [3.0], [1.1671763506625892], [2.5]], \"hovertemplate\": \"longitude=%{x}<br>latitude=%{y}<br>Rent/mo/sf=%{marker.color}<extra></extra>\", \"legendgroup\": \"\", \"marker\": {\"color\": [2.26, 2.4163346613545817, 0.9100642398286938, 7.3328, 5.25, 2.32, 2.5833333333333335, 2.825, 2.75, 3.598, 1.9165625, 4.4158986175115205, 3.037272727272727, 3.2288724501232906, 3.1666666666666665, 10.60049019607843, 10.600397614314115, 2.090909090909091, 5.0, 3.8761651131824233, 11.082307692307692, 3.7496774193548386, 4.582978723404255, 10.6, 0.8332901554404145, 4.403111739745403, 3.5, 4.2105263157894735, 2.4996446339729923, 4.083216783216783, 0.915, 2.6666105404950327, 2.4994640943194, 3.7498412698412698, 2.083209509658247, 4.166666666666667, 5.0, 4.333333333333333, 2.3743475018642806, 11.25, 2.537071362372567, 3.749972964204607, 2.915129151291513, 2.9166666666666665, 3.3330882352941176, 3.75, 4.164648910411622, 2.7777777777777777, 6.0, 0.9915384615384616, 3.178231292517007, 4.582976445396145, 2.4164383561643836, 4.583333333333333, 1.669195751138088, 3.5, 2.0833333333333335, 1.408450704225352, 1.8, 5.714285714285714, 1.8666666666666667, 4.333333333333333, 2.36, 2.25, 2.0, 5.400778210116732, 0.8333333333333334, 4.875, 4.2, 1.425, 2.491408934707904, 8.571428571428571, 4.5528455284552845, 4.0476190476190474, 5.355303810504634, 1.730937773882559, 3.07, 3.1372549019607843, 2.2519083969465647, 5.75, 2.499, 1.1666666666666667, 4.545454545454546, 5.866666666666666, 2.5832376578645238, 3.0384615384615383, 4.540909090909091, 2.276867030965392, 2.3, 2.6984126984126986, 4.9504950495049505, 3.4583333333333335, 4.833333333333333, 2.1032504780114722, 4.109589041095891, 4.0, 2.5384615384615383, 3.5643564356435644, 1.2916666666666667, 5.0, 2.230769230769231, 4.117647058823529, 3.3333333333333335, 3.6363636363636362, 4.769230769230769, 3.0, 1.1671763506625892, 2.5], \"coloraxis\": \"coloraxis\", \"symbol\": \"circle\"}, \"mode\": \"markers\", \"name\": \"\", \"orientation\": \"v\", \"showlegend\": false, \"type\": \"scatter\", \"x\": [-79.343926, -79.3412042, -79.4175653, -79.3935092, -79.373412, -79.3904944, -79.3411388, -79.4662298, -79.469202, -79.5322205, -79.516971, -79.2867726, -79.4393922, -79.4920948, -79.4628541, -79.3909152, -79.3909152, -79.4794554, -79.4568963, -79.22366618042452, -79.3916697, -79.4060226, -79.3712348, -79.3908687, -79.5111304, -79.3310956, -79.4628541, -79.4007937, -79.4305877, -79.3997415, -79.4324833, -79.4324833, -79.3937052, -79.3932884, -79.3841996, -79.4034703, -79.3997085, -79.388878, -79.2273126, -79.4098204, -79.4323021, -79.4277081, -79.5348447, -79.36692, -79.3937052, -79.4277081, -79.3670659, -79.47927, -79.4008849, -79.2744781, -79.36429, -79.3418471, -79.3755279, -79.3661842, -79.496511, -79.4232882, -79.4411203, -79.3826697, -79.3680313, -79.3909453, -79.4915448, -79.3534963, -79.424894, -79.3891031, -79.4749711, -79.3826697, -79.3517206, -79.3693313, -79.4799021, -79.473815, -79.3233489, -79.4038137, -79.3906811, -79.402228, -79.3930564, -79.3992068, -79.4334012, -79.3611809, -79.2893253, -79.373412, -79.3701351, -79.3652776, -79.4088666, -79.4839285, -79.4040031, -79.402676, -79.4011049, -79.4033401, -79.3305061, -79.4462269, -79.3903124, -79.4025697, -79.4025697, -79.4224791, -79.4297082, -79.3643432, -79.3693313, -79.3838754, -79.3130263, -79.3760312, -79.4281608, -79.4464584, -79.4414131, -79.3102405, -79.3758706, -79.424894, -79.4585335, -79.4309392], \"xaxis\": \"x\", \"y\": [43.6672444, 43.6630744, 43.6634142, 43.6869966, 43.6480813, 43.6786921, 43.6632965, 43.6820246, 43.6651715, 43.6016534, 43.7004816, 43.6806934, 43.6589431, 43.7738289, 43.6655892, 43.6714599, 43.6714599, 43.6656793, 43.7215267, 43.742862, 43.6711804, 43.6469223, 43.6503754, 43.6715929, 43.7188575, 43.8180948, 43.6655892, 43.6542832, 43.7001131, 43.6393466, 43.7188771, 43.7188771, 43.6875829, 43.6700832, 43.6636891, 43.7288337, 43.7144274, 43.7668804, 43.7596382, 43.7041938, 43.6524525, 43.642699, 43.5945119, 43.71335, 43.6875829, 43.642699, 43.6525764, 43.66581, 43.6576212, 43.776618, 43.65241, 43.6602424, 43.7055823, 43.6538637, 43.6897651, 43.6754021, 43.6683813, 43.6596017, 43.6652462, 43.6542451, 43.6875044, 43.677034, 43.6492593, 43.6501596, 43.6456634, 43.6596017, 43.6657521, 43.6642046, 43.6506483, 43.6903115, 43.6718605, 43.7297767, 43.6451952, 43.6543794, 43.6749762, 43.6458252, 43.6990639, 43.6540571, 43.680453, 43.6480813, 43.6640145, 43.6548992, 43.6615734, 43.6496137, 43.7310425, 43.6469092, 43.6530873, 43.6626034, 43.6820226, 43.6967642, 43.6750351, 43.7277243, 43.7277243, 43.6546128, 43.7181257, 43.655765, 43.6642046, 43.6619821, 43.6867838, 43.7084909, 43.7137532, 43.6400138, 43.6398312, 43.7086641, 43.7081211, 43.6492593, 43.6747534, 43.6803474], \"yaxis\": \"y\"}],\n",
       "                        {\"autosize\": false, \"coloraxis\": {\"colorbar\": {\"title\": {\"text\": \"Rent/mo/sf\"}}, \"colorscale\": [[0.0, \"#0d0887\"], [0.1111111111111111, \"#46039f\"], [0.2222222222222222, \"#7201a8\"], [0.3333333333333333, \"#9c179e\"], [0.4444444444444444, \"#bd3786\"], [0.5555555555555556, \"#d8576b\"], [0.6666666666666666, \"#ed7953\"], [0.7777777777777778, \"#fb9f3a\"], [0.8888888888888888, \"#fdca26\"], [1.0, \"#f0f921\"]]}, \"height\": 500, \"legend\": {\"tracegroupgap\": 0}, \"margin\": {\"t\": 60}, \"paper_bgcolor\": \"LightSteelBlue\", \"template\": {\"data\": {\"bar\": [{\"error_x\": {\"color\": \"#2a3f5f\"}, \"error_y\": {\"color\": \"#2a3f5f\"}, \"marker\": {\"line\": {\"color\": \"#E5ECF6\", \"width\": 0.5}}, \"type\": \"bar\"}], \"barpolar\": [{\"marker\": {\"line\": {\"color\": \"#E5ECF6\", \"width\": 0.5}}, \"type\": \"barpolar\"}], \"carpet\": [{\"aaxis\": {\"endlinecolor\": \"#2a3f5f\", \"gridcolor\": \"white\", \"linecolor\": \"white\", \"minorgridcolor\": \"white\", \"startlinecolor\": \"#2a3f5f\"}, \"baxis\": {\"endlinecolor\": \"#2a3f5f\", \"gridcolor\": \"white\", \"linecolor\": \"white\", \"minorgridcolor\": \"white\", \"startlinecolor\": \"#2a3f5f\"}, \"type\": \"carpet\"}], \"choropleth\": [{\"colorbar\": {\"outlinewidth\": 0, \"ticks\": \"\"}, \"type\": \"choropleth\"}], \"contour\": [{\"colorbar\": {\"outlinewidth\": 0, \"ticks\": \"\"}, \"colorscale\": [[0.0, \"#0d0887\"], [0.1111111111111111, \"#46039f\"], [0.2222222222222222, \"#7201a8\"], [0.3333333333333333, \"#9c179e\"], [0.4444444444444444, \"#bd3786\"], [0.5555555555555556, \"#d8576b\"], [0.6666666666666666, \"#ed7953\"], [0.7777777777777778, \"#fb9f3a\"], [0.8888888888888888, \"#fdca26\"], [1.0, \"#f0f921\"]], \"type\": \"contour\"}], \"contourcarpet\": [{\"colorbar\": {\"outlinewidth\": 0, \"ticks\": \"\"}, \"type\": \"contourcarpet\"}], \"heatmap\": [{\"colorbar\": {\"outlinewidth\": 0, \"ticks\": \"\"}, \"colorscale\": [[0.0, \"#0d0887\"], [0.1111111111111111, \"#46039f\"], [0.2222222222222222, \"#7201a8\"], [0.3333333333333333, \"#9c179e\"], [0.4444444444444444, \"#bd3786\"], [0.5555555555555556, \"#d8576b\"], [0.6666666666666666, \"#ed7953\"], [0.7777777777777778, \"#fb9f3a\"], [0.8888888888888888, \"#fdca26\"], [1.0, \"#f0f921\"]], \"type\": \"heatmap\"}], \"heatmapgl\": [{\"colorbar\": {\"outlinewidth\": 0, \"ticks\": \"\"}, \"colorscale\": [[0.0, \"#0d0887\"], [0.1111111111111111, \"#46039f\"], [0.2222222222222222, \"#7201a8\"], [0.3333333333333333, \"#9c179e\"], [0.4444444444444444, \"#bd3786\"], [0.5555555555555556, \"#d8576b\"], [0.6666666666666666, \"#ed7953\"], [0.7777777777777778, \"#fb9f3a\"], [0.8888888888888888, \"#fdca26\"], [1.0, \"#f0f921\"]], \"type\": \"heatmapgl\"}], \"histogram\": [{\"marker\": {\"colorbar\": {\"outlinewidth\": 0, \"ticks\": \"\"}}, \"type\": \"histogram\"}], \"histogram2d\": [{\"colorbar\": {\"outlinewidth\": 0, \"ticks\": \"\"}, \"colorscale\": [[0.0, \"#0d0887\"], [0.1111111111111111, \"#46039f\"], [0.2222222222222222, \"#7201a8\"], [0.3333333333333333, \"#9c179e\"], [0.4444444444444444, \"#bd3786\"], [0.5555555555555556, \"#d8576b\"], [0.6666666666666666, \"#ed7953\"], [0.7777777777777778, \"#fb9f3a\"], [0.8888888888888888, \"#fdca26\"], [1.0, \"#f0f921\"]], \"type\": \"histogram2d\"}], \"histogram2dcontour\": [{\"colorbar\": {\"outlinewidth\": 0, \"ticks\": \"\"}, \"colorscale\": [[0.0, \"#0d0887\"], [0.1111111111111111, \"#46039f\"], [0.2222222222222222, \"#7201a8\"], [0.3333333333333333, \"#9c179e\"], [0.4444444444444444, \"#bd3786\"], [0.5555555555555556, \"#d8576b\"], [0.6666666666666666, \"#ed7953\"], [0.7777777777777778, \"#fb9f3a\"], [0.8888888888888888, \"#fdca26\"], [1.0, \"#f0f921\"]], \"type\": \"histogram2dcontour\"}], \"mesh3d\": [{\"colorbar\": {\"outlinewidth\": 0, \"ticks\": \"\"}, \"type\": \"mesh3d\"}], \"parcoords\": [{\"line\": {\"colorbar\": {\"outlinewidth\": 0, \"ticks\": \"\"}}, \"type\": \"parcoords\"}], \"pie\": [{\"automargin\": true, \"type\": \"pie\"}], \"scatter\": [{\"marker\": {\"colorbar\": {\"outlinewidth\": 0, \"ticks\": \"\"}}, \"type\": \"scatter\"}], \"scatter3d\": [{\"line\": {\"colorbar\": {\"outlinewidth\": 0, \"ticks\": \"\"}}, \"marker\": {\"colorbar\": {\"outlinewidth\": 0, \"ticks\": \"\"}}, \"type\": \"scatter3d\"}], \"scattercarpet\": [{\"marker\": {\"colorbar\": {\"outlinewidth\": 0, \"ticks\": \"\"}}, \"type\": \"scattercarpet\"}], \"scattergeo\": [{\"marker\": {\"colorbar\": {\"outlinewidth\": 0, \"ticks\": \"\"}}, \"type\": \"scattergeo\"}], \"scattergl\": [{\"marker\": {\"colorbar\": {\"outlinewidth\": 0, \"ticks\": \"\"}}, \"type\": \"scattergl\"}], \"scattermapbox\": [{\"marker\": {\"colorbar\": {\"outlinewidth\": 0, \"ticks\": \"\"}}, \"type\": \"scattermapbox\"}], \"scatterpolar\": [{\"marker\": {\"colorbar\": {\"outlinewidth\": 0, \"ticks\": \"\"}}, \"type\": \"scatterpolar\"}], \"scatterpolargl\": [{\"marker\": {\"colorbar\": {\"outlinewidth\": 0, \"ticks\": \"\"}}, \"type\": \"scatterpolargl\"}], \"scatterternary\": [{\"marker\": {\"colorbar\": {\"outlinewidth\": 0, \"ticks\": \"\"}}, \"type\": \"scatterternary\"}], \"surface\": [{\"colorbar\": {\"outlinewidth\": 0, \"ticks\": \"\"}, \"colorscale\": [[0.0, \"#0d0887\"], [0.1111111111111111, \"#46039f\"], [0.2222222222222222, \"#7201a8\"], [0.3333333333333333, \"#9c179e\"], [0.4444444444444444, \"#bd3786\"], [0.5555555555555556, \"#d8576b\"], [0.6666666666666666, \"#ed7953\"], [0.7777777777777778, \"#fb9f3a\"], [0.8888888888888888, \"#fdca26\"], [1.0, \"#f0f921\"]], \"type\": \"surface\"}], \"table\": [{\"cells\": {\"fill\": {\"color\": \"#EBF0F8\"}, \"line\": {\"color\": \"white\"}}, \"header\": {\"fill\": {\"color\": \"#C8D4E3\"}, \"line\": {\"color\": \"white\"}}, \"type\": \"table\"}]}, \"layout\": {\"annotationdefaults\": {\"arrowcolor\": \"#2a3f5f\", \"arrowhead\": 0, \"arrowwidth\": 1}, \"coloraxis\": {\"colorbar\": {\"outlinewidth\": 0, \"ticks\": \"\"}}, \"colorscale\": {\"diverging\": [[0, \"#8e0152\"], [0.1, \"#c51b7d\"], [0.2, \"#de77ae\"], [0.3, \"#f1b6da\"], [0.4, \"#fde0ef\"], [0.5, \"#f7f7f7\"], [0.6, \"#e6f5d0\"], [0.7, \"#b8e186\"], [0.8, \"#7fbc41\"], [0.9, \"#4d9221\"], [1, \"#276419\"]], \"sequential\": [[0.0, \"#0d0887\"], [0.1111111111111111, \"#46039f\"], [0.2222222222222222, \"#7201a8\"], [0.3333333333333333, \"#9c179e\"], [0.4444444444444444, \"#bd3786\"], [0.5555555555555556, \"#d8576b\"], [0.6666666666666666, \"#ed7953\"], [0.7777777777777778, \"#fb9f3a\"], [0.8888888888888888, \"#fdca26\"], [1.0, \"#f0f921\"]], \"sequentialminus\": [[0.0, \"#0d0887\"], [0.1111111111111111, \"#46039f\"], [0.2222222222222222, \"#7201a8\"], [0.3333333333333333, \"#9c179e\"], [0.4444444444444444, \"#bd3786\"], [0.5555555555555556, \"#d8576b\"], [0.6666666666666666, \"#ed7953\"], [0.7777777777777778, \"#fb9f3a\"], [0.8888888888888888, \"#fdca26\"], [1.0, \"#f0f921\"]]}, \"colorway\": [\"#636efa\", \"#EF553B\", \"#00cc96\", \"#ab63fa\", \"#FFA15A\", \"#19d3f3\", \"#FF6692\", \"#B6E880\", \"#FF97FF\", \"#FECB52\"], \"font\": {\"color\": \"#2a3f5f\"}, \"geo\": {\"bgcolor\": \"white\", \"lakecolor\": \"white\", \"landcolor\": \"#E5ECF6\", \"showlakes\": true, \"showland\": true, \"subunitcolor\": \"white\"}, \"hoverlabel\": {\"align\": \"left\"}, \"hovermode\": \"closest\", \"mapbox\": {\"style\": \"light\"}, \"paper_bgcolor\": \"white\", \"plot_bgcolor\": \"#E5ECF6\", \"polar\": {\"angularaxis\": {\"gridcolor\": \"white\", \"linecolor\": \"white\", \"ticks\": \"\"}, \"bgcolor\": \"#E5ECF6\", \"radialaxis\": {\"gridcolor\": \"white\", \"linecolor\": \"white\", \"ticks\": \"\"}}, \"scene\": {\"xaxis\": {\"backgroundcolor\": \"#E5ECF6\", \"gridcolor\": \"white\", \"gridwidth\": 2, \"linecolor\": \"white\", \"showbackground\": true, \"ticks\": \"\", \"zerolinecolor\": \"white\"}, \"yaxis\": {\"backgroundcolor\": \"#E5ECF6\", \"gridcolor\": \"white\", \"gridwidth\": 2, \"linecolor\": \"white\", \"showbackground\": true, \"ticks\": \"\", \"zerolinecolor\": \"white\"}, \"zaxis\": {\"backgroundcolor\": \"#E5ECF6\", \"gridcolor\": \"white\", \"gridwidth\": 2, \"linecolor\": \"white\", \"showbackground\": true, \"ticks\": \"\", \"zerolinecolor\": \"white\"}}, \"shapedefaults\": {\"line\": {\"color\": \"#2a3f5f\"}}, \"ternary\": {\"aaxis\": {\"gridcolor\": \"white\", \"linecolor\": \"white\", \"ticks\": \"\"}, \"baxis\": {\"gridcolor\": \"white\", \"linecolor\": \"white\", \"ticks\": \"\"}, \"bgcolor\": \"#E5ECF6\", \"caxis\": {\"gridcolor\": \"white\", \"linecolor\": \"white\", \"ticks\": \"\"}}, \"title\": {\"x\": 0.05}, \"xaxis\": {\"automargin\": true, \"gridcolor\": \"white\", \"linecolor\": \"white\", \"ticks\": \"\", \"title\": {\"standoff\": 15}, \"zerolinecolor\": \"white\", \"zerolinewidth\": 2}, \"yaxis\": {\"automargin\": true, \"gridcolor\": \"white\", \"linecolor\": \"white\", \"ticks\": \"\", \"title\": {\"standoff\": 15}, \"zerolinecolor\": \"white\", \"zerolinewidth\": 2}}}, \"width\": 900, \"xaxis\": {\"anchor\": \"y\", \"domain\": [0.0, 1.0], \"title\": {\"text\": \"longitude\"}}, \"yaxis\": {\"anchor\": \"x\", \"domain\": [0.0, 1.0], \"title\": {\"text\": \"latitude\"}}},\n",
       "                        {\"responsive\": true}\n",
       "                    ).then(function(){\n",
       "                            \n",
       "var gd = document.getElementById('6e974a85-c235-42b7-ab67-f53ec06f0722');\n",
       "var x = new MutationObserver(function (mutations, observer) {{\n",
       "        var display = window.getComputedStyle(gd).display;\n",
       "        if (!display || display === 'none') {{\n",
       "            console.log([gd, 'removed!']);\n",
       "            Plotly.purge(gd);\n",
       "            observer.disconnect();\n",
       "        }}\n",
       "}});\n",
       "\n",
       "// Listen for the removal of the full notebook cells\n",
       "var notebookContainer = gd.closest('#notebook-container');\n",
       "if (notebookContainer) {{\n",
       "    x.observe(notebookContainer, {childList: true});\n",
       "}}\n",
       "\n",
       "// Listen for the clearing of the current output cell\n",
       "var outputEl = gd.closest('.output');\n",
       "if (outputEl) {{\n",
       "    x.observe(outputEl, {childList: true});\n",
       "}}\n",
       "\n",
       "                        })\n",
       "                };\n",
       "                });\n",
       "            </script>\n",
       "        </div>"
      ]
     },
     "metadata": {},
     "output_type": "display_data"
    }
   ],
   "source": [
    "types_to_show = ['Office']\n",
    "\n",
    "fig = px.scatter(\n",
    "    retail_gdf.loc[retail_gdf['Type'].isin(types_to_show)],\n",
    "    x='longitude',\n",
    "    y='latitude',\n",
    "    color='Rent/mo/sf',\n",
    "    hover_data=['Rent/mo/sf'])\n",
    "\n",
    "fig.update_layout(\n",
    "    autosize=False,\n",
    "    width=900,\n",
    "    height=500,\n",
    "    paper_bgcolor=\"LightSteelBlue\",\n",
    ")\n",
    "\n",
    "fig.show()"
   ]
  },
  {
   "cell_type": "markdown",
   "metadata": {},
   "source": [
    "From the plot it's hard to tell where the more expensive rents are since the values are close together. Let's try that again but now using a log scale to see more contrast in the rent differences."
   ]
  },
  {
   "cell_type": "code",
   "execution_count": 130,
   "metadata": {},
   "outputs": [
    {
     "data": {
      "application/vnd.plotly.v1+json": {
       "config": {
        "plotlyServerURL": "https://plot.ly"
       },
       "data": [
        {
         "customdata": [
          [
           2.26
          ],
          [
           2.4163346613545817
          ],
          [
           0.9100642398286938
          ],
          [
           7.3328
          ],
          [
           5.25
          ],
          [
           2.32
          ],
          [
           2.5833333333333335
          ],
          [
           2.825
          ],
          [
           2.75
          ],
          [
           3.598
          ],
          [
           1.9165625
          ],
          [
           4.4158986175115205
          ],
          [
           3.037272727272727
          ],
          [
           3.2288724501232906
          ],
          [
           3.1666666666666665
          ],
          [
           10.60049019607843
          ],
          [
           10.600397614314115
          ],
          [
           2.090909090909091
          ],
          [
           5
          ],
          [
           3.8761651131824233
          ],
          [
           11.082307692307692
          ],
          [
           3.7496774193548386
          ],
          [
           4.582978723404255
          ],
          [
           10.6
          ],
          [
           0.8332901554404145
          ],
          [
           4.403111739745403
          ],
          [
           3.5
          ],
          [
           4.2105263157894735
          ],
          [
           2.4996446339729923
          ],
          [
           4.083216783216783
          ],
          [
           0.915
          ],
          [
           2.6666105404950327
          ],
          [
           2.4994640943194
          ],
          [
           3.7498412698412698
          ],
          [
           2.083209509658247
          ],
          [
           4.166666666666667
          ],
          [
           5
          ],
          [
           4.333333333333333
          ],
          [
           2.3743475018642806
          ],
          [
           11.25
          ],
          [
           2.537071362372567
          ],
          [
           3.749972964204607
          ],
          [
           2.915129151291513
          ],
          [
           2.9166666666666665
          ],
          [
           3.3330882352941176
          ],
          [
           3.75
          ],
          [
           4.164648910411622
          ],
          [
           2.7777777777777777
          ],
          [
           6
          ],
          [
           0.9915384615384616
          ],
          [
           3.178231292517007
          ],
          [
           4.582976445396145
          ],
          [
           2.4164383561643836
          ],
          [
           4.583333333333333
          ],
          [
           1.669195751138088
          ],
          [
           3.5
          ],
          [
           2.0833333333333335
          ],
          [
           1.408450704225352
          ],
          [
           1.8
          ],
          [
           5.714285714285714
          ],
          [
           1.8666666666666667
          ],
          [
           4.333333333333333
          ],
          [
           2.36
          ],
          [
           2.25
          ],
          [
           2
          ],
          [
           5.400778210116732
          ],
          [
           0.8333333333333334
          ],
          [
           4.875
          ],
          [
           4.2
          ],
          [
           1.425
          ],
          [
           2.491408934707904
          ],
          [
           8.571428571428571
          ],
          [
           4.5528455284552845
          ],
          [
           4.0476190476190474
          ],
          [
           5.355303810504634
          ],
          [
           1.730937773882559
          ],
          [
           3.07
          ],
          [
           3.1372549019607843
          ],
          [
           2.2519083969465647
          ],
          [
           5.75
          ],
          [
           2.499
          ],
          [
           1.1666666666666667
          ],
          [
           4.545454545454546
          ],
          [
           5.866666666666666
          ],
          [
           2.5832376578645238
          ],
          [
           3.0384615384615383
          ],
          [
           4.540909090909091
          ],
          [
           2.276867030965392
          ],
          [
           2.3
          ],
          [
           2.6984126984126986
          ],
          [
           4.9504950495049505
          ],
          [
           3.4583333333333335
          ],
          [
           4.833333333333333
          ],
          [
           2.1032504780114722
          ],
          [
           4.109589041095891
          ],
          [
           4
          ],
          [
           2.5384615384615383
          ],
          [
           3.5643564356435644
          ],
          [
           1.2916666666666667
          ],
          [
           5
          ],
          [
           2.230769230769231
          ],
          [
           4.117647058823529
          ],
          [
           3.3333333333333335
          ],
          [
           3.6363636363636362
          ],
          [
           4.769230769230769
          ],
          [
           3
          ],
          [
           1.1671763506625892
          ],
          [
           2.5
          ]
         ],
         "hovertemplate": "longitude=%{x}<br>latitude=%{y}<br>Rent/mo/sf=%{customdata[0]}<br>Rent/mo/sf_log10=%{marker.color}<extra></extra>",
         "legendgroup": "",
         "marker": {
          "color": [
           0.35410843914740087,
           0.38315708372155366,
           -0.04092795051580063,
           0.8652698399007114,
           0.7201593034059569,
           0.3654879848908996,
           0.41218044778664786,
           0.4510184521554574,
           0.43933269383026263,
           0.5560611590095326,
           0.282522986367587,
           0.6450190940778602,
           0.48248379047990625,
           0.509050889457631,
           0.5006023505691853,
           1.025325948710953,
           1.0253221556858942,
           0.3203351508593678,
           0.6989700043360189,
           0.5884022684346424,
           1.0446302038654192,
           0.5739939074556925,
           0.6611478410262454,
           1.0253058652647702,
           -0.07920374893536805,
           0.6437597068856158,
           0.5440680443502757,
           0.6243363860391146,
           0.3978782708821969,
           0.6110024377862255,
           -0.038578905933551705,
           0.42595959144359924,
           0.3978469023404766,
           0.5740128845034403,
           0.318732949406663,
           0.619788758288394,
           0.6989700043360189,
           0.6368220975871743,
           0.37554428121403255,
           1.0511525224473812,
           0.40433268316526405,
           0.5740281366506312,
           0.4646578004160357,
           0.4648867983026508,
           0.5228468106884703,
           0.5740312677277188,
           0.6195783952511479,
           0.44369749923271273,
           0.7781512503836436,
           -0.003690434953433722,
           0.502185499356167,
           0.6611476251564677,
           0.38317572067534506,
           0.661181443446619,
           0.22250727056421515,
           0.5440680443502757,
           0.31875876262441283,
           0.14874165128092467,
           0.25527250510330607,
           0.7569619513137056,
           0.27106677228653797,
           0.6368220975871743,
           0.37291200297010657,
           0.3521825181113625,
           0.3010299956639812,
           0.7324563427875416,
           -0.0791812460476248,
           0.6879746200345557,
           0.6232492903979004,
           0.153814864344529,
           0.39644501758508643,
           0.9330532103693868,
           0.6582829155668025,
           0.6071996309803734,
           0.7287841137267943,
           0.2382814555442644,
           0.48713837547718647,
           0.4965498065579884,
           0.3525507203223987,
           0.7596678446896304,
           0.39776625612645006,
           0.06694678963061322,
           0.6575773191777938,
           0.7683914130944873,
           0.4121643631036993,
           0.48265374331962346,
           0.6571428074037761,
           0.35733766855796456,
           0.36172783601759284,
           0.43110837192469226,
           0.6946486305533762,
           0.5388668506644679,
           0.6842467475153124,
           0.3228909962909508,
           0.6137983945992066,
           0.6020599913279624,
           0.4045705875710507,
           0.5519811269846447,
           0.11115045212266668,
           0.6989700043360189,
           0.3484546455921193,
           0.6146491186359828,
           0.5228787452803376,
           0.5606673061697374,
           0.6784483371914171,
           0.47712125471966244,
           0.06713647929595828,
           0.3979400086720376
          ],
          "coloraxis": "coloraxis",
          "symbol": "circle"
         },
         "mode": "markers",
         "name": "",
         "orientation": "v",
         "showlegend": false,
         "type": "scatter",
         "x": [
          -79.343926,
          -79.3412042,
          -79.4175653,
          -79.3935092,
          -79.373412,
          -79.3904944,
          -79.3411388,
          -79.4662298,
          -79.469202,
          -79.5322205,
          -79.516971,
          -79.2867726,
          -79.4393922,
          -79.4920948,
          -79.4628541,
          -79.3909152,
          -79.3909152,
          -79.4794554,
          -79.4568963,
          -79.22366618042452,
          -79.3916697,
          -79.4060226,
          -79.3712348,
          -79.3908687,
          -79.5111304,
          -79.3310956,
          -79.4628541,
          -79.4007937,
          -79.4305877,
          -79.3997415,
          -79.4324833,
          -79.4324833,
          -79.3937052,
          -79.3932884,
          -79.3841996,
          -79.4034703,
          -79.3997085,
          -79.388878,
          -79.2273126,
          -79.4098204,
          -79.4323021,
          -79.4277081,
          -79.5348447,
          -79.36692,
          -79.3937052,
          -79.4277081,
          -79.3670659,
          -79.47927,
          -79.4008849,
          -79.2744781,
          -79.36429,
          -79.3418471,
          -79.3755279,
          -79.3661842,
          -79.496511,
          -79.4232882,
          -79.4411203,
          -79.3826697,
          -79.3680313,
          -79.3909453,
          -79.4915448,
          -79.3534963,
          -79.424894,
          -79.3891031,
          -79.4749711,
          -79.3826697,
          -79.3517206,
          -79.3693313,
          -79.4799021,
          -79.473815,
          -79.3233489,
          -79.4038137,
          -79.3906811,
          -79.402228,
          -79.3930564,
          -79.3992068,
          -79.4334012,
          -79.3611809,
          -79.2893253,
          -79.373412,
          -79.3701351,
          -79.3652776,
          -79.4088666,
          -79.4839285,
          -79.4040031,
          -79.402676,
          -79.4011049,
          -79.4033401,
          -79.3305061,
          -79.4462269,
          -79.3903124,
          -79.4025697,
          -79.4025697,
          -79.4224791,
          -79.4297082,
          -79.3643432,
          -79.3693313,
          -79.3838754,
          -79.3130263,
          -79.3760312,
          -79.4281608,
          -79.4464584,
          -79.4414131,
          -79.3102405,
          -79.3758706,
          -79.424894,
          -79.4585335,
          -79.4309392
         ],
         "xaxis": "x",
         "y": [
          43.6672444,
          43.6630744,
          43.6634142,
          43.6869966,
          43.6480813,
          43.6786921,
          43.6632965,
          43.6820246,
          43.6651715,
          43.6016534,
          43.7004816,
          43.6806934,
          43.6589431,
          43.7738289,
          43.6655892,
          43.6714599,
          43.6714599,
          43.6656793,
          43.7215267,
          43.742862,
          43.6711804,
          43.6469223,
          43.6503754,
          43.6715929,
          43.7188575,
          43.8180948,
          43.6655892,
          43.6542832,
          43.7001131,
          43.6393466,
          43.7188771,
          43.7188771,
          43.6875829,
          43.6700832,
          43.6636891,
          43.7288337,
          43.7144274,
          43.7668804,
          43.7596382,
          43.7041938,
          43.6524525,
          43.642699,
          43.5945119,
          43.71335,
          43.6875829,
          43.642699,
          43.6525764,
          43.66581,
          43.6576212,
          43.776618,
          43.65241,
          43.6602424,
          43.7055823,
          43.6538637,
          43.6897651,
          43.6754021,
          43.6683813,
          43.6596017,
          43.6652462,
          43.6542451,
          43.6875044,
          43.677034,
          43.6492593,
          43.6501596,
          43.6456634,
          43.6596017,
          43.6657521,
          43.6642046,
          43.6506483,
          43.6903115,
          43.6718605,
          43.7297767,
          43.6451952,
          43.6543794,
          43.6749762,
          43.6458252,
          43.6990639,
          43.6540571,
          43.680453,
          43.6480813,
          43.6640145,
          43.6548992,
          43.6615734,
          43.6496137,
          43.7310425,
          43.6469092,
          43.6530873,
          43.6626034,
          43.6820226,
          43.6967642,
          43.6750351,
          43.7277243,
          43.7277243,
          43.6546128,
          43.7181257,
          43.655765,
          43.6642046,
          43.6619821,
          43.6867838,
          43.7084909,
          43.7137532,
          43.6400138,
          43.6398312,
          43.7086641,
          43.7081211,
          43.6492593,
          43.6747534,
          43.6803474
         ],
         "yaxis": "y"
        }
       ],
       "layout": {
        "autosize": false,
        "coloraxis": {
         "colorbar": {
          "title": {
           "text": "Rent/mo/sf_log10"
          }
         },
         "colorscale": [
          [
           0,
           "#0d0887"
          ],
          [
           0.1111111111111111,
           "#46039f"
          ],
          [
           0.2222222222222222,
           "#7201a8"
          ],
          [
           0.3333333333333333,
           "#9c179e"
          ],
          [
           0.4444444444444444,
           "#bd3786"
          ],
          [
           0.5555555555555556,
           "#d8576b"
          ],
          [
           0.6666666666666666,
           "#ed7953"
          ],
          [
           0.7777777777777778,
           "#fb9f3a"
          ],
          [
           0.8888888888888888,
           "#fdca26"
          ],
          [
           1,
           "#f0f921"
          ]
         ]
        },
        "height": 500,
        "legend": {
         "tracegroupgap": 0
        },
        "margin": {
         "t": 60
        },
        "paper_bgcolor": "LightSteelBlue",
        "template": {
         "data": {
          "bar": [
           {
            "error_x": {
             "color": "#2a3f5f"
            },
            "error_y": {
             "color": "#2a3f5f"
            },
            "marker": {
             "line": {
              "color": "#E5ECF6",
              "width": 0.5
             }
            },
            "type": "bar"
           }
          ],
          "barpolar": [
           {
            "marker": {
             "line": {
              "color": "#E5ECF6",
              "width": 0.5
             }
            },
            "type": "barpolar"
           }
          ],
          "carpet": [
           {
            "aaxis": {
             "endlinecolor": "#2a3f5f",
             "gridcolor": "white",
             "linecolor": "white",
             "minorgridcolor": "white",
             "startlinecolor": "#2a3f5f"
            },
            "baxis": {
             "endlinecolor": "#2a3f5f",
             "gridcolor": "white",
             "linecolor": "white",
             "minorgridcolor": "white",
             "startlinecolor": "#2a3f5f"
            },
            "type": "carpet"
           }
          ],
          "choropleth": [
           {
            "colorbar": {
             "outlinewidth": 0,
             "ticks": ""
            },
            "type": "choropleth"
           }
          ],
          "contour": [
           {
            "colorbar": {
             "outlinewidth": 0,
             "ticks": ""
            },
            "colorscale": [
             [
              0,
              "#0d0887"
             ],
             [
              0.1111111111111111,
              "#46039f"
             ],
             [
              0.2222222222222222,
              "#7201a8"
             ],
             [
              0.3333333333333333,
              "#9c179e"
             ],
             [
              0.4444444444444444,
              "#bd3786"
             ],
             [
              0.5555555555555556,
              "#d8576b"
             ],
             [
              0.6666666666666666,
              "#ed7953"
             ],
             [
              0.7777777777777778,
              "#fb9f3a"
             ],
             [
              0.8888888888888888,
              "#fdca26"
             ],
             [
              1,
              "#f0f921"
             ]
            ],
            "type": "contour"
           }
          ],
          "contourcarpet": [
           {
            "colorbar": {
             "outlinewidth": 0,
             "ticks": ""
            },
            "type": "contourcarpet"
           }
          ],
          "heatmap": [
           {
            "colorbar": {
             "outlinewidth": 0,
             "ticks": ""
            },
            "colorscale": [
             [
              0,
              "#0d0887"
             ],
             [
              0.1111111111111111,
              "#46039f"
             ],
             [
              0.2222222222222222,
              "#7201a8"
             ],
             [
              0.3333333333333333,
              "#9c179e"
             ],
             [
              0.4444444444444444,
              "#bd3786"
             ],
             [
              0.5555555555555556,
              "#d8576b"
             ],
             [
              0.6666666666666666,
              "#ed7953"
             ],
             [
              0.7777777777777778,
              "#fb9f3a"
             ],
             [
              0.8888888888888888,
              "#fdca26"
             ],
             [
              1,
              "#f0f921"
             ]
            ],
            "type": "heatmap"
           }
          ],
          "heatmapgl": [
           {
            "colorbar": {
             "outlinewidth": 0,
             "ticks": ""
            },
            "colorscale": [
             [
              0,
              "#0d0887"
             ],
             [
              0.1111111111111111,
              "#46039f"
             ],
             [
              0.2222222222222222,
              "#7201a8"
             ],
             [
              0.3333333333333333,
              "#9c179e"
             ],
             [
              0.4444444444444444,
              "#bd3786"
             ],
             [
              0.5555555555555556,
              "#d8576b"
             ],
             [
              0.6666666666666666,
              "#ed7953"
             ],
             [
              0.7777777777777778,
              "#fb9f3a"
             ],
             [
              0.8888888888888888,
              "#fdca26"
             ],
             [
              1,
              "#f0f921"
             ]
            ],
            "type": "heatmapgl"
           }
          ],
          "histogram": [
           {
            "marker": {
             "colorbar": {
              "outlinewidth": 0,
              "ticks": ""
             }
            },
            "type": "histogram"
           }
          ],
          "histogram2d": [
           {
            "colorbar": {
             "outlinewidth": 0,
             "ticks": ""
            },
            "colorscale": [
             [
              0,
              "#0d0887"
             ],
             [
              0.1111111111111111,
              "#46039f"
             ],
             [
              0.2222222222222222,
              "#7201a8"
             ],
             [
              0.3333333333333333,
              "#9c179e"
             ],
             [
              0.4444444444444444,
              "#bd3786"
             ],
             [
              0.5555555555555556,
              "#d8576b"
             ],
             [
              0.6666666666666666,
              "#ed7953"
             ],
             [
              0.7777777777777778,
              "#fb9f3a"
             ],
             [
              0.8888888888888888,
              "#fdca26"
             ],
             [
              1,
              "#f0f921"
             ]
            ],
            "type": "histogram2d"
           }
          ],
          "histogram2dcontour": [
           {
            "colorbar": {
             "outlinewidth": 0,
             "ticks": ""
            },
            "colorscale": [
             [
              0,
              "#0d0887"
             ],
             [
              0.1111111111111111,
              "#46039f"
             ],
             [
              0.2222222222222222,
              "#7201a8"
             ],
             [
              0.3333333333333333,
              "#9c179e"
             ],
             [
              0.4444444444444444,
              "#bd3786"
             ],
             [
              0.5555555555555556,
              "#d8576b"
             ],
             [
              0.6666666666666666,
              "#ed7953"
             ],
             [
              0.7777777777777778,
              "#fb9f3a"
             ],
             [
              0.8888888888888888,
              "#fdca26"
             ],
             [
              1,
              "#f0f921"
             ]
            ],
            "type": "histogram2dcontour"
           }
          ],
          "mesh3d": [
           {
            "colorbar": {
             "outlinewidth": 0,
             "ticks": ""
            },
            "type": "mesh3d"
           }
          ],
          "parcoords": [
           {
            "line": {
             "colorbar": {
              "outlinewidth": 0,
              "ticks": ""
             }
            },
            "type": "parcoords"
           }
          ],
          "pie": [
           {
            "automargin": true,
            "type": "pie"
           }
          ],
          "scatter": [
           {
            "marker": {
             "colorbar": {
              "outlinewidth": 0,
              "ticks": ""
             }
            },
            "type": "scatter"
           }
          ],
          "scatter3d": [
           {
            "line": {
             "colorbar": {
              "outlinewidth": 0,
              "ticks": ""
             }
            },
            "marker": {
             "colorbar": {
              "outlinewidth": 0,
              "ticks": ""
             }
            },
            "type": "scatter3d"
           }
          ],
          "scattercarpet": [
           {
            "marker": {
             "colorbar": {
              "outlinewidth": 0,
              "ticks": ""
             }
            },
            "type": "scattercarpet"
           }
          ],
          "scattergeo": [
           {
            "marker": {
             "colorbar": {
              "outlinewidth": 0,
              "ticks": ""
             }
            },
            "type": "scattergeo"
           }
          ],
          "scattergl": [
           {
            "marker": {
             "colorbar": {
              "outlinewidth": 0,
              "ticks": ""
             }
            },
            "type": "scattergl"
           }
          ],
          "scattermapbox": [
           {
            "marker": {
             "colorbar": {
              "outlinewidth": 0,
              "ticks": ""
             }
            },
            "type": "scattermapbox"
           }
          ],
          "scatterpolar": [
           {
            "marker": {
             "colorbar": {
              "outlinewidth": 0,
              "ticks": ""
             }
            },
            "type": "scatterpolar"
           }
          ],
          "scatterpolargl": [
           {
            "marker": {
             "colorbar": {
              "outlinewidth": 0,
              "ticks": ""
             }
            },
            "type": "scatterpolargl"
           }
          ],
          "scatterternary": [
           {
            "marker": {
             "colorbar": {
              "outlinewidth": 0,
              "ticks": ""
             }
            },
            "type": "scatterternary"
           }
          ],
          "surface": [
           {
            "colorbar": {
             "outlinewidth": 0,
             "ticks": ""
            },
            "colorscale": [
             [
              0,
              "#0d0887"
             ],
             [
              0.1111111111111111,
              "#46039f"
             ],
             [
              0.2222222222222222,
              "#7201a8"
             ],
             [
              0.3333333333333333,
              "#9c179e"
             ],
             [
              0.4444444444444444,
              "#bd3786"
             ],
             [
              0.5555555555555556,
              "#d8576b"
             ],
             [
              0.6666666666666666,
              "#ed7953"
             ],
             [
              0.7777777777777778,
              "#fb9f3a"
             ],
             [
              0.8888888888888888,
              "#fdca26"
             ],
             [
              1,
              "#f0f921"
             ]
            ],
            "type": "surface"
           }
          ],
          "table": [
           {
            "cells": {
             "fill": {
              "color": "#EBF0F8"
             },
             "line": {
              "color": "white"
             }
            },
            "header": {
             "fill": {
              "color": "#C8D4E3"
             },
             "line": {
              "color": "white"
             }
            },
            "type": "table"
           }
          ]
         },
         "layout": {
          "annotationdefaults": {
           "arrowcolor": "#2a3f5f",
           "arrowhead": 0,
           "arrowwidth": 1
          },
          "coloraxis": {
           "colorbar": {
            "outlinewidth": 0,
            "ticks": ""
           }
          },
          "colorscale": {
           "diverging": [
            [
             0,
             "#8e0152"
            ],
            [
             0.1,
             "#c51b7d"
            ],
            [
             0.2,
             "#de77ae"
            ],
            [
             0.3,
             "#f1b6da"
            ],
            [
             0.4,
             "#fde0ef"
            ],
            [
             0.5,
             "#f7f7f7"
            ],
            [
             0.6,
             "#e6f5d0"
            ],
            [
             0.7,
             "#b8e186"
            ],
            [
             0.8,
             "#7fbc41"
            ],
            [
             0.9,
             "#4d9221"
            ],
            [
             1,
             "#276419"
            ]
           ],
           "sequential": [
            [
             0,
             "#0d0887"
            ],
            [
             0.1111111111111111,
             "#46039f"
            ],
            [
             0.2222222222222222,
             "#7201a8"
            ],
            [
             0.3333333333333333,
             "#9c179e"
            ],
            [
             0.4444444444444444,
             "#bd3786"
            ],
            [
             0.5555555555555556,
             "#d8576b"
            ],
            [
             0.6666666666666666,
             "#ed7953"
            ],
            [
             0.7777777777777778,
             "#fb9f3a"
            ],
            [
             0.8888888888888888,
             "#fdca26"
            ],
            [
             1,
             "#f0f921"
            ]
           ],
           "sequentialminus": [
            [
             0,
             "#0d0887"
            ],
            [
             0.1111111111111111,
             "#46039f"
            ],
            [
             0.2222222222222222,
             "#7201a8"
            ],
            [
             0.3333333333333333,
             "#9c179e"
            ],
            [
             0.4444444444444444,
             "#bd3786"
            ],
            [
             0.5555555555555556,
             "#d8576b"
            ],
            [
             0.6666666666666666,
             "#ed7953"
            ],
            [
             0.7777777777777778,
             "#fb9f3a"
            ],
            [
             0.8888888888888888,
             "#fdca26"
            ],
            [
             1,
             "#f0f921"
            ]
           ]
          },
          "colorway": [
           "#636efa",
           "#EF553B",
           "#00cc96",
           "#ab63fa",
           "#FFA15A",
           "#19d3f3",
           "#FF6692",
           "#B6E880",
           "#FF97FF",
           "#FECB52"
          ],
          "font": {
           "color": "#2a3f5f"
          },
          "geo": {
           "bgcolor": "white",
           "lakecolor": "white",
           "landcolor": "#E5ECF6",
           "showlakes": true,
           "showland": true,
           "subunitcolor": "white"
          },
          "hoverlabel": {
           "align": "left"
          },
          "hovermode": "closest",
          "mapbox": {
           "style": "light"
          },
          "paper_bgcolor": "white",
          "plot_bgcolor": "#E5ECF6",
          "polar": {
           "angularaxis": {
            "gridcolor": "white",
            "linecolor": "white",
            "ticks": ""
           },
           "bgcolor": "#E5ECF6",
           "radialaxis": {
            "gridcolor": "white",
            "linecolor": "white",
            "ticks": ""
           }
          },
          "scene": {
           "xaxis": {
            "backgroundcolor": "#E5ECF6",
            "gridcolor": "white",
            "gridwidth": 2,
            "linecolor": "white",
            "showbackground": true,
            "ticks": "",
            "zerolinecolor": "white"
           },
           "yaxis": {
            "backgroundcolor": "#E5ECF6",
            "gridcolor": "white",
            "gridwidth": 2,
            "linecolor": "white",
            "showbackground": true,
            "ticks": "",
            "zerolinecolor": "white"
           },
           "zaxis": {
            "backgroundcolor": "#E5ECF6",
            "gridcolor": "white",
            "gridwidth": 2,
            "linecolor": "white",
            "showbackground": true,
            "ticks": "",
            "zerolinecolor": "white"
           }
          },
          "shapedefaults": {
           "line": {
            "color": "#2a3f5f"
           }
          },
          "ternary": {
           "aaxis": {
            "gridcolor": "white",
            "linecolor": "white",
            "ticks": ""
           },
           "baxis": {
            "gridcolor": "white",
            "linecolor": "white",
            "ticks": ""
           },
           "bgcolor": "#E5ECF6",
           "caxis": {
            "gridcolor": "white",
            "linecolor": "white",
            "ticks": ""
           }
          },
          "title": {
           "x": 0.05
          },
          "xaxis": {
           "automargin": true,
           "gridcolor": "white",
           "linecolor": "white",
           "ticks": "",
           "title": {
            "standoff": 15
           },
           "zerolinecolor": "white",
           "zerolinewidth": 2
          },
          "yaxis": {
           "automargin": true,
           "gridcolor": "white",
           "linecolor": "white",
           "ticks": "",
           "title": {
            "standoff": 15
           },
           "zerolinecolor": "white",
           "zerolinewidth": 2
          }
         }
        },
        "width": 900,
        "xaxis": {
         "anchor": "y",
         "domain": [
          0,
          1
         ],
         "title": {
          "text": "longitude"
         }
        },
        "yaxis": {
         "anchor": "x",
         "domain": [
          0,
          1
         ],
         "title": {
          "text": "latitude"
         }
        }
       }
      },
      "text/html": [
       "<div>\n",
       "        \n",
       "        \n",
       "            <div id=\"c10ee23e-dbc1-410a-a3ac-64d289116968\" class=\"plotly-graph-div\" style=\"height:500px; width:900px;\"></div>\n",
       "            <script type=\"text/javascript\">\n",
       "                require([\"plotly\"], function(Plotly) {\n",
       "                    window.PLOTLYENV=window.PLOTLYENV || {};\n",
       "                    \n",
       "                if (document.getElementById(\"c10ee23e-dbc1-410a-a3ac-64d289116968\")) {\n",
       "                    Plotly.newPlot(\n",
       "                        'c10ee23e-dbc1-410a-a3ac-64d289116968',\n",
       "                        [{\"customdata\": [[2.26], [2.4163346613545817], [0.9100642398286938], [7.3328], [5.25], [2.32], [2.5833333333333335], [2.825], [2.75], [3.598], [1.9165625], [4.4158986175115205], [3.037272727272727], [3.2288724501232906], [3.1666666666666665], [10.60049019607843], [10.600397614314115], [2.090909090909091], [5.0], [3.8761651131824233], [11.082307692307692], [3.7496774193548386], [4.582978723404255], [10.6], [0.8332901554404145], [4.403111739745403], [3.5], [4.2105263157894735], [2.4996446339729923], [4.083216783216783], [0.915], [2.6666105404950327], [2.4994640943194], [3.7498412698412698], [2.083209509658247], [4.166666666666667], [5.0], [4.333333333333333], [2.3743475018642806], [11.25], [2.537071362372567], [3.749972964204607], [2.915129151291513], [2.9166666666666665], [3.3330882352941176], [3.75], [4.164648910411622], [2.7777777777777777], [6.0], [0.9915384615384616], [3.178231292517007], [4.582976445396145], [2.4164383561643836], [4.583333333333333], [1.669195751138088], [3.5], [2.0833333333333335], [1.408450704225352], [1.8], [5.714285714285714], [1.8666666666666667], [4.333333333333333], [2.36], [2.25], [2.0], [5.400778210116732], [0.8333333333333334], [4.875], [4.2], [1.425], [2.491408934707904], [8.571428571428571], [4.5528455284552845], [4.0476190476190474], [5.355303810504634], [1.730937773882559], [3.07], [3.1372549019607843], [2.2519083969465647], [5.75], [2.499], [1.1666666666666667], [4.545454545454546], [5.866666666666666], [2.5832376578645238], [3.0384615384615383], [4.540909090909091], [2.276867030965392], [2.3], [2.6984126984126986], [4.9504950495049505], [3.4583333333333335], [4.833333333333333], [2.1032504780114722], [4.109589041095891], [4.0], [2.5384615384615383], [3.5643564356435644], [1.2916666666666667], [5.0], [2.230769230769231], [4.117647058823529], [3.3333333333333335], [3.6363636363636362], [4.769230769230769], [3.0], [1.1671763506625892], [2.5]], \"hovertemplate\": \"longitude=%{x}<br>latitude=%{y}<br>Rent/mo/sf=%{customdata[0]}<br>Rent/mo/sf_log10=%{marker.color}<extra></extra>\", \"legendgroup\": \"\", \"marker\": {\"color\": [0.35410843914740087, 0.38315708372155366, -0.04092795051580063, 0.8652698399007114, 0.7201593034059569, 0.3654879848908996, 0.41218044778664786, 0.4510184521554574, 0.43933269383026263, 0.5560611590095326, 0.282522986367587, 0.6450190940778602, 0.48248379047990625, 0.509050889457631, 0.5006023505691853, 1.025325948710953, 1.0253221556858942, 0.3203351508593678, 0.6989700043360189, 0.5884022684346424, 1.0446302038654192, 0.5739939074556925, 0.6611478410262454, 1.0253058652647702, -0.07920374893536805, 0.6437597068856158, 0.5440680443502757, 0.6243363860391146, 0.3978782708821969, 0.6110024377862255, -0.038578905933551705, 0.42595959144359924, 0.3978469023404766, 0.5740128845034403, 0.318732949406663, 0.619788758288394, 0.6989700043360189, 0.6368220975871743, 0.37554428121403255, 1.0511525224473812, 0.40433268316526405, 0.5740281366506312, 0.4646578004160357, 0.4648867983026508, 0.5228468106884703, 0.5740312677277188, 0.6195783952511479, 0.44369749923271273, 0.7781512503836436, -0.003690434953433722, 0.502185499356167, 0.6611476251564677, 0.38317572067534506, 0.661181443446619, 0.22250727056421515, 0.5440680443502757, 0.31875876262441283, 0.14874165128092467, 0.25527250510330607, 0.7569619513137056, 0.27106677228653797, 0.6368220975871743, 0.37291200297010657, 0.3521825181113625, 0.3010299956639812, 0.7324563427875416, -0.0791812460476248, 0.6879746200345557, 0.6232492903979004, 0.153814864344529, 0.39644501758508643, 0.9330532103693868, 0.6582829155668025, 0.6071996309803734, 0.7287841137267943, 0.2382814555442644, 0.48713837547718647, 0.4965498065579884, 0.3525507203223987, 0.7596678446896304, 0.39776625612645006, 0.06694678963061322, 0.6575773191777938, 0.7683914130944873, 0.4121643631036993, 0.48265374331962346, 0.6571428074037761, 0.35733766855796456, 0.36172783601759284, 0.43110837192469226, 0.6946486305533762, 0.5388668506644679, 0.6842467475153124, 0.3228909962909508, 0.6137983945992066, 0.6020599913279624, 0.4045705875710507, 0.5519811269846447, 0.11115045212266668, 0.6989700043360189, 0.3484546455921193, 0.6146491186359828, 0.5228787452803376, 0.5606673061697374, 0.6784483371914171, 0.47712125471966244, 0.06713647929595828, 0.3979400086720376], \"coloraxis\": \"coloraxis\", \"symbol\": \"circle\"}, \"mode\": \"markers\", \"name\": \"\", \"orientation\": \"v\", \"showlegend\": false, \"type\": \"scatter\", \"x\": [-79.343926, -79.3412042, -79.4175653, -79.3935092, -79.373412, -79.3904944, -79.3411388, -79.4662298, -79.469202, -79.5322205, -79.516971, -79.2867726, -79.4393922, -79.4920948, -79.4628541, -79.3909152, -79.3909152, -79.4794554, -79.4568963, -79.22366618042452, -79.3916697, -79.4060226, -79.3712348, -79.3908687, -79.5111304, -79.3310956, -79.4628541, -79.4007937, -79.4305877, -79.3997415, -79.4324833, -79.4324833, -79.3937052, -79.3932884, -79.3841996, -79.4034703, -79.3997085, -79.388878, -79.2273126, -79.4098204, -79.4323021, -79.4277081, -79.5348447, -79.36692, -79.3937052, -79.4277081, -79.3670659, -79.47927, -79.4008849, -79.2744781, -79.36429, -79.3418471, -79.3755279, -79.3661842, -79.496511, -79.4232882, -79.4411203, -79.3826697, -79.3680313, -79.3909453, -79.4915448, -79.3534963, -79.424894, -79.3891031, -79.4749711, -79.3826697, -79.3517206, -79.3693313, -79.4799021, -79.473815, -79.3233489, -79.4038137, -79.3906811, -79.402228, -79.3930564, -79.3992068, -79.4334012, -79.3611809, -79.2893253, -79.373412, -79.3701351, -79.3652776, -79.4088666, -79.4839285, -79.4040031, -79.402676, -79.4011049, -79.4033401, -79.3305061, -79.4462269, -79.3903124, -79.4025697, -79.4025697, -79.4224791, -79.4297082, -79.3643432, -79.3693313, -79.3838754, -79.3130263, -79.3760312, -79.4281608, -79.4464584, -79.4414131, -79.3102405, -79.3758706, -79.424894, -79.4585335, -79.4309392], \"xaxis\": \"x\", \"y\": [43.6672444, 43.6630744, 43.6634142, 43.6869966, 43.6480813, 43.6786921, 43.6632965, 43.6820246, 43.6651715, 43.6016534, 43.7004816, 43.6806934, 43.6589431, 43.7738289, 43.6655892, 43.6714599, 43.6714599, 43.6656793, 43.7215267, 43.742862, 43.6711804, 43.6469223, 43.6503754, 43.6715929, 43.7188575, 43.8180948, 43.6655892, 43.6542832, 43.7001131, 43.6393466, 43.7188771, 43.7188771, 43.6875829, 43.6700832, 43.6636891, 43.7288337, 43.7144274, 43.7668804, 43.7596382, 43.7041938, 43.6524525, 43.642699, 43.5945119, 43.71335, 43.6875829, 43.642699, 43.6525764, 43.66581, 43.6576212, 43.776618, 43.65241, 43.6602424, 43.7055823, 43.6538637, 43.6897651, 43.6754021, 43.6683813, 43.6596017, 43.6652462, 43.6542451, 43.6875044, 43.677034, 43.6492593, 43.6501596, 43.6456634, 43.6596017, 43.6657521, 43.6642046, 43.6506483, 43.6903115, 43.6718605, 43.7297767, 43.6451952, 43.6543794, 43.6749762, 43.6458252, 43.6990639, 43.6540571, 43.680453, 43.6480813, 43.6640145, 43.6548992, 43.6615734, 43.6496137, 43.7310425, 43.6469092, 43.6530873, 43.6626034, 43.6820226, 43.6967642, 43.6750351, 43.7277243, 43.7277243, 43.6546128, 43.7181257, 43.655765, 43.6642046, 43.6619821, 43.6867838, 43.7084909, 43.7137532, 43.6400138, 43.6398312, 43.7086641, 43.7081211, 43.6492593, 43.6747534, 43.6803474], \"yaxis\": \"y\"}],\n",
       "                        {\"autosize\": false, \"coloraxis\": {\"colorbar\": {\"title\": {\"text\": \"Rent/mo/sf_log10\"}}, \"colorscale\": [[0.0, \"#0d0887\"], [0.1111111111111111, \"#46039f\"], [0.2222222222222222, \"#7201a8\"], [0.3333333333333333, \"#9c179e\"], [0.4444444444444444, \"#bd3786\"], [0.5555555555555556, \"#d8576b\"], [0.6666666666666666, \"#ed7953\"], [0.7777777777777778, \"#fb9f3a\"], [0.8888888888888888, \"#fdca26\"], [1.0, \"#f0f921\"]]}, \"height\": 500, \"legend\": {\"tracegroupgap\": 0}, \"margin\": {\"t\": 60}, \"paper_bgcolor\": \"LightSteelBlue\", \"template\": {\"data\": {\"bar\": [{\"error_x\": {\"color\": \"#2a3f5f\"}, \"error_y\": {\"color\": \"#2a3f5f\"}, \"marker\": {\"line\": {\"color\": \"#E5ECF6\", \"width\": 0.5}}, \"type\": \"bar\"}], \"barpolar\": [{\"marker\": {\"line\": {\"color\": \"#E5ECF6\", \"width\": 0.5}}, \"type\": \"barpolar\"}], \"carpet\": [{\"aaxis\": {\"endlinecolor\": \"#2a3f5f\", \"gridcolor\": \"white\", \"linecolor\": \"white\", \"minorgridcolor\": \"white\", \"startlinecolor\": \"#2a3f5f\"}, \"baxis\": {\"endlinecolor\": \"#2a3f5f\", \"gridcolor\": \"white\", \"linecolor\": \"white\", \"minorgridcolor\": \"white\", \"startlinecolor\": \"#2a3f5f\"}, \"type\": \"carpet\"}], \"choropleth\": [{\"colorbar\": {\"outlinewidth\": 0, \"ticks\": \"\"}, \"type\": \"choropleth\"}], \"contour\": [{\"colorbar\": {\"outlinewidth\": 0, \"ticks\": \"\"}, \"colorscale\": [[0.0, \"#0d0887\"], [0.1111111111111111, \"#46039f\"], [0.2222222222222222, \"#7201a8\"], [0.3333333333333333, \"#9c179e\"], [0.4444444444444444, \"#bd3786\"], [0.5555555555555556, \"#d8576b\"], [0.6666666666666666, \"#ed7953\"], [0.7777777777777778, \"#fb9f3a\"], [0.8888888888888888, \"#fdca26\"], [1.0, \"#f0f921\"]], \"type\": \"contour\"}], \"contourcarpet\": [{\"colorbar\": {\"outlinewidth\": 0, \"ticks\": \"\"}, \"type\": \"contourcarpet\"}], \"heatmap\": [{\"colorbar\": {\"outlinewidth\": 0, \"ticks\": \"\"}, \"colorscale\": [[0.0, \"#0d0887\"], [0.1111111111111111, \"#46039f\"], [0.2222222222222222, \"#7201a8\"], [0.3333333333333333, \"#9c179e\"], [0.4444444444444444, \"#bd3786\"], [0.5555555555555556, \"#d8576b\"], [0.6666666666666666, \"#ed7953\"], [0.7777777777777778, \"#fb9f3a\"], [0.8888888888888888, \"#fdca26\"], [1.0, \"#f0f921\"]], \"type\": \"heatmap\"}], \"heatmapgl\": [{\"colorbar\": {\"outlinewidth\": 0, \"ticks\": \"\"}, \"colorscale\": [[0.0, \"#0d0887\"], [0.1111111111111111, \"#46039f\"], [0.2222222222222222, \"#7201a8\"], [0.3333333333333333, \"#9c179e\"], [0.4444444444444444, \"#bd3786\"], [0.5555555555555556, \"#d8576b\"], [0.6666666666666666, \"#ed7953\"], [0.7777777777777778, \"#fb9f3a\"], [0.8888888888888888, \"#fdca26\"], [1.0, \"#f0f921\"]], \"type\": \"heatmapgl\"}], \"histogram\": [{\"marker\": {\"colorbar\": {\"outlinewidth\": 0, \"ticks\": \"\"}}, \"type\": \"histogram\"}], \"histogram2d\": [{\"colorbar\": {\"outlinewidth\": 0, \"ticks\": \"\"}, \"colorscale\": [[0.0, \"#0d0887\"], [0.1111111111111111, \"#46039f\"], [0.2222222222222222, \"#7201a8\"], [0.3333333333333333, \"#9c179e\"], [0.4444444444444444, \"#bd3786\"], [0.5555555555555556, \"#d8576b\"], [0.6666666666666666, \"#ed7953\"], [0.7777777777777778, \"#fb9f3a\"], [0.8888888888888888, \"#fdca26\"], [1.0, \"#f0f921\"]], \"type\": \"histogram2d\"}], \"histogram2dcontour\": [{\"colorbar\": {\"outlinewidth\": 0, \"ticks\": \"\"}, \"colorscale\": [[0.0, \"#0d0887\"], [0.1111111111111111, \"#46039f\"], [0.2222222222222222, \"#7201a8\"], [0.3333333333333333, \"#9c179e\"], [0.4444444444444444, \"#bd3786\"], [0.5555555555555556, \"#d8576b\"], [0.6666666666666666, \"#ed7953\"], [0.7777777777777778, \"#fb9f3a\"], [0.8888888888888888, \"#fdca26\"], [1.0, \"#f0f921\"]], \"type\": \"histogram2dcontour\"}], \"mesh3d\": [{\"colorbar\": {\"outlinewidth\": 0, \"ticks\": \"\"}, \"type\": \"mesh3d\"}], \"parcoords\": [{\"line\": {\"colorbar\": {\"outlinewidth\": 0, \"ticks\": \"\"}}, \"type\": \"parcoords\"}], \"pie\": [{\"automargin\": true, \"type\": \"pie\"}], \"scatter\": [{\"marker\": {\"colorbar\": {\"outlinewidth\": 0, \"ticks\": \"\"}}, \"type\": \"scatter\"}], \"scatter3d\": [{\"line\": {\"colorbar\": {\"outlinewidth\": 0, \"ticks\": \"\"}}, \"marker\": {\"colorbar\": {\"outlinewidth\": 0, \"ticks\": \"\"}}, \"type\": \"scatter3d\"}], \"scattercarpet\": [{\"marker\": {\"colorbar\": {\"outlinewidth\": 0, \"ticks\": \"\"}}, \"type\": \"scattercarpet\"}], \"scattergeo\": [{\"marker\": {\"colorbar\": {\"outlinewidth\": 0, \"ticks\": \"\"}}, \"type\": \"scattergeo\"}], \"scattergl\": [{\"marker\": {\"colorbar\": {\"outlinewidth\": 0, \"ticks\": \"\"}}, \"type\": \"scattergl\"}], \"scattermapbox\": [{\"marker\": {\"colorbar\": {\"outlinewidth\": 0, \"ticks\": \"\"}}, \"type\": \"scattermapbox\"}], \"scatterpolar\": [{\"marker\": {\"colorbar\": {\"outlinewidth\": 0, \"ticks\": \"\"}}, \"type\": \"scatterpolar\"}], \"scatterpolargl\": [{\"marker\": {\"colorbar\": {\"outlinewidth\": 0, \"ticks\": \"\"}}, \"type\": \"scatterpolargl\"}], \"scatterternary\": [{\"marker\": {\"colorbar\": {\"outlinewidth\": 0, \"ticks\": \"\"}}, \"type\": \"scatterternary\"}], \"surface\": [{\"colorbar\": {\"outlinewidth\": 0, \"ticks\": \"\"}, \"colorscale\": [[0.0, \"#0d0887\"], [0.1111111111111111, \"#46039f\"], [0.2222222222222222, \"#7201a8\"], [0.3333333333333333, \"#9c179e\"], [0.4444444444444444, \"#bd3786\"], [0.5555555555555556, \"#d8576b\"], [0.6666666666666666, \"#ed7953\"], [0.7777777777777778, \"#fb9f3a\"], [0.8888888888888888, \"#fdca26\"], [1.0, \"#f0f921\"]], \"type\": \"surface\"}], \"table\": [{\"cells\": {\"fill\": {\"color\": \"#EBF0F8\"}, \"line\": {\"color\": \"white\"}}, \"header\": {\"fill\": {\"color\": \"#C8D4E3\"}, \"line\": {\"color\": \"white\"}}, \"type\": \"table\"}]}, \"layout\": {\"annotationdefaults\": {\"arrowcolor\": \"#2a3f5f\", \"arrowhead\": 0, \"arrowwidth\": 1}, \"coloraxis\": {\"colorbar\": {\"outlinewidth\": 0, \"ticks\": \"\"}}, \"colorscale\": {\"diverging\": [[0, \"#8e0152\"], [0.1, \"#c51b7d\"], [0.2, \"#de77ae\"], [0.3, \"#f1b6da\"], [0.4, \"#fde0ef\"], [0.5, \"#f7f7f7\"], [0.6, \"#e6f5d0\"], [0.7, \"#b8e186\"], [0.8, \"#7fbc41\"], [0.9, \"#4d9221\"], [1, \"#276419\"]], \"sequential\": [[0.0, \"#0d0887\"], [0.1111111111111111, \"#46039f\"], [0.2222222222222222, \"#7201a8\"], [0.3333333333333333, \"#9c179e\"], [0.4444444444444444, \"#bd3786\"], [0.5555555555555556, \"#d8576b\"], [0.6666666666666666, \"#ed7953\"], [0.7777777777777778, \"#fb9f3a\"], [0.8888888888888888, \"#fdca26\"], [1.0, \"#f0f921\"]], \"sequentialminus\": [[0.0, \"#0d0887\"], [0.1111111111111111, \"#46039f\"], [0.2222222222222222, \"#7201a8\"], [0.3333333333333333, \"#9c179e\"], [0.4444444444444444, \"#bd3786\"], [0.5555555555555556, \"#d8576b\"], [0.6666666666666666, \"#ed7953\"], [0.7777777777777778, \"#fb9f3a\"], [0.8888888888888888, \"#fdca26\"], [1.0, \"#f0f921\"]]}, \"colorway\": [\"#636efa\", \"#EF553B\", \"#00cc96\", \"#ab63fa\", \"#FFA15A\", \"#19d3f3\", \"#FF6692\", \"#B6E880\", \"#FF97FF\", \"#FECB52\"], \"font\": {\"color\": \"#2a3f5f\"}, \"geo\": {\"bgcolor\": \"white\", \"lakecolor\": \"white\", \"landcolor\": \"#E5ECF6\", \"showlakes\": true, \"showland\": true, \"subunitcolor\": \"white\"}, \"hoverlabel\": {\"align\": \"left\"}, \"hovermode\": \"closest\", \"mapbox\": {\"style\": \"light\"}, \"paper_bgcolor\": \"white\", \"plot_bgcolor\": \"#E5ECF6\", \"polar\": {\"angularaxis\": {\"gridcolor\": \"white\", \"linecolor\": \"white\", \"ticks\": \"\"}, \"bgcolor\": \"#E5ECF6\", \"radialaxis\": {\"gridcolor\": \"white\", \"linecolor\": \"white\", \"ticks\": \"\"}}, \"scene\": {\"xaxis\": {\"backgroundcolor\": \"#E5ECF6\", \"gridcolor\": \"white\", \"gridwidth\": 2, \"linecolor\": \"white\", \"showbackground\": true, \"ticks\": \"\", \"zerolinecolor\": \"white\"}, \"yaxis\": {\"backgroundcolor\": \"#E5ECF6\", \"gridcolor\": \"white\", \"gridwidth\": 2, \"linecolor\": \"white\", \"showbackground\": true, \"ticks\": \"\", \"zerolinecolor\": \"white\"}, \"zaxis\": {\"backgroundcolor\": \"#E5ECF6\", \"gridcolor\": \"white\", \"gridwidth\": 2, \"linecolor\": \"white\", \"showbackground\": true, \"ticks\": \"\", \"zerolinecolor\": \"white\"}}, \"shapedefaults\": {\"line\": {\"color\": \"#2a3f5f\"}}, \"ternary\": {\"aaxis\": {\"gridcolor\": \"white\", \"linecolor\": \"white\", \"ticks\": \"\"}, \"baxis\": {\"gridcolor\": \"white\", \"linecolor\": \"white\", \"ticks\": \"\"}, \"bgcolor\": \"#E5ECF6\", \"caxis\": {\"gridcolor\": \"white\", \"linecolor\": \"white\", \"ticks\": \"\"}}, \"title\": {\"x\": 0.05}, \"xaxis\": {\"automargin\": true, \"gridcolor\": \"white\", \"linecolor\": \"white\", \"ticks\": \"\", \"title\": {\"standoff\": 15}, \"zerolinecolor\": \"white\", \"zerolinewidth\": 2}, \"yaxis\": {\"automargin\": true, \"gridcolor\": \"white\", \"linecolor\": \"white\", \"ticks\": \"\", \"title\": {\"standoff\": 15}, \"zerolinecolor\": \"white\", \"zerolinewidth\": 2}}}, \"width\": 900, \"xaxis\": {\"anchor\": \"y\", \"domain\": [0.0, 1.0], \"title\": {\"text\": \"longitude\"}}, \"yaxis\": {\"anchor\": \"x\", \"domain\": [0.0, 1.0], \"title\": {\"text\": \"latitude\"}}},\n",
       "                        {\"responsive\": true}\n",
       "                    ).then(function(){\n",
       "                            \n",
       "var gd = document.getElementById('c10ee23e-dbc1-410a-a3ac-64d289116968');\n",
       "var x = new MutationObserver(function (mutations, observer) {{\n",
       "        var display = window.getComputedStyle(gd).display;\n",
       "        if (!display || display === 'none') {{\n",
       "            console.log([gd, 'removed!']);\n",
       "            Plotly.purge(gd);\n",
       "            observer.disconnect();\n",
       "        }}\n",
       "}});\n",
       "\n",
       "// Listen for the removal of the full notebook cells\n",
       "var notebookContainer = gd.closest('#notebook-container');\n",
       "if (notebookContainer) {{\n",
       "    x.observe(notebookContainer, {childList: true});\n",
       "}}\n",
       "\n",
       "// Listen for the clearing of the current output cell\n",
       "var outputEl = gd.closest('.output');\n",
       "if (outputEl) {{\n",
       "    x.observe(outputEl, {childList: true});\n",
       "}}\n",
       "\n",
       "                        })\n",
       "                };\n",
       "                });\n",
       "            </script>\n",
       "        </div>"
      ]
     },
     "metadata": {},
     "output_type": "display_data"
    }
   ],
   "source": [
    "retail_gdf.loc[:, 'Rent/mo/sf_log10'] = np.log10(retail_gdf.loc[:, 'Rent/mo/sf'])\n",
    "\n",
    "fig = px.scatter(\n",
    "    retail_gdf.loc[retail_gdf['Type'].isin(types_to_show)],\n",
    "    x='longitude',\n",
    "    y='latitude',\n",
    "    color='Rent/mo/sf_log10',\n",
    "    hover_data=['Rent/mo/sf'])\n",
    "\n",
    "fig.update_layout(\n",
    "    autosize=False,\n",
    "    width=900,\n",
    "    height=500,\n",
    "    paper_bgcolor=\"LightSteelBlue\",\n",
    ")\n",
    "\n",
    "fig.show()"
   ]
  },
  {
   "cell_type": "markdown",
   "metadata": {},
   "source": [
    "It's still hard to tell where the higher rent prices are, so let's try looking at KDE plots for the rent prices versus the latitude/longitude values."
   ]
  },
  {
   "cell_type": "code",
   "execution_count": 107,
   "metadata": {},
   "outputs": [
    {
     "data": {
      "image/png": "[encoded data removed]",
      "text/plain": [
       "<Figure size 842.4x595.44 with 2 Axes>"
      ]
     },
     "metadata": {},
     "output_type": "display_data"
    }
   ],
   "source": [
    "fig, ax = plt.subplots(1,2)\n",
    "\n",
    "sns.kdeplot(data=retail_gdf.loc[retail_gdf['Type'].isin(types_to_show)], x='latitude', y='Rent/mo/sf', fill=True, ax=ax[0]);\n",
    "sns.kdeplot(data=retail_gdf.loc[retail_gdf['Type'].isin(types_to_show)], x='longitude', y='Rent/mo/sf', fill=True, ax=ax[1]);"
   ]
  },
  {
   "cell_type": "markdown",
   "metadata": {},
   "source": [
    "From the KDE plots it is clearer that the rent prices increase as the office spaces get closer to the downtown area (latitude: 43.65, longitude: -79.38). We also see another, smaller spike near the latitude value of 43.76. If you look at a map at latitude 43.76 and longitude -79.38 you will find yourself in the North York area of the city. A lot of businesses have offices in this area since the rent is cheaper than closer to downtown, but they are still higher compared to other areas of the city."
   ]
  },
  {
   "cell_type": "markdown",
   "metadata": {},
   "source": [
    "Now let's look at the rest of the types and see how the rent prices vary. Below are KDE plots for the rest of the types, overlapped over each other."
   ]
  },
  {
   "cell_type": "code",
   "execution_count": 142,
   "metadata": {},
   "outputs": [
    {
     "data": {
      "image/png": "[encoded data removed]",
      "text/plain": [
       "<Figure size 842.4x595.44 with 2 Axes>"
      ]
     },
     "metadata": {},
     "output_type": "display_data"
    }
   ],
   "source": [
    "types_to_show = ['Industrial', 'Commercial', 'Retail']\n",
    "fig, ax = plt.subplots(1,2)\n",
    "\n",
    "sns.kdeplot(\n",
    "    data=retail_gdf.loc[retail_gdf['Type'].isin(types_to_show)], \n",
    "    x='latitude', \n",
    "    y='Rent/mo/sf', \n",
    "    hue='Type', \n",
    "    fill=True,\n",
    "    ax=ax[0]\n",
    ");\n",
    "sns.kdeplot(\n",
    "    data=retail_gdf.loc[retail_gdf['Type'].isin(types_to_show)],\n",
    "    x='longitude',\n",
    "    y='Rent/mo/sf',\n",
    "    hue='Type',\n",
    "    fill=True,\n",
    "    ax=ax[1]);"
   ]
  },
  {
   "cell_type": "markdown",
   "metadata": {},
   "source": [
    "All these types are centred around the same area, however the 'Industrial' type covers a larger range in both latitude and longitude. This is due to the fact that a lot of the industrial businesses can be found on the outskirts of the city. Furthermore, the industrial rent prices per squarefoot are less than the other business types.\n",
    "<br><br>\n",
    "We also see that the 'Commercial' kde plot is narrower, which indicates that the commercial businesses are concentrated near the centre of the city.\n",
    "<br><br>\n",
    "Finally, we see that the retail rent prices vary more than the others. It seems that even if your retail space is in the same part of the city as someone else's, you might end up paying more per square foot. However, this could be due to the fact that the more space you rent, the more likely you are to pay less per square foot. We will try to confirm this by analyzing correlation plots between area in square feet and the rent price per month per square foot."
   ]
  },
  {
   "cell_type": "code",
   "execution_count": 149,
   "metadata": {},
   "outputs": [
    {
     "data": {
      "image/png": "[encoded data removed]",
      "text/plain": [
       "<Figure size 842.4x595.44 with 1 Axes>"
      ]
     },
     "metadata": {},
     "output_type": "display_data"
    }
   ],
   "source": [
    "types_to_show = ['Industrial']\n",
    "sns.scatterplot(data=retail_gdf.loc[retail_gdf['Type'].isin(types_to_show)], x='Area sf', y='Rent/mo/sf', hue='Type');"
   ]
  },
  {
   "cell_type": "code",
   "execution_count": 139,
   "metadata": {},
   "outputs": [],
   "source": [
    "retail_gdf.loc[:, 'Area sf_log10'] = np.log10(retail_gdf.loc[:, 'Area sf'])"
   ]
  },
  {
   "cell_type": "code",
   "execution_count": 151,
   "metadata": {},
   "outputs": [
    {
     "data": {
      "text/html": [
       "<div>\n",
       "<style scoped>\n",
       "    .dataframe tbody tr th:only-of-type {\n",
       "        vertical-align: middle;\n",
       "    }\n",
       "\n",
       "    .dataframe tbody tr th {\n",
       "        vertical-align: top;\n",
       "    }\n",
       "\n",
       "    .dataframe thead th {\n",
       "        text-align: right;\n",
       "    }\n",
       "</style>\n",
       "<table border=\"1\" class=\"dataframe\">\n",
       "  <thead>\n",
       "    <tr style=\"text-align: right;\">\n",
       "      <th></th>\n",
       "      <th>Address</th>\n",
       "      <th>Area sf</th>\n",
       "      <th>Rent/mo</th>\n",
       "      <th>Type</th>\n",
       "      <th>geometry</th>\n",
       "      <th>Main Address</th>\n",
       "      <th>latitude</th>\n",
       "      <th>longitude</th>\n",
       "      <th>Rent/mo/sf</th>\n",
       "      <th>Log Rent/mo/sf</th>\n",
       "      <th>Rent/mo/sf_log10</th>\n",
       "      <th>Area sf_log10</th>\n",
       "    </tr>\n",
       "    <tr>\n",
       "      <th>Id</th>\n",
       "      <th></th>\n",
       "      <th></th>\n",
       "      <th></th>\n",
       "      <th></th>\n",
       "      <th></th>\n",
       "      <th></th>\n",
       "      <th></th>\n",
       "      <th></th>\n",
       "      <th></th>\n",
       "      <th></th>\n",
       "      <th></th>\n",
       "      <th></th>\n",
       "    </tr>\n",
       "  </thead>\n",
       "  <tbody>\n",
       "    <tr>\n",
       "      <th>323785</th>\n",
       "      <td>Unit 1 - 1020 Birchmount Rd</td>\n",
       "      <td>71705.0</td>\n",
       "      <td>44815.0</td>\n",
       "      <td>Industrial</td>\n",
       "      <td>POINT (-79.27985 43.73522)</td>\n",
       "      <td>1020 Birchmount Rd</td>\n",
       "      <td>43.735222</td>\n",
       "      <td>-79.279853</td>\n",
       "      <td>0.624991</td>\n",
       "      <td>-0.204126</td>\n",
       "      <td>-0.204126</td>\n",
       "      <td>4.855549</td>\n",
       "    </tr>\n",
       "    <tr>\n",
       "      <th>340539</th>\n",
       "      <td>55 Bakersfield Street</td>\n",
       "      <td>16000.0</td>\n",
       "      <td>5600.0</td>\n",
       "      <td>Industrial</td>\n",
       "      <td>POINT (-79.48049 43.75606)</td>\n",
       "      <td>55 Bakersfield Street</td>\n",
       "      <td>43.756056</td>\n",
       "      <td>-79.480493</td>\n",
       "      <td>0.350000</td>\n",
       "      <td>-0.455932</td>\n",
       "      <td>-0.455932</td>\n",
       "      <td>4.204120</td>\n",
       "    </tr>\n",
       "    <tr>\n",
       "      <th>335304</th>\n",
       "      <td>1 &amp; 6 - 73 Samor Rd</td>\n",
       "      <td>11232.0</td>\n",
       "      <td>13572.0</td>\n",
       "      <td>Industrial</td>\n",
       "      <td>POINT (-79.46179 43.71704)</td>\n",
       "      <td>73 Samor Rd</td>\n",
       "      <td>43.717041</td>\n",
       "      <td>-79.461795</td>\n",
       "      <td>1.208333</td>\n",
       "      <td>0.082187</td>\n",
       "      <td>0.082187</td>\n",
       "      <td>4.050457</td>\n",
       "    </tr>\n",
       "    <tr>\n",
       "      <th>340633</th>\n",
       "      <td>17 Dora Ave</td>\n",
       "      <td>11000.0</td>\n",
       "      <td>20166.0</td>\n",
       "      <td>Industrial</td>\n",
       "      <td>POINT (-79.44376 43.65533)</td>\n",
       "      <td>17 Dora Ave</td>\n",
       "      <td>43.655335</td>\n",
       "      <td>-79.443763</td>\n",
       "      <td>1.833273</td>\n",
       "      <td>0.263227</td>\n",
       "      <td>0.263227</td>\n",
       "      <td>4.041393</td>\n",
       "    </tr>\n",
       "    <tr>\n",
       "      <th>340558</th>\n",
       "      <td>124 Tycos Drive</td>\n",
       "      <td>7000.0</td>\n",
       "      <td>4500.0</td>\n",
       "      <td>Industrial</td>\n",
       "      <td>POINT (-79.45661 43.70495)</td>\n",
       "      <td>124 Tycos Drive</td>\n",
       "      <td>43.704954</td>\n",
       "      <td>-79.456612</td>\n",
       "      <td>0.642857</td>\n",
       "      <td>-0.191886</td>\n",
       "      <td>-0.191886</td>\n",
       "      <td>3.845098</td>\n",
       "    </tr>\n",
       "    <tr>\n",
       "      <th>336541</th>\n",
       "      <td>2 &amp; 3 - 445 Milner Avenue</td>\n",
       "      <td>6577.0</td>\n",
       "      <td>9042.0</td>\n",
       "      <td>Industrial</td>\n",
       "      <td>POINT (-79.22882 43.79041)</td>\n",
       "      <td>445 Milner Avenue</td>\n",
       "      <td>43.790413</td>\n",
       "      <td>-79.228822</td>\n",
       "      <td>1.374791</td>\n",
       "      <td>0.138237</td>\n",
       "      <td>0.138237</td>\n",
       "      <td>3.818028</td>\n",
       "    </tr>\n",
       "    <tr>\n",
       "      <th>299738</th>\n",
       "      <td>7 - 4 Carlaw Avenue</td>\n",
       "      <td>5763.0</td>\n",
       "      <td>14407.0</td>\n",
       "      <td>Industrial</td>\n",
       "      <td>POINT (-79.33668 43.65319)</td>\n",
       "      <td>4 Carlaw Avenue</td>\n",
       "      <td>43.653195</td>\n",
       "      <td>-79.336682</td>\n",
       "      <td>2.499913</td>\n",
       "      <td>0.397925</td>\n",
       "      <td>0.397925</td>\n",
       "      <td>3.760649</td>\n",
       "    </tr>\n",
       "    <tr>\n",
       "      <th>302519</th>\n",
       "      <td>119 - 100 Sunrise Ave</td>\n",
       "      <td>5131.0</td>\n",
       "      <td>7696.0</td>\n",
       "      <td>Industrial</td>\n",
       "      <td>POINT (-79.30895 43.71861)</td>\n",
       "      <td>100 Sunrise Ave</td>\n",
       "      <td>43.718610</td>\n",
       "      <td>-79.308950</td>\n",
       "      <td>1.499903</td>\n",
       "      <td>0.176063</td>\n",
       "      <td>0.176063</td>\n",
       "      <td>3.710202</td>\n",
       "    </tr>\n",
       "    <tr>\n",
       "      <th>302522</th>\n",
       "      <td>121 - 100 Sunrise Ave</td>\n",
       "      <td>3729.0</td>\n",
       "      <td>5593.0</td>\n",
       "      <td>Industrial</td>\n",
       "      <td>POINT (-79.30895 43.71861)</td>\n",
       "      <td>100 Sunrise Ave</td>\n",
       "      <td>43.718610</td>\n",
       "      <td>-79.308950</td>\n",
       "      <td>1.499866</td>\n",
       "      <td>0.176052</td>\n",
       "      <td>0.176052</td>\n",
       "      <td>3.571592</td>\n",
       "    </tr>\n",
       "    <tr>\n",
       "      <th>336542</th>\n",
       "      <td>2 - 445 Milner Avenue</td>\n",
       "      <td>3492.0</td>\n",
       "      <td>4801.0</td>\n",
       "      <td>Industrial</td>\n",
       "      <td>POINT (-79.22882 43.79041)</td>\n",
       "      <td>445 Milner Avenue</td>\n",
       "      <td>43.790413</td>\n",
       "      <td>-79.228822</td>\n",
       "      <td>1.374857</td>\n",
       "      <td>0.138257</td>\n",
       "      <td>0.138257</td>\n",
       "      <td>3.543074</td>\n",
       "    </tr>\n",
       "    <tr>\n",
       "      <th>336540</th>\n",
       "      <td>3 - 445 Milner Avenue</td>\n",
       "      <td>3085.0</td>\n",
       "      <td>4241.0</td>\n",
       "      <td>Industrial</td>\n",
       "      <td>POINT (-79.22882 43.79041)</td>\n",
       "      <td>445 Milner Avenue</td>\n",
       "      <td>43.790413</td>\n",
       "      <td>-79.228822</td>\n",
       "      <td>1.374716</td>\n",
       "      <td>0.138213</td>\n",
       "      <td>0.138213</td>\n",
       "      <td>3.489255</td>\n",
       "    </tr>\n",
       "    <tr>\n",
       "      <th>340532</th>\n",
       "      <td>236 Birmingham Street</td>\n",
       "      <td>3000.0</td>\n",
       "      <td>5500.0</td>\n",
       "      <td>Industrial</td>\n",
       "      <td>POINT (-79.50034 43.60458)</td>\n",
       "      <td>236 Birmingham Street</td>\n",
       "      <td>43.604578</td>\n",
       "      <td>-79.500345</td>\n",
       "      <td>1.833333</td>\n",
       "      <td>0.263241</td>\n",
       "      <td>0.263241</td>\n",
       "      <td>3.477121</td>\n",
       "    </tr>\n",
       "    <tr>\n",
       "      <th>340531</th>\n",
       "      <td>433 Horner Avenue</td>\n",
       "      <td>3000.0</td>\n",
       "      <td>3500.0</td>\n",
       "      <td>Industrial</td>\n",
       "      <td>POINT (-79.53831 43.60311)</td>\n",
       "      <td>433 Horner Avenue</td>\n",
       "      <td>43.603107</td>\n",
       "      <td>-79.538309</td>\n",
       "      <td>1.166667</td>\n",
       "      <td>0.066947</td>\n",
       "      <td>0.066947</td>\n",
       "      <td>3.477121</td>\n",
       "    </tr>\n",
       "    <tr>\n",
       "      <th>189703</th>\n",
       "      <td>395 Weston Road</td>\n",
       "      <td>2800.0</td>\n",
       "      <td>7100.0</td>\n",
       "      <td>Industrial</td>\n",
       "      <td>POINT (-79.47601 43.68110)</td>\n",
       "      <td>395 Weston Road</td>\n",
       "      <td>43.681101</td>\n",
       "      <td>-79.476012</td>\n",
       "      <td>2.535714</td>\n",
       "      <td>0.404100</td>\n",
       "      <td>0.404100</td>\n",
       "      <td>3.447158</td>\n",
       "    </tr>\n",
       "    <tr>\n",
       "      <th>181847</th>\n",
       "      <td>00020 - 1875 Leslie Street</td>\n",
       "      <td>2779.0</td>\n",
       "      <td>4925.0</td>\n",
       "      <td>Industrial</td>\n",
       "      <td>POINT (-79.35820 43.75648)</td>\n",
       "      <td>1875 Leslie Street</td>\n",
       "      <td>43.756478</td>\n",
       "      <td>-79.358198</td>\n",
       "      <td>1.772220</td>\n",
       "      <td>0.248518</td>\n",
       "      <td>0.248518</td>\n",
       "      <td>3.443889</td>\n",
       "    </tr>\n",
       "    <tr>\n",
       "      <th>274165</th>\n",
       "      <td>4-5 - 1400 O'Connor Drive</td>\n",
       "      <td>2728.0</td>\n",
       "      <td>5683.0</td>\n",
       "      <td>Industrial</td>\n",
       "      <td>POINT (-79.30755 43.71284)</td>\n",
       "      <td>1400 O'Connor Drive</td>\n",
       "      <td>43.712842</td>\n",
       "      <td>-79.307554</td>\n",
       "      <td>2.083211</td>\n",
       "      <td>0.318733</td>\n",
       "      <td>0.318733</td>\n",
       "      <td>3.435844</td>\n",
       "    </tr>\n",
       "    <tr>\n",
       "      <th>340541</th>\n",
       "      <td>837 Gerrard Street East</td>\n",
       "      <td>2500.0</td>\n",
       "      <td>5650.0</td>\n",
       "      <td>Industrial</td>\n",
       "      <td>POINT (-79.34409 43.66719)</td>\n",
       "      <td>837 Gerrard Street East</td>\n",
       "      <td>43.667194</td>\n",
       "      <td>-79.344088</td>\n",
       "      <td>2.260000</td>\n",
       "      <td>0.354108</td>\n",
       "      <td>0.354108</td>\n",
       "      <td>3.397940</td>\n",
       "    </tr>\n",
       "    <tr>\n",
       "      <th>287069</th>\n",
       "      <td>137 - 100 Sunrise Ave</td>\n",
       "      <td>2466.0</td>\n",
       "      <td>3904.0</td>\n",
       "      <td>Industrial</td>\n",
       "      <td>POINT (-79.30937 43.71878)</td>\n",
       "      <td>100 Sunrise Ave</td>\n",
       "      <td>43.718781</td>\n",
       "      <td>-79.309375</td>\n",
       "      <td>1.583131</td>\n",
       "      <td>0.199517</td>\n",
       "      <td>0.199517</td>\n",
       "      <td>3.391993</td>\n",
       "    </tr>\n",
       "    <tr>\n",
       "      <th>307840</th>\n",
       "      <td>111 - 88 Cawthra Ave</td>\n",
       "      <td>2256.0</td>\n",
       "      <td>3948.0</td>\n",
       "      <td>Industrial</td>\n",
       "      <td>POINT (-79.46455 43.67056)</td>\n",
       "      <td>88 Cawthra Ave</td>\n",
       "      <td>43.670563</td>\n",
       "      <td>-79.464553</td>\n",
       "      <td>1.750000</td>\n",
       "      <td>0.243038</td>\n",
       "      <td>0.243038</td>\n",
       "      <td>3.353339</td>\n",
       "    </tr>\n",
       "    <tr>\n",
       "      <th>309534</th>\n",
       "      <td>105 - 116 Geary Ave</td>\n",
       "      <td>2180.0</td>\n",
       "      <td>5500.0</td>\n",
       "      <td>Industrial</td>\n",
       "      <td>POINT (-79.43484 43.67050)</td>\n",
       "      <td>116 Geary Ave</td>\n",
       "      <td>43.670501</td>\n",
       "      <td>-79.434843</td>\n",
       "      <td>2.522936</td>\n",
       "      <td>0.401906</td>\n",
       "      <td>0.401906</td>\n",
       "      <td>3.338456</td>\n",
       "    </tr>\n",
       "    <tr>\n",
       "      <th>260329</th>\n",
       "      <td>104 - 401 Logan Ave</td>\n",
       "      <td>2082.0</td>\n",
       "      <td>5378.0</td>\n",
       "      <td>Industrial</td>\n",
       "      <td>POINT (-79.34323 43.66439)</td>\n",
       "      <td>401 Logan Ave</td>\n",
       "      <td>43.664390</td>\n",
       "      <td>-79.343230</td>\n",
       "      <td>2.583093</td>\n",
       "      <td>0.412140</td>\n",
       "      <td>0.412140</td>\n",
       "      <td>3.318481</td>\n",
       "    </tr>\n",
       "    <tr>\n",
       "      <th>340542</th>\n",
       "      <td>1577 Bayview Avenue</td>\n",
       "      <td>2002.0</td>\n",
       "      <td>9500.0</td>\n",
       "      <td>Industrial</td>\n",
       "      <td>POINT (-79.37499 43.70575)</td>\n",
       "      <td>1577 Bayview Avenue</td>\n",
       "      <td>43.705747</td>\n",
       "      <td>-79.374991</td>\n",
       "      <td>4.745255</td>\n",
       "      <td>0.676260</td>\n",
       "      <td>0.676260</td>\n",
       "      <td>3.301464</td>\n",
       "    </tr>\n",
       "    <tr>\n",
       "      <th>333665</th>\n",
       "      <td>00023 - 1875 Leslie Street</td>\n",
       "      <td>1922.0</td>\n",
       "      <td>3406.0</td>\n",
       "      <td>Industrial</td>\n",
       "      <td>POINT (-79.35820 43.75648)</td>\n",
       "      <td>1875 Leslie Street</td>\n",
       "      <td>43.756478</td>\n",
       "      <td>-79.358198</td>\n",
       "      <td>1.772112</td>\n",
       "      <td>0.248491</td>\n",
       "      <td>0.248491</td>\n",
       "      <td>3.283753</td>\n",
       "    </tr>\n",
       "    <tr>\n",
       "      <th>303029</th>\n",
       "      <td>00004 - 1875 Leslie Street</td>\n",
       "      <td>1898.0</td>\n",
       "      <td>3364.0</td>\n",
       "      <td>Industrial</td>\n",
       "      <td>POINT (-79.35820 43.75648)</td>\n",
       "      <td>1875 Leslie Street</td>\n",
       "      <td>43.756478</td>\n",
       "      <td>-79.358198</td>\n",
       "      <td>1.772392</td>\n",
       "      <td>0.248560</td>\n",
       "      <td>0.248560</td>\n",
       "      <td>3.278296</td>\n",
       "    </tr>\n",
       "    <tr>\n",
       "      <th>340619</th>\n",
       "      <td>21 - 100 Westmore Drive</td>\n",
       "      <td>1768.0</td>\n",
       "      <td>2165.0</td>\n",
       "      <td>Industrial</td>\n",
       "      <td>POINT (-79.60279 43.73833)</td>\n",
       "      <td>100 Westmore Drive</td>\n",
       "      <td>43.738326</td>\n",
       "      <td>-79.602795</td>\n",
       "      <td>1.224548</td>\n",
       "      <td>0.087976</td>\n",
       "      <td>0.087976</td>\n",
       "      <td>3.247482</td>\n",
       "    </tr>\n",
       "    <tr>\n",
       "      <th>340540</th>\n",
       "      <td>1222 Dupont Street</td>\n",
       "      <td>1700.0</td>\n",
       "      <td>4420.0</td>\n",
       "      <td>Industrial</td>\n",
       "      <td>POINT (-79.44147 43.66836)</td>\n",
       "      <td>1222 Dupont Street</td>\n",
       "      <td>43.668357</td>\n",
       "      <td>-79.441469</td>\n",
       "      <td>2.600000</td>\n",
       "      <td>0.414973</td>\n",
       "      <td>0.414973</td>\n",
       "      <td>3.230449</td>\n",
       "    </tr>\n",
       "    <tr>\n",
       "      <th>307838</th>\n",
       "      <td>100 - 142 Cawthra Ave</td>\n",
       "      <td>1600.0</td>\n",
       "      <td>2600.0</td>\n",
       "      <td>Industrial</td>\n",
       "      <td>POINT (-79.46491 43.67123)</td>\n",
       "      <td>142 Cawthra Ave</td>\n",
       "      <td>43.671234</td>\n",
       "      <td>-79.464910</td>\n",
       "      <td>1.625000</td>\n",
       "      <td>0.210853</td>\n",
       "      <td>0.210853</td>\n",
       "      <td>3.204120</td>\n",
       "    </tr>\n",
       "    <tr>\n",
       "      <th>336357</th>\n",
       "      <td>Main  - 31 Atlantic Avenue</td>\n",
       "      <td>1500.0</td>\n",
       "      <td>6500.0</td>\n",
       "      <td>Industrial</td>\n",
       "      <td>POINT (-79.41988 43.63730)</td>\n",
       "      <td>31 Atlantic Avenue</td>\n",
       "      <td>43.637296</td>\n",
       "      <td>-79.419882</td>\n",
       "      <td>4.333333</td>\n",
       "      <td>0.636822</td>\n",
       "      <td>0.636822</td>\n",
       "      <td>3.176091</td>\n",
       "    </tr>\n",
       "    <tr>\n",
       "      <th>313410</th>\n",
       "      <td>340 Westmoreland Avenue North</td>\n",
       "      <td>1471.0</td>\n",
       "      <td>3900.0</td>\n",
       "      <td>Industrial</td>\n",
       "      <td>POINT (-79.43454 43.67061)</td>\n",
       "      <td>340 Westmoreland Avenue North</td>\n",
       "      <td>43.670611</td>\n",
       "      <td>-79.434539</td>\n",
       "      <td>2.651258</td>\n",
       "      <td>0.423452</td>\n",
       "      <td>0.423452</td>\n",
       "      <td>3.167613</td>\n",
       "    </tr>\n",
       "    <tr>\n",
       "      <th>337191</th>\n",
       "      <td>Unit 23 - 83 Galaxy Boulevard</td>\n",
       "      <td>1229.0</td>\n",
       "      <td>870.0</td>\n",
       "      <td>Industrial</td>\n",
       "      <td>POINT (-79.58597 43.68001)</td>\n",
       "      <td>83 Galaxy Boulevard</td>\n",
       "      <td>43.680005</td>\n",
       "      <td>-79.585973</td>\n",
       "      <td>0.707893</td>\n",
       "      <td>-0.150033</td>\n",
       "      <td>-0.150033</td>\n",
       "      <td>3.089552</td>\n",
       "    </tr>\n",
       "    <tr>\n",
       "      <th>322855</th>\n",
       "      <td>70 Wingold Avenue</td>\n",
       "      <td>1125.0</td>\n",
       "      <td>1875.0</td>\n",
       "      <td>Industrial</td>\n",
       "      <td>POINT (-79.45694 43.70320)</td>\n",
       "      <td>70 Wingold Avenue</td>\n",
       "      <td>43.703199</td>\n",
       "      <td>-79.456940</td>\n",
       "      <td>1.666667</td>\n",
       "      <td>0.221849</td>\n",
       "      <td>0.221849</td>\n",
       "      <td>3.051153</td>\n",
       "    </tr>\n",
       "    <tr>\n",
       "      <th>334353</th>\n",
       "      <td>B - 44 Cawthra Avenue</td>\n",
       "      <td>950.0</td>\n",
       "      <td>2300.0</td>\n",
       "      <td>Industrial</td>\n",
       "      <td>POINT (-79.46388 43.66935)</td>\n",
       "      <td>44 Cawthra Avenue</td>\n",
       "      <td>43.669352</td>\n",
       "      <td>-79.463880</td>\n",
       "      <td>2.421053</td>\n",
       "      <td>0.384004</td>\n",
       "      <td>0.384004</td>\n",
       "      <td>2.977724</td>\n",
       "    </tr>\n",
       "    <tr>\n",
       "      <th>338587</th>\n",
       "      <td>28 Industrial Street</td>\n",
       "      <td>900.0</td>\n",
       "      <td>2600.0</td>\n",
       "      <td>Industrial</td>\n",
       "      <td>POINT (-79.35927 43.70841)</td>\n",
       "      <td>28 Industrial Street</td>\n",
       "      <td>43.708409</td>\n",
       "      <td>-79.359272</td>\n",
       "      <td>2.888889</td>\n",
       "      <td>0.460731</td>\n",
       "      <td>0.460731</td>\n",
       "      <td>2.954243</td>\n",
       "    </tr>\n",
       "    <tr>\n",
       "      <th>338900</th>\n",
       "      <td>8 - 208 Gerrard Street East</td>\n",
       "      <td>65.0</td>\n",
       "      <td>395.0</td>\n",
       "      <td>Industrial</td>\n",
       "      <td>POINT (-79.37135 43.66166)</td>\n",
       "      <td>208 Gerrard Street East</td>\n",
       "      <td>43.661659</td>\n",
       "      <td>-79.371349</td>\n",
       "      <td>6.076923</td>\n",
       "      <td>0.783684</td>\n",
       "      <td>0.783684</td>\n",
       "      <td>1.812913</td>\n",
       "    </tr>\n",
       "  </tbody>\n",
       "</table>\n",
       "</div>"
      ],
      "text/plain": [
       "                              Address  Area sf  Rent/mo        Type  \\\n",
       "Id                                                                    \n",
       "323785    Unit 1 - 1020 Birchmount Rd  71705.0  44815.0  Industrial   \n",
       "340539          55 Bakersfield Street  16000.0   5600.0  Industrial   \n",
       "335304            1 & 6 - 73 Samor Rd  11232.0  13572.0  Industrial   \n",
       "340633                    17 Dora Ave  11000.0  20166.0  Industrial   \n",
       "340558                124 Tycos Drive   7000.0   4500.0  Industrial   \n",
       "336541      2 & 3 - 445 Milner Avenue   6577.0   9042.0  Industrial   \n",
       "299738            7 - 4 Carlaw Avenue   5763.0  14407.0  Industrial   \n",
       "302519          119 - 100 Sunrise Ave   5131.0   7696.0  Industrial   \n",
       "302522          121 - 100 Sunrise Ave   3729.0   5593.0  Industrial   \n",
       "336542          2 - 445 Milner Avenue   3492.0   4801.0  Industrial   \n",
       "336540          3 - 445 Milner Avenue   3085.0   4241.0  Industrial   \n",
       "340532          236 Birmingham Street   3000.0   5500.0  Industrial   \n",
       "340531              433 Horner Avenue   3000.0   3500.0  Industrial   \n",
       "189703                395 Weston Road   2800.0   7100.0  Industrial   \n",
       "181847     00020 - 1875 Leslie Street   2779.0   4925.0  Industrial   \n",
       "274165      4-5 - 1400 O'Connor Drive   2728.0   5683.0  Industrial   \n",
       "340541        837 Gerrard Street East   2500.0   5650.0  Industrial   \n",
       "287069          137 - 100 Sunrise Ave   2466.0   3904.0  Industrial   \n",
       "307840           111 - 88 Cawthra Ave   2256.0   3948.0  Industrial   \n",
       "309534            105 - 116 Geary Ave   2180.0   5500.0  Industrial   \n",
       "260329            104 - 401 Logan Ave   2082.0   5378.0  Industrial   \n",
       "340542            1577 Bayview Avenue   2002.0   9500.0  Industrial   \n",
       "333665     00023 - 1875 Leslie Street   1922.0   3406.0  Industrial   \n",
       "303029     00004 - 1875 Leslie Street   1898.0   3364.0  Industrial   \n",
       "340619        21 - 100 Westmore Drive   1768.0   2165.0  Industrial   \n",
       "340540             1222 Dupont Street   1700.0   4420.0  Industrial   \n",
       "307838          100 - 142 Cawthra Ave   1600.0   2600.0  Industrial   \n",
       "336357     Main  - 31 Atlantic Avenue   1500.0   6500.0  Industrial   \n",
       "313410  340 Westmoreland Avenue North   1471.0   3900.0  Industrial   \n",
       "337191  Unit 23 - 83 Galaxy Boulevard   1229.0    870.0  Industrial   \n",
       "322855              70 Wingold Avenue   1125.0   1875.0  Industrial   \n",
       "334353          B - 44 Cawthra Avenue    950.0   2300.0  Industrial   \n",
       "338587           28 Industrial Street    900.0   2600.0  Industrial   \n",
       "338900    8 - 208 Gerrard Street East     65.0    395.0  Industrial   \n",
       "\n",
       "                          geometry                   Main Address   latitude  \\\n",
       "Id                                                                             \n",
       "323785  POINT (-79.27985 43.73522)             1020 Birchmount Rd  43.735222   \n",
       "340539  POINT (-79.48049 43.75606)          55 Bakersfield Street  43.756056   \n",
       "335304  POINT (-79.46179 43.71704)                    73 Samor Rd  43.717041   \n",
       "340633  POINT (-79.44376 43.65533)                    17 Dora Ave  43.655335   \n",
       "340558  POINT (-79.45661 43.70495)                124 Tycos Drive  43.704954   \n",
       "336541  POINT (-79.22882 43.79041)              445 Milner Avenue  43.790413   \n",
       "299738  POINT (-79.33668 43.65319)                4 Carlaw Avenue  43.653195   \n",
       "302519  POINT (-79.30895 43.71861)                100 Sunrise Ave  43.718610   \n",
       "302522  POINT (-79.30895 43.71861)                100 Sunrise Ave  43.718610   \n",
       "336542  POINT (-79.22882 43.79041)              445 Milner Avenue  43.790413   \n",
       "336540  POINT (-79.22882 43.79041)              445 Milner Avenue  43.790413   \n",
       "340532  POINT (-79.50034 43.60458)          236 Birmingham Street  43.604578   \n",
       "340531  POINT (-79.53831 43.60311)              433 Horner Avenue  43.603107   \n",
       "189703  POINT (-79.47601 43.68110)                395 Weston Road  43.681101   \n",
       "181847  POINT (-79.35820 43.75648)             1875 Leslie Street  43.756478   \n",
       "274165  POINT (-79.30755 43.71284)            1400 O'Connor Drive  43.712842   \n",
       "340541  POINT (-79.34409 43.66719)        837 Gerrard Street East  43.667194   \n",
       "287069  POINT (-79.30937 43.71878)                100 Sunrise Ave  43.718781   \n",
       "307840  POINT (-79.46455 43.67056)                 88 Cawthra Ave  43.670563   \n",
       "309534  POINT (-79.43484 43.67050)                  116 Geary Ave  43.670501   \n",
       "260329  POINT (-79.34323 43.66439)                  401 Logan Ave  43.664390   \n",
       "340542  POINT (-79.37499 43.70575)            1577 Bayview Avenue  43.705747   \n",
       "333665  POINT (-79.35820 43.75648)             1875 Leslie Street  43.756478   \n",
       "303029  POINT (-79.35820 43.75648)             1875 Leslie Street  43.756478   \n",
       "340619  POINT (-79.60279 43.73833)             100 Westmore Drive  43.738326   \n",
       "340540  POINT (-79.44147 43.66836)             1222 Dupont Street  43.668357   \n",
       "307838  POINT (-79.46491 43.67123)                142 Cawthra Ave  43.671234   \n",
       "336357  POINT (-79.41988 43.63730)             31 Atlantic Avenue  43.637296   \n",
       "313410  POINT (-79.43454 43.67061)  340 Westmoreland Avenue North  43.670611   \n",
       "337191  POINT (-79.58597 43.68001)            83 Galaxy Boulevard  43.680005   \n",
       "322855  POINT (-79.45694 43.70320)              70 Wingold Avenue  43.703199   \n",
       "334353  POINT (-79.46388 43.66935)              44 Cawthra Avenue  43.669352   \n",
       "338587  POINT (-79.35927 43.70841)           28 Industrial Street  43.708409   \n",
       "338900  POINT (-79.37135 43.66166)        208 Gerrard Street East  43.661659   \n",
       "\n",
       "        longitude  Rent/mo/sf  Log Rent/mo/sf  Rent/mo/sf_log10  Area sf_log10  \n",
       "Id                                                                              \n",
       "323785 -79.279853    0.624991       -0.204126         -0.204126       4.855549  \n",
       "340539 -79.480493    0.350000       -0.455932         -0.455932       4.204120  \n",
       "335304 -79.461795    1.208333        0.082187          0.082187       4.050457  \n",
       "340633 -79.443763    1.833273        0.263227          0.263227       4.041393  \n",
       "340558 -79.456612    0.642857       -0.191886         -0.191886       3.845098  \n",
       "336541 -79.228822    1.374791        0.138237          0.138237       3.818028  \n",
       "299738 -79.336682    2.499913        0.397925          0.397925       3.760649  \n",
       "302519 -79.308950    1.499903        0.176063          0.176063       3.710202  \n",
       "302522 -79.308950    1.499866        0.176052          0.176052       3.571592  \n",
       "336542 -79.228822    1.374857        0.138257          0.138257       3.543074  \n",
       "336540 -79.228822    1.374716        0.138213          0.138213       3.489255  \n",
       "340532 -79.500345    1.833333        0.263241          0.263241       3.477121  \n",
       "340531 -79.538309    1.166667        0.066947          0.066947       3.477121  \n",
       "189703 -79.476012    2.535714        0.404100          0.404100       3.447158  \n",
       "181847 -79.358198    1.772220        0.248518          0.248518       3.443889  \n",
       "274165 -79.307554    2.083211        0.318733          0.318733       3.435844  \n",
       "340541 -79.344088    2.260000        0.354108          0.354108       3.397940  \n",
       "287069 -79.309375    1.583131        0.199517          0.199517       3.391993  \n",
       "307840 -79.464553    1.750000        0.243038          0.243038       3.353339  \n",
       "309534 -79.434843    2.522936        0.401906          0.401906       3.338456  \n",
       "260329 -79.343230    2.583093        0.412140          0.412140       3.318481  \n",
       "340542 -79.374991    4.745255        0.676260          0.676260       3.301464  \n",
       "333665 -79.358198    1.772112        0.248491          0.248491       3.283753  \n",
       "303029 -79.358198    1.772392        0.248560          0.248560       3.278296  \n",
       "340619 -79.602795    1.224548        0.087976          0.087976       3.247482  \n",
       "340540 -79.441469    2.600000        0.414973          0.414973       3.230449  \n",
       "307838 -79.464910    1.625000        0.210853          0.210853       3.204120  \n",
       "336357 -79.419882    4.333333        0.636822          0.636822       3.176091  \n",
       "313410 -79.434539    2.651258        0.423452          0.423452       3.167613  \n",
       "337191 -79.585973    0.707893       -0.150033         -0.150033       3.089552  \n",
       "322855 -79.456940    1.666667        0.221849          0.221849       3.051153  \n",
       "334353 -79.463880    2.421053        0.384004          0.384004       2.977724  \n",
       "338587 -79.359272    2.888889        0.460731          0.460731       2.954243  \n",
       "338900 -79.371349    6.076923        0.783684          0.783684       1.812913  "
      ]
     },
     "execution_count": 151,
     "metadata": {},
     "output_type": "execute_result"
    }
   ],
   "source": [
    "retail_gdf.loc[retail_gdf['Type'].isin(types_to_show)].sort_values(by='Area sf', ascending=False)"
   ]
  },
  {
   "cell_type": "code",
   "execution_count": null,
   "metadata": {},
   "outputs": [],
   "source": []
  }
 ],
 "metadata": {
  "kernelspec": {
   "display_name": "Python 3",
   "language": "python",
   "name": "python3"
  },
  "language_info": {
   "codemirror_mode": {
    "name": "ipython",
    "version": 3
   },
   "file_extension": ".py",
   "mimetype": "text/x-python",
   "name": "python",
   "nbconvert_exporter": "python",
   "pygments_lexer": "ipython3",
   "version": "3.7.7"
  }
 },
 "nbformat": 4,
 "nbformat_minor": 2
}
